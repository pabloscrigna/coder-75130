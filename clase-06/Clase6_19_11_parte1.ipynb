{
  "nbformat": 4,
  "nbformat_minor": 0,
  "metadata": {
    "colab": {
      "provenance": []
    },
    "kernelspec": {
      "name": "python3",
      "display_name": "Python 3"
    },
    "language_info": {
      "name": "python"
    }
  },
  "cells": [
    {
      "cell_type": "markdown",
      "source": [
        "<font size=\"6\" color=\"rgb(128, 128, 0)\">Excepciones y Errores</font>"
      ],
      "metadata": {
        "id": "WFc1XG_VhPvn"
      }
    },
    {
      "cell_type": "markdown",
      "source": [
        "* Excepciones\n",
        "* Errores\n",
        "\n",
        "![purple-divider](https://user-images.githubusercontent.com/7065401/52071927-c1cd7100-2562-11e9-908a-dde91ba14e59.png)"
      ],
      "metadata": {
        "id": "yHNu1MrUhUeH"
      }
    },
    {
      "cell_type": "markdown",
      "source": [
        "![green-divider](https://user-images.githubusercontent.com/7065401/52071924-c003ad80-2562-11e9-8297-1c6595f8a7ff.png)\n",
        "\n",
        "### Objetivos ✨"
      ],
      "metadata": {
        "id": "87El3pqJhVjJ"
      }
    },
    {
      "cell_type": "markdown",
      "source": [
        "* **Identificar** las diferencias entre errores y excepciones.\n",
        "* **Utilizar** excepciones existentes.\n",
        "* **Crear** excepciones propias."
      ],
      "metadata": {
        "id": "xRWeyTW9hZi_"
      }
    },
    {
      "cell_type": "markdown",
      "source": [
        "![green-divider](https://user-images.githubusercontent.com/7065401/52071924-c003ad80-2562-11e9-8297-1c6595f8a7ff.png)\n",
        "\n",
        "### Introducción"
      ],
      "metadata": {
        "id": "NWEW-mz6j5Se"
      }
    },
    {
      "cell_type": "markdown",
      "source": [
        "__Aprendiendo del error__\n",
        "\n",
        "En la programación, se aprende a base de equivocarse, por lo tanto, debemos tolerar nuestros propios fallos para poder avanzar.\n",
        "Programar no es fácil, podemos equivocarnos desde la concepción de la idea o también al escribir código, para lo primero poco podemos hacer, ya que es algo que mejorará con la práctica.\n"
      ],
      "metadata": {
        "id": "2yW8FxJRj-f6"
      }
    },
    {
      "cell_type": "markdown",
      "source": [
        "<font size=\"4\" color=\"rgb(128, 128, 128)\">A programar se aprende programando y cometer errores es la prueba de que estas avanzando!</font>"
      ],
      "metadata": {
        "id": "H0w8D0Z9kL1O"
      }
    },
    {
      "cell_type": "markdown",
      "source": [
        "Hasta ahora los mensajes de error no habían sido más que mencionados, pero si probaste los ejemplos probablemente hayas visto algunos. Hay (al menos) dos tipos diferentes de errores:\n",
        "\n",
        "* Errores de sintaxis\n",
        "* Excepciones."
      ],
      "metadata": {
        "id": "CXIU6Ab6k4jb"
      }
    },
    {
      "cell_type": "markdown",
      "source": [
        "Cuando el programa falla ocasiona su detención, por lo cual tenemos que ser capaces de detectar por qué y cómo prevenir estas fallas."
      ],
      "metadata": {
        "id": "1bJbRZ0UlVKK"
      }
    },
    {
      "cell_type": "markdown",
      "source": [
        "* vscode error.py"
      ],
      "metadata": {
        "id": "Bf2aXGO7jn_H"
      }
    },
    {
      "cell_type": "markdown",
      "source": [
        "![green-divider](https://user-images.githubusercontent.com/7065401/52071924-c003ad80-2562-11e9-8297-1c6595f8a7ff.png)\n",
        "\n",
        "### **Errores**"
      ],
      "metadata": {
        "id": "emwL2U8AlbwL"
      }
    },
    {
      "cell_type": "markdown",
      "source": [
        "#### **Errores sintácticos**"
      ],
      "metadata": {
        "id": "8jnB1sZquWN6"
      }
    },
    {
      "cell_type": "markdown",
      "source": [
        "Si algo tienen la mayoría de los lenguajes de programación es que son exigentes con las instrucciones. Cuando en nuestro programa ocurre algún fallo Python nos lanzará un aviso indicando que ocurrió y detendrá la ejecución.\n",
        "\n",
        "Los errores sintácticos están ligados a la sintaxis, que es la escritura de las instrucciones.\n"
      ],
      "metadata": {
        "id": "-sZsIif_qH7S"
      }
    },
    {
      "cell_type": "code",
      "execution_count": null,
      "metadata": {
        "id": "grSs5yq3hEG7"
      },
      "outputs": [],
      "source": [
        "# https://linkode.org/#Uy1dmsqDLJFiCDCV6OhF45\n",
        "nombre = input(\"Ingrese su nombre\")\n",
        "\n",
        "print(f\"Su nombre es {nombre}\")"
      ]
    },
    {
      "cell_type": "code",
      "source": [
        "# https://linkode.org/#KnIqMWgI6Bb10mYmPA5as2\n",
        "numero1 = 5\n",
        "numero2 = 10\n",
        "\n",
        "resultado = numero1 + numero2\n",
        "\n",
        "print(f\"El resultado de sumar {numero1} con {numero2} es {resultado}\")"
      ],
      "metadata": {
        "id": "pOZUYIJ5sEjS"
      },
      "execution_count": null,
      "outputs": []
    },
    {
      "cell_type": "code",
      "source": [
        "# https://linkode.org/#bui3dxcJVilelC5m6FjmB2\n",
        "numero1 = 5\n",
        "numero2 = 10\n",
        "\n",
        "resultado = numero1 + numero2\n",
        "\n",
        "print(f\"El resultado de sumar {numero1} con {numero2} es {resultado}\")"
      ],
      "metadata": {
        "id": "-8Afrik3tgQ8"
      },
      "execution_count": null,
      "outputs": []
    },
    {
      "cell_type": "code",
      "source": [
        "# https://linkode.org/#Yy5pXmSFVWFTmxUafnfrh4\n",
        "numero1 = int(input(\"Ingrese un numero: \"))\n",
        "numero2 = int(input(\"Ingrese un numero: \"))\n",
        "\n",
        "operacion = \"+\"\n",
        "\n",
        "if operacion == \"+\":\n",
        "  resultado = numero1 + numero2\n",
        "else:\n",
        "  resultado =  numero1 - numero2\n",
        "\n",
        "print(f\"El resultado de {numero1} {operacion} {numero2} es {resultado}\")"
      ],
      "metadata": {
        "id": "w-W_2Cg9vH44",
        "colab": {
          "base_uri": "https://localhost:8080/",
          "height": 106
        },
        "outputId": "86567483-1976-420e-9ede-f3aad7b987ee"
      },
      "execution_count": null,
      "outputs": [
        {
          "output_type": "error",
          "ename": "IndentationError",
          "evalue": "expected an indented block after 'if' statement on line 7 (<ipython-input-9-81949db269c9>, line 8)",
          "traceback": [
            "\u001b[0;36m  File \u001b[0;32m\"<ipython-input-9-81949db269c9>\"\u001b[0;36m, line \u001b[0;32m8\u001b[0m\n\u001b[0;31m    resultado = numero1 + numero2\u001b[0m\n\u001b[0m    ^\u001b[0m\n\u001b[0;31mIndentationError\u001b[0m\u001b[0;31m:\u001b[0m expected an indented block after 'if' statement on line 7\n"
          ]
        }
      ]
    },
    {
      "cell_type": "markdown",
      "source": [
        "La mayoría de errores sintácticos y de nombre los identifican los editores de código antes de la ejecución."
      ],
      "metadata": {
        "id": "RnqXIKyev7vr"
      }
    },
    {
      "cell_type": "markdown",
      "source": [
        "Visual Studio Code trae extensiones (__Pylance__) que alertan de estos errores..."
      ],
      "metadata": {
        "id": "nQjxRKfS2OOk"
      }
    },
    {
      "cell_type": "markdown",
      "source": [
        "Ver ejemplos en vscode....."
      ],
      "metadata": {
        "id": "EZxvx80NRD1j"
      }
    },
    {
      "cell_type": "markdown",
      "source": [
        "**Preguntas**❓"
      ],
      "metadata": {
        "id": "hmTp8cwwTdAj"
      }
    },
    {
      "cell_type": "markdown",
      "source": [
        "#### **Errores semánticos**"
      ],
      "metadata": {
        "id": "p1czYgCJufbG"
      }
    },
    {
      "cell_type": "markdown",
      "source": [
        "Estos errores son muy difíciles de identificar porque van ligados al sentido del funcionamiento y dependen de la situación. Algunas veces pueden ocurrir y otras no."
      ],
      "metadata": {
        "id": "yXeyQUJAuyFn"
      }
    },
    {
      "cell_type": "markdown",
      "source": [
        "**La mejor forma de prevenirlos es programando mucho y aprendiendo de tus propios fallos, la experiencia es la clave. Veamos a continuación algunos ejemplos.**"
      ],
      "metadata": {
        "id": "cmNrTv88x-8p"
      }
    },
    {
      "cell_type": "code",
      "source": [
        "# Ingresa y extrae elementos de una lista\n",
        "lista = []\n",
        "opcion = \"\"\n",
        "\n",
        "while opcion != \"3\":\n",
        "\n",
        "  print(\"Ingrese una opcion\\\n",
        "      1 - Ingresar\\\n",
        "      2- Sacar\\\n",
        "      3- Salir\")\n",
        "\n",
        "  opcion = input(\"\")\n",
        "\n",
        "  if opcion == \"1\":\n",
        "    lista.append(\"a\")\n",
        "    print(lista)\n",
        "  elif opcion == \"2\":\n",
        "    elemento =lista.pop()\n",
        "    print(elemento)\n"
      ],
      "metadata": {
        "id": "JqrSdMVQwGp-",
        "colab": {
          "base_uri": "https://localhost:8080/",
          "height": 436
        },
        "outputId": "48adfa53-832a-4b48-ce7e-9beef4d9d26b"
      },
      "execution_count": null,
      "outputs": [
        {
          "name": "stdout",
          "output_type": "stream",
          "text": [
            "Ingrese una opcion      1 - Ingresar      2- Sacar      3- Salir\n",
            "1\n",
            "['a']\n",
            "Ingrese una opcion      1 - Ingresar      2- Sacar      3- Salir\n",
            "1\n",
            "['a', 'a']\n",
            "Ingrese una opcion      1 - Ingresar      2- Sacar      3- Salir\n",
            "2\n",
            "a\n",
            "Ingrese una opcion      1 - Ingresar      2- Sacar      3- Salir\n",
            "2\n",
            "a\n",
            "Ingrese una opcion      1 - Ingresar      2- Sacar      3- Salir\n",
            "2\n"
          ]
        },
        {
          "output_type": "error",
          "ename": "IndexError",
          "evalue": "pop from empty list",
          "traceback": [
            "\u001b[0;31m---------------------------------------------------------------------------\u001b[0m",
            "\u001b[0;31mIndexError\u001b[0m                                Traceback (most recent call last)",
            "\u001b[0;32m<ipython-input-10-572cc2e44cbc>\u001b[0m in \u001b[0;36m<cell line: 5>\u001b[0;34m()\u001b[0m\n\u001b[1;32m     16\u001b[0m     \u001b[0mprint\u001b[0m\u001b[0;34m(\u001b[0m\u001b[0mlista\u001b[0m\u001b[0;34m)\u001b[0m\u001b[0;34m\u001b[0m\u001b[0;34m\u001b[0m\u001b[0m\n\u001b[1;32m     17\u001b[0m   \u001b[0;32melif\u001b[0m \u001b[0mopcion\u001b[0m \u001b[0;34m==\u001b[0m \u001b[0;34m\"2\"\u001b[0m\u001b[0;34m:\u001b[0m\u001b[0;34m\u001b[0m\u001b[0;34m\u001b[0m\u001b[0m\n\u001b[0;32m---> 18\u001b[0;31m     \u001b[0melemento\u001b[0m \u001b[0;34m=\u001b[0m\u001b[0mlista\u001b[0m\u001b[0;34m.\u001b[0m\u001b[0mpop\u001b[0m\u001b[0;34m(\u001b[0m\u001b[0;34m)\u001b[0m\u001b[0;34m\u001b[0m\u001b[0;34m\u001b[0m\u001b[0m\n\u001b[0m\u001b[1;32m     19\u001b[0m     \u001b[0mprint\u001b[0m\u001b[0;34m(\u001b[0m\u001b[0melemento\u001b[0m\u001b[0;34m)\u001b[0m\u001b[0;34m\u001b[0m\u001b[0;34m\u001b[0m\u001b[0m\n",
            "\u001b[0;31mIndexError\u001b[0m: pop from empty list"
          ]
        }
      ]
    },
    {
      "cell_type": "code",
      "source": [
        "# Hay solucion a este problemas?\n",
        "# Ingresa y extrae elementos de una lista\n",
        "lista = []\n",
        "opcion = \"\"\n",
        "\n",
        "while opcion != \"3\":\n",
        "\n",
        "  print(\"Ingrese una opcion\\\n",
        "      1 - Ingresar\\\n",
        "      2- Sacar\\\n",
        "      3- Salir\")\n",
        "\n",
        "  opcion = input(\"\")\n",
        "\n",
        "  if opcion == \"1\":\n",
        "    lista.append(\"a\")\n",
        "    print(lista)\n",
        "  elif opcion == \"2\":\n",
        "    if lista:\n",
        "      elemento =lista.pop()\n",
        "      print(elemento)\n",
        "    else:\n",
        "      print(\"La lista esta vacia\")"
      ],
      "metadata": {
        "id": "OqFgH9OwxSAd",
        "colab": {
          "base_uri": "https://localhost:8080/",
          "height": 478
        },
        "outputId": "87f79c1e-6a55-4cce-85ce-cd193d3fb835"
      },
      "execution_count": null,
      "outputs": [
        {
          "output_type": "stream",
          "name": "stdout",
          "text": [
            "Ingrese una opcion      1 - Ingresar      2- Sacar      3- Salir\n",
            "2\n",
            "La lista esta vacia\n",
            "Ingrese una opcion      1 - Ingresar      2- Sacar      3- Salir\n",
            "2\n",
            "La lista esta vacia\n",
            "Ingrese una opcion      1 - Ingresar      2- Sacar      3- Salir\n"
          ]
        },
        {
          "output_type": "error",
          "ename": "KeyboardInterrupt",
          "evalue": "Interrupted by user",
          "traceback": [
            "\u001b[0;31m---------------------------------------------------------------------------\u001b[0m",
            "\u001b[0;31mKeyboardInterrupt\u001b[0m                         Traceback (most recent call last)",
            "\u001b[0;32m<ipython-input-11-e2e4156cfa62>\u001b[0m in \u001b[0;36m<cell line: 6>\u001b[0;34m()\u001b[0m\n\u001b[1;32m     11\u001b[0m       3- Salir\")\n\u001b[1;32m     12\u001b[0m \u001b[0;34m\u001b[0m\u001b[0m\n\u001b[0;32m---> 13\u001b[0;31m   \u001b[0mopcion\u001b[0m \u001b[0;34m=\u001b[0m \u001b[0minput\u001b[0m\u001b[0;34m(\u001b[0m\u001b[0;34m\"\"\u001b[0m\u001b[0;34m)\u001b[0m\u001b[0;34m\u001b[0m\u001b[0;34m\u001b[0m\u001b[0m\n\u001b[0m\u001b[1;32m     14\u001b[0m \u001b[0;34m\u001b[0m\u001b[0m\n\u001b[1;32m     15\u001b[0m   \u001b[0;32mif\u001b[0m \u001b[0mopcion\u001b[0m \u001b[0;34m==\u001b[0m \u001b[0;34m\"1\"\u001b[0m\u001b[0;34m:\u001b[0m\u001b[0;34m\u001b[0m\u001b[0;34m\u001b[0m\u001b[0m\n",
            "\u001b[0;32m/usr/local/lib/python3.10/dist-packages/ipykernel/kernelbase.py\u001b[0m in \u001b[0;36mraw_input\u001b[0;34m(self, prompt)\u001b[0m\n\u001b[1;32m    849\u001b[0m                 \u001b[0;34m\"raw_input was called, but this frontend does not support input requests.\"\u001b[0m\u001b[0;34m\u001b[0m\u001b[0;34m\u001b[0m\u001b[0m\n\u001b[1;32m    850\u001b[0m             )\n\u001b[0;32m--> 851\u001b[0;31m         return self._input_request(str(prompt),\n\u001b[0m\u001b[1;32m    852\u001b[0m             \u001b[0mself\u001b[0m\u001b[0;34m.\u001b[0m\u001b[0m_parent_ident\u001b[0m\u001b[0;34m,\u001b[0m\u001b[0;34m\u001b[0m\u001b[0;34m\u001b[0m\u001b[0m\n\u001b[1;32m    853\u001b[0m             \u001b[0mself\u001b[0m\u001b[0;34m.\u001b[0m\u001b[0m_parent_header\u001b[0m\u001b[0;34m,\u001b[0m\u001b[0;34m\u001b[0m\u001b[0;34m\u001b[0m\u001b[0m\n",
            "\u001b[0;32m/usr/local/lib/python3.10/dist-packages/ipykernel/kernelbase.py\u001b[0m in \u001b[0;36m_input_request\u001b[0;34m(self, prompt, ident, parent, password)\u001b[0m\n\u001b[1;32m    893\u001b[0m             \u001b[0;32mexcept\u001b[0m \u001b[0mKeyboardInterrupt\u001b[0m\u001b[0;34m:\u001b[0m\u001b[0;34m\u001b[0m\u001b[0;34m\u001b[0m\u001b[0m\n\u001b[1;32m    894\u001b[0m                 \u001b[0;31m# re-raise KeyboardInterrupt, to truncate traceback\u001b[0m\u001b[0;34m\u001b[0m\u001b[0;34m\u001b[0m\u001b[0m\n\u001b[0;32m--> 895\u001b[0;31m                 \u001b[0;32mraise\u001b[0m \u001b[0mKeyboardInterrupt\u001b[0m\u001b[0;34m(\u001b[0m\u001b[0;34m\"Interrupted by user\"\u001b[0m\u001b[0;34m)\u001b[0m \u001b[0;32mfrom\u001b[0m \u001b[0;32mNone\u001b[0m\u001b[0;34m\u001b[0m\u001b[0;34m\u001b[0m\u001b[0m\n\u001b[0m\u001b[1;32m    896\u001b[0m             \u001b[0;32mexcept\u001b[0m \u001b[0mException\u001b[0m \u001b[0;32mas\u001b[0m \u001b[0me\u001b[0m\u001b[0;34m:\u001b[0m\u001b[0;34m\u001b[0m\u001b[0;34m\u001b[0m\u001b[0m\n\u001b[1;32m    897\u001b[0m                 \u001b[0mself\u001b[0m\u001b[0;34m.\u001b[0m\u001b[0mlog\u001b[0m\u001b[0;34m.\u001b[0m\u001b[0mwarning\u001b[0m\u001b[0;34m(\u001b[0m\u001b[0;34m\"Invalid Message:\"\u001b[0m\u001b[0;34m,\u001b[0m \u001b[0mexc_info\u001b[0m\u001b[0;34m=\u001b[0m\u001b[0;32mTrue\u001b[0m\u001b[0;34m)\u001b[0m\u001b[0;34m\u001b[0m\u001b[0;34m\u001b[0m\u001b[0m\n",
            "\u001b[0;31mKeyboardInterrupt\u001b[0m: Interrupted by user"
          ]
        }
      ]
    },
    {
      "cell_type": "code",
      "source": [
        "# ingresar un numeros y elevarlo al cuadrado\n",
        "numero = input(\"Ingrese un numero: \")\n",
        "\n",
        "if numero.isdigit():\n",
        "  numero = int(numero)\n",
        "  numero = numero ** 2\n",
        "  print(numero)\n",
        "else:\n",
        "  print(\"debe introducir un numero\")"
      ],
      "metadata": {
        "id": "7HTB3x6Tz_7Q",
        "colab": {
          "base_uri": "https://localhost:8080/"
        },
        "outputId": "bbfddc78-eaa0-4c60-a0a5-d0bb7825c809"
      },
      "execution_count": null,
      "outputs": [
        {
          "output_type": "stream",
          "name": "stdout",
          "text": [
            "Ingrese un numero: 34\n",
            "1156\n"
          ]
        }
      ]
    },
    {
      "cell_type": "code",
      "source": [
        "# Hay solucion a este problema ?\n"
      ],
      "metadata": {
        "id": "YiL-9eCBVYez"
      },
      "execution_count": null,
      "outputs": []
    },
    {
      "cell_type": "code",
      "source": [
        "# Dada una lista de elementos leer por indice\n",
        "datos = [\"remito.pdf\", \"Contructora DiDi S.R.L\", 30]\n",
        "\n",
        "print(datos[3])"
      ],
      "metadata": {
        "id": "xsrSUZbR0ZgR"
      },
      "execution_count": null,
      "outputs": []
    },
    {
      "cell_type": "code",
      "source": [
        "# Hay solucion a este problema ?\n",
        "\n",
        "datos = [\"remito.pdf\", \"Contructora DiDi S.R.L\", 30]\n",
        "\n",
        "if len(datos) > 3:\n",
        "  print(datos[3])\n",
        "else:\n",
        "  print(\"Faltan datos\")"
      ],
      "metadata": {
        "id": "87yFmus3iBaj"
      },
      "execution_count": null,
      "outputs": []
    },
    {
      "cell_type": "code",
      "source": [
        "persona = {\n",
        "    \"nombre\": \"Juan\",\n",
        "    \"edad\": 45,\n",
        "}\n",
        "\n",
        "\n",
        "altura = persona[\"altura\"]\n",
        "print(altura)\n"
      ],
      "metadata": {
        "id": "-9F8BWOz03u9",
        "colab": {
          "base_uri": "https://localhost:8080/",
          "height": 193
        },
        "outputId": "52e24fdb-ed76-4f85-c139-b9a1e96c2f02"
      },
      "execution_count": null,
      "outputs": [
        {
          "output_type": "error",
          "ename": "KeyError",
          "evalue": "'altura'",
          "traceback": [
            "\u001b[0;31m---------------------------------------------------------------------------\u001b[0m",
            "\u001b[0;31mKeyError\u001b[0m                                  Traceback (most recent call last)",
            "\u001b[0;32m<ipython-input-15-ef6c39c146ab>\u001b[0m in \u001b[0;36m<cell line: 7>\u001b[0;34m()\u001b[0m\n\u001b[1;32m      5\u001b[0m \u001b[0;34m\u001b[0m\u001b[0m\n\u001b[1;32m      6\u001b[0m \u001b[0;34m\u001b[0m\u001b[0m\n\u001b[0;32m----> 7\u001b[0;31m \u001b[0maltura\u001b[0m \u001b[0;34m=\u001b[0m \u001b[0mpersona\u001b[0m\u001b[0;34m[\u001b[0m\u001b[0;34m\"altura\"\u001b[0m\u001b[0;34m]\u001b[0m\u001b[0;34m\u001b[0m\u001b[0;34m\u001b[0m\u001b[0m\n\u001b[0m\u001b[1;32m      8\u001b[0m \u001b[0mprint\u001b[0m\u001b[0;34m(\u001b[0m\u001b[0maltura\u001b[0m\u001b[0;34m)\u001b[0m\u001b[0;34m\u001b[0m\u001b[0;34m\u001b[0m\u001b[0m\n",
            "\u001b[0;31mKeyError\u001b[0m: 'altura'"
          ]
        }
      ]
    },
    {
      "cell_type": "code",
      "source": [
        "# Hay solucion a este problema ?\n",
        "persona = {\n",
        "    \"nombre\": \"Juan\",\n",
        "    \"edad\": 45,\n",
        "}\n",
        "\n",
        "\n",
        "altura = persona.get(\"altura\", 0.0)\n",
        "print(altura)"
      ],
      "metadata": {
        "id": "EnmY-uSliJnu",
        "colab": {
          "base_uri": "https://localhost:8080/"
        },
        "outputId": "0a022fef-172d-4616-d070-489dde742724"
      },
      "execution_count": null,
      "outputs": [
        {
          "output_type": "stream",
          "name": "stdout",
          "text": [
            "0.0\n"
          ]
        }
      ]
    },
    {
      "cell_type": "markdown",
      "source": [
        "**Preguntas**❓"
      ],
      "metadata": {
        "id": "DlhrJChEboa7"
      }
    },
    {
      "cell_type": "markdown",
      "source": [
        "![green-divider](https://user-images.githubusercontent.com/7065401/52071924-c003ad80-2562-11e9-8297-1c6595f8a7ff.png)\n",
        "\n",
        "#### **Ejercicio**"
      ],
      "metadata": {
        "id": "DyqWbq3Iylzy"
      }
    },
    {
      "cell_type": "markdown",
      "source": [
        "Desafío de errores\n",
        "\n",
        "1. Descripción de la actividad.\n",
        "\n",
        "En la función de nuestro ejercicio hay un fallo potencial, averigua cuándo sucede y retorna el valor None en ese caso especial, en cualquier otro caso devuelve el resultado normal de la función.\n",
        "\n",
        "```\n",
        ">>> def dividir(a, b):\n",
        "      return a/b\n",
        "```"
      ],
      "metadata": {
        "id": "Hr1XF-mcyj4_"
      }
    },
    {
      "cell_type": "code",
      "source": [
        "# Desafio errores\n",
        "# escribir funcion\n",
        "\n",
        "def dividir(a, b):\n",
        "\n",
        "  if b == 0:\n",
        "    return None\n",
        "\n",
        "  return a/b"
      ],
      "metadata": {
        "id": "8mS3UML0kMMu"
      },
      "execution_count": null,
      "outputs": []
    },
    {
      "cell_type": "code",
      "source": [
        "# llamar a la funcion\n",
        "\n",
        "resultado = dividir(8,4)\n",
        "\n",
        "if resultado:\n",
        "  print(resultado)\n",
        "else:\n",
        "  print(\"No se puede dividir entre 0\")\n",
        "\n"
      ],
      "metadata": {
        "id": "sCZYTCAYMQ9s",
        "colab": {
          "base_uri": "https://localhost:8080/"
        },
        "outputId": "86682c01-78f6-4633-f2c3-51f6a5f72725"
      },
      "execution_count": null,
      "outputs": [
        {
          "output_type": "stream",
          "name": "stdout",
          "text": [
            "2.0\n"
          ]
        }
      ]
    },
    {
      "cell_type": "markdown",
      "source": [
        "![green-divider](https://user-images.githubusercontent.com/7065401/52071924-c003ad80-2562-11e9-8297-1c6595f8a7ff.png)\n",
        "\n",
        "### **Excepciones**"
      ],
      "metadata": {
        "id": "dG-PNQ6Pz0KZ"
      }
    },
    {
      "cell_type": "markdown",
      "source": [
        "Incluso si la sentencia o expresión es sintácticamente correcta, puede generar un error cuando se intenta ejecutarla. __Los errores detectados durante la ejecución se llaman excepciones__, y no son incondicionalmente fatales: pronto aprenderás cómo manejarlos en los programas en Python.\n"
      ],
      "metadata": {
        "id": "n8pH3vX2afU-"
      }
    },
    {
      "cell_type": "markdown",
      "source": [
        "Ejemplo de excepciones"
      ],
      "metadata": {
        "id": "nsq9Hs-JTF5E"
      }
    },
    {
      "cell_type": "code",
      "source": [
        "# Excepcion:\n",
        "\n",
        "10 / 0"
      ],
      "metadata": {
        "id": "dqu3jgWs0frk",
        "colab": {
          "base_uri": "https://localhost:8080/",
          "height": 176
        },
        "outputId": "e35c66ed-ac75-458b-a491-92ba6b0fcfb5"
      },
      "execution_count": null,
      "outputs": [
        {
          "output_type": "error",
          "ename": "ZeroDivisionError",
          "evalue": "division by zero",
          "traceback": [
            "\u001b[0;31m---------------------------------------------------------------------------\u001b[0m",
            "\u001b[0;31mZeroDivisionError\u001b[0m                         Traceback (most recent call last)",
            "\u001b[0;32m<ipython-input-34-73a50f33c0ec>\u001b[0m in \u001b[0;36m<cell line: 3>\u001b[0;34m()\u001b[0m\n\u001b[1;32m      1\u001b[0m \u001b[0;31m# Excepcion:\u001b[0m\u001b[0;34m\u001b[0m\u001b[0;34m\u001b[0m\u001b[0m\n\u001b[1;32m      2\u001b[0m \u001b[0;34m\u001b[0m\u001b[0m\n\u001b[0;32m----> 3\u001b[0;31m \u001b[0;36m10\u001b[0m \u001b[0;34m/\u001b[0m \u001b[0;36m0\u001b[0m\u001b[0;34m\u001b[0m\u001b[0;34m\u001b[0m\u001b[0m\n\u001b[0m",
            "\u001b[0;31mZeroDivisionError\u001b[0m: division by zero"
          ]
        }
      ]
    },
    {
      "cell_type": "code",
      "source": [
        "# Excepcion\n",
        "lista_valores = []\n",
        "\n",
        "lista_valores.pop()"
      ],
      "metadata": {
        "colab": {
          "base_uri": "https://localhost:8080/",
          "height": 176
        },
        "id": "HLLNHtNZao70",
        "outputId": "53bf22bb-f41f-4255-9a8d-1e76648b16fe"
      },
      "execution_count": null,
      "outputs": [
        {
          "output_type": "error",
          "ename": "IndexError",
          "evalue": "pop from empty list",
          "traceback": [
            "\u001b[0;31m---------------------------------------------------------------------------\u001b[0m",
            "\u001b[0;31mIndexError\u001b[0m                                Traceback (most recent call last)",
            "\u001b[0;32m<ipython-input-35-b5d15830561e>\u001b[0m in \u001b[0;36m<cell line: 4>\u001b[0;34m()\u001b[0m\n\u001b[1;32m      2\u001b[0m \u001b[0mlista_valores\u001b[0m \u001b[0;34m=\u001b[0m \u001b[0;34m[\u001b[0m\u001b[0;34m]\u001b[0m\u001b[0;34m\u001b[0m\u001b[0;34m\u001b[0m\u001b[0m\n\u001b[1;32m      3\u001b[0m \u001b[0;34m\u001b[0m\u001b[0m\n\u001b[0;32m----> 4\u001b[0;31m \u001b[0mlista_valores\u001b[0m\u001b[0;34m.\u001b[0m\u001b[0mpop\u001b[0m\u001b[0;34m(\u001b[0m\u001b[0;34m)\u001b[0m\u001b[0;34m\u001b[0m\u001b[0;34m\u001b[0m\u001b[0m\n\u001b[0m",
            "\u001b[0;31mIndexError\u001b[0m: pop from empty list"
          ]
        }
      ]
    },
    {
      "cell_type": "code",
      "source": [
        "# Excepcion\n",
        "float(\"ab\")"
      ],
      "metadata": {
        "id": "JRIHBp90bABW",
        "colab": {
          "base_uri": "https://localhost:8080/",
          "height": 159
        },
        "outputId": "2cdce2e1-977c-441e-cf87-5bb40211304e"
      },
      "execution_count": null,
      "outputs": [
        {
          "output_type": "error",
          "ename": "ValueError",
          "evalue": "could not convert string to float: 'ab'",
          "traceback": [
            "\u001b[0;31m---------------------------------------------------------------------------\u001b[0m",
            "\u001b[0;31mValueError\u001b[0m                                Traceback (most recent call last)",
            "\u001b[0;32m<ipython-input-36-cc81d94021c3>\u001b[0m in \u001b[0;36m<cell line: 2>\u001b[0;34m()\u001b[0m\n\u001b[1;32m      1\u001b[0m \u001b[0;31m# Excepcion\u001b[0m\u001b[0;34m\u001b[0m\u001b[0;34m\u001b[0m\u001b[0m\n\u001b[0;32m----> 2\u001b[0;31m \u001b[0mfloat\u001b[0m\u001b[0;34m(\u001b[0m\u001b[0;34m\"ab\"\u001b[0m\u001b[0;34m)\u001b[0m\u001b[0;34m\u001b[0m\u001b[0;34m\u001b[0m\u001b[0m\n\u001b[0m",
            "\u001b[0;31mValueError\u001b[0m: could not convert string to float: 'ab'"
          ]
        }
      ]
    },
    {
      "cell_type": "code",
      "source": [
        "# Excepcion\n",
        "palabra = \"Hola\"\n",
        "\n",
        "palabra[12]"
      ],
      "metadata": {
        "id": "pBpJSGUhbGPk",
        "colab": {
          "base_uri": "https://localhost:8080/",
          "height": 176
        },
        "outputId": "4addf1fa-c368-4075-b0c4-68756fb84bfd"
      },
      "execution_count": null,
      "outputs": [
        {
          "output_type": "error",
          "ename": "IndexError",
          "evalue": "string index out of range",
          "traceback": [
            "\u001b[0;31m---------------------------------------------------------------------------\u001b[0m",
            "\u001b[0;31mIndexError\u001b[0m                                Traceback (most recent call last)",
            "\u001b[0;32m<ipython-input-37-c3ef0666cd42>\u001b[0m in \u001b[0;36m<cell line: 4>\u001b[0;34m()\u001b[0m\n\u001b[1;32m      2\u001b[0m \u001b[0mpalabra\u001b[0m \u001b[0;34m=\u001b[0m \u001b[0;34m\"Hola\"\u001b[0m\u001b[0;34m\u001b[0m\u001b[0;34m\u001b[0m\u001b[0m\n\u001b[1;32m      3\u001b[0m \u001b[0;34m\u001b[0m\u001b[0m\n\u001b[0;32m----> 4\u001b[0;31m \u001b[0mpalabra\u001b[0m\u001b[0;34m[\u001b[0m\u001b[0;36m12\u001b[0m\u001b[0;34m]\u001b[0m\u001b[0;34m\u001b[0m\u001b[0;34m\u001b[0m\u001b[0m\n\u001b[0m",
            "\u001b[0;31mIndexError\u001b[0m: string index out of range"
          ]
        }
      ]
    },
    {
      "cell_type": "markdown",
      "source": [
        "Como podemos suponer, es difícil prevenir fallos que ni siquiera nos habíamos planteado que podían existir. Por suerte para esas situaciones existen las excepciones."
      ],
      "metadata": {
        "id": "f28S9L97Z4K7"
      }
    },
    {
      "cell_type": "markdown",
      "source": [
        "Las excepciones son **bloques de código que nos permiten continuar con la ejecución de un programa pese a que ocurra un error**.\n"
      ],
      "metadata": {
        "id": "31vtCd9-0KAm"
      }
    },
    {
      "cell_type": "markdown",
      "source": [
        "#### **try-except**"
      ],
      "metadata": {
        "id": "6-ZdP_muTnuY"
      }
    },
    {
      "cell_type": "markdown",
      "source": [
        "Para prevenir el fallo debemos poner el código propenso a errores en un bloque try y luego encadenar un bloque except para tratar la situación excepcional mostrando que ha ocurrido un fallo:\n",
        "\n",
        "```\n",
        "try:\n",
        "  Bloque de codigo\n",
        "except:\n",
        "  Bloque de codigo\n",
        "```"
      ],
      "metadata": {
        "id": "T96rBVlrUCyI"
      }
    },
    {
      "cell_type": "markdown",
      "source": [
        "Funcionamiento:\n",
        "\n",
        "* Se ejecuta el bloque try (el código entre las sentencias try y except).\n",
        "* Si no ocurre ninguna excepción, el bloque except se saltea y termina la ejecución de la sentencia try.\n",
        "* Si ocurre una excepción durante la ejecución del bloque try, el resto del bloque se saltea. Luego, si su tipo coincide con la excepción nombrada luego de la palabra reservada except, se ejecuta el bloque except, y la ejecución continúa luego de la sentencia try.\n"
      ],
      "metadata": {
        "id": "_pvI4AbZUMHM"
      }
    },
    {
      "cell_type": "code",
      "source": [
        "# Sin manejo de Excepciones\n",
        "\n",
        "numero1 = 10\n",
        "numero2 = 0\n",
        "\n",
        "print(f\"Vamos a dividir {numero1} por {numero2}\")\n",
        "\n",
        "resultado = numero1 / numero2\n",
        "print(f\"resultado : {resultado}\")\n",
        "\n",
        "print(\"Continua el programa....\")"
      ],
      "metadata": {
        "id": "vrL4Pb3teI7a",
        "colab": {
          "base_uri": "https://localhost:8080/",
          "height": 228
        },
        "outputId": "a2796a44-bef0-44b5-b4dc-2fe4b261b873"
      },
      "execution_count": null,
      "outputs": [
        {
          "output_type": "stream",
          "name": "stdout",
          "text": [
            "Vamos a dividir 10 por 0\n"
          ]
        },
        {
          "output_type": "error",
          "ename": "ZeroDivisionError",
          "evalue": "division by zero",
          "traceback": [
            "\u001b[0;31m---------------------------------------------------------------------------\u001b[0m",
            "\u001b[0;31mZeroDivisionError\u001b[0m                         Traceback (most recent call last)",
            "\u001b[0;32m<ipython-input-38-b33bfc975077>\u001b[0m in \u001b[0;36m<cell line: 8>\u001b[0;34m()\u001b[0m\n\u001b[1;32m      6\u001b[0m \u001b[0mprint\u001b[0m\u001b[0;34m(\u001b[0m\u001b[0;34mf\"Vamos a dividir {numero1} por {numero2}\"\u001b[0m\u001b[0;34m)\u001b[0m\u001b[0;34m\u001b[0m\u001b[0;34m\u001b[0m\u001b[0m\n\u001b[1;32m      7\u001b[0m \u001b[0;34m\u001b[0m\u001b[0m\n\u001b[0;32m----> 8\u001b[0;31m \u001b[0mresultado\u001b[0m \u001b[0;34m=\u001b[0m \u001b[0mnumero1\u001b[0m \u001b[0;34m/\u001b[0m \u001b[0mnumero2\u001b[0m\u001b[0;34m\u001b[0m\u001b[0;34m\u001b[0m\u001b[0m\n\u001b[0m\u001b[1;32m      9\u001b[0m \u001b[0mprint\u001b[0m\u001b[0;34m(\u001b[0m\u001b[0;34mf\"resultado : {resultado}\"\u001b[0m\u001b[0;34m)\u001b[0m\u001b[0;34m\u001b[0m\u001b[0;34m\u001b[0m\u001b[0m\n\u001b[1;32m     10\u001b[0m \u001b[0;34m\u001b[0m\u001b[0m\n",
            "\u001b[0;31mZeroDivisionError\u001b[0m: division by zero"
          ]
        }
      ]
    },
    {
      "cell_type": "code",
      "source": [
        "# Con manejo de excepciones\n",
        "\n",
        "numero1 = 10\n",
        "numero2 = 0\n",
        "print(f\"Vamos a dividir {numero1} por {numero2}\")\n",
        "\n",
        "try:\n",
        "  print(\"Dentro del try\")\n",
        "  resultado = numero1 / numero2\n",
        "  print(f\"resultado : {resultado}\")\n",
        "except:\n",
        "  print(\"No es posible dividir por 0\")\n",
        "\n",
        "print(\"Continua el programa....\")"
      ],
      "metadata": {
        "id": "rnI44peIcIjI",
        "colab": {
          "base_uri": "https://localhost:8080/"
        },
        "outputId": "84ff1947-7e06-437b-ed17-02d419626e51"
      },
      "execution_count": null,
      "outputs": [
        {
          "output_type": "stream",
          "name": "stdout",
          "text": [
            "Vamos a dividir 10 por 0\n",
            "Dentro del try\n",
            "No es posible dividir por 0\n",
            "Continua el programa....\n"
          ]
        }
      ]
    },
    {
      "cell_type": "code",
      "source": [
        "# Capturando una excepcion especifica\n",
        "\n",
        "numero1 = 10\n",
        "numero2 = 0\n",
        "print(f\"Vamos a dividir {numero1} por {numero2}\")\n",
        "\n",
        "try:\n",
        "  print(\"Dentro del try\")\n",
        "  resultado = numero1 / numero2\n",
        "  print(f\"resultado : {resultado}\")\n",
        "except ZeroDivisionError:\n",
        "  print(\"No es posible dividir por 0\")\n",
        "\n",
        "print(\"Continua el programa....\")\n"
      ],
      "metadata": {
        "id": "39ZW0UoMdbWX",
        "colab": {
          "base_uri": "https://localhost:8080/"
        },
        "outputId": "592bc0ee-7143-4436-ca81-d37597d4fe27"
      },
      "execution_count": null,
      "outputs": [
        {
          "output_type": "stream",
          "name": "stdout",
          "text": [
            "Vamos a dividir 10 por 0\n",
            "Dentro del try\n",
            "No es posible dividir por 0\n",
            "Continua el programa....\n"
          ]
        }
      ]
    },
    {
      "cell_type": "code",
      "source": [
        "# Que pasa si ocurre otra Excepcion distinta a ZeroDivisionError?\n",
        "\n",
        "numero1 = 10\n",
        "numero2 = \"10\"\n",
        "print(f\"Vamos a dividir {numero1} por {numero2}\")\n",
        "\n",
        "try:\n",
        "  print(\"Dentro del try\")\n",
        "  resultado = numero1 / numero2\n",
        "  print(f\"resultado : {resultado}\")\n",
        "except ZeroDivisionError:\n",
        "  print(\"No es posible dividir por 0\")\n",
        "\n",
        "print(\"Continua el programa....\")\n"
      ],
      "metadata": {
        "id": "Hahm2ipYd2wS",
        "colab": {
          "base_uri": "https://localhost:8080/",
          "height": 245
        },
        "outputId": "642872f4-cdd7-441a-cf4c-1f9eafd5c916"
      },
      "execution_count": null,
      "outputs": [
        {
          "output_type": "stream",
          "name": "stdout",
          "text": [
            "Vamos a dividir 10 por 10\n",
            "Dentro del try\n"
          ]
        },
        {
          "output_type": "error",
          "ename": "TypeError",
          "evalue": "unsupported operand type(s) for /: 'int' and 'str'",
          "traceback": [
            "\u001b[0;31m---------------------------------------------------------------------------\u001b[0m",
            "\u001b[0;31mTypeError\u001b[0m                                 Traceback (most recent call last)",
            "\u001b[0;32m<ipython-input-43-697e26cd410a>\u001b[0m in \u001b[0;36m<cell line: 7>\u001b[0;34m()\u001b[0m\n\u001b[1;32m      7\u001b[0m \u001b[0;32mtry\u001b[0m\u001b[0;34m:\u001b[0m\u001b[0;34m\u001b[0m\u001b[0;34m\u001b[0m\u001b[0m\n\u001b[1;32m      8\u001b[0m   \u001b[0mprint\u001b[0m\u001b[0;34m(\u001b[0m\u001b[0;34m\"Dentro del try\"\u001b[0m\u001b[0;34m)\u001b[0m\u001b[0;34m\u001b[0m\u001b[0;34m\u001b[0m\u001b[0m\n\u001b[0;32m----> 9\u001b[0;31m   \u001b[0mresultado\u001b[0m \u001b[0;34m=\u001b[0m \u001b[0mnumero1\u001b[0m \u001b[0;34m/\u001b[0m \u001b[0mnumero2\u001b[0m\u001b[0;34m\u001b[0m\u001b[0;34m\u001b[0m\u001b[0m\n\u001b[0m\u001b[1;32m     10\u001b[0m   \u001b[0mprint\u001b[0m\u001b[0;34m(\u001b[0m\u001b[0;34mf\"resultado : {resultado}\"\u001b[0m\u001b[0;34m)\u001b[0m\u001b[0;34m\u001b[0m\u001b[0;34m\u001b[0m\u001b[0m\n\u001b[1;32m     11\u001b[0m \u001b[0;32mexcept\u001b[0m \u001b[0mZeroDivisionError\u001b[0m\u001b[0;34m:\u001b[0m\u001b[0;34m\u001b[0m\u001b[0;34m\u001b[0m\u001b[0m\n",
            "\u001b[0;31mTypeError\u001b[0m: unsupported operand type(s) for /: 'int' and 'str'"
          ]
        }
      ]
    },
    {
      "cell_type": "code",
      "source": [
        "# ValueError\n",
        "\n",
        "caracter = \"2\"    # file -- request -- input\n",
        "\n",
        "try:\n",
        "  numero = int(caracter)\n",
        "  print(numero)\n",
        "except ValueError:\n",
        "  print(\"Error al convertir en entero!\")"
      ],
      "metadata": {
        "id": "Mds11HDReh9P",
        "colab": {
          "base_uri": "https://localhost:8080/"
        },
        "outputId": "4bfde4ea-8832-431c-f336-6559f32f0634"
      },
      "execution_count": null,
      "outputs": [
        {
          "output_type": "stream",
          "name": "stdout",
          "text": [
            "2\n"
          ]
        }
      ]
    },
    {
      "cell_type": "code",
      "source": [
        "# IndexError\n",
        "\n",
        "lista = [1, 2, 3, 4, 5]\n",
        "\n",
        "try:\n",
        "  foo = lista[23]\n",
        "except IndexError:\n",
        "  print(\"No es posible acceder a ese indice\")"
      ],
      "metadata": {
        "id": "25Kq9KA72iwR",
        "colab": {
          "base_uri": "https://localhost:8080/"
        },
        "outputId": "89f81099-13f1-46fa-a4cc-2038ea35f819"
      },
      "execution_count": null,
      "outputs": [
        {
          "output_type": "stream",
          "name": "stdout",
          "text": [
            "No es posible acceder a ese indice\n"
          ]
        }
      ]
    },
    {
      "cell_type": "code",
      "source": [
        "# TypeError\n",
        "\n",
        "lista = [1, 2, 3, 4, 5]\n",
        "\n",
        "try:\n",
        "  foo = lista[[0,1]]\n",
        "except TypeError:\n",
        "  print(\"No es posible acceder a ese indice\")"
      ],
      "metadata": {
        "id": "b1mhfaoc26A0",
        "colab": {
          "base_uri": "https://localhost:8080/"
        },
        "outputId": "39826726-6c20-4c5b-966f-e698046aa54c"
      },
      "execution_count": null,
      "outputs": [
        {
          "output_type": "stream",
          "name": "stdout",
          "text": [
            "No es posible acceder a ese indice\n"
          ]
        }
      ]
    },
    {
      "cell_type": "markdown",
      "source": [
        "Preguntas❓"
      ],
      "metadata": {
        "id": "4_W2rVPzfGsq"
      }
    },
    {
      "cell_type": "markdown",
      "source": [
        "#### **try-except-else**"
      ],
      "metadata": {
        "id": "Y2FxkjkscluO"
      }
    },
    {
      "cell_type": "markdown",
      "source": [
        "Las declaraciones **try - except** tienen un bloque **else opcional**, el cual, cuando está presente, debe seguir a los except. El bloque else es un buen momento para romper la iteración con break si todo funciona correctamente.\n",
        "\n",
        "**El uso de else es mejor que agregar código adicional en el try** porque evita capturar accidentalmente una excepción que no fue generada por el código que está protegido por la sentencia try - except."
      ],
      "metadata": {
        "id": "35T9u6aDcqB5"
      }
    },
    {
      "cell_type": "code",
      "source": [
        "#Ejemplo try - except - else\n",
        "\n",
        "numero1 = 10\n",
        "numero2 = 0\n",
        "\n",
        "try:\n",
        "    resultado = numero1 / numero2\n",
        "except ZeroDivisionError:\n",
        "    # logging()\n",
        "    print(\"No se puede dividir por 0!\")\n",
        "else:\n",
        "    print(f\"resultado : {resultado}\")\n",
        "\n",
        "print(\"Continua el programa ...\")"
      ],
      "metadata": {
        "id": "ntFSBF5dc-SE",
        "colab": {
          "base_uri": "https://localhost:8080/"
        },
        "outputId": "b8fc5399-d022-4d06-c2ae-a282f9cff927"
      },
      "execution_count": null,
      "outputs": [
        {
          "output_type": "stream",
          "name": "stdout",
          "text": [
            "No se puede dividir por 0!\n",
            "Continua el programa ...\n"
          ]
        }
      ]
    },
    {
      "cell_type": "markdown",
      "source": [
        "#### **finaly**"
      ],
      "metadata": {
        "id": "azFuQBJNm9BM"
      }
    },
    {
      "cell_type": "markdown",
      "source": [
        "La sentencia try tiene otra sentencia **opcional** que intenta definir acciones de limpieza que deben ser ejecutadas bajo ciertas circunstancias. Una sentencia finaly **siempre es ejecutada antes de salir de la sentencia try, ya sea que una excepción haya ocurrido o no**."
      ],
      "metadata": {
        "id": "wKZeL4xAnvgb"
      }
    },
    {
      "cell_type": "markdown",
      "source": [
        "Cuando ocurre una excepción en la sentencia try y no fue manejada por una sentencia except (u ocurrió en una sentencia except o else), es relanzada luego de que se ejecuta la sentencia finally."
      ],
      "metadata": {
        "id": "3xjYrdE7n3xM"
      }
    },
    {
      "cell_type": "code",
      "source": [
        "# Ejemplo finaly\n",
        "\n",
        "try:\n",
        "  a = float(input(\"Introduce un número: \"))\n",
        "  b = float(input(\"Introduce otro número: \"))\n",
        "  print(a + b)\n",
        "except:\n",
        "    print(\"Ha ocurrido un error. Tienes que introducir 2 números.\")\n",
        "else:\n",
        "    print(\"La suma se ha realizado correctamente.\")\n",
        "finally:\n",
        "  # Esto se ejecuta siempre.\n",
        "  print(\"Fin del bucle\")\n"
      ],
      "metadata": {
        "id": "bPdeG453oBJ7",
        "colab": {
          "base_uri": "https://localhost:8080/"
        },
        "outputId": "3523425f-6495-417d-d046-f7515489daa6"
      },
      "execution_count": null,
      "outputs": [
        {
          "output_type": "stream",
          "name": "stdout",
          "text": [
            "Introduce un número: q\n",
            "Ha ocurrido un error. Tienes que introducir 2 números.\n",
            "Fin del bucle\n"
          ]
        }
      ]
    },
    {
      "cell_type": "markdown",
      "source": [
        "Preguntas❓"
      ],
      "metadata": {
        "id": "725Liyekw449"
      }
    },
    {
      "cell_type": "markdown",
      "source": [
        "![green-divider](https://user-images.githubusercontent.com/7065401/52071924-c003ad80-2562-11e9-8297-1c6595f8a7ff.png)\n",
        "\n",
        "### **Excepciones múltiples**"
      ],
      "metadata": {
        "id": "FvKphexdn9Xh"
      }
    },
    {
      "cell_type": "markdown",
      "source": [
        "En una misma pieza de código pueden ocurrir muchos errores distintos y quizá nos interese actuar de forma diferente en cada caso.\n",
        "\n",
        "**Para esas situaciones algo que podemos hacer es asignar una excepción a una variable**.\n"
      ],
      "metadata": {
        "id": "H9BRrS3xoNkr"
      }
    },
    {
      "cell_type": "code",
      "source": [
        "try:\n",
        "  numero1 = int(input(\"Introduce un número: \"))\n",
        "  numero2 = int(input(\"Introduce un número: \"))\n",
        "  resultado = numero1 ** 2\n",
        "  resultado /= numero2\n",
        "  print(resultado)\n",
        "except Exception as e:\n",
        "  print(\"Ha ocurrido un error =>\", type(e).__name__)"
      ],
      "metadata": {
        "id": "PL6JMBblogIw",
        "colab": {
          "base_uri": "https://localhost:8080/"
        },
        "outputId": "42baa9af-6a58-43be-b590-70667dfde537"
      },
      "execution_count": null,
      "outputs": [
        {
          "output_type": "stream",
          "name": "stdout",
          "text": [
            "Introduce un número: 23\n",
            "Introduce un número: 0\n",
            "Ha ocurrido un error => ZeroDivisionError\n"
          ]
        }
      ]
    },
    {
      "cell_type": "markdown",
      "source": [
        "Cada error tiene un identificador único que curiosamente se corresponde con su tipo de dato. Aprovechando eso podemos mostrar la clase del error utilizando la sintaxis:  \n",
        "\n",
        "```\n",
        "print(type(e)\n",
        "```"
      ],
      "metadata": {
        "id": "XbfPI1G6yjp5"
      }
    },
    {
      "cell_type": "code",
      "source": [
        "try:\n",
        "  \"Hola\"[23]\n",
        "except Exception as e:\n",
        "  print(type(e))"
      ],
      "metadata": {
        "id": "Sz1-H22LywQA",
        "colab": {
          "base_uri": "https://localhost:8080/"
        },
        "outputId": "570b712e-4573-40b1-95b7-9fdfbde63375"
      },
      "execution_count": null,
      "outputs": [
        {
          "output_type": "stream",
          "name": "stdout",
          "text": [
            "<class 'IndexError'>\n"
          ]
        }
      ]
    },
    {
      "cell_type": "code",
      "source": [
        "try:\n",
        "  lista= [0, 1, 2]\n",
        "  lista[[0,1]]\n",
        "except Exception as e:\n",
        "  print(type(e))"
      ],
      "metadata": {
        "id": "MlwwRG9wZYVf",
        "colab": {
          "base_uri": "https://localhost:8080/"
        },
        "outputId": "fd9551d2-91b2-4685-957f-d547214587fa"
      },
      "execution_count": null,
      "outputs": [
        {
          "output_type": "stream",
          "name": "stdout",
          "text": [
            "<class 'TypeError'>\n"
          ]
        }
      ]
    },
    {
      "cell_type": "markdown",
      "source": [
        "Gracias a los identificadores de errores podemos crear múltiples comprobaciones, siempre que dejemos en último lugar la excepción por defecto. Excepción que engloba cualquier tipo de error."
      ],
      "metadata": {
        "id": "FM29eQxa0Xbp"
      }
    },
    {
      "cell_type": "code",
      "source": [
        "try:\n",
        "  numero = float(input(\"Introduce un número divisor: \"))\n",
        "  resultado = 5/numero\n",
        "  print(resultado)\n",
        "\n",
        "except TypeError:\n",
        "  print(\"No se puede dividir el número entre una cadena\")\n",
        "\n",
        "except ValueError:\n",
        "  print(\"Debes introducir una cadena que sea un número\")\n",
        "\n",
        "except ZeroDivisionError:\n",
        "  print(\"No se puede dividir por cero, prueba otro número\")\n",
        "\n",
        "except Exception as e:\n",
        "  print(\"Ha ocurrido un error no previsto\", type(e).__name__ )"
      ],
      "metadata": {
        "id": "w7oyBseY0hCK"
      },
      "execution_count": null,
      "outputs": []
    },
    {
      "cell_type": "markdown",
      "source": [
        "![green-divider](https://user-images.githubusercontent.com/7065401/52071924-c003ad80-2562-11e9-8297-1c6595f8a7ff.png)\n",
        "\n",
        "### **Ejercicio**"
      ],
      "metadata": {
        "id": "j4pFtIacq2ug"
      }
    },
    {
      "cell_type": "markdown",
      "source": [
        "**Desafío de excepciones**\n",
        "\n",
        "Descripción de la actividad.\n",
        "\n",
        "Tomando la solución del ejercicio anterior, en lugar de devolver None al dividir entre cero, tienes que capturar una excepción que muestre por pantalla EXACTAMENTE el mensaje: “No se puede dividir entre cero”; si falla el código\n",
        "\n",
        "```\n",
        ">>> def dividir(a, b):\n",
        "if b == 0:\n",
        "\treturn None\n",
        "return a/b\n",
        "```"
      ],
      "metadata": {
        "id": "j_0sVNuAq4ih"
      }
    },
    {
      "cell_type": "code",
      "source": [
        "# Funcion\n",
        "\n",
        "def dividir(a, b):\n",
        "  try:\n",
        "    return a/b\n",
        "  except ZeroDivisionError:\n",
        "    return None"
      ],
      "metadata": {
        "id": "1LnEi-x6cpMl"
      },
      "execution_count": null,
      "outputs": []
    },
    {
      "cell_type": "code",
      "source": [
        "# llamando a la funcion\n",
        "print(dividir(8,4))"
      ],
      "metadata": {
        "colab": {
          "base_uri": "https://localhost:8080/"
        },
        "id": "RpJP2qNZUlJ2",
        "outputId": "4b35c9de-1ee0-4144-bb52-7f902ad6794f"
      },
      "execution_count": null,
      "outputs": [
        {
          "output_type": "stream",
          "name": "stdout",
          "text": [
            "2.0\n"
          ]
        }
      ]
    },
    {
      "cell_type": "code",
      "source": [
        "print(dividir(8, 0))"
      ],
      "metadata": {
        "colab": {
          "base_uri": "https://localhost:8080/"
        },
        "id": "D4aXfWWhpkFW",
        "outputId": "494ec193-4fe0-4127-cfcc-8083e77d6c6e"
      },
      "execution_count": null,
      "outputs": [
        {
          "output_type": "stream",
          "name": "stdout",
          "text": [
            "None\n"
          ]
        }
      ]
    },
    {
      "cell_type": "markdown",
      "source": [
        "![green-divider](https://user-images.githubusercontent.com/7065401/52071924-c003ad80-2562-11e9-8297-1c6595f8a7ff.png)\n",
        "\n",
        "### **Lanzando excepciones**"
      ],
      "metadata": {
        "id": "YLLcTp62o6e7"
      }
    },
    {
      "cell_type": "markdown",
      "source": [
        "En Python, la palabra clave **raise** se utiliza para generar (lanzar) una excepción de manera explícita. Puedes utilizar raise para indicar que ha ocurrido un error o una condición excepcional en tu código."
      ],
      "metadata": {
        "id": "ZoAZxGl96hu9"
      }
    },
    {
      "cell_type": "code",
      "source": [
        "raise Exception(\"Ocurrio un error\")"
      ],
      "metadata": {
        "id": "JUnnqIlDpt1y",
        "colab": {
          "base_uri": "https://localhost:8080/",
          "height": 141
        },
        "outputId": "8ac04445-113d-4035-c976-19d6603873d3"
      },
      "execution_count": null,
      "outputs": [
        {
          "output_type": "error",
          "ename": "Exception",
          "evalue": "Ocurrio un error",
          "traceback": [
            "\u001b[0;31m---------------------------------------------------------------------------\u001b[0m",
            "\u001b[0;31mException\u001b[0m                                 Traceback (most recent call last)",
            "\u001b[0;32m<ipython-input-61-82ff0d4404f6>\u001b[0m in \u001b[0;36m<cell line: 1>\u001b[0;34m()\u001b[0m\n\u001b[0;32m----> 1\u001b[0;31m \u001b[0;32mraise\u001b[0m \u001b[0mException\u001b[0m\u001b[0;34m(\u001b[0m\u001b[0;34m\"Ocurrio un error\"\u001b[0m\u001b[0;34m)\u001b[0m\u001b[0;34m\u001b[0m\u001b[0;34m\u001b[0m\u001b[0m\n\u001b[0m",
            "\u001b[0;31mException\u001b[0m: Ocurrio un error"
          ]
        }
      ]
    },
    {
      "cell_type": "code",
      "source": [],
      "metadata": {
        "id": "2r_3Ys84qdG1"
      },
      "execution_count": null,
      "outputs": []
    },
    {
      "cell_type": "code",
      "source": [
        "def factorial(numero):\n",
        "\n",
        "  if numero < 0:\n",
        "    raise ValueError(\"Solo numeros enteros mayores a 0\")\n",
        "\n",
        "  if numero == 0:\n",
        "    return 1\n",
        "\n",
        "  if numero == 1:\n",
        "    return numero\n",
        "\n",
        "  numero = numero * factorial(numero - 1)\n",
        "\n",
        "  return numero"
      ],
      "metadata": {
        "id": "EC0QKq8_5iOq"
      },
      "execution_count": null,
      "outputs": []
    },
    {
      "cell_type": "code",
      "source": [
        "try:\n",
        "  print(factorial(-4))\n",
        "except ValueError:\n",
        "  print(\"Error\")\n"
      ],
      "metadata": {
        "colab": {
          "base_uri": "https://localhost:8080/"
        },
        "id": "Ml59ne896IwX",
        "outputId": "9f2c98b0-5e73-435d-9211-9aec5d142345"
      },
      "execution_count": null,
      "outputs": [
        {
          "output_type": "stream",
          "name": "stdout",
          "text": [
            "Error\n"
          ]
        }
      ]
    },
    {
      "cell_type": "code",
      "source": [
        "\n",
        "def dividir(a, b):\n",
        "\n",
        "  if b == 0:\n",
        "    raise ZeroDivisionError(\"No se puede dividir entre 0\")\n",
        "\n",
        "  return a/b"
      ],
      "metadata": {
        "id": "kAWgUrt3qofA"
      },
      "execution_count": null,
      "outputs": []
    },
    {
      "cell_type": "code",
      "source": [
        "try:\n",
        "  print(dividir(8, 0))\n",
        "\n",
        "except ZeroDivisionError:\n",
        "  print(\"Error en la operacion\")"
      ],
      "metadata": {
        "colab": {
          "base_uri": "https://localhost:8080/"
        },
        "id": "7YvTJoPRqt5G",
        "outputId": "07404538-94b3-4b5e-f42c-1d521db614f9"
      },
      "execution_count": null,
      "outputs": [
        {
          "output_type": "stream",
          "name": "stdout",
          "text": [
            "Error en la operacion\n"
          ]
        }
      ]
    }
  ]
}