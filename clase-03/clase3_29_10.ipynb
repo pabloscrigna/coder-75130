{
  "nbformat": 4,
  "nbformat_minor": 0,
  "metadata": {
    "colab": {
      "provenance": []
    },
    "kernelspec": {
      "name": "python3",
      "display_name": "Python 3"
    },
    "language_info": {
      "name": "python"
    }
  },
  "cells": [
    {
      "cell_type": "markdown",
      "source": [
        "<font size=\"6\" color=\"blue\"> 3. Métodos de colecciones y Operadores básicos </font>"
      ],
      "metadata": {
        "id": "dzdFUPVZPt6N"
      }
    },
    {
      "cell_type": "markdown",
      "source": [
        "![green-divider](https://user-images.githubusercontent.com/7065401/52071924-c003ad80-2562-11e9-8297-1c6595f8a7ff.png)\n",
        "\n",
        "### 3.1 Introducción a las colecciones"
      ],
      "metadata": {
        "id": "21rQ3QhsRWxl"
      }
    },
    {
      "cell_type": "markdown",
      "source": [
        "#### *3.1.1 Métodos de colecciones*"
      ],
      "metadata": {
        "id": "ITeY4WCgU_aB"
      }
    },
    {
      "cell_type": "markdown",
      "source": [
        "En Python, las colecciones son estructuras de datos que permiten almacenar y manipular grupos de elementos. Las tres colecciones más utilizadas son **listas**, **conjuntos** y **diccionarios**. Cada una de estas colecciones tiene sus propios usos y métodos específicos para operar sobre los datos que contienen."
      ],
      "metadata": {
        "id": "oOHvWWEzWEj-"
      }
    },
    {
      "cell_type": "markdown",
      "source": [
        "![green-divider](https://user-images.githubusercontent.com/7065401/52071924-c003ad80-2562-11e9-8297-1c6595f8a7ff.png)\n",
        "\n",
        "### 3.2 Métodos de Cadenas (str)"
      ],
      "metadata": {
        "id": "0G-vKC8ma2rX"
      }
    },
    {
      "cell_type": "markdown",
      "source": [
        "Python proporciona una variedad de métodos para manipular y trabajar con cadenas de caracteres. A continuación se describen los métodos más comunes con ejemplos prácticos de uso en código."
      ],
      "metadata": {
        "id": "BppMlmuhkv8q"
      }
    },
    {
      "cell_type": "code",
      "source": [
        "type(\"\")"
      ],
      "metadata": {
        "colab": {
          "base_uri": "https://localhost:8080/"
        },
        "id": "Tr_by1VsVWkx",
        "outputId": "f009ef56-f930-4f05-c8d0-1853828f778a"
      },
      "execution_count": null,
      "outputs": [
        {
          "output_type": "execute_result",
          "data": {
            "text/plain": [
              "str"
            ]
          },
          "metadata": {},
          "execution_count": 23
        }
      ]
    },
    {
      "cell_type": "code",
      "source": [
        "# como obtener todos los metodos\n",
        "dir(str)"
      ],
      "metadata": {
        "id": "HJ0oLJFskw1E",
        "colab": {
          "base_uri": "https://localhost:8080/"
        },
        "outputId": "361b311f-bbe0-4236-87b4-1fcff72b034d"
      },
      "execution_count": null,
      "outputs": [
        {
          "output_type": "execute_result",
          "data": {
            "text/plain": [
              "['__add__',\n",
              " '__class__',\n",
              " '__contains__',\n",
              " '__delattr__',\n",
              " '__dir__',\n",
              " '__doc__',\n",
              " '__eq__',\n",
              " '__format__',\n",
              " '__ge__',\n",
              " '__getattribute__',\n",
              " '__getitem__',\n",
              " '__getnewargs__',\n",
              " '__gt__',\n",
              " '__hash__',\n",
              " '__init__',\n",
              " '__init_subclass__',\n",
              " '__iter__',\n",
              " '__le__',\n",
              " '__len__',\n",
              " '__lt__',\n",
              " '__mod__',\n",
              " '__mul__',\n",
              " '__ne__',\n",
              " '__new__',\n",
              " '__reduce__',\n",
              " '__reduce_ex__',\n",
              " '__repr__',\n",
              " '__rmod__',\n",
              " '__rmul__',\n",
              " '__setattr__',\n",
              " '__sizeof__',\n",
              " '__str__',\n",
              " '__subclasshook__',\n",
              " 'capitalize',\n",
              " 'casefold',\n",
              " 'center',\n",
              " 'count',\n",
              " 'encode',\n",
              " 'endswith',\n",
              " 'expandtabs',\n",
              " 'find',\n",
              " 'format',\n",
              " 'format_map',\n",
              " 'index',\n",
              " 'isalnum',\n",
              " 'isalpha',\n",
              " 'isascii',\n",
              " 'isdecimal',\n",
              " 'isdigit',\n",
              " 'isidentifier',\n",
              " 'islower',\n",
              " 'isnumeric',\n",
              " 'isprintable',\n",
              " 'isspace',\n",
              " 'istitle',\n",
              " 'isupper',\n",
              " 'join',\n",
              " 'ljust',\n",
              " 'lower',\n",
              " 'lstrip',\n",
              " 'maketrans',\n",
              " 'partition',\n",
              " 'removeprefix',\n",
              " 'removesuffix',\n",
              " 'replace',\n",
              " 'rfind',\n",
              " 'rindex',\n",
              " 'rjust',\n",
              " 'rpartition',\n",
              " 'rsplit',\n",
              " 'rstrip',\n",
              " 'split',\n",
              " 'splitlines',\n",
              " 'startswith',\n",
              " 'strip',\n",
              " 'swapcase',\n",
              " 'title',\n",
              " 'translate',\n",
              " 'upper',\n",
              " 'zfill']"
            ]
          },
          "metadata": {},
          "execution_count": 24
        }
      ]
    },
    {
      "cell_type": "code",
      "source": [
        "# ayuda (help)\n",
        "help(str.upper)"
      ],
      "metadata": {
        "id": "rTt9RWWVk8tV",
        "colab": {
          "base_uri": "https://localhost:8080/"
        },
        "outputId": "915d7b9d-ea20-4d8a-b389-5eefb8f1b791"
      },
      "execution_count": null,
      "outputs": [
        {
          "output_type": "stream",
          "name": "stdout",
          "text": [
            "Help on method_descriptor:\n",
            "\n",
            "upper(self, /)\n",
            "    Return a copy of the string converted to uppercase.\n",
            "\n"
          ]
        }
      ]
    },
    {
      "cell_type": "code",
      "source": [
        "# upper - Convierte todos los caracteres de la cadena a mayúsculas.\n",
        "\n",
        "frase = 'Hola Mundo'\n",
        "frase.upper()"
      ],
      "metadata": {
        "id": "l9bgokNVlJ23",
        "colab": {
          "base_uri": "https://localhost:8080/",
          "height": 35
        },
        "outputId": "028dd376-0bdc-452a-e3b0-dae846cc0fce"
      },
      "execution_count": null,
      "outputs": [
        {
          "output_type": "execute_result",
          "data": {
            "text/plain": [
              "'HOLA MUNDO'"
            ],
            "application/vnd.google.colaboratory.intrinsic+json": {
              "type": "string"
            }
          },
          "metadata": {},
          "execution_count": 26
        }
      ]
    },
    {
      "cell_type": "code",
      "source": [
        "# lower - Convierte todos los caracteres de la cadena a minúsculas.\n",
        "\n",
        "frase = 'Hola Mundo'\n",
        "frase.lower()"
      ],
      "metadata": {
        "id": "sOiFg-N9laqq",
        "colab": {
          "base_uri": "https://localhost:8080/",
          "height": 35
        },
        "outputId": "542d3982-3b59-40d5-9462-8585fca1b12b"
      },
      "execution_count": null,
      "outputs": [
        {
          "output_type": "execute_result",
          "data": {
            "text/plain": [
              "'hola mundo'"
            ],
            "application/vnd.google.colaboratory.intrinsic+json": {
              "type": "string"
            }
          },
          "metadata": {},
          "execution_count": 27
        }
      ]
    },
    {
      "cell_type": "code",
      "source": [
        "# capitalize - Convierte el primer carácter de la cadena a mayúscula y el resto a minúsculas.\n",
        "\n",
        "frase = 'hola MUndo'\n",
        "frase.capitalize()"
      ],
      "metadata": {
        "id": "qQVoC7y8lrF4",
        "colab": {
          "base_uri": "https://localhost:8080/",
          "height": 35
        },
        "outputId": "324b1b1a-aaec-4b7b-b06a-f8574cbee622"
      },
      "execution_count": null,
      "outputs": [
        {
          "output_type": "execute_result",
          "data": {
            "text/plain": [
              "'Hola mundo'"
            ],
            "application/vnd.google.colaboratory.intrinsic+json": {
              "type": "string"
            }
          },
          "metadata": {},
          "execution_count": 30
        }
      ]
    },
    {
      "cell_type": "code",
      "source": [
        "# title - Convierte el primer carácter de cada palabra a mayúscula y el resto a minúsculas.\n",
        "\n",
        "frase = 'holA mundo'\n",
        "frase.title()"
      ],
      "metadata": {
        "id": "ao33oB2Tlx_Q",
        "colab": {
          "base_uri": "https://localhost:8080/",
          "height": 35
        },
        "outputId": "c2b4e677-0bcb-4f73-c554-24a0d77ba0fb"
      },
      "execution_count": null,
      "outputs": [
        {
          "output_type": "execute_result",
          "data": {
            "text/plain": [
              "'Hola Mundo'"
            ],
            "application/vnd.google.colaboratory.intrinsic+json": {
              "type": "string"
            }
          },
          "metadata": {},
          "execution_count": 32
        }
      ]
    },
    {
      "cell_type": "code",
      "source": [
        "# count - Cuenta cuántas veces aparece una subcadena en la cadena.\n",
        "\n",
        "frase = 'Hola Mundo'\n",
        "print(frase.count('o'))\n",
        "print(frase.count(\"la\"))"
      ],
      "metadata": {
        "id": "mwFwd6HIqnxt",
        "colab": {
          "base_uri": "https://localhost:8080/"
        },
        "outputId": "e451818f-13a1-45ce-ea1b-8363f7d0f0b5"
      },
      "execution_count": null,
      "outputs": [
        {
          "output_type": "stream",
          "name": "stdout",
          "text": [
            "2\n",
            "1\n"
          ]
        }
      ]
    },
    {
      "cell_type": "code",
      "source": [
        "# find - Devuelve el índice de la primera aparición de una subcadena en la cadena. Si no se encuentra, devuelve -1.\n",
        "\n",
        "frase = 'Hola Mundo'\n",
        "frase.find('o')"
      ],
      "metadata": {
        "id": "SG_H3rIyq0JF",
        "colab": {
          "base_uri": "https://localhost:8080/"
        },
        "outputId": "9565da7b-a9d7-4a53-9f3d-1747a9cd2708"
      },
      "execution_count": null,
      "outputs": [
        {
          "output_type": "execute_result",
          "data": {
            "text/plain": [
              "1"
            ]
          },
          "metadata": {},
          "execution_count": 39
        }
      ]
    },
    {
      "cell_type": "code",
      "source": [
        "# rfind - Devuelve el índice de la última aparición de una subcadena en la cadena. Si no se encuentra, devuelve -1.\n",
        "\n",
        "frase = 'Hola Mundo'\n",
        "frase.rfind('o')"
      ],
      "metadata": {
        "id": "teke68_xrAzM",
        "colab": {
          "base_uri": "https://localhost:8080/"
        },
        "outputId": "91420d78-e9be-46a9-f6ac-fe2422a062b4"
      },
      "execution_count": null,
      "outputs": [
        {
          "output_type": "execute_result",
          "data": {
            "text/plain": [
              "9"
            ]
          },
          "metadata": {},
          "execution_count": 38
        }
      ]
    },
    {
      "cell_type": "code",
      "source": [
        "# split - Divide la cadena en una lista utilizando el separador especificado.\n",
        "\n",
        "frase = 'Hola Mundo'\n",
        "frase.split(' ')"
      ],
      "metadata": {
        "id": "TxVjzAnPrEVM",
        "colab": {
          "base_uri": "https://localhost:8080/"
        },
        "outputId": "b13ab65f-7fb0-4ded-c31a-48de620e7e77"
      },
      "execution_count": null,
      "outputs": [
        {
          "output_type": "execute_result",
          "data": {
            "text/plain": [
              "['Hola', 'Mundo']"
            ]
          },
          "metadata": {},
          "execution_count": 40
        }
      ]
    },
    {
      "cell_type": "code",
      "source": [
        "# join - Une una lista de cadenas utilizando la cadena como separador.\n",
        "\n",
        "lista = ['Hola', 'Mundo']\n",
        "'*'.join(lista)"
      ],
      "metadata": {
        "id": "KwGDTzPsrLXC",
        "colab": {
          "base_uri": "https://localhost:8080/",
          "height": 35
        },
        "outputId": "912961c4-8646-4d66-9354-aff3449d604a"
      },
      "execution_count": null,
      "outputs": [
        {
          "output_type": "execute_result",
          "data": {
            "text/plain": [
              "'Hola*Mundo'"
            ],
            "application/vnd.google.colaboratory.intrinsic+json": {
              "type": "string"
            }
          },
          "metadata": {},
          "execution_count": 41
        }
      ]
    },
    {
      "cell_type": "code",
      "source": [
        "# strip - Elimina los caracteres especificados (por defecto, espacios) desde el principio y el final de la cadena.\n",
        "\n",
        "frase = ' Hola MundoH '\n",
        "frase.strip()"
      ],
      "metadata": {
        "id": "BxuB-MQ8sRN6",
        "colab": {
          "base_uri": "https://localhost:8080/",
          "height": 35
        },
        "outputId": "a24536ab-ebb8-445b-84ce-58944c3dcae0"
      },
      "execution_count": 1,
      "outputs": [
        {
          "output_type": "execute_result",
          "data": {
            "text/plain": [
              "'Hola MundoH'"
            ],
            "application/vnd.google.colaboratory.intrinsic+json": {
              "type": "string"
            }
          },
          "metadata": {},
          "execution_count": 1
        }
      ]
    },
    {
      "cell_type": "code",
      "source": [
        "# strip con un caracter\n",
        "frase = '***Hola Mundo***'\n",
        "frase.strip('*')"
      ],
      "metadata": {
        "colab": {
          "base_uri": "https://localhost:8080/",
          "height": 35
        },
        "id": "EkrRf_RiWRCc",
        "outputId": "65b04c11-c5d4-4701-a7f6-f89b16f2c012"
      },
      "execution_count": 4,
      "outputs": [
        {
          "output_type": "execute_result",
          "data": {
            "text/plain": [
              "'Hola Mundo'"
            ],
            "application/vnd.google.colaboratory.intrinsic+json": {
              "type": "string"
            }
          },
          "metadata": {},
          "execution_count": 4
        }
      ]
    },
    {
      "cell_type": "code",
      "source": [
        "help(str.strip)"
      ],
      "metadata": {
        "colab": {
          "base_uri": "https://localhost:8080/"
        },
        "id": "HPwlSHghXFy2",
        "outputId": "7951eaf7-d850-47c7-9f06-ddd26233d5d0"
      },
      "execution_count": null,
      "outputs": [
        {
          "output_type": "stream",
          "name": "stdout",
          "text": [
            "Help on method_descriptor:\n",
            "\n",
            "strip(self, chars=None, /)\n",
            "    Return a copy of the string with leading and trailing whitespace removed.\n",
            "    \n",
            "    If chars is given and not None, remove characters in chars instead.\n",
            "\n"
          ]
        }
      ]
    },
    {
      "cell_type": "code",
      "source": [
        "# replace - Reemplaza todas las apariciones de una subcadena por otra subcadena.\n",
        "\n",
        "frase = 'Hola Mundo'\n",
        "frase.replace('o', 'aa')\n"
      ],
      "metadata": {
        "id": "OcuDvqQDssjh",
        "colab": {
          "base_uri": "https://localhost:8080/",
          "height": 35
        },
        "outputId": "1afc1493-748f-4bab-876b-40d946c2e60d"
      },
      "execution_count": null,
      "outputs": [
        {
          "output_type": "execute_result",
          "data": {
            "text/plain": [
              "'Haala Mundaa'"
            ],
            "application/vnd.google.colaboratory.intrinsic+json": {
              "type": "string"
            }
          },
          "metadata": {},
          "execution_count": 49
        }
      ]
    },
    {
      "cell_type": "code",
      "source": [
        "# len - largo del string\n",
        "\n",
        "frase = 'Hola Mundo'\n",
        "len(frase)"
      ],
      "metadata": {
        "id": "BqXk4iywsUAa",
        "colab": {
          "base_uri": "https://localhost:8080/"
        },
        "outputId": "29a76d06-ac7f-4961-d40e-1f696f3e7a41"
      },
      "execution_count": null,
      "outputs": [
        {
          "output_type": "execute_result",
          "data": {
            "text/plain": [
              "10"
            ]
          },
          "metadata": {},
          "execution_count": 50
        }
      ]
    },
    {
      "cell_type": "code",
      "source": [
        "# Esto imprime None, ya que el metodo append agrega un elemento sobre una lista\n",
        "# que no se le asigna a ninguna variable\n",
        "#frase.replace('o', 'a').upper().split().append(\"!\")"
      ],
      "metadata": {
        "id": "59rtobMlXypQ"
      },
      "execution_count": null,
      "outputs": []
    },
    {
      "cell_type": "code",
      "source": [
        "# concatenacion de metodos\n",
        "# en este ejemplo lower y split son metodos de listas y count es un metodo de lista\n",
        "\n",
        "frase = 'Hola Mundo'\n",
        "\n",
        "frase.replace(\"o\", \"a\").lower().split().count(\"hala\")"
      ],
      "metadata": {
        "id": "FyoutH8xtqFZ",
        "colab": {
          "base_uri": "https://localhost:8080/"
        },
        "outputId": "a3db1989-43ad-454c-ff9f-8baf40f36064"
      },
      "execution_count": 10,
      "outputs": [
        {
          "output_type": "execute_result",
          "data": {
            "text/plain": [
              "1"
            ]
          },
          "metadata": {},
          "execution_count": 10
        }
      ]
    },
    {
      "cell_type": "code",
      "source": [
        "frase = \"BIENVENIdos al CURso\"\n",
        "frase.lower()"
      ],
      "metadata": {
        "colab": {
          "base_uri": "https://localhost:8080/",
          "height": 35
        },
        "id": "YFermg9bYTdt",
        "outputId": "429a7b55-822b-43d1-d9e0-96e70d346815"
      },
      "execution_count": null,
      "outputs": [
        {
          "output_type": "execute_result",
          "data": {
            "text/plain": [
              "'bienvenidos al curso'"
            ],
            "application/vnd.google.colaboratory.intrinsic+json": {
              "type": "string"
            }
          },
          "metadata": {},
          "execution_count": 59
        }
      ]
    },
    {
      "cell_type": "markdown",
      "source": [
        "Preguntas❓"
      ],
      "metadata": {
        "id": "ZRbPJiHsKwpR"
      }
    },
    {
      "cell_type": "markdown",
      "source": [
        "![green-divider](https://user-images.githubusercontent.com/7065401/52071924-c003ad80-2562-11e9-8297-1c6595f8a7ff.png)\n",
        "\n",
        "### 3.3 Métodos de Listas"
      ],
      "metadata": {
        "id": "LKC5YADQewD8"
      }
    },
    {
      "cell_type": "markdown",
      "source": [
        "Python proporciona varios métodos para manipular y modificar listas de manera eficiente. A continuación se explican algunos de los métodos más comunes junto con ejemplos prácticos de uso en código."
      ],
      "metadata": {
        "id": "D-ohFFAXubRn"
      }
    },
    {
      "cell_type": "code",
      "source": [
        "# clear - elimina todos los elementos de una lista, dejándola vacía.\n",
        "\n",
        "lista = [1, 2, 3, 4, 5]\n",
        "print(lista)\n",
        "lista.clear()\n",
        "print(lista)"
      ],
      "metadata": {
        "id": "0XegVrgkudVc",
        "colab": {
          "base_uri": "https://localhost:8080/"
        },
        "outputId": "07f81ca4-9214-4146-8741-40a3533cfe31"
      },
      "execution_count": null,
      "outputs": [
        {
          "output_type": "stream",
          "name": "stdout",
          "text": [
            "[1, 2, 3, 4, 5]\n",
            "[]\n"
          ]
        }
      ]
    },
    {
      "cell_type": "code",
      "source": [
        "# extend - añade todos los elementos de un iterable (lista, tupla, etc.) al final de la lista actual.\n",
        "\n",
        "lista = [1, 2, 3, 4, 5]\n",
        "lista.extend([6, 7, 8])\n",
        "print(lista)"
      ],
      "metadata": {
        "id": "2cdDLeJjyDyj",
        "colab": {
          "base_uri": "https://localhost:8080/"
        },
        "outputId": "f81d2edb-636b-440f-c05e-6d7cbc6e2f22"
      },
      "execution_count": null,
      "outputs": [
        {
          "output_type": "stream",
          "name": "stdout",
          "text": [
            "[1, 2, 3, 4, 5, 6, 7, 8]\n"
          ]
        }
      ]
    },
    {
      "cell_type": "code",
      "source": [
        "lista_numeros = [0, 1]\n",
        "\n",
        "lista_numeros.extend((3, 5))\n",
        "lista_numeros"
      ],
      "metadata": {
        "colab": {
          "base_uri": "https://localhost:8080/"
        },
        "id": "hhy2sr8xZCer",
        "outputId": "9cbf48f3-3a15-482f-aee4-d11ae82d182b"
      },
      "execution_count": null,
      "outputs": [
        {
          "output_type": "execute_result",
          "data": {
            "text/plain": [
              "[0, 1, 3, 5]"
            ]
          },
          "metadata": {},
          "execution_count": 65
        }
      ]
    },
    {
      "cell_type": "code",
      "source": [
        "dir(tuple)"
      ],
      "metadata": {
        "colab": {
          "base_uri": "https://localhost:8080/"
        },
        "id": "yiUDKizmZNDg",
        "outputId": "1e59d39f-f06e-46a7-cd96-07e7d6de1321"
      },
      "execution_count": null,
      "outputs": [
        {
          "output_type": "execute_result",
          "data": {
            "text/plain": [
              "['__add__',\n",
              " '__class__',\n",
              " '__class_getitem__',\n",
              " '__contains__',\n",
              " '__delattr__',\n",
              " '__dir__',\n",
              " '__doc__',\n",
              " '__eq__',\n",
              " '__format__',\n",
              " '__ge__',\n",
              " '__getattribute__',\n",
              " '__getitem__',\n",
              " '__getnewargs__',\n",
              " '__gt__',\n",
              " '__hash__',\n",
              " '__init__',\n",
              " '__init_subclass__',\n",
              " '__iter__',\n",
              " '__le__',\n",
              " '__len__',\n",
              " '__lt__',\n",
              " '__mul__',\n",
              " '__ne__',\n",
              " '__new__',\n",
              " '__reduce__',\n",
              " '__reduce_ex__',\n",
              " '__repr__',\n",
              " '__rmul__',\n",
              " '__setattr__',\n",
              " '__sizeof__',\n",
              " '__str__',\n",
              " '__subclasshook__',\n",
              " 'count',\n",
              " 'index']"
            ]
          },
          "metadata": {},
          "execution_count": 66
        }
      ]
    },
    {
      "cell_type": "markdown",
      "source": [
        "si tengo un string y quiero hacer una lista donde cada elemento de la lista es una letra del string?"
      ],
      "metadata": {
        "id": "nlOKHUMYKTr6"
      }
    },
    {
      "cell_type": "code",
      "source": [
        "frase = \"Hola Mundo\"\n",
        "lista = []\n",
        "lista.extend(frase)\n",
        "lista"
      ],
      "metadata": {
        "colab": {
          "base_uri": "https://localhost:8080/"
        },
        "id": "66DerFN5ZXaa",
        "outputId": "e3819e91-19c1-4421-d786-3ddc0e91f319"
      },
      "execution_count": null,
      "outputs": [
        {
          "output_type": "execute_result",
          "data": {
            "text/plain": [
              "['H', 'o', 'l', 'a', ' ', 'M', 'u', 'n', 'd', 'o']"
            ]
          },
          "metadata": {},
          "execution_count": 67
        }
      ]
    },
    {
      "cell_type": "code",
      "source": [
        "# insert - inserta un elemento en una posición específica de la lista.\n",
        "#          el primer argumento es el índice en el que se insertará el elemento\n",
        "#          y el segundo argumento es el elemento a insertar.\n",
        "\n",
        "lista = [1, 2, 3, 4, 5]\n",
        "lista.insert(2, 10)\n",
        "print(lista)"
      ],
      "metadata": {
        "id": "dRYWWfLxySrS",
        "colab": {
          "base_uri": "https://localhost:8080/"
        },
        "outputId": "9852d00c-db30-422c-b603-2e0e10adb97f"
      },
      "execution_count": null,
      "outputs": [
        {
          "output_type": "stream",
          "name": "stdout",
          "text": [
            "[1, 2, 10, 3, 4, 5]\n"
          ]
        }
      ]
    },
    {
      "cell_type": "code",
      "source": [
        "# reverse - invierte el orden de los elementos en la lista.\n",
        "\n",
        "lista = [1, 2, 3, 4, 5]\n",
        "lista.reverse()\n",
        "print(lista)"
      ],
      "metadata": {
        "id": "cC4Kk1ZnyjEw",
        "colab": {
          "base_uri": "https://localhost:8080/"
        },
        "outputId": "eadf2b87-abac-4f70-8253-64c9c3c71c49"
      },
      "execution_count": null,
      "outputs": [
        {
          "output_type": "stream",
          "name": "stdout",
          "text": [
            "[5, 4, 3, 2, 1]\n"
          ]
        }
      ]
    },
    {
      "cell_type": "code",
      "source": [
        "# sort - ordena los elementos de una lista\n",
        "lista = [1, 2, 3, 4, 5]\n",
        "lista.sort()\n",
        "print(lista)"
      ],
      "metadata": {
        "id": "bFDBRQ9Lyk0K",
        "colab": {
          "base_uri": "https://localhost:8080/"
        },
        "outputId": "a179ba3c-192d-45ab-94db-2e99cd2a000f"
      },
      "execution_count": null,
      "outputs": [
        {
          "output_type": "stream",
          "name": "stdout",
          "text": [
            "[1, 2, 3, 4, 5]\n"
          ]
        }
      ]
    },
    {
      "cell_type": "code",
      "source": [
        "# list  sort   -- reverse\n",
        "\n",
        "lista = [1, 2, 3, 4, 5]\n",
        "lista.sort(reverse=False)\n",
        "print(lista)\n"
      ],
      "metadata": {
        "id": "ar7r7q6jzYLZ",
        "colab": {
          "base_uri": "https://localhost:8080/"
        },
        "outputId": "a69b1e24-ebd0-43dc-c967-07cd7cfb4a65"
      },
      "execution_count": null,
      "outputs": [
        {
          "output_type": "stream",
          "name": "stdout",
          "text": [
            "[1, 2, 3, 4, 5]\n"
          ]
        }
      ]
    },
    {
      "cell_type": "code",
      "source": [
        "lista_vocales = [\"a\", \"e\", \"i\", \"o\", \"u\"]\n",
        "lista_vocales.sort()\n",
        "lista_vocales"
      ],
      "metadata": {
        "colab": {
          "base_uri": "https://localhost:8080/"
        },
        "id": "HTdSVuuQaYcP",
        "outputId": "eb9b9265-deb4-47d9-bf2c-0b06f3cbcbad"
      },
      "execution_count": null,
      "outputs": [
        {
          "output_type": "execute_result",
          "data": {
            "text/plain": [
              "['a', 'e', 'i', 'o', 'u']"
            ]
          },
          "metadata": {},
          "execution_count": 75
        }
      ]
    },
    {
      "cell_type": "code",
      "source": [
        "hex(ord(\"1\")) # hexadecimal"
      ],
      "metadata": {
        "colab": {
          "base_uri": "https://localhost:8080/",
          "height": 35
        },
        "id": "pa08-YdaakKd",
        "outputId": "2f6a715c-0d76-41ba-f758-940e871e388d"
      },
      "execution_count": null,
      "outputs": [
        {
          "output_type": "execute_result",
          "data": {
            "text/plain": [
              "'0x31'"
            ],
            "application/vnd.google.colaboratory.intrinsic+json": {
              "type": "string"
            }
          },
          "metadata": {},
          "execution_count": 81
        }
      ]
    },
    {
      "cell_type": "code",
      "source": [
        "ord(\"u\")  # decimal"
      ],
      "metadata": {
        "colab": {
          "base_uri": "https://localhost:8080/"
        },
        "id": "TUoa5bQcamyE",
        "outputId": "8009a079-f12b-47b6-d9dd-13f137b6bf50"
      },
      "execution_count": null,
      "outputs": [
        {
          "output_type": "execute_result",
          "data": {
            "text/plain": [
              "117"
            ]
          },
          "metadata": {},
          "execution_count": 77
        }
      ]
    },
    {
      "cell_type": "markdown",
      "source": [
        "Preguntas❓"
      ],
      "metadata": {
        "id": "_vGp-OaKK2vm"
      }
    },
    {
      "cell_type": "code",
      "source": [
        "# copy - retorna una copia superficial de la lista\n",
        "\n",
        "lista = [1, 2, 3, [2, 4, [5, 7, (4,6)]], 5]\n",
        "copia = lista.copy()\n",
        "print(copia)\n",
        "print(lista)\n",
        "copia.append(6)\n",
        "print(copia)\n"
      ],
      "metadata": {
        "id": "HL4zYGuEfTxe",
        "colab": {
          "base_uri": "https://localhost:8080/"
        },
        "outputId": "1e07d31e-5f06-493b-de2b-e21814f00bd8"
      },
      "execution_count": null,
      "outputs": [
        {
          "output_type": "stream",
          "name": "stdout",
          "text": [
            "[1, 2, 3, [2, 4, [5, 7, (4, 6)]], 5]\n",
            "[1, 2, 3, [2, 4, [5, 7, (4, 6)]], 5]\n",
            "[1, 2, 3, [2, 4, [5, 7, (4, 6)]], 5, 6]\n"
          ]
        }
      ]
    },
    {
      "cell_type": "markdown",
      "source": [
        "que es lo mismo que hacer ¡?"
      ],
      "metadata": {
        "id": "L3r8fKNsfgCi"
      }
    },
    {
      "cell_type": "code",
      "source": [
        "lista = [3, 5, 7]\n",
        "copia = lista\n",
        "copia.append(\"a\")\n",
        "print(lista)\n",
        "print(copia)"
      ],
      "metadata": {
        "id": "wffGjFsRfiPv",
        "colab": {
          "base_uri": "https://localhost:8080/"
        },
        "outputId": "999bfd7b-bbae-49e4-e07f-d41b88cfeebf"
      },
      "execution_count": null,
      "outputs": [
        {
          "output_type": "stream",
          "name": "stdout",
          "text": [
            "[3, 5, 7, 'a']\n",
            "[3, 5, 7, 'a']\n"
          ]
        }
      ]
    },
    {
      "cell_type": "markdown",
      "source": [
        "y las tuplas ....idem listas sin las modificaciones"
      ],
      "metadata": {
        "id": "1ls3ckNphHT5"
      }
    },
    {
      "cell_type": "code",
      "source": [
        "tupla = (0, 3)"
      ],
      "metadata": {
        "id": "hHpIYAXujYGy"
      },
      "execution_count": null,
      "outputs": []
    },
    {
      "cell_type": "code",
      "source": [
        "tupla[0]"
      ],
      "metadata": {
        "colab": {
          "base_uri": "https://localhost:8080/"
        },
        "id": "r-Z3U7T9cQlU",
        "outputId": "e3f655c5-7146-4428-9760-e86253118f7b"
      },
      "execution_count": null,
      "outputs": [
        {
          "output_type": "execute_result",
          "data": {
            "text/plain": [
              "0"
            ]
          },
          "metadata": {},
          "execution_count": 89
        }
      ]
    },
    {
      "cell_type": "markdown",
      "source": [
        "Preguntas❓"
      ],
      "metadata": {
        "id": "MktfR0EkK4ir"
      }
    },
    {
      "cell_type": "code",
      "source": [
        "tupla[0] = 1"
      ],
      "metadata": {
        "colab": {
          "base_uri": "https://localhost:8080/",
          "height": 141
        },
        "id": "XwNy7GmycS0D",
        "outputId": "e32b6d3d-bc08-4400-a4e3-735ba2d9d5e2"
      },
      "execution_count": null,
      "outputs": [
        {
          "output_type": "error",
          "ename": "TypeError",
          "evalue": "'tuple' object does not support item assignment",
          "traceback": [
            "\u001b[0;31m---------------------------------------------------------------------------\u001b[0m",
            "\u001b[0;31mTypeError\u001b[0m                                 Traceback (most recent call last)",
            "\u001b[0;32m<ipython-input-90-01b44280c6e0>\u001b[0m in \u001b[0;36m<cell line: 1>\u001b[0;34m()\u001b[0m\n\u001b[0;32m----> 1\u001b[0;31m \u001b[0mtupla\u001b[0m\u001b[0;34m[\u001b[0m\u001b[0;36m0\u001b[0m\u001b[0;34m]\u001b[0m \u001b[0;34m=\u001b[0m \u001b[0;36m1\u001b[0m\u001b[0;34m\u001b[0m\u001b[0;34m\u001b[0m\u001b[0m\n\u001b[0m",
            "\u001b[0;31mTypeError\u001b[0m: 'tuple' object does not support item assignment"
          ]
        }
      ]
    },
    {
      "cell_type": "code",
      "source": [
        "tupla = (0, [0, 1])"
      ],
      "metadata": {
        "id": "ZidNPi1CcVuZ"
      },
      "execution_count": null,
      "outputs": []
    },
    {
      "cell_type": "code",
      "source": [
        "type(tupla[1])"
      ],
      "metadata": {
        "colab": {
          "base_uri": "https://localhost:8080/"
        },
        "id": "CkATxuh_cZrq",
        "outputId": "2e8dce37-3221-4b58-89f2-d4acc56768a8"
      },
      "execution_count": null,
      "outputs": [
        {
          "output_type": "execute_result",
          "data": {
            "text/plain": [
              "list"
            ]
          },
          "metadata": {},
          "execution_count": 93
        }
      ]
    },
    {
      "cell_type": "code",
      "source": [
        "print(id(tupla))\n",
        "tupla[1].append(2)\n",
        "print(tupla)\n",
        "print(id(tupla))"
      ],
      "metadata": {
        "colab": {
          "base_uri": "https://localhost:8080/"
        },
        "id": "TYN7OVydciXG",
        "outputId": "2487bf72-3b08-42f9-83c3-66b0adb88ae7"
      },
      "execution_count": null,
      "outputs": [
        {
          "output_type": "stream",
          "name": "stdout",
          "text": [
            "137243734236352\n",
            "(0, [0, 1, 2, 2, 2, 2])\n",
            "137243734236352\n"
          ]
        }
      ]
    },
    {
      "cell_type": "code",
      "source": [
        "tupla[1] = [0, 1, 2]"
      ],
      "metadata": {
        "colab": {
          "base_uri": "https://localhost:8080/",
          "height": 141
        },
        "id": "-JUaEiumdUE9",
        "outputId": "670ed5e3-31d4-4ac3-990a-1abe394af0f4"
      },
      "execution_count": null,
      "outputs": [
        {
          "output_type": "error",
          "ename": "TypeError",
          "evalue": "'tuple' object does not support item assignment",
          "traceback": [
            "\u001b[0;31m---------------------------------------------------------------------------\u001b[0m",
            "\u001b[0;31mTypeError\u001b[0m                                 Traceback (most recent call last)",
            "\u001b[0;32m<ipython-input-99-7f1c77c07a22>\u001b[0m in \u001b[0;36m<cell line: 1>\u001b[0;34m()\u001b[0m\n\u001b[0;32m----> 1\u001b[0;31m \u001b[0mtupla\u001b[0m\u001b[0;34m[\u001b[0m\u001b[0;36m1\u001b[0m\u001b[0;34m]\u001b[0m \u001b[0;34m=\u001b[0m \u001b[0;34m[\u001b[0m\u001b[0;36m0\u001b[0m\u001b[0;34m,\u001b[0m \u001b[0;36m1\u001b[0m\u001b[0;34m,\u001b[0m \u001b[0;36m2\u001b[0m\u001b[0;34m]\u001b[0m\u001b[0;34m\u001b[0m\u001b[0;34m\u001b[0m\u001b[0m\n\u001b[0m",
            "\u001b[0;31mTypeError\u001b[0m: 'tuple' object does not support item assignment"
          ]
        }
      ]
    },
    {
      "cell_type": "code",
      "source": [
        "lista = [0, 3, 5]\n",
        "lista.sort()\n",
        "print(lista.sort())"
      ],
      "metadata": {
        "colab": {
          "base_uri": "https://localhost:8080/"
        },
        "id": "2hsWlRC7du9x",
        "outputId": "c5712229-a5ae-42a6-8760-fb728babfda9"
      },
      "execution_count": null,
      "outputs": [
        {
          "output_type": "stream",
          "name": "stdout",
          "text": [
            "None\n"
          ]
        }
      ]
    },
    {
      "cell_type": "markdown",
      "source": [
        "![green-divider](https://user-images.githubusercontent.com/7065401/52071924-c003ad80-2562-11e9-8297-1c6595f8a7ff.png)\n",
        "\n",
        "### 3.4 Métodos de Conjuntos"
      ],
      "metadata": {
        "id": "rv2ImzQg2WaA"
      }
    },
    {
      "cell_type": "markdown",
      "source": [
        "Los conjuntos en Python son colecciones desordenadas de elementos únicos. Python proporciona varios métodos para manipular y trabajar con conjuntos. A continuación se describen algunos de los métodos más comunes junto con ejemplos prácticos de uso."
      ],
      "metadata": {
        "id": "qtmgtKWY23xE"
      }
    },
    {
      "cell_type": "code",
      "source": [
        "# copy - devuelve una copia superficial del conjunto.\n",
        "\n",
        "conjunto = {1, 2, 3, 4, 5}\n",
        "copia = conjunto.copy()\n",
        "print(copia)"
      ],
      "metadata": {
        "id": "9TdROr0925kf",
        "colab": {
          "base_uri": "https://localhost:8080/"
        },
        "outputId": "4e7b4839-4a95-45e5-87a9-a72866f3a351"
      },
      "execution_count": null,
      "outputs": [
        {
          "output_type": "stream",
          "name": "stdout",
          "text": [
            "{1, 2, 3, 4, 5}\n"
          ]
        }
      ]
    },
    {
      "cell_type": "code",
      "source": [
        "A = {1, 2, 3, 4, 5}\n",
        "B = {4, 5, 6, 7, 8}"
      ],
      "metadata": {
        "id": "vvMUqsNk2Zi6"
      },
      "execution_count": null,
      "outputs": []
    },
    {
      "cell_type": "code",
      "source": [
        "# isdisjoint - devuelve True si dos conjuntos no tienen elementos en común.\n",
        "A.isdisjoint(B)"
      ],
      "metadata": {
        "id": "sps00BNM3CaZ",
        "colab": {
          "base_uri": "https://localhost:8080/"
        },
        "outputId": "97310414-8cf2-4204-c5b2-66bd7df9bca6"
      },
      "execution_count": null,
      "outputs": [
        {
          "output_type": "execute_result",
          "data": {
            "text/plain": [
              "False"
            ]
          },
          "metadata": {},
          "execution_count": 105
        }
      ]
    },
    {
      "cell_type": "code",
      "source": [
        "# issubset - devuelve True si todos los elementos del conjunto están en otro conjunto.\n",
        "A.issubset(B)"
      ],
      "metadata": {
        "id": "Oa82olBC3IxA",
        "colab": {
          "base_uri": "https://localhost:8080/"
        },
        "outputId": "46a78975-dc64-467e-c9c6-4d20a5cec08a"
      },
      "execution_count": null,
      "outputs": [
        {
          "output_type": "execute_result",
          "data": {
            "text/plain": [
              "False"
            ]
          },
          "metadata": {},
          "execution_count": 106
        }
      ]
    },
    {
      "cell_type": "code",
      "source": [
        "# issuperset - devuelve True si el conjunto contiene todos los elementos de otro conjunto.\n",
        "A.issuperset(B)"
      ],
      "metadata": {
        "id": "79TBR7ef3zkd",
        "colab": {
          "base_uri": "https://localhost:8080/"
        },
        "outputId": "4ba62001-6d64-4f31-c540-f2add78fab8e"
      },
      "execution_count": null,
      "outputs": [
        {
          "output_type": "execute_result",
          "data": {
            "text/plain": [
              "False"
            ]
          },
          "metadata": {},
          "execution_count": 107
        }
      ]
    },
    {
      "cell_type": "code",
      "source": [
        "# union - devuelve un nuevo conjunto con todos los elementos de los conjuntos originales.\n",
        "A.union(B)"
      ],
      "metadata": {
        "id": "QMI3hlrz360g",
        "colab": {
          "base_uri": "https://localhost:8080/"
        },
        "outputId": "c25e4574-63cf-43c9-e22d-2ce035d0baa8"
      },
      "execution_count": null,
      "outputs": [
        {
          "output_type": "execute_result",
          "data": {
            "text/plain": [
              "{1, 2, 3, 4, 5, 6, 7, 8}"
            ]
          },
          "metadata": {},
          "execution_count": 108
        }
      ]
    },
    {
      "cell_type": "code",
      "source": [
        "# difference - devuelve un nuevo conjunto con los elementos que están en el conjunto original pero no en el otro conjunto.\n",
        "A.difference(B)"
      ],
      "metadata": {
        "id": "_lDJn8GY4Bn_",
        "colab": {
          "base_uri": "https://localhost:8080/"
        },
        "outputId": "7a8a24bc-a213-40e5-8acd-e2732213d73a"
      },
      "execution_count": null,
      "outputs": [
        {
          "output_type": "execute_result",
          "data": {
            "text/plain": [
              "{1, 2, 3}"
            ]
          },
          "metadata": {},
          "execution_count": 109
        }
      ]
    },
    {
      "cell_type": "code",
      "source": [
        "# difference_update - elimina del conjunto original todos los elementos que están en otro conjunto.\n",
        "print(A.difference_update(B))\n",
        "print(A)"
      ],
      "metadata": {
        "id": "havyP9Bo4IOb",
        "colab": {
          "base_uri": "https://localhost:8080/"
        },
        "outputId": "1c6b46ba-302c-418a-8a47-c806b1dc1fab"
      },
      "execution_count": null,
      "outputs": [
        {
          "output_type": "stream",
          "name": "stdout",
          "text": [
            "None\n",
            "{1, 2, 3}\n"
          ]
        }
      ]
    },
    {
      "cell_type": "code",
      "source": [
        "# intersection - devuelve un nuevo conjunto con los elementos comunes a ambos conjuntos.\n",
        "print(A.intersection(B)()"
      ],
      "metadata": {
        "id": "INnC3v0V4OjD",
        "colab": {
          "base_uri": "https://localhost:8080/"
        },
        "outputId": "8a6dece8-3e92-49ac-85e6-4eb0cf5ddaba"
      },
      "execution_count": null,
      "outputs": [
        {
          "output_type": "stream",
          "name": "stdout",
          "text": [
            "{4, 5}\n"
          ]
        }
      ]
    },
    {
      "cell_type": "code",
      "source": [
        "# intersection_update - actualiza el conjunto original conservando solo los elementos comunes a ambos conjuntos.\n",
        "print(A.intersection_update(B))\n",
        "print(A)"
      ],
      "metadata": {
        "id": "FzpyJVuK4U5t",
        "colab": {
          "base_uri": "https://localhost:8080/"
        },
        "outputId": "079cd0db-68a9-498b-97de-48e9a37aede9"
      },
      "execution_count": null,
      "outputs": [
        {
          "output_type": "stream",
          "name": "stdout",
          "text": [
            "None\n",
            "{4, 5}\n"
          ]
        }
      ]
    },
    {
      "cell_type": "markdown",
      "source": [
        "Preguntas❓"
      ],
      "metadata": {
        "id": "Q3IyDwe4K6cy"
      }
    },
    {
      "cell_type": "markdown",
      "source": [
        "![green-divider](https://user-images.githubusercontent.com/7065401/52071924-c003ad80-2562-11e9-8297-1c6595f8a7ff.png)\n",
        "\n",
        "### 3.5 Métodos de Diccionarios"
      ],
      "metadata": {
        "id": "Li4jZIWd4xST"
      }
    },
    {
      "cell_type": "markdown",
      "source": [
        "Los diccionarios en Python son colecciones de pares clave-valor que permiten almacenar datos de manera eficiente. A continuación se explican algunos de los métodos más comunes para trabajar con diccionarios junto con ejemplos prácticos de uso en código."
      ],
      "metadata": {
        "id": "MTe_zRYI48fu"
      }
    },
    {
      "cell_type": "code",
      "source": [
        "# diccionario pruebas\n",
        "\n",
        "datos = {\n",
        "\n",
        "    \"nombre\": \"Juan\",\n",
        "    \"edad\": 30,\n",
        "    \"ciudad\": \"Parana\",\n",
        "    \"profesion\": \"Ingeniero\",\n",
        "    \"notas\" : [ 10, 9, 8]\n",
        "}"
      ],
      "metadata": {
        "id": "RD3CA9cHbXgM"
      },
      "execution_count": null,
      "outputs": []
    },
    {
      "cell_type": "code",
      "source": [
        "# get - devuelve el valor de la clave especificada. Si la clave no se encuentra en el diccionario,\n",
        "#       devuelve un valor por defecto (opcional).\n",
        "nombre_datos = datos.get( \"nombre\")\n",
        "nombre_datos"
      ],
      "metadata": {
        "id": "CTrCLJnA41_f",
        "colab": {
          "base_uri": "https://localhost:8080/",
          "height": 35
        },
        "outputId": "577d2900-45ed-43e2-bf43-5bf529eade9e"
      },
      "execution_count": null,
      "outputs": [
        {
          "output_type": "execute_result",
          "data": {
            "text/plain": [
              "'Juan'"
            ],
            "application/vnd.google.colaboratory.intrinsic+json": {
              "type": "string"
            }
          },
          "metadata": {},
          "execution_count": 118
        }
      ]
    },
    {
      "cell_type": "code",
      "source": [
        "nombre_datos = datos.get( \"apellido\" )\n",
        "print(nombre_datos)"
      ],
      "metadata": {
        "colab": {
          "base_uri": "https://localhost:8080/"
        },
        "id": "H5CbGYdvgq0A",
        "outputId": "2065298a-8592-40c8-d7e0-aee2cf4f0f0b"
      },
      "execution_count": null,
      "outputs": [
        {
          "output_type": "stream",
          "name": "stdout",
          "text": [
            "None\n"
          ]
        }
      ]
    },
    {
      "cell_type": "code",
      "source": [
        "nombre_datos = datos.get( \"apellido\", \"No esta la clave\" )\n",
        "print(nombre_datos)"
      ],
      "metadata": {
        "colab": {
          "base_uri": "https://localhost:8080/"
        },
        "id": "3fUg_1D_g1ea",
        "outputId": "e348e982-2adf-4088-e5a4-a847dfb447a1"
      },
      "execution_count": null,
      "outputs": [
        {
          "output_type": "stream",
          "name": "stdout",
          "text": [
            "No esta la clave\n"
          ]
        }
      ]
    },
    {
      "cell_type": "code",
      "source": [
        "datos[\"nombre\"]"
      ],
      "metadata": {
        "colab": {
          "base_uri": "https://localhost:8080/",
          "height": 35
        },
        "id": "FxPU3E6Jg79S",
        "outputId": "91ff14f7-937f-4607-d107-7300649a86b6"
      },
      "execution_count": null,
      "outputs": [
        {
          "output_type": "execute_result",
          "data": {
            "text/plain": [
              "'Juan'"
            ],
            "application/vnd.google.colaboratory.intrinsic+json": {
              "type": "string"
            }
          },
          "metadata": {},
          "execution_count": 123
        }
      ]
    },
    {
      "cell_type": "code",
      "source": [
        "datos[\"apellido\"]"
      ],
      "metadata": {
        "colab": {
          "base_uri": "https://localhost:8080/",
          "height": 141
        },
        "id": "0snm5hqWhCKk",
        "outputId": "f67c2594-8144-41e3-8cab-1a4620111305"
      },
      "execution_count": null,
      "outputs": [
        {
          "output_type": "error",
          "ename": "KeyError",
          "evalue": "'apellido'",
          "traceback": [
            "\u001b[0;31m---------------------------------------------------------------------------\u001b[0m",
            "\u001b[0;31mKeyError\u001b[0m                                  Traceback (most recent call last)",
            "\u001b[0;32m<ipython-input-124-1ed40201e1a6>\u001b[0m in \u001b[0;36m<cell line: 1>\u001b[0;34m()\u001b[0m\n\u001b[0;32m----> 1\u001b[0;31m \u001b[0mdatos\u001b[0m\u001b[0;34m[\u001b[0m\u001b[0;34m\"apellido\"\u001b[0m\u001b[0;34m]\u001b[0m\u001b[0;34m\u001b[0m\u001b[0;34m\u001b[0m\u001b[0m\n\u001b[0m",
            "\u001b[0;31mKeyError\u001b[0m: 'apellido'"
          ]
        }
      ]
    },
    {
      "cell_type": "code",
      "source": [
        "datos.get(\"edad\", 0)"
      ],
      "metadata": {
        "colab": {
          "base_uri": "https://localhost:8080/"
        },
        "id": "9VL-Btl7hNqP",
        "outputId": "cea6b6cb-f557-4e32-ee0c-60de3ef58b3e"
      },
      "execution_count": null,
      "outputs": [
        {
          "output_type": "execute_result",
          "data": {
            "text/plain": [
              "30"
            ]
          },
          "metadata": {},
          "execution_count": 125
        }
      ]
    },
    {
      "cell_type": "code",
      "source": [
        "# keys - devuelve una vista de todas las claves en el diccionario.\n",
        "datos.keys()"
      ],
      "metadata": {
        "id": "SHSvDARo5FOI",
        "colab": {
          "base_uri": "https://localhost:8080/"
        },
        "outputId": "7ffadc61-33b1-4424-870f-96912837e959"
      },
      "execution_count": null,
      "outputs": [
        {
          "output_type": "execute_result",
          "data": {
            "text/plain": [
              "dict_keys(['nombre', 'edad', 'ciudad', 'profesion', 'notas'])"
            ]
          },
          "metadata": {},
          "execution_count": 126
        }
      ]
    },
    {
      "cell_type": "code",
      "source": [],
      "metadata": {
        "id": "Ojp0G--fheAs"
      },
      "execution_count": null,
      "outputs": []
    },
    {
      "cell_type": "code",
      "source": [
        "# values - devuelve una vista de todos los valores en el diccionario.\n",
        "datos.values()"
      ],
      "metadata": {
        "id": "AKQk9bAa5QDg",
        "colab": {
          "base_uri": "https://localhost:8080/"
        },
        "outputId": "6b20740e-2708-49a1-8621-e7ec23b372c4"
      },
      "execution_count": null,
      "outputs": [
        {
          "output_type": "execute_result",
          "data": {
            "text/plain": [
              "dict_values(['Juan', 30, 'Parana', 'Ingeniero', [10, 9, 8]])"
            ]
          },
          "metadata": {},
          "execution_count": 127
        }
      ]
    },
    {
      "cell_type": "code",
      "source": [
        "# items - devuelve una vista de todos los pares clave-valor en el diccionario como tuplas.\n",
        "datos.items()"
      ],
      "metadata": {
        "id": "DUQ1z3Om5WYC",
        "colab": {
          "base_uri": "https://localhost:8080/"
        },
        "outputId": "4559fd9f-af00-4825-cce2-dfd86a3ff96a"
      },
      "execution_count": null,
      "outputs": [
        {
          "output_type": "execute_result",
          "data": {
            "text/plain": [
              "dict_items([('nombre', 'Juan'), ('edad', 30), ('ciudad', 'Parana'), ('profesion', 'Ingeniero'), ('notas', [10, 9, 8])])"
            ]
          },
          "metadata": {},
          "execution_count": 129
        }
      ]
    },
    {
      "cell_type": "markdown",
      "source": [
        "Preguntas❓"
      ],
      "metadata": {
        "id": "0pfNfKLDK8KI"
      }
    },
    {
      "cell_type": "markdown",
      "source": [
        "![green-divider](https://user-images.githubusercontent.com/7065401/52071924-c003ad80-2562-11e9-8297-1c6595f8a7ff.png)\n",
        "\n",
        "### 3.6 Introducción a los operadores básicos"
      ],
      "metadata": {
        "id": "rQzY8tI3a7d5"
      }
    },
    {
      "cell_type": "markdown",
      "source": [
        "En Python, los operadores se utilizan para realizar operaciones sobre valores y variables. Los operadores básicos en Python se dividen en tres categorías principales:\n",
        "\n",
        "1. Aritméticos\n",
        "2. Lógicos\n",
        "3. Relacionales\n"
      ],
      "metadata": {
        "id": "XVejlMY15vi4"
      }
    },
    {
      "cell_type": "markdown",
      "source": [
        "#### 3.6.1 Operadores Aritméticos"
      ],
      "metadata": {
        "id": "-y0gI3Lp6UO8"
      }
    },
    {
      "cell_type": "markdown",
      "source": [
        "Los operadores aritméticos se utilizan para realizar operaciones matemáticas comunes."
      ],
      "metadata": {
        "id": "eeOEKRO36fWS"
      }
    },
    {
      "cell_type": "code",
      "source": [
        "# Suma (+): Suma dos operandos.\n",
        "foo = 5 + 3\n",
        "foo"
      ],
      "metadata": {
        "id": "rKVkFye85u2H",
        "colab": {
          "base_uri": "https://localhost:8080/"
        },
        "outputId": "430309f7-3576-450b-e63f-a06ef4052448"
      },
      "execution_count": null,
      "outputs": [
        {
          "output_type": "execute_result",
          "data": {
            "text/plain": [
              "8"
            ]
          },
          "metadata": {},
          "execution_count": 130
        }
      ]
    },
    {
      "cell_type": "code",
      "source": [
        "# Resta (-): Resta dos operandos.\n",
        "foo = 5 - 3\n",
        "foo"
      ],
      "metadata": {
        "id": "oDPgY3Cq60rm",
        "colab": {
          "base_uri": "https://localhost:8080/"
        },
        "outputId": "ae48ffbe-7b6c-4c1e-c345-abe28b6468c9"
      },
      "execution_count": null,
      "outputs": [
        {
          "output_type": "execute_result",
          "data": {
            "text/plain": [
              "2"
            ]
          },
          "metadata": {},
          "execution_count": 131
        }
      ]
    },
    {
      "cell_type": "code",
      "source": [
        "# Multiplicacion (*): Multiplica dos operandos.\n",
        "foo = 5\n",
        "bar = 3\n",
        "resultado = foo * bar\n",
        "print(resultado)"
      ],
      "metadata": {
        "id": "AejAKdCW879q",
        "colab": {
          "base_uri": "https://localhost:8080/"
        },
        "outputId": "cb29a6d1-fb6a-44a1-b6f3-9f3bb889d804"
      },
      "execution_count": null,
      "outputs": [
        {
          "output_type": "stream",
          "name": "stdout",
          "text": [
            "15\n"
          ]
        }
      ]
    },
    {
      "cell_type": "code",
      "source": [
        "# Division (/): Divide el primer operando por el segundo.\n",
        "16 / 4"
      ],
      "metadata": {
        "id": "3wi7KwoO9BsN",
        "colab": {
          "base_uri": "https://localhost:8080/"
        },
        "outputId": "66c358a3-90db-49b6-8259-e913860a1c5c"
      },
      "execution_count": null,
      "outputs": [
        {
          "output_type": "execute_result",
          "data": {
            "text/plain": [
              "4.0"
            ]
          },
          "metadata": {},
          "execution_count": 134
        }
      ]
    },
    {
      "cell_type": "code",
      "source": [
        "# Division entera (//): divide el primer operando por el segundo y retorna la parte entera\n",
        "16 /4"
      ],
      "metadata": {
        "id": "b1vWLWEU9MYk",
        "colab": {
          "base_uri": "https://localhost:8080/"
        },
        "outputId": "62d497d3-dacc-4eb2-dac1-f52526632c26"
      },
      "execution_count": null,
      "outputs": [
        {
          "output_type": "execute_result",
          "data": {
            "text/plain": [
              "4.0"
            ]
          },
          "metadata": {},
          "execution_count": 135
        }
      ]
    },
    {
      "cell_type": "code",
      "source": [
        "# Modulo (%): Devuelve el resto de la division del primer operando por el segundo\n",
        "15 % 2"
      ],
      "metadata": {
        "id": "NIlqmPkM9aJQ",
        "colab": {
          "base_uri": "https://localhost:8080/"
        },
        "outputId": "cab13204-fa08-4da9-cf40-36ac269b1735"
      },
      "execution_count": null,
      "outputs": [
        {
          "output_type": "execute_result",
          "data": {
            "text/plain": [
              "1"
            ]
          },
          "metadata": {},
          "execution_count": 137
        }
      ]
    },
    {
      "cell_type": "code",
      "source": [
        "# Potencia (**): Eleva el primer operando a la potencia del segundo\n",
        "\n",
        "2**2"
      ],
      "metadata": {
        "id": "cplIn01C9l7k",
        "colab": {
          "base_uri": "https://localhost:8080/"
        },
        "outputId": "33c4d3e0-3631-4006-c921-930c4c9d8c72"
      },
      "execution_count": null,
      "outputs": [
        {
          "output_type": "execute_result",
          "data": {
            "text/plain": [
              "4"
            ]
          },
          "metadata": {},
          "execution_count": 138
        }
      ]
    },
    {
      "cell_type": "markdown",
      "source": [
        "Preguntas❓"
      ],
      "metadata": {
        "id": "CoL2oVp6K96L"
      }
    },
    {
      "cell_type": "markdown",
      "source": [
        "#### 3.6.2 Operadores Lógicos"
      ],
      "metadata": {
        "id": "XLE7Bf5H9xsB"
      }
    },
    {
      "cell_type": "markdown",
      "source": [
        "Los operadores lógicos se utilizan para combinar declaraciones condicionales."
      ],
      "metadata": {
        "id": "sOZnK9wNwUoM"
      }
    },
    {
      "cell_type": "code",
      "source": [
        "# nuevo tipo  de dato bool\n",
        "\n",
        "type(True)"
      ],
      "metadata": {
        "id": "cNm09Jv34gh6",
        "colab": {
          "base_uri": "https://localhost:8080/"
        },
        "outputId": "eda24d75-f905-4b9a-9228-aef47ee96142"
      },
      "execution_count": null,
      "outputs": [
        {
          "output_type": "execute_result",
          "data": {
            "text/plain": [
              "bool"
            ]
          },
          "metadata": {},
          "execution_count": 140
        }
      ]
    },
    {
      "cell_type": "code",
      "source": [
        "type(False)"
      ],
      "metadata": {
        "id": "PdwMQSKb4m8A",
        "colab": {
          "base_uri": "https://localhost:8080/"
        },
        "outputId": "2f2a9ea5-87f3-4f7a-b0d4-169cebf1de97"
      },
      "execution_count": null,
      "outputs": [
        {
          "output_type": "execute_result",
          "data": {
            "text/plain": [
              "bool"
            ]
          },
          "metadata": {},
          "execution_count": 139
        }
      ]
    },
    {
      "cell_type": "code",
      "source": [
        "# AND (and): Devuelve True si ambos operandos son True. Multiplicacion logica\n",
        "# A B Z\n",
        "# 0 0 0\n",
        "# 0 1 0\n",
        "# 1 0 0\n",
        "# 1 1 1\n",
        "True and False"
      ],
      "metadata": {
        "id": "DGHykH5a-LYo",
        "colab": {
          "base_uri": "https://localhost:8080/"
        },
        "outputId": "5a9f2bde-c9ee-44d7-a0ab-b0082d2c26c6"
      },
      "execution_count": null,
      "outputs": [
        {
          "output_type": "execute_result",
          "data": {
            "text/plain": [
              "False"
            ]
          },
          "metadata": {},
          "execution_count": 141
        }
      ]
    },
    {
      "cell_type": "code",
      "source": [
        "True & True"
      ],
      "metadata": {
        "colab": {
          "base_uri": "https://localhost:8080/"
        },
        "id": "F4o3n4GEi04k",
        "outputId": "70e73b5f-dd3c-44f7-a085-6511f4905cc5"
      },
      "execution_count": null,
      "outputs": [
        {
          "output_type": "execute_result",
          "data": {
            "text/plain": [
              "True"
            ]
          },
          "metadata": {},
          "execution_count": 142
        }
      ]
    },
    {
      "cell_type": "code",
      "source": [
        "# OR (or): Devuelve True si al menos uno de los operandos es True.\n",
        "# A B Z\n",
        "# 0 0 0\n",
        "# 0 1 1\n",
        "# 1 0 1\n",
        "# 1 1 1"
      ],
      "metadata": {
        "id": "DUrQZpUa4Z1c"
      },
      "execution_count": null,
      "outputs": []
    },
    {
      "cell_type": "code",
      "source": [
        "True or True"
      ],
      "metadata": {
        "colab": {
          "base_uri": "https://localhost:8080/"
        },
        "id": "sTkwHVvBjDGv",
        "outputId": "d7e347e2-03c8-4082-ee46-fb49152922e6"
      },
      "execution_count": null,
      "outputs": [
        {
          "output_type": "execute_result",
          "data": {
            "text/plain": [
              "True"
            ]
          },
          "metadata": {},
          "execution_count": 143
        }
      ]
    },
    {
      "cell_type": "code",
      "source": [
        "True | True"
      ],
      "metadata": {
        "colab": {
          "base_uri": "https://localhost:8080/"
        },
        "id": "DBjSykUljFV8",
        "outputId": "9b899460-aa01-494a-e72b-98df317d6454"
      },
      "execution_count": null,
      "outputs": [
        {
          "output_type": "execute_result",
          "data": {
            "text/plain": [
              "True"
            ]
          },
          "metadata": {},
          "execution_count": 148
        }
      ]
    },
    {
      "cell_type": "code",
      "source": [
        "# NOT (not): Invierte el valor lógico del operando. negador\n",
        "foo = False\n",
        "print(not(foo))"
      ],
      "metadata": {
        "id": "cdIagBZc4bkb",
        "colab": {
          "base_uri": "https://localhost:8080/"
        },
        "outputId": "c959b42a-0f22-4fd7-ae36-67ce8d98f88c"
      },
      "execution_count": null,
      "outputs": [
        {
          "output_type": "stream",
          "name": "stdout",
          "text": [
            "True\n"
          ]
        }
      ]
    },
    {
      "cell_type": "markdown",
      "source": [
        "Preguntas❓"
      ],
      "metadata": {
        "id": "8w_x55zEK-vA"
      }
    },
    {
      "cell_type": "markdown",
      "source": [
        "#### 3.6.3 Operadores Relacionales"
      ],
      "metadata": {
        "id": "ykXshYHw-a7F"
      }
    },
    {
      "cell_type": "markdown",
      "source": [
        "Los operadores relacionales se utilizan para comparar dos valores."
      ],
      "metadata": {
        "id": "xiloyC94123X"
      }
    },
    {
      "cell_type": "code",
      "source": [
        "# Operador igualdad - devuelve True si ambos operandos son iguales.\n",
        "a = 5\n",
        "b = 5\n",
        "\n",
        "a == b"
      ],
      "metadata": {
        "id": "g6YqEKYk-ZXJ",
        "colab": {
          "base_uri": "https://localhost:8080/"
        },
        "outputId": "68728902-9cda-4171-9955-afcb1b74604a"
      },
      "execution_count": null,
      "outputs": [
        {
          "output_type": "execute_result",
          "data": {
            "text/plain": [
              "True"
            ]
          },
          "metadata": {},
          "execution_count": 149
        }
      ]
    },
    {
      "cell_type": "code",
      "source": [
        "a is b"
      ],
      "metadata": {
        "colab": {
          "base_uri": "https://localhost:8080/"
        },
        "id": "mk1MtRwejpj2",
        "outputId": "fb4841b2-7254-4a78-c585-3124f107ff1c"
      },
      "execution_count": null,
      "outputs": [
        {
          "output_type": "execute_result",
          "data": {
            "text/plain": [
              "True"
            ]
          },
          "metadata": {},
          "execution_count": 150
        }
      ]
    },
    {
      "cell_type": "code",
      "source": [
        "lista1 = [0]\n",
        "lista2 = [0]"
      ],
      "metadata": {
        "id": "-tGfB138j2tR"
      },
      "execution_count": null,
      "outputs": []
    },
    {
      "cell_type": "code",
      "source": [
        "lista1 == lista2"
      ],
      "metadata": {
        "colab": {
          "base_uri": "https://localhost:8080/"
        },
        "id": "nSMY2LQmj6Ih",
        "outputId": "14c7819f-acbf-41e7-9d99-6f6655ea67f1"
      },
      "execution_count": null,
      "outputs": [
        {
          "output_type": "execute_result",
          "data": {
            "text/plain": [
              "True"
            ]
          },
          "metadata": {},
          "execution_count": 152
        }
      ]
    },
    {
      "cell_type": "code",
      "source": [
        "lista is lista2"
      ],
      "metadata": {
        "colab": {
          "base_uri": "https://localhost:8080/"
        },
        "id": "xjw3MBI2j8vE",
        "outputId": "e320b1a1-e440-47b5-f8c3-6fa4b718ab1e"
      },
      "execution_count": null,
      "outputs": [
        {
          "output_type": "execute_result",
          "data": {
            "text/plain": [
              "False"
            ]
          },
          "metadata": {},
          "execution_count": 153
        }
      ]
    },
    {
      "cell_type": "code",
      "source": [
        "lista1 = lista2\n",
        "lista1 is lista2"
      ],
      "metadata": {
        "colab": {
          "base_uri": "https://localhost:8080/"
        },
        "id": "UedaHOO3j_cK",
        "outputId": "a0083cd6-d403-4d8d-d0ad-5085b7b6b428"
      },
      "execution_count": null,
      "outputs": [
        {
          "output_type": "execute_result",
          "data": {
            "text/plain": [
              "True"
            ]
          },
          "metadata": {},
          "execution_count": 154
        }
      ]
    },
    {
      "cell_type": "code",
      "source": [
        "# Distinto - devuelve True si ambos operandos no son iguales.\n",
        "a = 5\n",
        "b = 3\n",
        "\n",
        "a != b"
      ],
      "metadata": {
        "id": "NVOqNfvX15Um",
        "colab": {
          "base_uri": "https://localhost:8080/"
        },
        "outputId": "d106dc95-3ad7-4628-d4b8-0469218e0727"
      },
      "execution_count": null,
      "outputs": [
        {
          "output_type": "execute_result",
          "data": {
            "text/plain": [
              "True"
            ]
          },
          "metadata": {},
          "execution_count": 155
        }
      ]
    },
    {
      "cell_type": "code",
      "source": [
        "# Mayor que (>): Devuelve True si el primer operando es mayor que el segundo.\n",
        "a = 5\n",
        "b = 10\n",
        "a > b"
      ],
      "metadata": {
        "id": "cCkSEqKz16-A",
        "colab": {
          "base_uri": "https://localhost:8080/"
        },
        "outputId": "f249d1f8-23f2-40bf-ca96-c25092b01c99"
      },
      "execution_count": null,
      "outputs": [
        {
          "output_type": "execute_result",
          "data": {
            "text/plain": [
              "False"
            ]
          },
          "metadata": {},
          "execution_count": 156
        }
      ]
    },
    {
      "cell_type": "code",
      "source": [
        "# Menor que (<): Devuelve True si el primer operando es menor que el segundo.\n",
        "a < b"
      ],
      "metadata": {
        "id": "hFFjQ54i18ti",
        "colab": {
          "base_uri": "https://localhost:8080/"
        },
        "outputId": "e64736a9-b0a9-45c8-9b19-a71ef1f168ed"
      },
      "execution_count": null,
      "outputs": [
        {
          "output_type": "execute_result",
          "data": {
            "text/plain": [
              "True"
            ]
          },
          "metadata": {},
          "execution_count": 157
        }
      ]
    },
    {
      "cell_type": "code",
      "source": [
        "# Mayor o igual que (>=): Devuelve True si el primer operando es mayor o igual que el segundo.\n",
        "a >= b"
      ],
      "metadata": {
        "id": "bl4qqyiY1-Lw",
        "colab": {
          "base_uri": "https://localhost:8080/"
        },
        "outputId": "1e63a0a6-58ee-4db4-a853-7463c82e656c"
      },
      "execution_count": null,
      "outputs": [
        {
          "output_type": "execute_result",
          "data": {
            "text/plain": [
              "False"
            ]
          },
          "metadata": {},
          "execution_count": 158
        }
      ]
    },
    {
      "cell_type": "code",
      "source": [
        "# Menor o igual que (<=): Devuelve True si el primer operando es menor o igual que el segundo.\n",
        "a <= b"
      ],
      "metadata": {
        "id": "COEj0Rq41_te",
        "colab": {
          "base_uri": "https://localhost:8080/"
        },
        "outputId": "42839213-2adc-4d0b-8bd0-cec5adda0fc7"
      },
      "execution_count": null,
      "outputs": [
        {
          "output_type": "execute_result",
          "data": {
            "text/plain": [
              "True"
            ]
          },
          "metadata": {},
          "execution_count": 159
        }
      ]
    },
    {
      "cell_type": "markdown",
      "source": [
        "Preguntas❓"
      ],
      "metadata": {
        "id": "hrCf7qrYLAEz"
      }
    },
    {
      "cell_type": "markdown",
      "source": [
        "#### 3.6.3 Resumen"
      ],
      "metadata": {
        "id": "i8jf5zOZ-pWb"
      }
    },
    {
      "cell_type": "markdown",
      "source": [
        "Los operadores básicos en Python permiten realizar operaciones matemáticas, lógicas y comparativas de manera eficiente. Los operadores aritméticos incluyen suma, resta, multiplicación, división, división entera, módulo y potencia. Los operadores lógicos permiten combinar condiciones utilizando AND, OR y NOT. Los operadores relacionales permiten comparar valores utilizando igual a, distinto de, mayor que, menor que, mayor o igual que, y menor o igual que. Estos operadores son fundamentales para el desarrollo de cualquier programa en Python."
      ],
      "metadata": {
        "id": "npW98bAY-ojH"
      }
    },
    {
      "cell_type": "code",
      "source": [
        "bool(True)"
      ],
      "metadata": {
        "id": "vRcT2sfAGlrn",
        "colab": {
          "base_uri": "https://localhost:8080/"
        },
        "outputId": "f2f09c47-411f-4ee9-c657-881074e4acc8"
      },
      "execution_count": null,
      "outputs": [
        {
          "output_type": "execute_result",
          "data": {
            "text/plain": [
              "True"
            ]
          },
          "metadata": {},
          "execution_count": 160
        }
      ]
    },
    {
      "cell_type": "code",
      "source": [
        "int(\"2\")"
      ],
      "metadata": {
        "colab": {
          "base_uri": "https://localhost:8080/"
        },
        "id": "XbxyxCFwkdK3",
        "outputId": "55c85ad2-deef-48fc-c781-32671ce7f866"
      },
      "execution_count": null,
      "outputs": [
        {
          "output_type": "execute_result",
          "data": {
            "text/plain": [
              "2"
            ]
          },
          "metadata": {},
          "execution_count": 161
        }
      ]
    },
    {
      "cell_type": "code",
      "source": [
        "bool(0)"
      ],
      "metadata": {
        "colab": {
          "base_uri": "https://localhost:8080/"
        },
        "id": "6cWJQlm2kiZm",
        "outputId": "22b69161-9e66-4604-aa89-664270149f9a"
      },
      "execution_count": null,
      "outputs": [
        {
          "output_type": "execute_result",
          "data": {
            "text/plain": [
              "False"
            ]
          },
          "metadata": {},
          "execution_count": 162
        }
      ]
    },
    {
      "cell_type": "code",
      "source": [
        "bool(100)"
      ],
      "metadata": {
        "colab": {
          "base_uri": "https://localhost:8080/"
        },
        "id": "byv2Yn1TkooE",
        "outputId": "1c85750a-90f9-4300-8c5f-ebeb524f79ce"
      },
      "execution_count": null,
      "outputs": [
        {
          "output_type": "execute_result",
          "data": {
            "text/plain": [
              "True"
            ]
          },
          "metadata": {},
          "execution_count": 164
        }
      ]
    },
    {
      "cell_type": "code",
      "source": [
        "bool(5.8)"
      ],
      "metadata": {
        "colab": {
          "base_uri": "https://localhost:8080/"
        },
        "id": "QcGyno9ykuTh",
        "outputId": "dd9cfc5d-f3dc-4cde-db13-8843dcb89a5a"
      },
      "execution_count": null,
      "outputs": [
        {
          "output_type": "execute_result",
          "data": {
            "text/plain": [
              "True"
            ]
          },
          "metadata": {},
          "execution_count": 165
        }
      ]
    },
    {
      "cell_type": "code",
      "source": [
        "bool([])"
      ],
      "metadata": {
        "id": "clWtbepEGrco",
        "colab": {
          "base_uri": "https://localhost:8080/"
        },
        "outputId": "9f092236-101b-4233-d9c9-52bfa5a1032f"
      },
      "execution_count": null,
      "outputs": [
        {
          "output_type": "execute_result",
          "data": {
            "text/plain": [
              "False"
            ]
          },
          "metadata": {},
          "execution_count": 166
        }
      ]
    },
    {
      "cell_type": "code",
      "source": [
        "bool([1])"
      ],
      "metadata": {
        "id": "tm-9Pas1GtzG",
        "colab": {
          "base_uri": "https://localhost:8080/"
        },
        "outputId": "c830d07f-8c43-4829-e405-f09cfb158364"
      },
      "execution_count": null,
      "outputs": [
        {
          "output_type": "execute_result",
          "data": {
            "text/plain": [
              "True"
            ]
          },
          "metadata": {},
          "execution_count": 167
        }
      ]
    },
    {
      "cell_type": "code",
      "source": [
        "bool(\"\")"
      ],
      "metadata": {
        "id": "XXq5GDTuGxVJ",
        "colab": {
          "base_uri": "https://localhost:8080/"
        },
        "outputId": "986469cd-c8c5-47d5-8e1f-9a2e10065188"
      },
      "execution_count": null,
      "outputs": [
        {
          "output_type": "execute_result",
          "data": {
            "text/plain": [
              "False"
            ]
          },
          "metadata": {},
          "execution_count": 168
        }
      ]
    },
    {
      "cell_type": "code",
      "source": [
        "bool(\"hola\")"
      ],
      "metadata": {
        "id": "kFt8dzRGG0Cn",
        "colab": {
          "base_uri": "https://localhost:8080/"
        },
        "outputId": "9f53e400-c445-45cd-e0da-9babb1043963"
      },
      "execution_count": null,
      "outputs": [
        {
          "output_type": "execute_result",
          "data": {
            "text/plain": [
              "True"
            ]
          },
          "metadata": {},
          "execution_count": 169
        }
      ]
    },
    {
      "cell_type": "markdown",
      "source": [
        "![green-divider](https://user-images.githubusercontent.com/7065401/52071924-c003ad80-2562-11e9-8297-1c6595f8a7ff.png)\n",
        "\n",
        "### 3.7 Expresiones Anidadas y Precedencia de Operadores"
      ],
      "metadata": {
        "id": "Nolzt2Vt_eCI"
      }
    },
    {
      "cell_type": "markdown",
      "source": [
        "En Python, las expresiones anidadas son combinaciones de múltiples operadores y operandos que se evalúan siguiendo ciertas reglas de precedencia. La comprensión de estas reglas es crucial para evitar errores y obtener los resultados esperados."
      ],
      "metadata": {
        "id": "I0_nnPXX_zYW"
      }
    },
    {
      "cell_type": "markdown",
      "source": [
        "**Reglas de Precedencia de Operadores**\n",
        "\n",
        "Las reglas de precedencia determinan el orden en el que se evalúan los operadores en una expresión. Los operadores con mayor precedencia se evalúan antes que los de menor precedencia. A continuación se detallan las reglas de precedencia de operadores en Python, de mayor a menor precedencia:"
      ],
      "metadata": {
        "id": "4kJ2LI-JAe0_"
      }
    },
    {
      "cell_type": "code",
      "source": [
        "# Paréntesis (): Las expresiones entre paréntesis se evalúan primero.\n",
        "resultado = (2 + 3) * 4\n",
        "resultado"
      ],
      "metadata": {
        "id": "1kP-jvR0Gafe",
        "colab": {
          "base_uri": "https://localhost:8080/"
        },
        "outputId": "dd55fdc7-6e32-465f-a746-081fbb620617"
      },
      "execution_count": null,
      "outputs": [
        {
          "output_type": "execute_result",
          "data": {
            "text/plain": [
              "20"
            ]
          },
          "metadata": {},
          "execution_count": 171
        }
      ]
    },
    {
      "cell_type": "code",
      "source": [
        "# Exponentes *: Los operadores de potencia se evalúan a continuación.\n",
        "resultado = 2 * 3 ** 2\n",
        "resultado"
      ],
      "metadata": {
        "id": "M033P-d7Awu4",
        "colab": {
          "base_uri": "https://localhost:8080/"
        },
        "outputId": "b1eb7fd3-63ca-47e2-a448-72b0d6ebf4e6"
      },
      "execution_count": null,
      "outputs": [
        {
          "output_type": "execute_result",
          "data": {
            "text/plain": [
              "18"
            ]
          },
          "metadata": {},
          "execution_count": 172
        }
      ]
    },
    {
      "cell_type": "code",
      "source": [
        "# Operadores Unarios +x, x: Los operadores unarios (positivo, negativo y complemento) se evalúan después.\n",
        "resultado = -3 + 5\n",
        "resultado"
      ],
      "metadata": {
        "id": "nyLddbL8A_lR",
        "colab": {
          "base_uri": "https://localhost:8080/"
        },
        "outputId": "6d8b81a2-6914-4ef1-a75d-1a27bdb5016e"
      },
      "execution_count": null,
      "outputs": [
        {
          "output_type": "execute_result",
          "data": {
            "text/plain": [
              "2"
            ]
          },
          "metadata": {},
          "execution_count": 173
        }
      ]
    },
    {
      "cell_type": "code",
      "source": [
        "# Multiplicación, División, División Entera y Módulo `,/,//,%`: Estos operadores se evalúan a continuación.\n",
        "resultado = 10 // 3 * 2\n",
        "resultado"
      ],
      "metadata": {
        "id": "Yjz5JWXxBID9",
        "colab": {
          "base_uri": "https://localhost:8080/"
        },
        "outputId": "996f5886-0752-4b8d-e3f6-687f5b5a0f08"
      },
      "execution_count": null,
      "outputs": [
        {
          "output_type": "execute_result",
          "data": {
            "text/plain": [
              "6"
            ]
          },
          "metadata": {},
          "execution_count": 174
        }
      ]
    },
    {
      "cell_type": "code",
      "source": [
        "# Suma y Resta +, -: Estos operadores se evalúan después.\n",
        "resultado = 3 + 5 - 2"
      ],
      "metadata": {
        "id": "OvUjd8uOBKFP"
      },
      "execution_count": null,
      "outputs": []
    },
    {
      "cell_type": "code",
      "source": [
        "# Operadores Relacionales <, <=, >, >=: Se evalúan después.\n",
        "resultado = 3 < 5\n",
        "print(resultado)"
      ],
      "metadata": {
        "id": "kD7O3MrVBSfP",
        "colab": {
          "base_uri": "https://localhost:8080/"
        },
        "outputId": "a90e796f-8186-4f68-e357-b682441e70d5"
      },
      "execution_count": null,
      "outputs": [
        {
          "output_type": "stream",
          "name": "stdout",
          "text": [
            "True\n"
          ]
        }
      ]
    },
    {
      "cell_type": "code",
      "source": [
        "# Igualdad y Desigualdad ==, !=: Se evalúan después.\n",
        "resultado = 3 == 3\n",
        "print(resultado)"
      ],
      "metadata": {
        "id": "4jxMhPdEBcl7",
        "colab": {
          "base_uri": "https://localhost:8080/"
        },
        "outputId": "c7c234aa-bed1-400a-9cf8-0d8fdecd18b0"
      },
      "execution_count": null,
      "outputs": [
        {
          "output_type": "stream",
          "name": "stdout",
          "text": [
            "True\n"
          ]
        }
      ]
    },
    {
      "cell_type": "code",
      "source": [
        "# Operadores Lógicos not, and, or: Se evalúan en el siguiente orden: not, and, or.\n",
        "resultado = not (3 > 5 and 2 < 4) or 4 == 4\n",
        "print(resultado)"
      ],
      "metadata": {
        "colab": {
          "base_uri": "https://localhost:8080/"
        },
        "id": "YaiGwagWBjNe",
        "outputId": "ca9ff741-fe95-4ab4-bd80-d2378df40a07"
      },
      "execution_count": null,
      "outputs": [
        {
          "output_type": "stream",
          "name": "stdout",
          "text": [
            "True\n"
          ]
        }
      ]
    },
    {
      "cell_type": "markdown",
      "source": [
        "Preguntas❓"
      ],
      "metadata": {
        "id": "FlDrca5-LHCs"
      }
    },
    {
      "cell_type": "markdown",
      "source": [
        "![green-divider](https://user-images.githubusercontent.com/7065401/52071924-c003ad80-2562-11e9-8297-1c6595f8a7ff.png)\n",
        "\n",
        "### 3.8 Ejercicios"
      ],
      "metadata": {
        "id": "_y9O738UR9Mm"
      }
    },
    {
      "cell_type": "markdown",
      "source": [
        "A partir de una lista realizar las siguientes tareas sin modificar la lista original:\n",
        "\n",
        "- Borrar los elementos duplicados\n",
        "\n",
        "- Ordenar la lista de mayor a menor\n",
        "\n",
        "- Eliminar todos los números impares ( for ---- if (%2==1) ---- pop, remove )\n",
        "\n",
        "- Realizar una suma de todos los números que quedan (sum(lista))\n",
        "\n",
        "- Añadir como primer elemento de la lista la suma realizada insert(0, suma)\n",
        "\n",
        "Devolver la lista modificada\n",
        "\n",
        "Finalmente, después de ejecutar la función, comprueba que la suma de todos los números a partir del segundo, concuerda con el primer número de la lista\n",
        "\n",
        "lista = [29, -5, -12, 17, 5, 24, 5, 12, 23, 16, 12, 5, -12, 17]\n",
        "\n",
        "**Nota**: Recuerda que para sumar todos los números de una lista puedes usar sum"
      ],
      "metadata": {
        "id": "1kplMDA5Szem"
      }
    },
    {
      "cell_type": "code",
      "source": [
        "lista = [29, -5, -12, 17, 5, 24, 5, 12, 23, 16, 12, 5, -12, 17]\n",
        "\n",
        "lista_1 = list(set(lista))\n",
        "\n",
        "print(f\"lista original : {lista}\")\n",
        "\n",
        "print(f\"sin repetidos: {lista_1}\")\n",
        "\n",
        "lista_1.sort()\n",
        "print(f\"lista sin repetidos ordenada de menor a mayor {lista_1}\")\n",
        "\n",
        "\n",
        "print(f\"lista_1 : {lista_1}\")\n",
        "suma = sum(lista_1)\n",
        "print(f\"suma de todos los elementos de lista: {suma}\")\n",
        "\n",
        "lista_1.insert(0, suma)\n",
        "\n",
        "print(f\"lista_1 con la suma: {lista_1}\")"
      ],
      "metadata": {
        "id": "RpmtGFU-SCCy",
        "colab": {
          "base_uri": "https://localhost:8080/"
        },
        "outputId": "3b9254a1-b7a1-477d-a76b-5e216ef0fc74"
      },
      "execution_count": 11,
      "outputs": [
        {
          "output_type": "stream",
          "name": "stdout",
          "text": [
            "lista original : [29, -5, -12, 17, 5, 24, 5, 12, 23, 16, 12, 5, -12, 17]\n",
            "sin repetidos: [5, 12, 16, 17, -12, 23, 24, -5, 29]\n",
            "lista sin repetidos ordenada de menor a mayor [-12, -5, 5, 12, 16, 17, 23, 24, 29]\n",
            "lista_1 : [-12, -5, 5, 12, 16, 17, 23, 24, 29]\n",
            "suma de todos los elementos de lista: 109\n",
            "lista_1 con la suma: [109, -12, -5, 5, 12, 16, 17, 23, 24, 29]\n"
          ]
        }
      ]
    },
    {
      "cell_type": "markdown",
      "source": [
        "![green-divider](https://user-images.githubusercontent.com/7065401/52071924-c003ad80-2562-11e9-8297-1c6595f8a7ff.png)\n",
        "\n",
        "### 3.9 Ejercicios"
      ],
      "metadata": {
        "id": "WNveLrG-sJQ9"
      }
    },
    {
      "cell_type": "markdown",
      "source": [
        "**Actividad: Colecciones 1**\n",
        "Consigna:\n",
        "\n",
        "Utilizando todo lo que sabes sobre cadenas, listas y sus métodos internos, transforma este texto:\n",
        "\n",
        "- gordon lanzó su curva&strawberry ha fallado por un pie! -gritó Joe Castiglione&dos pies -le corrigió Troop&strawberry menea la cabeza como disgustado… -agrega el comentarista\n",
        "\n",
        "Transforma el texto en:\n",
        "\n",
        "- Gordon lanzó su curva...\n",
        "\n",
        "- Strawberry ha fallado por un pie! -gritó Joe Castiglione.\n",
        "\n",
        "- Dos pies le corrigió Troop.\n",
        "\n",
        "- Strawberry menea la cabeza como disgustado… -agrega el comentarista."
      ],
      "metadata": {
        "id": "nIOXGiPbsLtZ"
      }
    },
    {
      "cell_type": "code",
      "source": [
        "frase = \"gordon lanzó su curva&strawberry ha fallado por un pie!\"\n",
        "frase = f\"{frase} -gritó Joe Castiglione&dos pies -le corrigió Troop&strawberry\"\n",
        "frase = f\"{frase} menea la cabeza como disgustado… -agrega el comentarista\"\n",
        "\n",
        "# print(frase)\n",
        "\n",
        "lista_frase1 = frase.split(\"&\")\n",
        "\n",
        "print(f\"{lista_frase1[0].capitalize()}...\")\n",
        "\n",
        "# frase1 = frase1.capitalize()\n",
        "# print(frase1)\n",
        "\n",
        "# print(lista_frase1[1])\n",
        "\n",
        "print(f\"{lista_frase1[1][0].upper()}{lista_frase1[1][1:]}\")\n",
        "\n",
        "\n",
        "print(lista_frase1)"
      ],
      "metadata": {
        "id": "toRx0rfGsu8i"
      },
      "execution_count": 11,
      "outputs": []
    },
    {
      "cell_type": "markdown",
      "source": [
        "**Actividad: Colecciones 2**\n",
        "Consigna: Analizar e interpretar los siguientes conjuntos en Python.\n",
        "\n",
        "Ejemplo 1:\n",
        "\n",
        "my_set_1 = set([1, 2, 3])\n",
        "\n",
        "my_set_2 = set([3, 4, 5])\n",
        "\n",
        "my_new_set = my_set_1.union(my_set_2)\n",
        "\n",
        "print(my_new_set)\n",
        "\n",
        "Ejemplo 2:\n",
        "\n",
        "my_set_1 = set([1, 2, 3])\n",
        "\n",
        "my_set_2 = set([3, 4, 5])\n",
        "\n",
        "my_new_set = my_set_1.intersection(my_set_2)\n",
        "\n",
        "print(my_new_set)\n",
        "\n",
        "Ejemplo 3:\n",
        "\n",
        "my_set_1 = set([1, 2, 3])\n",
        "\n",
        "my_set_2 = set([3, 4, 5])\n",
        "\n",
        "my_new_set = my_set_1.difference(my_set_2)\n",
        "\n",
        "print(my_new_set)"
      ],
      "metadata": {
        "id": "BakBZF-is0ec"
      }
    },
    {
      "cell_type": "code",
      "source": [],
      "metadata": {
        "id": "ElO3EOMIs9iC"
      },
      "execution_count": null,
      "outputs": []
    },
    {
      "cell_type": "markdown",
      "source": [
        "**Actividad: Colecciones 3**\n",
        "Consigna:\n",
        "\n",
        "Escribir un programa que guarde en una variable en un diccionario {'Dolar':'$','Euro':'€', 'Libra':'£'}.\n",
        "\n",
        "Luego se le deberá solicitar al usuario que ingrese la divisa que desea visualizar.\n",
        "\n",
        "En el caso de ingresar una divisa no existente en nuestro diccionario, deberemos indicarle con un mensaje de notificación que la divisa no se encuentra disponible."
      ],
      "metadata": {
        "id": "eMcFhnQytT-_"
      }
    },
    {
      "cell_type": "code",
      "source": [
        "\n",
        "divisas = {\n",
        "    'dolar':'$',\n",
        "    'euro':'€',\n",
        "    'libra':'£'\n",
        "}\n",
        "\n",
        "\n",
        "divisa = input(\"Ingrese una divisa: euro, dolar, libra: \")\n",
        "\n",
        "divisa = divisa.lower()\n",
        "\n",
        "seleccion = divisas.get(divisa, \"Divisa no encontrada\")\n",
        "\n",
        "print(seleccion)\n"
      ],
      "metadata": {
        "id": "AQ1u8g8ntXXb"
      },
      "execution_count": null,
      "outputs": []
    },
    {
      "cell_type": "markdown",
      "source": [
        "**Actividad: Operadores relacionales**\n",
        "\n",
        "Consigna: Calcular el resultado de cada expresión. En una lista encontraremos diferentes operaciones relacionales, calcular mentalmente el resultado de cada expresión y almacenarlo en una nueva lista que contendrá únicamente valores lógicos True y False.\n",
        "\n",
        "Sugerencia. Si necesitas ayuda, deja que Python calcule estas expresiones por ti\n",
        "\n",
        "expresiones = [\n",
        "\n",
        "False == True,\n",
        "\n",
        "10 >= 2*4,\n",
        "\n",
        "33/3 == 11,\n",
        "\n",
        "True > False,\n",
        "\n",
        "True*5 == 2.5*2\n",
        "\n",
        "]"
      ],
      "metadata": {
        "id": "abgnk3NbtZ_P"
      }
    },
    {
      "cell_type": "code",
      "source": [
        "expresiones = [\n",
        "False == True,\n",
        "\n",
        "10 >= 2*4,\n",
        "\n",
        "33/3 == 11,\n",
        "\n",
        "True > False,\n",
        "\n",
        "True*5 == 2.52\n",
        "\n",
        "]\n",
        "\n",
        "expresiones"
      ],
      "metadata": {
        "id": "WvkHdJa3tk0a",
        "colab": {
          "base_uri": "https://localhost:8080/"
        },
        "outputId": "9777079b-548a-4bab-8d33-898d1e1cd47a"
      },
      "execution_count": 14,
      "outputs": [
        {
          "output_type": "execute_result",
          "data": {
            "text/plain": [
              "[False, True, True, True, False]"
            ]
          },
          "metadata": {},
          "execution_count": 14
        }
      ]
    },
    {
      "cell_type": "markdown",
      "source": [
        "**Actividad: Operadores lógicos**\n",
        "Consigna: Calcular el resultado de cada expresión y almacenarlo en una nueva lista.\n",
        "\n",
        "En una lista encontraremos diferentes operaciones lógicas. Calcular mentalmente el resultado de cada expresión y almacenarlo en una nueva lista la cual contendrá únicamente valores lógicos True y False.\n",
        "\n",
        "Sugerencia: si necesitas ayuda, deja que Python calcule estas expresiones por ti!\n",
        "\n",
        "expresiones = [\n",
        "\n",
        "not False,\n",
        "\n",
        "not 3 == 5,\n",
        "\n",
        "33/3 == 11 and 5 > 2,\n",
        "\n",
        "True or False,\n",
        "\n",
        "True*5 == 2.5*2 or 123 >= 23,\n",
        "\n",
        "12 > 7 and True < False\n",
        "\n",
        "]"
      ],
      "metadata": {
        "id": "P838Kx7gtla9"
      }
    },
    {
      "cell_type": "code",
      "source": [
        "expresiones = [\n",
        "\n",
        "not False,\n",
        "\n",
        "not 3 == 5,\n",
        "\n",
        "33/3 == 11 and 5 > 2,\n",
        "\n",
        "True or False,\n",
        "\n",
        "True*5 == 2.52 or 123 >= 23,\n",
        "\n",
        "12 > 7 and True < False\n",
        "\n",
        "]\n",
        "\n",
        "expresiones"
      ],
      "metadata": {
        "colab": {
          "base_uri": "https://localhost:8080/"
        },
        "id": "mh1ZSX6NalHv",
        "outputId": "fbf0349b-a2f0-4972-c9e4-ddd39365fd67"
      },
      "execution_count": 16,
      "outputs": [
        {
          "output_type": "execute_result",
          "data": {
            "text/plain": [
              "[True, True, True, True, True, False]"
            ]
          },
          "metadata": {},
          "execution_count": 16
        }
      ]
    },
    {
      "cell_type": "markdown",
      "source": [
        "**Actividad: Expresiones anidadas**\n",
        "Consigna: Crear una variable que almacene si se cumplen todas las condiciones.\n",
        "\n",
        "A partir de dos variables llamadas NOMBRE y EDAD, debes crear una variable que almacene si se cumplen todas las siguientes condiciones, encadenando operadores lógicos en una sola línea:\n",
        "\n",
        "NOMBRE sea diferente de cuatro asteriscos “*”\n",
        "\n",
        "EDAD sea mayor que 5 y a su vez menor que 20\n",
        "\n",
        "Que la longitud de NOMBRE sea mayor o igual a 4 pero a la vez menor que 8\n",
        "\n",
        "EDAD multiplicada por 3 sea mayor que 35\n",
        "\n",
        "Desde un input conseguir las variables:\n",
        "\n",
        "nombre = INPUT!!!\n",
        "\n",
        "edad = INPUT!!!!"
      ],
      "metadata": {
        "id": "CIoXMMIqtn7_"
      }
    },
    {
      "cell_type": "code",
      "source": [
        "nombre = input(\"Ingrese su nombre: \")\n",
        "edad = int(input(\"Ingrese su edad: \"))\n"
      ],
      "metadata": {
        "id": "hdcNKj5l7I1h",
        "colab": {
          "base_uri": "https://localhost:8080/"
        },
        "outputId": "9dc3eace-f2da-43d8-fb28-f56dfc0d3d6f"
      },
      "execution_count": 17,
      "outputs": [
        {
          "name": "stdout",
          "output_type": "stream",
          "text": [
            "Ingrese su nombre: pablo\n",
            "Ingrese su edad: 45\n"
          ]
        }
      ]
    },
    {
      "cell_type": "code",
      "source": [
        "nombre_valido = nombre != \"****\" and len(nombre) >= 4 and len(nombre) < 8\n",
        "edad_valida = edad > 5 and edad < 20 and edad * 3 > 35\n",
        "\n",
        "print(f\"es valido  el nombre: {nombre_valido}\")\n",
        "print(f\"es valida la edad: {edad_valida}\")"
      ],
      "metadata": {
        "colab": {
          "base_uri": "https://localhost:8080/"
        },
        "id": "OsGAcSzZa_Ra",
        "outputId": "3abec316-1e8c-4e6b-9e89-d6cb974db252"
      },
      "execution_count": 19,
      "outputs": [
        {
          "output_type": "stream",
          "name": "stdout",
          "text": [
            "es valido  el nombre: True\n",
            "es valida la edad: False\n"
          ]
        }
      ]
    }
  ]
}