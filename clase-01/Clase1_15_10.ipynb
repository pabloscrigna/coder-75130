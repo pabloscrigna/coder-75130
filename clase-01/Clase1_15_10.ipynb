{
  "nbformat": 4,
  "nbformat_minor": 0,
  "metadata": {
    "colab": {
      "provenance": []
    },
    "kernelspec": {
      "name": "python3",
      "display_name": "Python 3"
    },
    "language_info": {
      "name": "python"
    }
  },
  "cells": [
    {
      "cell_type": "markdown",
      "source": [
        "## Bienvenida\n",
        "\n",
        "![green-divider](https://user-images.githubusercontent.com/7065401/52071924-c003ad80-2562-11e9-8297-1c6595f8a7ff.png)"
      ],
      "metadata": {
        "id": "BopJ9lXiooUZ"
      }
    },
    {
      "cell_type": "markdown",
      "source": [
        "⭐ **Bienvenidos al curso de Python Flex - Comisión 75130** ⭐\n",
        "\n",
        "Profesor: Pablo Scrigna\n",
        "\n",
        "Tutor:  María Emilia Díaz"
      ],
      "metadata": {
        "id": "RPVcELCGpzxT"
      }
    },
    {
      "cell_type": "markdown",
      "source": [
        "*Sobre mi:*\n",
        "\n",
        "- Me llamo Pablo Agustín Scrigna.\n",
        "\n",
        "- Soy Ingeniero en Electronica.\n",
        "\n",
        "- Estoy en el mundo de la programación hace muchos años, ... mas especificamente con python desde el 2017.\n",
        "\n",
        "- Actualmente me encuentro trabajando como Backend Developer en [SimpliTec](https://www.simplitec.io/).... y más.\n",
        "\n",
        "- Miembro de la comunidad de [Python en Argentina](https://www.python.org.ar/)\n"
      ],
      "metadata": {
        "id": "l-D8ZaMgp-IO"
      }
    },
    {
      "cell_type": "markdown",
      "source": [
        "## Entorno de Programación Requerido\n",
        "\n",
        "![green-divider](https://user-images.githubusercontent.com/7065401/52071924-c003ad80-2562-11e9-8297-1c6595f8a7ff.png)"
      ],
      "metadata": {
        "id": "tNBDAfupRfI5"
      }
    },
    {
      "cell_type": "markdown",
      "source": [
        "- Tener instalado python\n",
        "- Tener instalado Visual Studio Code ( o el editor que prefieran!!! )\n",
        "- Google Colaboratory (Colab)"
      ],
      "metadata": {
        "id": "0J4MdwDGhP_x"
      }
    },
    {
      "cell_type": "markdown",
      "source": [
        "![purple-divider](https://user-images.githubusercontent.com/7065401/52071927-c1cd7100-2562-11e9-908a-dde91ba14e59.png)\n",
        "\n",
        "#### Instalación Python"
      ],
      "metadata": {
        "id": "w11w3FY4b7pS"
      }
    },
    {
      "cell_type": "markdown",
      "source": [
        "✅ Pagina oficial: [link](https://www.python.org/downloads/)\n",
        "\n",
        "\n",
        "✅ [Tutorial de instalación](https://drive.google.com/file/d/1ITkNeL1qt1Vt1TAUITp1Z4-EjHN6kfQL/view?usp=drive_link)"
      ],
      "metadata": {
        "id": "_SgIo8rqc4_i"
      }
    },
    {
      "cell_type": "markdown",
      "source": [
        "![purple-divider](https://user-images.githubusercontent.com/7065401/52071927-c1cd7100-2562-11e9-908a-dde91ba14e59.png)\n",
        "\n",
        "#### Editores"
      ],
      "metadata": {
        "id": "-hV2QHlHr54e"
      }
    },
    {
      "cell_type": "markdown",
      "source": [
        "VSCODE [Sitio Oficial](https://code.visualstudio.com/)\n",
        "\n",
        "[VSCODE Instalacion](https://www.youtube.com/watch?v=6npp93ZIQgM&ab_channel=v%C3%ADctorRomero)"
      ],
      "metadata": {
        "id": "pzBPTjDLse7j"
      }
    },
    {
      "cell_type": "markdown",
      "source": [
        "## 1.Introducción a la programación\n",
        "\n",
        "![green-divider](https://user-images.githubusercontent.com/7065401/52071924-c003ad80-2562-11e9-8297-1c6595f8a7ff.png)"
      ],
      "metadata": {
        "id": "I3Q2nPkf3eHA"
      }
    },
    {
      "cell_type": "markdown",
      "source": [
        "![purple-divider](https://user-images.githubusercontent.com/7065401/52071927-c1cd7100-2562-11e9-908a-dde91ba14e59.png)\n",
        "\n",
        "#### 1.1 ¿Qué es Python?\n"
      ],
      "metadata": {
        "id": "OSF_WGvh5qMO"
      }
    },
    {
      "cell_type": "markdown",
      "source": [
        "Es un lenguaje de programación de *código abierto*, *orientado a objetos*, *simple* y *fácil de entender*.\n",
        "\n",
        "Tiene una sintaxis sencilla que cuenta con una vasta biblioteca de herramientas, que hacen de Python un lenguaje de programación único.\n",
        "\n",
        "Es un lenguaje **interpretado**, **con tipado dinámico**, **multiparadigma** y **multiplataforma**."
      ],
      "metadata": {
        "id": "_-QGijKa6cVU"
      }
    },
    {
      "cell_type": "code",
      "source": [
        "a = 1"
      ],
      "metadata": {
        "id": "VKPePR1WTfbs"
      },
      "execution_count": null,
      "outputs": []
    },
    {
      "cell_type": "code",
      "source": [
        "a"
      ],
      "metadata": {
        "colab": {
          "base_uri": "https://localhost:8080/"
        },
        "id": "yxfM3XytTi9K",
        "outputId": "eb55041d-3e67-4ed4-87be-a606aa54765f"
      },
      "execution_count": null,
      "outputs": [
        {
          "output_type": "execute_result",
          "data": {
            "text/plain": [
              "1"
            ]
          },
          "metadata": {},
          "execution_count": 8
        }
      ]
    },
    {
      "cell_type": "code",
      "source": [
        "type(a)"
      ],
      "metadata": {
        "colab": {
          "base_uri": "https://localhost:8080/"
        },
        "id": "G9RXk2noTkIk",
        "outputId": "2c5e39e9-2644-4aec-9f49-9f232ea362f0"
      },
      "execution_count": null,
      "outputs": [
        {
          "output_type": "execute_result",
          "data": {
            "text/plain": [
              "int"
            ]
          },
          "metadata": {},
          "execution_count": 9
        }
      ]
    },
    {
      "cell_type": "code",
      "source": [
        "a = \"A\""
      ],
      "metadata": {
        "id": "izlq5SiNTl05"
      },
      "execution_count": null,
      "outputs": []
    },
    {
      "cell_type": "code",
      "source": [
        "a"
      ],
      "metadata": {
        "colab": {
          "base_uri": "https://localhost:8080/",
          "height": 35
        },
        "id": "8RlAseWmTnml",
        "outputId": "45b9242b-6b95-4484-fcf2-a652a601bf59"
      },
      "execution_count": null,
      "outputs": [
        {
          "output_type": "execute_result",
          "data": {
            "text/plain": [
              "'A'"
            ],
            "application/vnd.google.colaboratory.intrinsic+json": {
              "type": "string"
            }
          },
          "metadata": {},
          "execution_count": 11
        }
      ]
    },
    {
      "cell_type": "code",
      "source": [
        "type(a)"
      ],
      "metadata": {
        "colab": {
          "base_uri": "https://localhost:8080/"
        },
        "id": "kw1GUTHKToxa",
        "outputId": "83158480-7051-4471-d0e7-ab202ed48d03"
      },
      "execution_count": null,
      "outputs": [
        {
          "output_type": "execute_result",
          "data": {
            "text/plain": [
              "str"
            ]
          },
          "metadata": {},
          "execution_count": 12
        }
      ]
    },
    {
      "cell_type": "markdown",
      "source": [
        "\n",
        "👍**Ventajas**:\n",
        "\n",
        "1. Fácil de aprender\n",
        "\n",
        "2. Fácil de usar\n",
        "\n",
        "3. Orientado a objetos\n",
        "\n",
        "4. Software libre\n",
        "\n",
        "5. Portable\n",
        "\n",
        "6. Multiplataforma\n",
        "\n",
        "7. Poderoso\n",
        "\n",
        "\n",
        "👎**Desventajas**:\n",
        "\n",
        "1. Lentitud en multithread  (GIL)\n",
        "\n",
        "2. Lentitud de ejecución\n",
        "\n",
        "3. Tipado poco estricto"
      ],
      "metadata": {
        "id": "HgZDvCNUI9-A"
      }
    },
    {
      "cell_type": "markdown",
      "source": [
        "Python es ampliamente utilizado en diversas áreas como inteligencia artificial, big data, data science, frameworks de pruebas y desarrollo web. En este curso, nos centraremos en la parte web del desarrollo."
      ],
      "metadata": {
        "id": "PB6byyGYNFnd"
      }
    },
    {
      "cell_type": "markdown",
      "source": [
        "Al ser de Codigo Abierto Python cuenta con mas de una implementacion.\n",
        "\n",
        "- **CPython (Oficial)**\n",
        "\n",
        "- PyPy\n",
        "- Jython\n",
        "- IronPython\n",
        "- MicroPython\n",
        "- Brython"
      ],
      "metadata": {
        "id": "dAfEsYJeIwkI"
      }
    },
    {
      "cell_type": "code",
      "source": [
        "!python -c \"import platform; print(platform.python_implementation())\""
      ],
      "metadata": {
        "id": "_8jIqFdZKJlr",
        "colab": {
          "base_uri": "https://localhost:8080/"
        },
        "outputId": "6a95aed7-0ad3-4339-c069-2cd3ba97a4b5"
      },
      "execution_count": null,
      "outputs": [
        {
          "output_type": "stream",
          "name": "stdout",
          "text": [
            "CPython\n"
          ]
        }
      ]
    },
    {
      "cell_type": "code",
      "source": [
        "!python --version"
      ],
      "metadata": {
        "id": "-nT-qgTfKajl",
        "colab": {
          "base_uri": "https://localhost:8080/"
        },
        "outputId": "77b3d53f-106d-45a3-b2c4-7c732538bfa8"
      },
      "execution_count": null,
      "outputs": [
        {
          "output_type": "stream",
          "name": "stdout",
          "text": [
            "Python 3.10.12\n"
          ]
        }
      ]
    },
    {
      "cell_type": "markdown",
      "source": [
        "Preguntas❓"
      ],
      "metadata": {
        "id": "CNCVvITO9v8X"
      }
    },
    {
      "cell_type": "markdown",
      "source": [
        "Comentarios"
      ],
      "metadata": {
        "id": "vEejpxvbKgJ8"
      }
    },
    {
      "cell_type": "code",
      "source": [
        "# Comentario en una linea"
      ],
      "metadata": {
        "id": "Qbio1ZJPKzAG"
      },
      "execution_count": null,
      "outputs": []
    },
    {
      "cell_type": "code",
      "source": [
        "# Comentario\n",
        "# de mas de una\n",
        "# linea"
      ],
      "metadata": {
        "id": "fnYP8SpzMQ81"
      },
      "execution_count": null,
      "outputs": []
    },
    {
      "cell_type": "code",
      "source": [
        "\"\"\"\n",
        "Comentario\n",
        "de mas de una\n",
        "linea\n",
        "\"\"\""
      ],
      "metadata": {
        "id": "I0B_N06NK2Vi"
      },
      "execution_count": null,
      "outputs": []
    },
    {
      "cell_type": "markdown",
      "source": [
        " **¿Empezamos?**"
      ],
      "metadata": {
        "id": "3eZ3gKF-NGnb"
      }
    },
    {
      "cell_type": "markdown",
      "source": [
        "![purple-divider](https://user-images.githubusercontent.com/7065401/52071927-c1cd7100-2562-11e9-908a-dde91ba14e59.png)\n",
        "\n",
        "####  1.2 Tipos de Números y operaciones numéricas en python\n",
        "\n",
        "\n",
        "\n",
        "\n",
        "\n",
        "\n"
      ],
      "metadata": {
        "id": "Nt63St9rxTXS"
      }
    },
    {
      "cell_type": "markdown",
      "source": [
        "##### 1.2.1 Tipos de números"
      ],
      "metadata": {
        "id": "76eZ_pkx90iQ"
      }
    },
    {
      "cell_type": "markdown",
      "source": [
        "Python distingue entre:\n",
        "* enteros\n",
        "* números de punto flotante  \n",
        "* números complejos"
      ],
      "metadata": {
        "id": "HMqmsW_STlih"
      }
    },
    {
      "cell_type": "markdown",
      "source": [
        "![purple-divider](https://user-images.githubusercontent.com/7065401/52071927-c1cd7100-2562-11e9-908a-dde91ba14e59.png)\n",
        "\n",
        "###### Numeros enteros\n",
        "\n",
        "Los números enteros son aquellos que **no tienen decimales**, tanto positivos como negativos (además del cero).\n",
        "\n",
        "En Python se pueden representar mediante el tipo int (de integer, entero)."
      ],
      "metadata": {
        "id": "Ymt8SzjqznAQ"
      }
    },
    {
      "cell_type": "code",
      "execution_count": null,
      "metadata": {
        "id": "15kjRxH2G2Ko",
        "colab": {
          "base_uri": "https://localhost:8080/"
        },
        "outputId": "e28c14c7-3f2d-414b-b686-4a8eb74199aa"
      },
      "outputs": [
        {
          "output_type": "execute_result",
          "data": {
            "text/plain": [
              "23"
            ]
          },
          "metadata": {},
          "execution_count": 18
        }
      ],
      "source": [
        "# Número positivo\n",
        "23"
      ]
    },
    {
      "cell_type": "code",
      "source": [
        "type(23)"
      ],
      "metadata": {
        "id": "KaZVv5aE_Rm7",
        "colab": {
          "base_uri": "https://localhost:8080/"
        },
        "outputId": "a64259e9-e9ec-472f-a6df-e67708788e40"
      },
      "execution_count": null,
      "outputs": [
        {
          "output_type": "execute_result",
          "data": {
            "text/plain": [
              "int"
            ]
          },
          "metadata": {},
          "execution_count": 19
        }
      ]
    },
    {
      "cell_type": "code",
      "source": [
        "# Número negativo\n",
        "-345"
      ],
      "metadata": {
        "id": "xqC2EplxDgxk",
        "colab": {
          "base_uri": "https://localhost:8080/"
        },
        "outputId": "66a1be52-1f10-403d-8868-038865d47708"
      },
      "execution_count": null,
      "outputs": [
        {
          "output_type": "execute_result",
          "data": {
            "text/plain": [
              "-345"
            ]
          },
          "metadata": {},
          "execution_count": 20
        }
      ]
    },
    {
      "cell_type": "code",
      "source": [
        "type(-345)"
      ],
      "metadata": {
        "id": "E6GJor4b_WwX",
        "colab": {
          "base_uri": "https://localhost:8080/"
        },
        "outputId": "17fbcfc1-505a-4247-f4d8-f3be9d6be3ca"
      },
      "execution_count": null,
      "outputs": [
        {
          "output_type": "execute_result",
          "data": {
            "text/plain": [
              "int"
            ]
          },
          "metadata": {},
          "execution_count": 21
        }
      ]
    },
    {
      "cell_type": "code",
      "source": [
        "# Numero 0\n",
        "0"
      ],
      "metadata": {
        "id": "bOX-dPI6DibR",
        "colab": {
          "base_uri": "https://localhost:8080/"
        },
        "outputId": "7758c986-c3d2-4e4d-cab3-a0fdf2a0e7fd"
      },
      "execution_count": null,
      "outputs": [
        {
          "output_type": "execute_result",
          "data": {
            "text/plain": [
              "0"
            ]
          },
          "metadata": {},
          "execution_count": 22
        }
      ]
    },
    {
      "cell_type": "code",
      "source": [
        "type(0)"
      ],
      "metadata": {
        "id": "7lb9zuMy_aYl",
        "colab": {
          "base_uri": "https://localhost:8080/"
        },
        "outputId": "b91bb8e2-348b-4388-f89c-a724e7d78bc5"
      },
      "execution_count": null,
      "outputs": [
        {
          "output_type": "execute_result",
          "data": {
            "text/plain": [
              "int"
            ]
          },
          "metadata": {},
          "execution_count": 23
        }
      ]
    },
    {
      "cell_type": "markdown",
      "source": [
        "A diferencia de otros lenguajes de programación, los números de tipo int en Python 3 pueden ser pequeños o grandes, no tienen límite alguno."
      ],
      "metadata": {
        "id": "RDpMlqDW0ZUD"
      }
    },
    {
      "cell_type": "markdown",
      "source": [
        "![purple-divider](https://user-images.githubusercontent.com/7065401/52071927-c1cd7100-2562-11e9-908a-dde91ba14e59.png)\n",
        "\n",
        "###### Long\n",
        "\n",
        "Los números enteros largos o long en Python son iguales a los enteros, no tienen decimales, y **pueden ser positivos, negativos**. Se tratan de números de cualquier tamaño.\n"
      ],
      "metadata": {
        "id": "lqwCjh4p0gob"
      }
    },
    {
      "cell_type": "code",
      "source": [
        "# Número de 24 cifras positivo\n",
        "234567890342345678932146"
      ],
      "metadata": {
        "id": "6hMVpKO70dOn",
        "colab": {
          "base_uri": "https://localhost:8080/"
        },
        "outputId": "182a6dac-6db8-42bd-fba3-fbe2478aa06f"
      },
      "execution_count": null,
      "outputs": [
        {
          "output_type": "execute_result",
          "data": {
            "text/plain": [
              "234567890342345678932146"
            ]
          },
          "metadata": {},
          "execution_count": 24
        }
      ]
    },
    {
      "cell_type": "code",
      "source": [
        "type(234567890342345678932146)"
      ],
      "metadata": {
        "id": "052OV8sQDp2I",
        "colab": {
          "base_uri": "https://localhost:8080/"
        },
        "outputId": "0687b523-4707-4b0f-b576-6deefba98799"
      },
      "execution_count": null,
      "outputs": [
        {
          "output_type": "execute_result",
          "data": {
            "text/plain": [
              "int"
            ]
          },
          "metadata": {},
          "execution_count": 25
        }
      ]
    },
    {
      "cell_type": "code",
      "source": [
        "# Número de 24 cifras negativo\n",
        "-345464657575476576578658658"
      ],
      "metadata": {
        "id": "Kl_9TlOY_2LM"
      },
      "execution_count": null,
      "outputs": []
    },
    {
      "cell_type": "code",
      "source": [
        "type(-345464657575476576578658658)"
      ],
      "metadata": {
        "id": "woizhicbDvJG",
        "colab": {
          "base_uri": "https://localhost:8080/"
        },
        "outputId": "9855c5a2-62f8-4629-a6c8-085a04747a4b"
      },
      "execution_count": null,
      "outputs": [
        {
          "output_type": "execute_result",
          "data": {
            "text/plain": [
              "int"
            ]
          },
          "metadata": {},
          "execution_count": 26
        }
      ]
    },
    {
      "cell_type": "markdown",
      "source": [
        "![purple-divider](https://user-images.githubusercontent.com/7065401/52071927-c1cd7100-2562-11e9-908a-dde91ba14e59.png)\n",
        "\n",
        "###### Float / Decimal\n",
        "\n",
        "Los **números reales**, son los que tienen decimales, en Python se expresan mediante el tipo **float**. Desde Python 2.4 cuenta con un nuevo tipo Decimal, para el caso de que se necesite representar fracciones de forma más precisa."
      ],
      "metadata": {
        "id": "BHdIJ_e_6HXw"
      }
    },
    {
      "cell_type": "code",
      "source": [
        "# Numero flotante\n",
        "0.5"
      ],
      "metadata": {
        "id": "rAVZLCja6gpY",
        "colab": {
          "base_uri": "https://localhost:8080/"
        },
        "outputId": "16b74a93-ec42-4d75-9e1b-2f42e8cd2f7d"
      },
      "execution_count": null,
      "outputs": [
        {
          "output_type": "execute_result",
          "data": {
            "text/plain": [
              "0.5"
            ]
          },
          "metadata": {},
          "execution_count": 27
        }
      ]
    },
    {
      "cell_type": "code",
      "source": [
        "type(0.5)"
      ],
      "metadata": {
        "id": "4vJYJ8CiD6jM",
        "colab": {
          "base_uri": "https://localhost:8080/"
        },
        "outputId": "896d58e9-001f-4b3f-893d-5bee571202f1"
      },
      "execution_count": null,
      "outputs": [
        {
          "output_type": "execute_result",
          "data": {
            "text/plain": [
              "float"
            ]
          },
          "metadata": {},
          "execution_count": 28
        }
      ]
    },
    {
      "cell_type": "code",
      "source": [
        "# Número flotante\n",
        "4.7"
      ],
      "metadata": {
        "id": "XgrGe7LTATAo",
        "colab": {
          "base_uri": "https://localhost:8080/"
        },
        "outputId": "fc394bdc-88ea-4bb5-ef39-3d6cce296404"
      },
      "execution_count": null,
      "outputs": [
        {
          "output_type": "execute_result",
          "data": {
            "text/plain": [
              "4.7"
            ]
          },
          "metadata": {},
          "execution_count": 30
        }
      ]
    },
    {
      "cell_type": "code",
      "source": [
        "type(4.7)"
      ],
      "metadata": {
        "id": "njZCLvs-gOE9",
        "colab": {
          "base_uri": "https://localhost:8080/"
        },
        "outputId": "7f9d8957-81e0-4072-e89b-5d3c783ee51d"
      },
      "execution_count": null,
      "outputs": [
        {
          "output_type": "execute_result",
          "data": {
            "text/plain": [
              "float"
            ]
          },
          "metadata": {},
          "execution_count": 31
        }
      ]
    },
    {
      "cell_type": "markdown",
      "source": [
        "Ojo!!! El separador decimal decimal es el punto"
      ],
      "metadata": {
        "id": "JbK0JRQ7W6ao"
      }
    },
    {
      "cell_type": "code",
      "source": [
        "4,6"
      ],
      "metadata": {
        "colab": {
          "base_uri": "https://localhost:8080/"
        },
        "id": "KvXFIvLoW_qt",
        "outputId": "28178b36-c241-44b6-c017-d2e655a09cb6"
      },
      "execution_count": null,
      "outputs": [
        {
          "output_type": "execute_result",
          "data": {
            "text/plain": [
              "(4, 6)"
            ]
          },
          "metadata": {},
          "execution_count": 32
        }
      ]
    },
    {
      "cell_type": "code",
      "source": [
        "type((4,6))"
      ],
      "metadata": {
        "colab": {
          "base_uri": "https://localhost:8080/"
        },
        "id": "jjh6h_gDXCaO",
        "outputId": "ec324a9e-b9c5-4ea2-9c5b-c0883ff4e5d4"
      },
      "execution_count": null,
      "outputs": [
        {
          "output_type": "execute_result",
          "data": {
            "text/plain": [
              "tuple"
            ]
          },
          "metadata": {},
          "execution_count": 34
        }
      ]
    },
    {
      "cell_type": "code",
      "source": [
        "4.6"
      ],
      "metadata": {
        "colab": {
          "base_uri": "https://localhost:8080/"
        },
        "id": "00NhJhWpXIOM",
        "outputId": "29d1b843-a0da-426f-eebe-a38168acc3ba"
      },
      "execution_count": null,
      "outputs": [
        {
          "output_type": "execute_result",
          "data": {
            "text/plain": [
              "4.6"
            ]
          },
          "metadata": {},
          "execution_count": 35
        }
      ]
    },
    {
      "cell_type": "markdown",
      "source": [
        "![purple-divider](https://user-images.githubusercontent.com/7065401/52071927-c1cd7100-2562-11e9-908a-dde91ba14e59.png)\n",
        "\n",
        "###### Numeros Complejos\n",
        "\n",
        "Los números complejos son los que tienen parte imaginaria, es muy probable que no lo vayas a necesitar nunca. Este tipo se llama **complex**, se almacena usando reales, ya que es una extensión de dichos números.\n",
        "\n",
        "Los números complejos son útiles en diversas ramas de la matemática y la física, especialmente en la teoría de circuitos eléctricos y la mecánica cuántica."
      ],
      "metadata": {
        "id": "G7jEjXS36z1o"
      }
    },
    {
      "cell_type": "code",
      "source": [
        "# Numero complejo : x + yj\n",
        "3 + 6j"
      ],
      "metadata": {
        "id": "NIm1S8e_7WoE",
        "colab": {
          "base_uri": "https://localhost:8080/"
        },
        "outputId": "32646398-cb88-4fef-86ac-73535d3c017f"
      },
      "execution_count": null,
      "outputs": [
        {
          "output_type": "execute_result",
          "data": {
            "text/plain": [
              "(3+6j)"
            ]
          },
          "metadata": {},
          "execution_count": 36
        }
      ]
    },
    {
      "cell_type": "code",
      "source": [
        "type((3+6j))"
      ],
      "metadata": {
        "id": "_RqcWDOFEHgD",
        "colab": {
          "base_uri": "https://localhost:8080/"
        },
        "outputId": "72a8f443-0a24-491f-e811-3faa30b77a7a"
      },
      "execution_count": null,
      "outputs": [
        {
          "output_type": "execute_result",
          "data": {
            "text/plain": [
              "complex"
            ]
          },
          "metadata": {},
          "execution_count": 37
        }
      ]
    },
    {
      "cell_type": "markdown",
      "source": [
        "Cada tipo de número tiene su propio conjunto de operaciones y propiedades, lo que los hace adecuados para diferentes tipos de problemas y cálculos. Con esta variedad de tipos numéricos, Python proporciona una gran flexibilidad para trabajar con números en diversas aplicaciones."
      ],
      "metadata": {
        "id": "Oq4_AWow_COj"
      }
    },
    {
      "cell_type": "markdown",
      "source": [
        "Preguntas❓"
      ],
      "metadata": {
        "id": "xA6tvpnKAjIk"
      }
    },
    {
      "cell_type": "markdown",
      "source": [
        "![purple-divider](https://user-images.githubusercontent.com/7065401/52071927-c1cd7100-2562-11e9-908a-dde91ba14e59.png)\n",
        "\n",
        "##### 1.2.2 Operaciones numericas"
      ],
      "metadata": {
        "id": "LWzcKCux77SZ"
      }
    },
    {
      "cell_type": "markdown",
      "source": [
        "En programación y en matemáticas, __los operadores aritméticos son aquellos que manipulan los datos de tipo numérico__, es decir, permiten la realización de operaciones matemáticas (sumas, restas, multiplicaciones, etc.)."
      ],
      "metadata": {
        "id": "Aosnd5HlTsLE"
      }
    },
    {
      "cell_type": "markdown",
      "source": [
        "###### Operadores Aritmeticos\n",
        "\n",
        "![image.png](data:image/png;base64,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)"
      ],
      "metadata": {
        "id": "T0ywvmnL_bUy"
      }
    },
    {
      "cell_type": "code",
      "source": [
        "# Suma de dos int\n",
        "45 + 5"
      ],
      "metadata": {
        "id": "l7943tUH9WMd",
        "colab": {
          "base_uri": "https://localhost:8080/"
        },
        "outputId": "4939318b-851e-4d2d-cd3b-74e2c4430a43"
      },
      "execution_count": null,
      "outputs": [
        {
          "output_type": "execute_result",
          "data": {
            "text/plain": [
              "50"
            ]
          },
          "metadata": {},
          "execution_count": 38
        }
      ]
    },
    {
      "cell_type": "code",
      "source": [
        "# suma de dos float\n",
        "4.5 + 1.5"
      ],
      "metadata": {
        "id": "EmecnQaaBTDi",
        "colab": {
          "base_uri": "https://localhost:8080/"
        },
        "outputId": "a5797e33-b3c6-448e-e7aa-635399ff4c98"
      },
      "execution_count": null,
      "outputs": [
        {
          "output_type": "execute_result",
          "data": {
            "text/plain": [
              "6.0"
            ]
          },
          "metadata": {},
          "execution_count": 39
        }
      ]
    },
    {
      "cell_type": "code",
      "source": [
        "# suma de un float y un int --> que tipo de dato es el resultado?\n",
        "45 + 1.5"
      ],
      "metadata": {
        "id": "GsAsFlgBBVTk",
        "colab": {
          "base_uri": "https://localhost:8080/"
        },
        "outputId": "6ec0ceb2-569c-498b-df4a-672ef8d1d8d3"
      },
      "execution_count": null,
      "outputs": [
        {
          "output_type": "execute_result",
          "data": {
            "text/plain": [
              "46.5"
            ]
          },
          "metadata": {},
          "execution_count": 40
        }
      ]
    },
    {
      "cell_type": "code",
      "source": [
        "# Si quiero que el resultado anterior sea int\n",
        "int(45 + 1.5)"
      ],
      "metadata": {
        "id": "F2mstmK4hXVC",
        "colab": {
          "base_uri": "https://localhost:8080/"
        },
        "outputId": "03bc1c9e-a33b-4f04-d297-0b6645d9cc2e"
      },
      "execution_count": null,
      "outputs": [
        {
          "output_type": "execute_result",
          "data": {
            "text/plain": [
              "46"
            ]
          },
          "metadata": {},
          "execution_count": 41
        }
      ]
    },
    {
      "cell_type": "code",
      "source": [
        "# Resta de dos int\n",
        "\n",
        "45 -5"
      ],
      "metadata": {
        "id": "1txI5OwCACDF",
        "colab": {
          "base_uri": "https://localhost:8080/"
        },
        "outputId": "c05f5e7f-fa1e-4149-85f7-fa37e8c28b0f"
      },
      "execution_count": null,
      "outputs": [
        {
          "output_type": "execute_result",
          "data": {
            "text/plain": [
              "40"
            ]
          },
          "metadata": {},
          "execution_count": 42
        }
      ]
    },
    {
      "cell_type": "code",
      "source": [
        "# Resta de un int y un float\n",
        "\n",
        "5 - 0.5"
      ],
      "metadata": {
        "id": "xWoQ1N5yBlr3",
        "colab": {
          "base_uri": "https://localhost:8080/"
        },
        "outputId": "f160104f-5e01-4f19-91ce-cbb605dfd40a"
      },
      "execution_count": null,
      "outputs": [
        {
          "output_type": "execute_result",
          "data": {
            "text/plain": [
              "4.5"
            ]
          },
          "metadata": {},
          "execution_count": 43
        }
      ]
    },
    {
      "cell_type": "code",
      "source": [
        "int(5-0.5)"
      ],
      "metadata": {
        "colab": {
          "base_uri": "https://localhost:8080/"
        },
        "id": "w9yVGh-bZFWF",
        "outputId": "5384a9c6-49fc-4c52-c6d4-c6737379bcd4"
      },
      "execution_count": null,
      "outputs": [
        {
          "output_type": "execute_result",
          "data": {
            "text/plain": [
              "4"
            ]
          },
          "metadata": {},
          "execution_count": 44
        }
      ]
    },
    {
      "cell_type": "code",
      "source": [
        "# Multiplicacion\n",
        "45 * 2"
      ],
      "metadata": {
        "id": "nW8MClRw_RWj",
        "colab": {
          "base_uri": "https://localhost:8080/"
        },
        "outputId": "7deda916-bdb9-47af-c908-871d80120b86"
      },
      "execution_count": null,
      "outputs": [
        {
          "output_type": "execute_result",
          "data": {
            "text/plain": [
              "90"
            ]
          },
          "metadata": {},
          "execution_count": 45
        }
      ]
    },
    {
      "cell_type": "code",
      "source": [
        "-2 * 4"
      ],
      "metadata": {
        "colab": {
          "base_uri": "https://localhost:8080/"
        },
        "id": "-1ZoYNLcZKLr",
        "outputId": "9b63784b-b2a2-4e20-adb7-34facbd5ccfc"
      },
      "execution_count": null,
      "outputs": [
        {
          "output_type": "execute_result",
          "data": {
            "text/plain": [
              "-8"
            ]
          },
          "metadata": {},
          "execution_count": 46
        }
      ]
    },
    {
      "cell_type": "code",
      "source": [
        "2.2 * 5"
      ],
      "metadata": {
        "colab": {
          "base_uri": "https://localhost:8080/"
        },
        "id": "O4H5i0H-ZMkG",
        "outputId": "5ca8636d-92af-4af5-b902-634f89e2d39a"
      },
      "execution_count": null,
      "outputs": [
        {
          "output_type": "execute_result",
          "data": {
            "text/plain": [
              "11.0"
            ]
          },
          "metadata": {},
          "execution_count": 47
        }
      ]
    },
    {
      "cell_type": "code",
      "source": [
        "# Division\n",
        "8 / 4"
      ],
      "metadata": {
        "id": "6M7T0vsF0NCd",
        "colab": {
          "base_uri": "https://localhost:8080/"
        },
        "outputId": "fcfa9511-8ebd-4267-f5d7-d7b5aa520271"
      },
      "execution_count": null,
      "outputs": [
        {
          "output_type": "execute_result",
          "data": {
            "text/plain": [
              "2.0"
            ]
          },
          "metadata": {},
          "execution_count": 48
        }
      ]
    },
    {
      "cell_type": "code",
      "source": [
        "# Division Entera\n",
        "3.6 // 2"
      ],
      "metadata": {
        "id": "djyg40_90QON",
        "colab": {
          "base_uri": "https://localhost:8080/"
        },
        "outputId": "a3b3d164-e4a7-4461-82cf-6514870c13b0"
      },
      "execution_count": null,
      "outputs": [
        {
          "output_type": "execute_result",
          "data": {
            "text/plain": [
              "1.0"
            ]
          },
          "metadata": {},
          "execution_count": 49
        }
      ]
    },
    {
      "cell_type": "code",
      "source": [
        "# Division Resto\n",
        "7 % 2"
      ],
      "metadata": {
        "id": "-fStV7nGzIoo",
        "colab": {
          "base_uri": "https://localhost:8080/"
        },
        "outputId": "2edab937-b1a9-4eec-a287-f08eeff16904"
      },
      "execution_count": null,
      "outputs": [
        {
          "output_type": "execute_result",
          "data": {
            "text/plain": [
              "1"
            ]
          },
          "metadata": {},
          "execution_count": 50
        }
      ]
    },
    {
      "cell_type": "code",
      "source": [
        "# Potenciacion\n",
        "\n",
        "2 ** 2"
      ],
      "metadata": {
        "id": "msMCB_M3FfJT",
        "colab": {
          "base_uri": "https://localhost:8080/"
        },
        "outputId": "8884a666-159a-454d-ee68-9f656b47e2af"
      },
      "execution_count": null,
      "outputs": [
        {
          "output_type": "execute_result",
          "data": {
            "text/plain": [
              "4"
            ]
          },
          "metadata": {},
          "execution_count": 51
        }
      ]
    },
    {
      "cell_type": "markdown",
      "source": [
        "Preguntas❓"
      ],
      "metadata": {
        "id": "dx8riDjlB21e"
      }
    },
    {
      "cell_type": "markdown",
      "source": [
        "![purple-divider](https://user-images.githubusercontent.com/7065401/52071927-c1cd7100-2562-11e9-908a-dde91ba14e59.png)\n",
        "\n",
        "##### 1.2.3 Precedencias o Jerarquías\n",
        "\n"
      ],
      "metadata": {
        "id": "SmfWfy81AN2F"
      }
    },
    {
      "cell_type": "markdown",
      "source": [
        "Al igual que ocurre en matemáticas, en programación también tenemos una prioridad en los operadores. Esto significa que si una expresión matemática es precedida por un operador y seguido de otro, el operador más alto en la lista debe ser aplicado por primera vez."
      ],
      "metadata": {
        "id": "s-LvPiKUVK6s"
      }
    },
    {
      "cell_type": "markdown",
      "source": [
        "El orden normal de las operaciones es de izquierda a derecha, evaluando en orden los siguientes operadores:\n",
        "\n",
        "1. Términos entre paréntesis.\n",
        "2. Potenciación y raíces.\n",
        "3. Multiplicación y división.\n",
        "4. Suma y resta."
      ],
      "metadata": {
        "id": "QALVOzj471Us"
      }
    },
    {
      "cell_type": "markdown",
      "source": [
        "En el lenguaje de programación de Python se representan los operadores con el siguiente orden:\n",
        "\n",
        "1. ()\n",
        "2. **\n",
        "3. *, / , % , //\n",
        "4. \"+\" , \"-\""
      ],
      "metadata": {
        "id": "EBLPdHcz8QFU"
      }
    },
    {
      "cell_type": "code",
      "source": [
        "# Resolver: (5 + 5)**2 + 10 / 2\n",
        "\n",
        "# 10 ** 2 + 10 /2\n",
        "# 100 + 5.0\n",
        "# 105.0\n",
        "(5 + 5)**2 + 10 / 2"
      ],
      "metadata": {
        "id": "Ppfgfcmo8qkn",
        "colab": {
          "base_uri": "https://localhost:8080/"
        },
        "outputId": "54757ebb-e106-415a-a919-0baf9d48cc63"
      },
      "execution_count": null,
      "outputs": [
        {
          "output_type": "execute_result",
          "data": {
            "text/plain": [
              "105.0"
            ]
          },
          "metadata": {},
          "execution_count": 53
        }
      ]
    },
    {
      "cell_type": "code",
      "source": [
        "# Resolver: 6 * (4 + 2) - 24 / 6 - 2\n",
        "# 6 * 6 - 4.0 - 2\n",
        "# 36 - 4.0 - 2\n",
        "# 30.0\n",
        "6 * (4 + 2) - 24 / 6 - 2"
      ],
      "metadata": {
        "id": "_R3EBzNkGZoV",
        "colab": {
          "base_uri": "https://localhost:8080/"
        },
        "outputId": "04ddbb36-4731-4abb-eaae-0655354a270e"
      },
      "execution_count": null,
      "outputs": [
        {
          "output_type": "execute_result",
          "data": {
            "text/plain": [
              "30.0"
            ]
          },
          "metadata": {},
          "execution_count": 55
        }
      ]
    },
    {
      "cell_type": "markdown",
      "source": [
        "Preguntas❓"
      ],
      "metadata": {
        "id": "nMNTZoq9DlGr"
      }
    },
    {
      "cell_type": "markdown",
      "source": [
        "![purple-divider](https://user-images.githubusercontent.com/7065401/52071927-c1cd7100-2562-11e9-908a-dde91ba14e59.png)\n",
        "\n",
        "####  1.3 Cadenas de **texto** en Python\n",
        "\n"
      ],
      "metadata": {
        "id": "KWhD5QcLBieR"
      }
    },
    {
      "cell_type": "markdown",
      "source": [
        "##### 1.3.1 Cadenas de texto"
      ],
      "metadata": {
        "id": "YHWZlwAEYqzm"
      }
    },
    {
      "cell_type": "markdown",
      "source": [
        "Las cadenas (o strings) son un **tipo de datos compuestos por secuencias de caracteres que representan texto**. Estas cadenas de texto son de tipo **str** y se delimitan mediante el uso de comillas simples o dobles.\n"
      ],
      "metadata": {
        "id": "-hL0RDSzB3Ks"
      }
    },
    {
      "cell_type": "markdown",
      "source": [
        "Ejemplos"
      ],
      "metadata": {
        "id": "l5Gizgo5Xq7I"
      }
    },
    {
      "cell_type": "code",
      "source": [
        "ord(\"A\")"
      ],
      "metadata": {
        "colab": {
          "base_uri": "https://localhost:8080/"
        },
        "id": "DORFnEl4bN6H",
        "outputId": "04ae049d-2626-46bc-d722-7076135a111e"
      },
      "execution_count": null,
      "outputs": [
        {
          "output_type": "execute_result",
          "data": {
            "text/plain": [
              "65"
            ]
          },
          "metadata": {},
          "execution_count": 56
        }
      ]
    },
    {
      "cell_type": "code",
      "source": [
        "# Ejemplo de string con doble comilla\n",
        "\"Esto es una cadena\""
      ],
      "metadata": {
        "id": "G2jTzFaCXtjE",
        "colab": {
          "base_uri": "https://localhost:8080/",
          "height": 35
        },
        "outputId": "c8c3dde9-776a-4bc1-8091-f4bfc5572fa9"
      },
      "execution_count": null,
      "outputs": [
        {
          "output_type": "execute_result",
          "data": {
            "text/plain": [
              "'Esto es una cadena'"
            ],
            "application/vnd.google.colaboratory.intrinsic+json": {
              "type": "string"
            }
          },
          "metadata": {},
          "execution_count": 58
        }
      ]
    },
    {
      "cell_type": "code",
      "source": [
        "# Ejemplo de string entre comillas simple\n",
        "'Esto es una cadena'"
      ],
      "metadata": {
        "id": "RtUdIuqLXpj5",
        "colab": {
          "base_uri": "https://localhost:8080/",
          "height": 35
        },
        "outputId": "3dbbf562-f2e8-440b-e28c-46b718cb5c0e"
      },
      "execution_count": null,
      "outputs": [
        {
          "output_type": "execute_result",
          "data": {
            "text/plain": [
              "'Esto es una cadena'"
            ],
            "application/vnd.google.colaboratory.intrinsic+json": {
              "type": "string"
            }
          },
          "metadata": {},
          "execution_count": 59
        }
      ]
    },
    {
      "cell_type": "code",
      "source": [
        "# Ejemplo de string con comillas simples en el texto\n",
        "\"Este es un 'string' de prueba\""
      ],
      "metadata": {
        "id": "Hjfa9kn1X_3H",
        "colab": {
          "base_uri": "https://localhost:8080/",
          "height": 35
        },
        "outputId": "301955bf-1492-49dc-ac37-96dfc953c5f0"
      },
      "execution_count": null,
      "outputs": [
        {
          "output_type": "execute_result",
          "data": {
            "text/plain": [
              "\"Este es un 'string' de prueba\""
            ],
            "application/vnd.google.colaboratory.intrinsic+json": {
              "type": "string"
            }
          },
          "metadata": {},
          "execution_count": 61
        }
      ]
    },
    {
      "cell_type": "code",
      "source": [
        "# Ejemplo de string con comillas dobles en el texto\n",
        "'Este es un \"string\" de prueba'"
      ],
      "metadata": {
        "id": "euErbT2ZYKei",
        "colab": {
          "base_uri": "https://localhost:8080/",
          "height": 35
        },
        "outputId": "f2c04b10-5407-4cb7-9347-e07348b45ad0"
      },
      "execution_count": null,
      "outputs": [
        {
          "output_type": "execute_result",
          "data": {
            "text/plain": [
              "'Este es un \"string\" de prueba'"
            ],
            "application/vnd.google.colaboratory.intrinsic+json": {
              "type": "string"
            }
          },
          "metadata": {},
          "execution_count": 62
        }
      ]
    },
    {
      "cell_type": "code",
      "source": [
        "type(\"ABCD\")"
      ],
      "metadata": {
        "id": "nHg5-mUvEjDw",
        "colab": {
          "base_uri": "https://localhost:8080/"
        },
        "outputId": "cbdcbfdd-ba93-4a70-ddc3-f936702015ba"
      },
      "execution_count": null,
      "outputs": [
        {
          "output_type": "execute_result",
          "data": {
            "text/plain": [
              "str"
            ]
          },
          "metadata": {},
          "execution_count": 63
        }
      ]
    },
    {
      "cell_type": "code",
      "source": [
        "type('ABCD')"
      ],
      "metadata": {
        "colab": {
          "base_uri": "https://localhost:8080/"
        },
        "id": "vbRfssnRcArO",
        "outputId": "2b77f445-5409-4f83-db55-385c3f959ae6"
      },
      "execution_count": null,
      "outputs": [
        {
          "output_type": "execute_result",
          "data": {
            "text/plain": [
              "str"
            ]
          },
          "metadata": {},
          "execution_count": 64
        }
      ]
    },
    {
      "cell_type": "code",
      "source": [
        "# son ASCII  -- https://elcodigoascii.com.ar/\n",
        "ord(\"A\")"
      ],
      "metadata": {
        "colab": {
          "base_uri": "https://localhost:8080/"
        },
        "id": "OaeogHKPcE9H",
        "outputId": "cbc2e2fe-34e1-4ba8-ea47-1dbb6209f538"
      },
      "execution_count": null,
      "outputs": [
        {
          "output_type": "execute_result",
          "data": {
            "text/plain": [
              "65"
            ]
          },
          "metadata": {},
          "execution_count": 66
        }
      ]
    },
    {
      "cell_type": "code",
      "source": [
        "hex(ord(\"A\"))"
      ],
      "metadata": {
        "colab": {
          "base_uri": "https://localhost:8080/",
          "height": 35
        },
        "id": "rkckATUxcQID",
        "outputId": "7e61a9d9-a921-475f-b4ed-fbbdd173512b"
      },
      "execution_count": null,
      "outputs": [
        {
          "output_type": "execute_result",
          "data": {
            "text/plain": [
              "'0x41'"
            ],
            "application/vnd.google.colaboratory.intrinsic+json": {
              "type": "string"
            }
          },
          "metadata": {},
          "execution_count": 68
        }
      ]
    },
    {
      "cell_type": "code",
      "source": [
        "hex(15)"
      ],
      "metadata": {
        "colab": {
          "base_uri": "https://localhost:8080/",
          "height": 35
        },
        "id": "dAkX6wHAcfI9",
        "outputId": "b41202ba-ad74-461d-cfc9-9ba28390be31"
      },
      "execution_count": null,
      "outputs": [
        {
          "output_type": "execute_result",
          "data": {
            "text/plain": [
              "'0xf'"
            ],
            "application/vnd.google.colaboratory.intrinsic+json": {
              "type": "string"
            }
          },
          "metadata": {},
          "execution_count": 69
        }
      ]
    },
    {
      "cell_type": "markdown",
      "source": [
        "Preguntas❓"
      ],
      "metadata": {
        "id": "FZ6-sGMTINAv"
      }
    },
    {
      "cell_type": "markdown",
      "source": [
        "##### 1.3.2 Manipulación de cadenas de texto"
      ],
      "metadata": {
        "id": "ZBz-4OX7Y6pt"
      }
    },
    {
      "cell_type": "markdown",
      "source": [
        "Python ofrece varias formas de manipular cadenas de texto, como la indexación, el slicing y el uso de métodos de cadena."
      ],
      "metadata": {
        "id": "3738QG6GZGt6"
      }
    },
    {
      "cell_type": "markdown",
      "source": [
        "###### Indexacion"
      ],
      "metadata": {
        "id": "C8lWD-YaZLWq"
      }
    },
    {
      "cell_type": "markdown",
      "source": [
        "Cada carácter en una cadena tiene una posición específica (índice), que comienza desde 0 para el primer carácter y puede ser negativo para contar desde el final."
      ],
      "metadata": {
        "id": "z2Pz-RY_anZh"
      }
    },
    {
      "cell_type": "code",
      "source": [
        "# Ejemplo con índice positivo\n",
        "\"HOLA\""
      ],
      "metadata": {
        "id": "B1GlJYv6apzC",
        "colab": {
          "base_uri": "https://localhost:8080/",
          "height": 35
        },
        "outputId": "3ecdfe37-c179-418c-a54f-7e9c0bfc9785"
      },
      "execution_count": null,
      "outputs": [
        {
          "output_type": "execute_result",
          "data": {
            "text/plain": [
              "'HOLA'"
            ],
            "application/vnd.google.colaboratory.intrinsic+json": {
              "type": "string"
            }
          },
          "metadata": {},
          "execution_count": 70
        }
      ]
    },
    {
      "cell_type": "code",
      "source": [
        "\"HOLA\"[0]"
      ],
      "metadata": {
        "colab": {
          "base_uri": "https://localhost:8080/",
          "height": 35
        },
        "id": "KkcOIFf3dA27",
        "outputId": "c24f26f4-34e5-4d3f-981e-200480b3a54e"
      },
      "execution_count": null,
      "outputs": [
        {
          "output_type": "execute_result",
          "data": {
            "text/plain": [
              "'H'"
            ],
            "application/vnd.google.colaboratory.intrinsic+json": {
              "type": "string"
            }
          },
          "metadata": {},
          "execution_count": 71
        }
      ]
    },
    {
      "cell_type": "code",
      "source": [
        "\"HOLA\"[1]"
      ],
      "metadata": {
        "colab": {
          "base_uri": "https://localhost:8080/",
          "height": 35
        },
        "id": "KbGwfvOcdHg2",
        "outputId": "8a45b0bb-1915-4780-8c30-1b7df75fc2f1"
      },
      "execution_count": null,
      "outputs": [
        {
          "output_type": "execute_result",
          "data": {
            "text/plain": [
              "'O'"
            ],
            "application/vnd.google.colaboratory.intrinsic+json": {
              "type": "string"
            }
          },
          "metadata": {},
          "execution_count": 72
        }
      ]
    },
    {
      "cell_type": "code",
      "source": [
        "\"HOLA\"[-1]"
      ],
      "metadata": {
        "colab": {
          "base_uri": "https://localhost:8080/",
          "height": 35
        },
        "id": "29hvIGlAdNAC",
        "outputId": "790f060c-9188-4947-c7f8-3c58cbf9b818"
      },
      "execution_count": null,
      "outputs": [
        {
          "output_type": "execute_result",
          "data": {
            "text/plain": [
              "'A'"
            ],
            "application/vnd.google.colaboratory.intrinsic+json": {
              "type": "string"
            }
          },
          "metadata": {},
          "execution_count": 73
        }
      ]
    },
    {
      "cell_type": "code",
      "source": [
        "\"HOLA\"[4]"
      ],
      "metadata": {
        "colab": {
          "base_uri": "https://localhost:8080/",
          "height": 141
        },
        "id": "tmVZTHiodXRA",
        "outputId": "d71c1d0b-d394-4df0-e0f4-517f84fc8307"
      },
      "execution_count": null,
      "outputs": [
        {
          "output_type": "error",
          "ename": "IndexError",
          "evalue": "string index out of range",
          "traceback": [
            "\u001b[0;31m---------------------------------------------------------------------------\u001b[0m",
            "\u001b[0;31mIndexError\u001b[0m                                Traceback (most recent call last)",
            "\u001b[0;32m<ipython-input-74-7bf9e0915f4e>\u001b[0m in \u001b[0;36m<cell line: 1>\u001b[0;34m()\u001b[0m\n\u001b[0;32m----> 1\u001b[0;31m \u001b[0;34m\"HOLA\"\u001b[0m\u001b[0;34m[\u001b[0m\u001b[0;36m4\u001b[0m\u001b[0;34m]\u001b[0m\u001b[0;34m\u001b[0m\u001b[0;34m\u001b[0m\u001b[0m\n\u001b[0m",
            "\u001b[0;31mIndexError\u001b[0m: string index out of range"
          ]
        }
      ]
    },
    {
      "cell_type": "code",
      "source": [
        "# Ejemplo con índice negativo\n",
        "\"HOLA\"[-4]"
      ],
      "metadata": {
        "id": "h-Ed6BxqnavG",
        "colab": {
          "base_uri": "https://localhost:8080/",
          "height": 35
        },
        "outputId": "977b1c26-785e-4ba0-b6d0-65ff8b6b171c"
      },
      "execution_count": null,
      "outputs": [
        {
          "output_type": "execute_result",
          "data": {
            "text/plain": [
              "'H'"
            ],
            "application/vnd.google.colaboratory.intrinsic+json": {
              "type": "string"
            }
          },
          "metadata": {},
          "execution_count": 75
        }
      ]
    },
    {
      "cell_type": "markdown",
      "source": [
        "###### Slicing"
      ],
      "metadata": {
        "id": "l5mqLU9aaux1"
      }
    },
    {
      "cell_type": "markdown",
      "source": [
        "El slicing permite extraer una parte específica de una cadena utilizando la notación [inicio:fin:paso]."
      ],
      "metadata": {
        "id": "A-tkstA6n2cu"
      }
    },
    {
      "cell_type": "code",
      "source": [
        "# Ejemplo paso por default\n",
        "\"HOLA MUNDO!!!!\"[1:5]"
      ],
      "metadata": {
        "id": "JedWeSI6axmL",
        "colab": {
          "base_uri": "https://localhost:8080/",
          "height": 35
        },
        "outputId": "854f7116-4a9e-4cca-d94d-c7b23ecb0263"
      },
      "execution_count": null,
      "outputs": [
        {
          "output_type": "execute_result",
          "data": {
            "text/plain": [
              "'OLA '"
            ],
            "application/vnd.google.colaboratory.intrinsic+json": {
              "type": "string"
            }
          },
          "metadata": {},
          "execution_count": 77
        }
      ]
    },
    {
      "cell_type": "code",
      "source": [
        "# Ejemplo con inicio fin y paso\n",
        "\"HOLA MUNDO!!!!\"[1:5:2]"
      ],
      "metadata": {
        "colab": {
          "base_uri": "https://localhost:8080/",
          "height": 35
        },
        "id": "tCUHMz4UnlcL",
        "outputId": "3167bcbb-a5f1-44f5-c084-bd219ba834e2"
      },
      "execution_count": null,
      "outputs": [
        {
          "output_type": "execute_result",
          "data": {
            "text/plain": [
              "'OA'"
            ],
            "application/vnd.google.colaboratory.intrinsic+json": {
              "type": "string"
            }
          },
          "metadata": {},
          "execution_count": 78
        }
      ]
    },
    {
      "cell_type": "code",
      "source": [
        "# Rotar el string\n",
        "\"HOLA\"[::-1]"
      ],
      "metadata": {
        "id": "JATqI1J_ned5",
        "colab": {
          "base_uri": "https://localhost:8080/",
          "height": 35
        },
        "outputId": "999a72ad-65b8-46bc-eff4-ec275a43ffe3"
      },
      "execution_count": null,
      "outputs": [
        {
          "output_type": "execute_result",
          "data": {
            "text/plain": [
              "'ALOH'"
            ],
            "application/vnd.google.colaboratory.intrinsic+json": {
              "type": "string"
            }
          },
          "metadata": {},
          "execution_count": 79
        }
      ]
    },
    {
      "cell_type": "markdown",
      "source": [
        "Preguntas❓"
      ],
      "metadata": {
        "id": "0aTgYQUcIQYW"
      }
    },
    {
      "cell_type": "markdown",
      "source": [
        "###### Métodos de cadenas"
      ],
      "metadata": {
        "id": "iPSPIATMa0ER"
      }
    },
    {
      "cell_type": "markdown",
      "source": [
        "Python proporciona varios métodos integrados para trabajar con cadenas. Algunos de los métodos más comunes incluyen:"
      ],
      "metadata": {
        "id": "qnDLSuOMa3p2"
      }
    },
    {
      "cell_type": "code",
      "source": [
        "# lower -- convierte todos los caracteres de la cadena a minúsculas\n",
        "\"ACVFR\".lower()"
      ],
      "metadata": {
        "id": "HNhj-2M8a7Nr",
        "colab": {
          "base_uri": "https://localhost:8080/",
          "height": 35
        },
        "outputId": "4d63ba60-6de5-4978-d73e-633dac03d25c"
      },
      "execution_count": null,
      "outputs": [
        {
          "output_type": "execute_result",
          "data": {
            "text/plain": [
              "'acvfr'"
            ],
            "application/vnd.google.colaboratory.intrinsic+json": {
              "type": "string"
            }
          },
          "metadata": {},
          "execution_count": 80
        }
      ]
    },
    {
      "cell_type": "code",
      "source": [
        "# upper -- convierte todos los caracteres de la cadena a mayúsculas\n",
        "\"aeioxc\".upper()"
      ],
      "metadata": {
        "id": "gDgz0D44kdpR",
        "colab": {
          "base_uri": "https://localhost:8080/",
          "height": 35
        },
        "outputId": "e2c53329-db07-45d5-9823-9ae863d721ff"
      },
      "execution_count": null,
      "outputs": [
        {
          "output_type": "execute_result",
          "data": {
            "text/plain": [
              "'AEIOXC'"
            ],
            "application/vnd.google.colaboratory.intrinsic+json": {
              "type": "string"
            }
          },
          "metadata": {},
          "execution_count": 81
        }
      ]
    },
    {
      "cell_type": "code",
      "source": [
        "# replace(old, new) -- reemplaza todas las apariciones de \"old\" con \"new\"\n",
        "\"HOLA MUNDO\".replace(\"MUNDO\", \"JUAN\")"
      ],
      "metadata": {
        "id": "gcHI6htOlBmS",
        "colab": {
          "base_uri": "https://localhost:8080/",
          "height": 35
        },
        "outputId": "5b7ada00-37bc-4e95-dcdd-c55f29a06409"
      },
      "execution_count": null,
      "outputs": [
        {
          "output_type": "execute_result",
          "data": {
            "text/plain": [
              "'HOLA JUAN'"
            ],
            "application/vnd.google.colaboratory.intrinsic+json": {
              "type": "string"
            }
          },
          "metadata": {},
          "execution_count": 82
        }
      ]
    },
    {
      "cell_type": "code",
      "source": [
        "# split(delimitador) -- divide la cadena de una lista de sub-cadenas, utilizando el delimitador\n",
        "# Ejemplo split default\n",
        "\"Hola mundo!!\".split()"
      ],
      "metadata": {
        "id": "x4bhGXaGlZUe",
        "colab": {
          "base_uri": "https://localhost:8080/"
        },
        "outputId": "ab2d701f-3990-47ba-dc10-a48925a4021d"
      },
      "execution_count": null,
      "outputs": [
        {
          "output_type": "execute_result",
          "data": {
            "text/plain": [
              "['Hola', 'mundo!!']"
            ]
          },
          "metadata": {},
          "execution_count": 83
        }
      ]
    },
    {
      "cell_type": "code",
      "source": [
        "# Ejemplo con delimitador = \",\"\n",
        "\"HOLA-MUND-O!!!\".split(\"-\")"
      ],
      "metadata": {
        "id": "cCJwT4bSo8hv",
        "colab": {
          "base_uri": "https://localhost:8080/"
        },
        "outputId": "32f28955-3820-4907-ff98-465c0dd98689"
      },
      "execution_count": null,
      "outputs": [
        {
          "output_type": "execute_result",
          "data": {
            "text/plain": [
              "['HOLA', 'MUND', 'O!!!']"
            ]
          },
          "metadata": {},
          "execution_count": 85
        }
      ]
    },
    {
      "cell_type": "code",
      "source": [
        "# strip() -- elimina los espacios en blanco al principio y al final de la cadena\n",
        "\"    Hola mundo    \".strip()"
      ],
      "metadata": {
        "id": "X0UmNcV-lm8L",
        "colab": {
          "base_uri": "https://localhost:8080/",
          "height": 35
        },
        "outputId": "bb354369-1a46-4f91-bcf1-7aa201633550"
      },
      "execution_count": null,
      "outputs": [
        {
          "output_type": "execute_result",
          "data": {
            "text/plain": [
              "'Hola mundo'"
            ],
            "application/vnd.google.colaboratory.intrinsic+json": {
              "type": "string"
            }
          },
          "metadata": {},
          "execution_count": 87
        }
      ]
    },
    {
      "cell_type": "code",
      "source": [
        "# Ayuda (help)\n",
        "help(str.lower)"
      ],
      "metadata": {
        "id": "WL8firETkZSu",
        "colab": {
          "base_uri": "https://localhost:8080/"
        },
        "outputId": "a1c7ae61-b63f-4a2c-ffc7-cbb53867a91a"
      },
      "execution_count": null,
      "outputs": [
        {
          "output_type": "stream",
          "name": "stdout",
          "text": [
            "Help on method_descriptor:\n",
            "\n",
            "lower(self, /)\n",
            "    Return a copy of the string converted to lowercase.\n",
            "\n"
          ]
        }
      ]
    },
    {
      "cell_type": "markdown",
      "source": [
        "Preguntas❓"
      ],
      "metadata": {
        "id": "gMH3pPCnIRrO"
      }
    },
    {
      "cell_type": "markdown",
      "source": [
        "###### Concatenación de cadenas"
      ],
      "metadata": {
        "id": "7J5f_1KWbB6V"
      }
    },
    {
      "cell_type": "markdown",
      "source": [
        "La concatenación de cadenas implica unir dos o más cadenas en una sola. Esto se puede hacer utilizando el operador + o el método join()."
      ],
      "metadata": {
        "id": "vjtaIqzYbMto"
      }
    },
    {
      "cell_type": "code",
      "source": [
        "# Ejemplo\n",
        "\"Hola\" + \" \" + \"mundo\" + \"!!!\""
      ],
      "metadata": {
        "id": "Xp32mDwIbUgq",
        "colab": {
          "base_uri": "https://localhost:8080/",
          "height": 35
        },
        "outputId": "05e67cc1-b785-433c-d1b6-c5edb5e80a18"
      },
      "execution_count": null,
      "outputs": [
        {
          "output_type": "execute_result",
          "data": {
            "text/plain": [
              "'Hola mundo!!!'"
            ],
            "application/vnd.google.colaboratory.intrinsic+json": {
              "type": "string"
            }
          },
          "metadata": {},
          "execution_count": 90
        }
      ]
    },
    {
      "cell_type": "markdown",
      "source": [
        "Preguntas❓"
      ],
      "metadata": {
        "id": "I3m1EaOPITC4"
      }
    },
    {
      "cell_type": "markdown",
      "source": [
        "![purple-divider](https://user-images.githubusercontent.com/7065401/52071927-c1cd7100-2562-11e9-908a-dde91ba14e59.png)\n",
        "\n",
        "#### 1.4 Variables y Primeros pasos"
      ],
      "metadata": {
        "id": "sNBPNy5g8VBH"
      }
    },
    {
      "cell_type": "markdown",
      "source": [
        "##### 1.4.1 Variables\n",
        "\n"
      ],
      "metadata": {
        "id": "8bOl-4c7ASRx"
      }
    },
    {
      "cell_type": "markdown",
      "source": [
        "###### Variables en matemáticas\n",
        "\n"
      ],
      "metadata": {
        "id": "OlLW71yjTjK4"
      }
    },
    {
      "cell_type": "markdown",
      "source": [
        "En el caso del Álgebra, una variable representa una cantidad desconocida que se relaciona con otras. Consideremos por ejemplo la ecuación, la variable x:\n",
        "\n",
        "x + 3 = 5"
      ],
      "metadata": {
        "id": "BdsTbUj3fMB1"
      }
    },
    {
      "cell_type": "markdown",
      "source": [
        "###### Variables en Python\n"
      ],
      "metadata": {
        "id": "6EMKecsfV-bW"
      }
    },
    {
      "cell_type": "markdown",
      "source": [
        "En algunos lenguajes de programación, las variables se pueden entender como \"cajas\" en las que se guardan los datos, pero en Python las variables son \"etiquetas\" que permiten hacer referencia a los datos (que se guardan en unas \"cajas\" llamadas objetos).\n",
        "\n",
        "![image.png](data:image/png;base64,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)"
      ],
      "metadata": {
        "id": "Qsh3hgy5fbKh"
      }
    },
    {
      "cell_type": "code",
      "source": [
        "A = 2\n",
        "A"
      ],
      "metadata": {
        "id": "L_5t-fh1ATtt",
        "colab": {
          "base_uri": "https://localhost:8080/"
        },
        "outputId": "35329838-4a61-4c88-cd2a-ae4613da254a"
      },
      "execution_count": null,
      "outputs": [
        {
          "output_type": "execute_result",
          "data": {
            "text/plain": [
              "2"
            ]
          },
          "metadata": {},
          "execution_count": 91
        }
      ]
    },
    {
      "cell_type": "code",
      "source": [
        "C = 2\n",
        "C"
      ],
      "metadata": {
        "id": "qKBt7qIviy0B",
        "colab": {
          "base_uri": "https://localhost:8080/"
        },
        "outputId": "2a1c8c40-3f4b-475b-a9dd-f5e6bdda817f"
      },
      "execution_count": null,
      "outputs": [
        {
          "output_type": "execute_result",
          "data": {
            "text/plain": [
              "2"
            ]
          },
          "metadata": {},
          "execution_count": 92
        }
      ]
    },
    {
      "cell_type": "markdown",
      "source": [
        "\n",
        "Para cada dato que aparece en un programa, Python crea un objeto que lo contiene. Cada objeto tiene:\n",
        "\n",
        "1. Un **identificador único** (un número entero, distinto para cada objeto). El identificador permite a Python referirse al objeto sin ambigüedades.\n",
        "\n",
        "2. Un tipo de datos (entero, decimal, cadena de caracteres, etc.). El tipo de datos permite saber a Python qué operaciones pueden hacerse con el dato.\n",
        "\n",
        "3. Un valor (el propio dato).\n",
        "\n"
      ],
      "metadata": {
        "id": "cLXg23HxdcTG"
      }
    },
    {
      "cell_type": "code",
      "source": [
        "a = 5"
      ],
      "metadata": {
        "id": "T_LlnUY7kbxz"
      },
      "execution_count": null,
      "outputs": []
    },
    {
      "cell_type": "code",
      "source": [
        "# Identificador unico\n",
        "id(a)"
      ],
      "metadata": {
        "id": "DrMeT0magMPr",
        "colab": {
          "base_uri": "https://localhost:8080/"
        },
        "outputId": "67279a3a-7aba-4d68-b0f6-34d1fc04f3ab"
      },
      "execution_count": null,
      "outputs": [
        {
          "output_type": "execute_result",
          "data": {
            "text/plain": [
              "135293486629232"
            ]
          },
          "metadata": {},
          "execution_count": 95
        }
      ]
    },
    {
      "cell_type": "code",
      "source": [
        "# Un tipo de dato\n",
        "type(a)"
      ],
      "metadata": {
        "id": "CTfLbumzgT1j",
        "colab": {
          "base_uri": "https://localhost:8080/"
        },
        "outputId": "4ba1aa8d-d826-4de3-c1b1-172013259644"
      },
      "execution_count": null,
      "outputs": [
        {
          "output_type": "execute_result",
          "data": {
            "text/plain": [
              "int"
            ]
          },
          "metadata": {},
          "execution_count": 96
        }
      ]
    },
    {
      "cell_type": "code",
      "source": [
        "# Valor\n",
        "a"
      ],
      "metadata": {
        "id": "hoglJqsQgZn6",
        "colab": {
          "base_uri": "https://localhost:8080/"
        },
        "outputId": "d1425661-b5d7-4d5d-e980-11f128983436"
      },
      "execution_count": null,
      "outputs": [
        {
          "output_type": "execute_result",
          "data": {
            "text/plain": [
              "5"
            ]
          },
          "metadata": {},
          "execution_count": 97
        }
      ]
    },
    {
      "cell_type": "code",
      "source": [
        "c = 5"
      ],
      "metadata": {
        "id": "gNKbvHomgCHK"
      },
      "execution_count": null,
      "outputs": []
    },
    {
      "cell_type": "code",
      "source": [
        "id(c)"
      ],
      "metadata": {
        "colab": {
          "base_uri": "https://localhost:8080/"
        },
        "id": "fISVmO5-gFqj",
        "outputId": "6b324e93-4456-4152-aed2-634a1734c23e"
      },
      "execution_count": null,
      "outputs": [
        {
          "output_type": "execute_result",
          "data": {
            "text/plain": [
              "135293486629232"
            ]
          },
          "metadata": {},
          "execution_count": 99
        }
      ]
    },
    {
      "cell_type": "code",
      "source": [
        "c"
      ],
      "metadata": {
        "colab": {
          "base_uri": "https://localhost:8080/"
        },
        "id": "rxdo24IngOGI",
        "outputId": "46e3ed66-a1d3-4507-f896-ae48df68840f"
      },
      "execution_count": null,
      "outputs": [
        {
          "output_type": "execute_result",
          "data": {
            "text/plain": [
              "5"
            ]
          },
          "metadata": {},
          "execution_count": 100
        }
      ]
    },
    {
      "cell_type": "code",
      "source": [
        "c = 5.0"
      ],
      "metadata": {
        "id": "NWA0s-QMgY2p"
      },
      "execution_count": null,
      "outputs": []
    },
    {
      "cell_type": "code",
      "source": [
        "id(c)"
      ],
      "metadata": {
        "colab": {
          "base_uri": "https://localhost:8080/"
        },
        "id": "mSl-x5R1gbPM",
        "outputId": "252186cf-05a0-424f-95dd-8b25b76d301e"
      },
      "execution_count": null,
      "outputs": [
        {
          "output_type": "execute_result",
          "data": {
            "text/plain": [
              "135292159610480"
            ]
          },
          "metadata": {},
          "execution_count": 102
        }
      ]
    },
    {
      "cell_type": "code",
      "source": [
        "type(c)"
      ],
      "metadata": {
        "colab": {
          "base_uri": "https://localhost:8080/"
        },
        "id": "iPtDGEaWgdoO",
        "outputId": "a0911ff5-e9b9-4ae2-b545-2d974d86aed9"
      },
      "execution_count": null,
      "outputs": [
        {
          "output_type": "execute_result",
          "data": {
            "text/plain": [
              "float"
            ]
          },
          "metadata": {},
          "execution_count": 103
        }
      ]
    },
    {
      "cell_type": "markdown",
      "source": [
        "Preguntas❓"
      ],
      "metadata": {
        "id": "PpaXJWdyIYHg"
      }
    },
    {
      "cell_type": "markdown",
      "source": [
        "Supongamos que tenemos la variable\n",
        "\n",
        "a = 10\n",
        "\n",
        "y le asignamos el valor 20"
      ],
      "metadata": {
        "id": "YbHGfbwWhjOm"
      }
    },
    {
      "cell_type": "code",
      "source": [
        "a = 10\n",
        "id(a)"
      ],
      "metadata": {
        "id": "-EvoyH-Xhnsb",
        "colab": {
          "base_uri": "https://localhost:8080/"
        },
        "outputId": "9f56acd0-43ea-4d97-caed-d344b5328a2d"
      },
      "execution_count": null,
      "outputs": [
        {
          "output_type": "execute_result",
          "data": {
            "text/plain": [
              "135293486629392"
            ]
          },
          "metadata": {},
          "execution_count": 104
        }
      ]
    },
    {
      "cell_type": "code",
      "source": [
        "a = 20\n",
        "id(a)"
      ],
      "metadata": {
        "id": "EZbVJWUULLrD",
        "colab": {
          "base_uri": "https://localhost:8080/"
        },
        "outputId": "b97c1718-e404-4182-e56e-4ae4437666fd"
      },
      "execution_count": null,
      "outputs": [
        {
          "output_type": "execute_result",
          "data": {
            "text/plain": [
              "135293486629712"
            ]
          },
          "metadata": {},
          "execution_count": 105
        }
      ]
    },
    {
      "cell_type": "code",
      "source": [
        "a = 10\n",
        "id(10)"
      ],
      "metadata": {
        "id": "VxhTXZm6LYXX"
      },
      "execution_count": null,
      "outputs": []
    },
    {
      "cell_type": "markdown",
      "source": [
        "![image.png](data:image/png;base64,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)"
      ],
      "metadata": {
        "id": "cExjDDXih3rj"
      }
    },
    {
      "cell_type": "markdown",
      "source": [
        "Supongamos que tenemos las variables\n",
        "\n",
        "* a = 10\n",
        "* b = 10\n",
        "\n",
        "y luego **a** pasa a valer 20"
      ],
      "metadata": {
        "id": "IFvBjOJNh6tE"
      }
    },
    {
      "cell_type": "code",
      "source": [
        "a = 10\n",
        "b = 10\n",
        "\n",
        "id(a)"
      ],
      "metadata": {
        "id": "cXv4Odu-iHkM",
        "colab": {
          "base_uri": "https://localhost:8080/"
        },
        "outputId": "0bff6a44-5279-46f3-c0b5-54083dbc1062"
      },
      "execution_count": null,
      "outputs": [
        {
          "output_type": "execute_result",
          "data": {
            "text/plain": [
              "135293486629392"
            ]
          },
          "metadata": {},
          "execution_count": 106
        }
      ]
    },
    {
      "cell_type": "code",
      "source": [
        "id(b)"
      ],
      "metadata": {
        "id": "cflA_PIkO3pn",
        "colab": {
          "base_uri": "https://localhost:8080/"
        },
        "outputId": "070d0068-c392-4cc4-8969-6adcc1a809b5"
      },
      "execution_count": null,
      "outputs": [
        {
          "output_type": "execute_result",
          "data": {
            "text/plain": [
              "135293486629392"
            ]
          },
          "metadata": {},
          "execution_count": 107
        }
      ]
    },
    {
      "cell_type": "code",
      "source": [
        "a"
      ],
      "metadata": {
        "id": "BHVWAQKxO-IN",
        "colab": {
          "base_uri": "https://localhost:8080/"
        },
        "outputId": "454dd2e2-6c2f-4556-e056-e028d117f9f9"
      },
      "execution_count": null,
      "outputs": [
        {
          "output_type": "execute_result",
          "data": {
            "text/plain": [
              "10"
            ]
          },
          "metadata": {},
          "execution_count": 108
        }
      ]
    },
    {
      "cell_type": "code",
      "source": [
        "b"
      ],
      "metadata": {
        "id": "0koCsV_TPCIx",
        "colab": {
          "base_uri": "https://localhost:8080/"
        },
        "outputId": "c07ac2ef-0d35-4015-bdd3-e093884e6aa6"
      },
      "execution_count": null,
      "outputs": [
        {
          "output_type": "execute_result",
          "data": {
            "text/plain": [
              "10"
            ]
          },
          "metadata": {},
          "execution_count": 109
        }
      ]
    },
    {
      "cell_type": "markdown",
      "source": [
        "Ahora pasa a valer 20"
      ],
      "metadata": {
        "id": "5JVTktwUPDZB"
      }
    },
    {
      "cell_type": "code",
      "source": [
        "a = 20"
      ],
      "metadata": {
        "id": "BUFOJGO_ML2W"
      },
      "execution_count": null,
      "outputs": []
    },
    {
      "cell_type": "code",
      "source": [
        "id(a)"
      ],
      "metadata": {
        "id": "xYECZl3pGDMt",
        "colab": {
          "base_uri": "https://localhost:8080/"
        },
        "outputId": "1ee2c9c4-6b04-4fa7-a41f-64727bbbb7bd"
      },
      "execution_count": null,
      "outputs": [
        {
          "output_type": "execute_result",
          "data": {
            "text/plain": [
              "135293486629712"
            ]
          },
          "metadata": {},
          "execution_count": 111
        }
      ]
    },
    {
      "cell_type": "code",
      "source": [
        "id(b)"
      ],
      "metadata": {
        "id": "j80LiiEyGFDD",
        "colab": {
          "base_uri": "https://localhost:8080/"
        },
        "outputId": "e7d5f32b-3ac7-4120-f86c-c59915a51076"
      },
      "execution_count": null,
      "outputs": [
        {
          "output_type": "execute_result",
          "data": {
            "text/plain": [
              "135293486629392"
            ]
          },
          "metadata": {},
          "execution_count": 112
        }
      ]
    },
    {
      "cell_type": "code",
      "source": [
        "a"
      ],
      "metadata": {
        "id": "lJ8LxeVdGH_0",
        "colab": {
          "base_uri": "https://localhost:8080/"
        },
        "outputId": "2a53efdd-c984-4744-f7f1-e3183a4f9ce5"
      },
      "execution_count": null,
      "outputs": [
        {
          "output_type": "execute_result",
          "data": {
            "text/plain": [
              "20"
            ]
          },
          "metadata": {},
          "execution_count": 113
        }
      ]
    },
    {
      "cell_type": "code",
      "source": [
        "b"
      ],
      "metadata": {
        "id": "GHbVI9xIGKil",
        "colab": {
          "base_uri": "https://localhost:8080/"
        },
        "outputId": "28e7cd8f-f6d4-413e-bf46-3e0d852975bf"
      },
      "execution_count": null,
      "outputs": [
        {
          "output_type": "execute_result",
          "data": {
            "text/plain": [
              "10"
            ]
          },
          "metadata": {},
          "execution_count": 114
        }
      ]
    },
    {
      "cell_type": "markdown",
      "source": [
        "![image.png](data:image/png;base64,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)"
      ],
      "metadata": {
        "id": "6wKRH5fJi1-T"
      }
    },
    {
      "cell_type": "markdown",
      "source": [
        "![purple-divider](https://user-images.githubusercontent.com/7065401/52071927-c1cd7100-2562-11e9-908a-dde91ba14e59.png)\n",
        "\n",
        "Las variables en Python no guardan los datos, sino que son simples nombres para **poder hacer referencia a esos objetos**.  \n"
      ],
      "metadata": {
        "id": "wB-jrp5ni5dW"
      }
    },
    {
      "cell_type": "markdown",
      "source": [
        "![purple-divider](https://user-images.githubusercontent.com/7065401/52071927-c1cd7100-2562-11e9-908a-dde91ba14e59.png)\n",
        "\n",
        "En Python, si escribimos la instrucción: a = 2.\n",
        "Se crea el objeto \"2\". Ese objeto tendrá un identificador único que se asigna en el momento de la creación y se conserva a lo largo del programa. En este caso, el objeto creado será de tipo número entero y guardará el valor 2.\n",
        "Se asocia el nombre al objeto número entero 2 creado.\n"
      ],
      "metadata": {
        "id": "W3tsEUr3kF0n"
      }
    },
    {
      "cell_type": "markdown",
      "source": [
        "Preguntas❓"
      ],
      "metadata": {
        "id": "R_NsJ01DId7m"
      }
    },
    {
      "cell_type": "markdown",
      "source": [
        "###### Como definir variables en Python"
      ],
      "metadata": {
        "id": "jwDmUSUMkIbX"
      }
    },
    {
      "cell_type": "markdown",
      "source": [
        "1. Siempre se escribe a la izquierda de la igualdad, de lo contrario, Python generará un mensaje de error:"
      ],
      "metadata": {
        "id": "W63Wdaw2nDWh"
      }
    },
    {
      "cell_type": "code",
      "source": [
        "nombre = \"Juan\"\n",
        "edad = 23\n"
      ],
      "metadata": {
        "id": "Y8DC4B5fnFN3"
      },
      "execution_count": null,
      "outputs": []
    },
    {
      "cell_type": "code",
      "source": [
        "edad"
      ],
      "metadata": {
        "id": "9afz7UyzlrjO",
        "colab": {
          "base_uri": "https://localhost:8080/"
        },
        "outputId": "81c5e130-52a1-43c0-9156-9d8b5f8ee246"
      },
      "execution_count": null,
      "outputs": [
        {
          "output_type": "execute_result",
          "data": {
            "text/plain": [
              "23"
            ]
          },
          "metadata": {},
          "execution_count": 117
        }
      ]
    },
    {
      "cell_type": "code",
      "source": [
        "23 = edad # Incorrecto"
      ],
      "metadata": {
        "id": "_5B15RfXM7P_",
        "colab": {
          "base_uri": "https://localhost:8080/",
          "height": 106
        },
        "outputId": "f2814652-b7f6-4116-cfac-b9b14448ba55"
      },
      "execution_count": null,
      "outputs": [
        {
          "output_type": "error",
          "ename": "SyntaxError",
          "evalue": "cannot assign to literal here. Maybe you meant '==' instead of '='? (<ipython-input-118-827f6d3ad4d9>, line 1)",
          "traceback": [
            "\u001b[0;36m  File \u001b[0;32m\"<ipython-input-118-827f6d3ad4d9>\"\u001b[0;36m, line \u001b[0;32m1\u001b[0m\n\u001b[0;31m    23 = edad\u001b[0m\n\u001b[0m    ^\u001b[0m\n\u001b[0;31mSyntaxError\u001b[0m\u001b[0;31m:\u001b[0m cannot assign to literal here. Maybe you meant '==' instead of '='?\n"
          ]
        }
      ]
    },
    {
      "cell_type": "markdown",
      "source": [
        "Definir la variable antes de usarla"
      ],
      "metadata": {
        "id": "AVuFbavomfwB"
      }
    },
    {
      "cell_type": "code",
      "source": [
        "y = 0.5\n",
        "y"
      ],
      "metadata": {
        "id": "XtwpBLCDlHY9",
        "colab": {
          "base_uri": "https://localhost:8080/"
        },
        "outputId": "a140f6ca-dd5d-4342-f03f-9e33985e72ba"
      },
      "execution_count": null,
      "outputs": [
        {
          "output_type": "execute_result",
          "data": {
            "text/plain": [
              "0.5"
            ]
          },
          "metadata": {},
          "execution_count": 119
        }
      ]
    },
    {
      "cell_type": "markdown",
      "source": [
        "2. El nombre de una variable no puede incluir espacios en blanco"
      ],
      "metadata": {
        "id": "hAnXmAM2ozcp"
      }
    },
    {
      "cell_type": "code",
      "source": [
        "Nombre_cliente = \"Juan\"\n",
        "Nombre_cliente"
      ],
      "metadata": {
        "id": "ronRRfwLo24O",
        "colab": {
          "base_uri": "https://localhost:8080/",
          "height": 35
        },
        "outputId": "44983adf-998d-4990-c45e-1bca73c6b0c2"
      },
      "execution_count": null,
      "outputs": [
        {
          "output_type": "execute_result",
          "data": {
            "text/plain": [
              "'Juan'"
            ],
            "application/vnd.google.colaboratory.intrinsic+json": {
              "type": "string"
            }
          },
          "metadata": {},
          "execution_count": 121
        }
      ]
    },
    {
      "cell_type": "markdown",
      "source": [
        "3. Los nombres de las variables pueden contener mayúsculas, pero tene en cuenta que Python distingue entre mayúsculas y minúsculas (en inglés se dice que Python es case-sensitive)."
      ],
      "metadata": {
        "id": "dhALt36PpEj6"
      }
    },
    {
      "cell_type": "code",
      "source": [
        "Nombre = \"Pepe\"\n",
        "nombre = \"Juan\"\n",
        "\n",
        "print(Nombre)\n",
        "print(nombre)"
      ],
      "metadata": {
        "id": "PsO8Y9FJm6Af",
        "colab": {
          "base_uri": "https://localhost:8080/"
        },
        "outputId": "d970ffc5-0eb0-4a08-f33d-533c23271402"
      },
      "execution_count": null,
      "outputs": [
        {
          "output_type": "stream",
          "name": "stdout",
          "text": [
            "Pepe\n",
            "Juan\n"
          ]
        }
      ]
    },
    {
      "cell_type": "code",
      "source": [
        "nombre"
      ],
      "metadata": {
        "colab": {
          "base_uri": "https://localhost:8080/",
          "height": 35
        },
        "id": "x4eb9a1oin-j",
        "outputId": "9e862091-1b06-4286-e992-ed5e66aa6c34"
      },
      "execution_count": null,
      "outputs": [
        {
          "output_type": "execute_result",
          "data": {
            "text/plain": [
              "'Juan'"
            ],
            "application/vnd.google.colaboratory.intrinsic+json": {
              "type": "string"
            }
          },
          "metadata": {},
          "execution_count": 123
        }
      ]
    },
    {
      "cell_type": "code",
      "source": [
        "Nombre"
      ],
      "metadata": {
        "colab": {
          "base_uri": "https://localhost:8080/",
          "height": 35
        },
        "id": "4-zWv4y_ipX1",
        "outputId": "6f02e4ac-ff34-4aba-b72f-02ad4fa3ae96"
      },
      "execution_count": null,
      "outputs": [
        {
          "output_type": "execute_result",
          "data": {
            "text/plain": [
              "'Pepe'"
            ],
            "application/vnd.google.colaboratory.intrinsic+json": {
              "type": "string"
            }
          },
          "metadata": {},
          "execution_count": 124
        }
      ]
    },
    {
      "cell_type": "markdown",
      "source": [
        "4. En cadenas de texto: Si no ponemos comillas para asignar un string, python entiende que hacemos referencia a otra variable"
      ],
      "metadata": {
        "id": "U5kVPR9Vn5L1"
      }
    },
    {
      "cell_type": "code",
      "source": [
        "Pablo = \"Juan\"\n",
        "nombre = Pablo\n",
        "nombre"
      ],
      "metadata": {
        "id": "bVM-oGqfnyuo",
        "colab": {
          "base_uri": "https://localhost:8080/",
          "height": 35
        },
        "outputId": "176144e9-58c8-45bd-d6d3-437f2dd33b20"
      },
      "execution_count": null,
      "outputs": [
        {
          "output_type": "execute_result",
          "data": {
            "text/plain": [
              "'Juan'"
            ],
            "application/vnd.google.colaboratory.intrinsic+json": {
              "type": "string"
            }
          },
          "metadata": {},
          "execution_count": 127
        }
      ]
    },
    {
      "cell_type": "code",
      "source": [
        "id(Pablo)"
      ],
      "metadata": {
        "colab": {
          "base_uri": "https://localhost:8080/"
        },
        "id": "Dw-fq3MyjAsz",
        "outputId": "3b386ec6-db9d-4d1d-c1d9-9e987cade337"
      },
      "execution_count": null,
      "outputs": [
        {
          "output_type": "execute_result",
          "data": {
            "text/plain": [
              "135292157740720"
            ]
          },
          "metadata": {},
          "execution_count": 128
        }
      ]
    },
    {
      "cell_type": "code",
      "source": [
        "id(nombre)"
      ],
      "metadata": {
        "colab": {
          "base_uri": "https://localhost:8080/"
        },
        "id": "hDLe5Hm6jCld",
        "outputId": "a6828041-0c8a-42bb-8b8e-cfbdd79bc88e"
      },
      "execution_count": null,
      "outputs": [
        {
          "output_type": "execute_result",
          "data": {
            "text/plain": [
              "135292157740720"
            ]
          },
          "metadata": {},
          "execution_count": 129
        }
      ]
    },
    {
      "cell_type": "code",
      "source": [
        "nombre = \"Pablo\""
      ],
      "metadata": {
        "id": "c1csjEUTi6s2"
      },
      "execution_count": null,
      "outputs": []
    },
    {
      "cell_type": "code",
      "source": [
        "id(nombre)"
      ],
      "metadata": {
        "colab": {
          "base_uri": "https://localhost:8080/"
        },
        "id": "zCMzmTaPjG8_",
        "outputId": "8fcb339a-7cb3-436e-8523-b754b433b716"
      },
      "execution_count": null,
      "outputs": [
        {
          "output_type": "execute_result",
          "data": {
            "text/plain": [
              "135292156365232"
            ]
          },
          "metadata": {},
          "execution_count": 132
        }
      ]
    },
    {
      "cell_type": "code",
      "source": [
        "edad = 25\n",
        "nombre = \"Juan\"\n",
        "\n",
        "edad_doble = edad * 2"
      ],
      "metadata": {
        "id": "dp5q2bDqO7Q9"
      },
      "execution_count": null,
      "outputs": []
    },
    {
      "cell_type": "code",
      "source": [
        "edad_doble"
      ],
      "metadata": {
        "id": "J7YnYdesGe69"
      },
      "execution_count": null,
      "outputs": []
    },
    {
      "cell_type": "code",
      "source": [
        "nombre"
      ],
      "metadata": {
        "id": "JhyYEH8OGiJd"
      },
      "execution_count": null,
      "outputs": []
    },
    {
      "cell_type": "code",
      "source": [
        "pablo = \"pablo\"\n",
        "nombre = pablo\n",
        "nombre"
      ],
      "metadata": {
        "id": "oTQ0vovSQc-5"
      },
      "execution_count": null,
      "outputs": []
    },
    {
      "cell_type": "markdown",
      "source": [
        "**Importante!!**\n",
        "Aunque no es obligatorio, se recomienda que el nombre de la variable esté relacionado con la información que se almacena en ella **para que sea más fácil entender el programa.**"
      ],
      "metadata": {
        "id": "FVgfaMKooffr"
      }
    },
    {
      "cell_type": "code",
      "source": [
        "# palabras reservadas\n",
        "import keyword\n",
        "keyword.kwlist"
      ],
      "metadata": {
        "id": "sER8ghmwPajM",
        "colab": {
          "base_uri": "https://localhost:8080/"
        },
        "outputId": "50d8fb6c-fdf0-44d5-9295-46f71a3414c4"
      },
      "execution_count": null,
      "outputs": [
        {
          "output_type": "execute_result",
          "data": {
            "text/plain": [
              "['False',\n",
              " 'None',\n",
              " 'True',\n",
              " 'and',\n",
              " 'as',\n",
              " 'assert',\n",
              " 'async',\n",
              " 'await',\n",
              " 'break',\n",
              " 'class',\n",
              " 'continue',\n",
              " 'def',\n",
              " 'del',\n",
              " 'elif',\n",
              " 'else',\n",
              " 'except',\n",
              " 'finally',\n",
              " 'for',\n",
              " 'from',\n",
              " 'global',\n",
              " 'if',\n",
              " 'import',\n",
              " 'in',\n",
              " 'is',\n",
              " 'lambda',\n",
              " 'nonlocal',\n",
              " 'not',\n",
              " 'or',\n",
              " 'pass',\n",
              " 'raise',\n",
              " 'return',\n",
              " 'try',\n",
              " 'while',\n",
              " 'with',\n",
              " 'yield']"
            ]
          },
          "metadata": {},
          "execution_count": 134
        }
      ]
    },
    {
      "cell_type": "markdown",
      "source": [
        "Preguntas❓"
      ],
      "metadata": {
        "id": "D9ts753_IhBS"
      }
    },
    {
      "cell_type": "markdown",
      "source": [
        "##### 1.4.1 Salida por pantalla **print**"
      ],
      "metadata": {
        "id": "aoKJKQNxJUd_"
      }
    },
    {
      "cell_type": "markdown",
      "source": [
        "La forma correcta de mostrar cadenas de texto (u otros objetos) por pantalla en Python es utilizando una función llamada print (imprimir). Se indica lo que se desea mostrar por pantalla entre paréntesis."
      ],
      "metadata": {
        "id": "AsaU9HWCM8yk"
      }
    },
    {
      "cell_type": "code",
      "source": [
        "print(\"Hola mundo!!!\")"
      ],
      "metadata": {
        "id": "iyisEMONJdEZ",
        "colab": {
          "base_uri": "https://localhost:8080/"
        },
        "outputId": "430361ed-d850-4e3d-a4a6-754853846933"
      },
      "execution_count": null,
      "outputs": [
        {
          "output_type": "stream",
          "name": "stdout",
          "text": [
            "Hola mundo!!!\n"
          ]
        }
      ]
    },
    {
      "cell_type": "code",
      "source": [
        "print(\"Columna1\\tColumna2\\tColumna3\")"
      ],
      "metadata": {
        "id": "B39Q-NYTICoZ",
        "colab": {
          "base_uri": "https://localhost:8080/"
        },
        "outputId": "22c8aec8-bd22-4392-c6f0-2308840c2302"
      },
      "execution_count": null,
      "outputs": [
        {
          "output_type": "stream",
          "name": "stdout",
          "text": [
            "Columna1\tColumna2\tColumna3\n"
          ]
        }
      ]
    },
    {
      "cell_type": "code",
      "source": [
        "print(\"Hola\\nmundo\")"
      ],
      "metadata": {
        "id": "jmAxJhKYIMi_",
        "colab": {
          "base_uri": "https://localhost:8080/"
        },
        "outputId": "38e2cd5a-0b2e-4a15-acbd-5363eeb5db29"
      },
      "execution_count": null,
      "outputs": [
        {
          "output_type": "stream",
          "name": "stdout",
          "text": [
            "Hola\n",
            "mundo\n"
          ]
        }
      ]
    },
    {
      "cell_type": "code",
      "source": [
        "print(\"\"\"Ingrese una opcion:\n",
        "        1. Ingresar nombre\n",
        "        2. Ingresar valor\n",
        "        \"\"\")"
      ],
      "metadata": {
        "id": "281L1qIWIX8_",
        "colab": {
          "base_uri": "https://localhost:8080/"
        },
        "outputId": "e8fd256f-2f17-4d94-fc02-1d3dcd1177e0"
      },
      "execution_count": null,
      "outputs": [
        {
          "output_type": "stream",
          "name": "stdout",
          "text": [
            "Ingrese una opcion:\n",
            "        1. Ingresar nombre\n",
            "        2. Ingresar valor\n",
            "        \n"
          ]
        }
      ]
    },
    {
      "cell_type": "code",
      "source": [
        "print(\"Ingrese una opcion:\")\n",
        "print(\"1. Ingrese valor\")\n"
      ],
      "metadata": {
        "id": "b53GttC4Jip3",
        "colab": {
          "base_uri": "https://localhost:8080/"
        },
        "outputId": "e4a8d3fe-0059-4a65-c360-7003f0e564a6"
      },
      "execution_count": null,
      "outputs": [
        {
          "output_type": "stream",
          "name": "stdout",
          "text": [
            "Ingrese una opcion:\n",
            "1. Ingrese valor\n"
          ]
        }
      ]
    },
    {
      "cell_type": "code",
      "source": [
        "print(\"Hola\\\\nmundo\")"
      ],
      "metadata": {
        "id": "6ONU4HchJMVb",
        "colab": {
          "base_uri": "https://localhost:8080/"
        },
        "outputId": "188e099e-b24b-476f-a106-97ef6b31406a"
      },
      "execution_count": null,
      "outputs": [
        {
          "output_type": "stream",
          "name": "stdout",
          "text": [
            "Hola\\nmundo\n"
          ]
        }
      ]
    },
    {
      "cell_type": "markdown",
      "source": [
        "Imprimir variables"
      ],
      "metadata": {
        "id": "Hv6ImYBhVPq5"
      }
    },
    {
      "cell_type": "code",
      "source": [
        "# Ejemplos\n",
        "edad = 23.0\n",
        "print(edad)"
      ],
      "metadata": {
        "id": "Ak6nfcfFVSx3",
        "colab": {
          "base_uri": "https://localhost:8080/"
        },
        "outputId": "7cf8c6f2-43ed-45a8-946f-ff50a7fd97de"
      },
      "execution_count": null,
      "outputs": [
        {
          "output_type": "stream",
          "name": "stdout",
          "text": [
            "23.0\n"
          ]
        }
      ]
    },
    {
      "cell_type": "markdown",
      "source": [
        "f-strings -- python moderno (A partir de la versión 3.6)"
      ],
      "metadata": {
        "id": "2U5QfqEyVTnk"
      }
    },
    {
      "cell_type": "code",
      "source": [
        "# Ejemplos\n",
        "edad = 45\n",
        "nombre = \"pepe\"\n",
        "altura = 34.7\n",
        "\n",
        "print(f\"nombre : {nombre} -- altura {altura} y tiene {edad} años \")"
      ],
      "metadata": {
        "id": "EifZEmxQVVEu",
        "colab": {
          "base_uri": "https://localhost:8080/"
        },
        "outputId": "5949339c-7ea7-428d-902b-9625b0e79848"
      },
      "execution_count": null,
      "outputs": [
        {
          "output_type": "stream",
          "name": "stdout",
          "text": [
            "nombre : pepe -- altura 34.7 y tiene 45 años \n"
          ]
        }
      ]
    },
    {
      "cell_type": "markdown",
      "source": [
        "Preguntas❓"
      ],
      "metadata": {
        "id": "TInGBElDIkSI"
      }
    },
    {
      "cell_type": "markdown",
      "source": [
        "##### 1.4.3 Ingreso de datos por teclado **input**\n",
        "\n"
      ],
      "metadata": {
        "id": "NjhVX-ajp5o7"
      }
    },
    {
      "cell_type": "markdown",
      "source": [
        "Python tiene una función llamada input() la cual permite obtener texto escrito por teclado. Al llegar a la función, el programa se detiene esperando que se escriba algo y se pulse la tecla **Intro**."
      ],
      "metadata": {
        "id": "JG6s0DSRqIhs"
      }
    },
    {
      "cell_type": "code",
      "source": [
        "# Ingresar el nombre de una persona y guardarlo en una variable\n",
        "print(\"Ingrese su nombre\")\n",
        "nombre =  input()\n",
        "\n",
        "print(f\"el nombre ingresado es {nombre}\")"
      ],
      "metadata": {
        "id": "_g3OI9VLqBeT",
        "colab": {
          "base_uri": "https://localhost:8080/"
        },
        "outputId": "54894cf6-95bf-4d9d-d8bb-c7b951467bf4"
      },
      "execution_count": null,
      "outputs": [
        {
          "output_type": "stream",
          "name": "stdout",
          "text": [
            "Ingrese su nombre\n",
            "pablo\n",
            "el nombre ingresado es pablo\n"
          ]
        }
      ]
    },
    {
      "cell_type": "markdown",
      "source": [
        "Se le puede enviar un argumento que se escribe en la pantalla"
      ],
      "metadata": {
        "id": "u42_YEPyqhUM"
      }
    },
    {
      "cell_type": "code",
      "source": [
        "# ejemplo anterior\n",
        "# print(\"Ingrese su nombre\")\n",
        "nombre =  input(\"Ingrese su nombre: \")\n",
        "\n",
        "print(f\"el nombre ingresado es {nombre}\")"
      ],
      "metadata": {
        "id": "nz_UsFQXVLfM",
        "colab": {
          "base_uri": "https://localhost:8080/"
        },
        "outputId": "21b26eee-027e-47fc-fb03-85021d7d1873"
      },
      "execution_count": null,
      "outputs": [
        {
          "output_type": "stream",
          "name": "stdout",
          "text": [
            "Ingrese su nombre: pablo\n",
            "el nombre ingresado es pablo\n"
          ]
        }
      ]
    },
    {
      "cell_type": "markdown",
      "source": [
        "Conversion de tipos"
      ],
      "metadata": {
        "id": "ap9DZ216q9Hn"
      }
    },
    {
      "cell_type": "code",
      "source": [
        "# Ingresar dos numeros y sumarlos\n",
        "numero1 = input(\"numero1: \")\n",
        "numero2 = input(\"numero2: \")\n",
        "\n",
        "resultado = numero1 + numero2\n",
        "print(resultado)"
      ],
      "metadata": {
        "id": "zURKKswRVV49",
        "colab": {
          "base_uri": "https://localhost:8080/"
        },
        "outputId": "9850683e-d177-4e42-de1b-7d175d6cbfd5"
      },
      "execution_count": null,
      "outputs": [
        {
          "output_type": "stream",
          "name": "stdout",
          "text": [
            "numero1: 4\n",
            "numer2: 1\n",
            "41\n"
          ]
        }
      ]
    },
    {
      "cell_type": "code",
      "source": [
        "foo = input(\"valor: \")\n",
        "\n",
        "type(foo)"
      ],
      "metadata": {
        "colab": {
          "base_uri": "https://localhost:8080/"
        },
        "id": "qycYh3VVlfXT",
        "outputId": "13643747-8c5a-49c3-8bca-6714cf340d7f"
      },
      "execution_count": null,
      "outputs": [
        {
          "name": "stdout",
          "output_type": "stream",
          "text": [
            "valor: 4\n"
          ]
        },
        {
          "output_type": "execute_result",
          "data": {
            "text/plain": [
              "str"
            ]
          },
          "metadata": {},
          "execution_count": 148
        }
      ]
    },
    {
      "cell_type": "code",
      "source": [
        "numero1 = input(\"numero1: \")\n",
        "numero2 = input(\"numero2: \")\n",
        "\n",
        "resultado = int(numero1) + int(numero2)\n",
        "print(resultado)"
      ],
      "metadata": {
        "colab": {
          "base_uri": "https://localhost:8080/"
        },
        "id": "7AVlO5_4ltIG",
        "outputId": "1eb87f24-2b2e-49c0-9e03-1fc3d5211d2a"
      },
      "execution_count": null,
      "outputs": [
        {
          "output_type": "stream",
          "name": "stdout",
          "text": [
            "numero1: 4\n",
            "numero2: 1\n",
            "5\n"
          ]
        }
      ]
    },
    {
      "cell_type": "code",
      "source": [
        "# Ingresar dos decimales y sumarlos\n",
        "numero1 = float(input(\"numero1: \"))\n",
        "numero2 = float(input(\"numero2: \"))\n",
        "\n",
        "resultado = float(numero1) + float(numero2)\n",
        "print(resultado)"
      ],
      "metadata": {
        "id": "rVHAWts3qyx-",
        "colab": {
          "base_uri": "https://localhost:8080/"
        },
        "outputId": "3ab39f06-9c4f-4fc7-9562-7006ffc65a3a"
      },
      "execution_count": null,
      "outputs": [
        {
          "output_type": "stream",
          "name": "stdout",
          "text": [
            "numero1: 34.9\n",
            "numero2: 1.1\n",
            "36.0\n"
          ]
        }
      ]
    },
    {
      "cell_type": "code",
      "source": [
        "int(\"34\")"
      ],
      "metadata": {
        "colab": {
          "base_uri": "https://localhost:8080/"
        },
        "id": "RzFdP4e7mJKk",
        "outputId": "a630602c-b69d-4446-9fda-0300663a2537"
      },
      "execution_count": null,
      "outputs": [
        {
          "output_type": "execute_result",
          "data": {
            "text/plain": [
              "34"
            ]
          },
          "metadata": {},
          "execution_count": 152
        }
      ]
    },
    {
      "cell_type": "markdown",
      "source": [
        "Preguntas❓"
      ],
      "metadata": {
        "id": "qvw28vm5IuhA"
      }
    },
    {
      "cell_type": "markdown",
      "source": [
        "![purple-divider](https://user-images.githubusercontent.com/7065401/52071927-c1cd7100-2562-11e9-908a-dde91ba14e59.png)\n",
        "\n",
        "#### 1.5 Operaciones Básicas con Python\n",
        "\n"
      ],
      "metadata": {
        "id": "PMnzJGdcrhGm"
      }
    },
    {
      "cell_type": "markdown",
      "source": [
        "1. Suma\n",
        "2. Resta\n",
        "3. Multiplicacion\n",
        "4. Division"
      ],
      "metadata": {
        "id": "GImmBeqEr8KR"
      }
    },
    {
      "cell_type": "code",
      "source": [
        "# Sumar dos variables\n",
        "var1 = 45\n",
        "var2 = 5\n",
        "\n",
        "var1 + var2"
      ],
      "metadata": {
        "id": "vr-TljCBr1b8",
        "colab": {
          "base_uri": "https://localhost:8080/"
        },
        "outputId": "37f0df91-b6dd-433c-999f-f7ba41a2580b"
      },
      "execution_count": null,
      "outputs": [
        {
          "output_type": "execute_result",
          "data": {
            "text/plain": [
              "50"
            ]
          },
          "metadata": {},
          "execution_count": 156
        }
      ]
    },
    {
      "cell_type": "code",
      "source": [
        "resultado = var1 + var2"
      ],
      "metadata": {
        "id": "y8X6Jh-6m1JW"
      },
      "execution_count": null,
      "outputs": []
    },
    {
      "cell_type": "code",
      "source": [
        "print(var1 + var2)"
      ],
      "metadata": {
        "colab": {
          "base_uri": "https://localhost:8080/"
        },
        "id": "OrOHVFP3m5iX",
        "outputId": "6ecb5835-a4ad-45a3-91bc-7e41c1759e44"
      },
      "execution_count": null,
      "outputs": [
        {
          "output_type": "stream",
          "name": "stdout",
          "text": [
            "50\n"
          ]
        }
      ]
    },
    {
      "cell_type": "code",
      "source": [
        "# Restar dos variables"
      ],
      "metadata": {
        "id": "MeXe2oXuX2R5"
      },
      "execution_count": null,
      "outputs": []
    },
    {
      "cell_type": "code",
      "source": [
        "# Multiplicar dos variables"
      ],
      "metadata": {
        "id": "0F7rguDUX59f"
      },
      "execution_count": null,
      "outputs": []
    },
    {
      "cell_type": "markdown",
      "source": [
        "Concatenacion o suma de strings"
      ],
      "metadata": {
        "id": "eXZu7ryvsEaz"
      }
    },
    {
      "cell_type": "code",
      "source": [
        "#  suma de strings -- Concatenar dos strings"
      ],
      "metadata": {
        "id": "4lOfOLBtsVYX"
      },
      "execution_count": null,
      "outputs": []
    },
    {
      "cell_type": "code",
      "source": [],
      "metadata": {
        "id": "PgUAS0BVsyLI"
      },
      "execution_count": null,
      "outputs": []
    },
    {
      "cell_type": "code",
      "source": [
        "# Multiplicar string"
      ],
      "metadata": {
        "id": "MGb4BTgEnYH5"
      },
      "execution_count": null,
      "outputs": []
    },
    {
      "cell_type": "code",
      "source": [
        "# largo de un string\n",
        "\n",
        "frase = \"Hola mundo\"\n",
        "len(frase)"
      ],
      "metadata": {
        "id": "dOr5sjboJrRW",
        "colab": {
          "base_uri": "https://localhost:8080/"
        },
        "outputId": "e9ad1432-31c3-4ec5-9293-e27c0ae4c47d"
      },
      "execution_count": null,
      "outputs": [
        {
          "output_type": "execute_result",
          "data": {
            "text/plain": [
              "10"
            ]
          },
          "metadata": {},
          "execution_count": 160
        }
      ]
    },
    {
      "cell_type": "code",
      "source": [
        "# indexacion y slicing con variables\n",
        "frase = \"hola mundo\"\n",
        "frase[0]"
      ],
      "metadata": {
        "id": "nsoZqDmpJuzK",
        "colab": {
          "base_uri": "https://localhost:8080/",
          "height": 35
        },
        "outputId": "7721bce4-6fe9-46f8-c870-7225ca86b33e"
      },
      "execution_count": null,
      "outputs": [
        {
          "output_type": "execute_result",
          "data": {
            "text/plain": [
              "'h'"
            ],
            "application/vnd.google.colaboratory.intrinsic+json": {
              "type": "string"
            }
          },
          "metadata": {},
          "execution_count": 161
        }
      ]
    },
    {
      "cell_type": "code",
      "source": [
        "frase[1:3]"
      ],
      "metadata": {
        "colab": {
          "base_uri": "https://localhost:8080/",
          "height": 35
        },
        "id": "7hBxJNH6nlkr",
        "outputId": "6ec25e86-7a0b-4f34-8d8a-2b6b9d535203"
      },
      "execution_count": null,
      "outputs": [
        {
          "output_type": "execute_result",
          "data": {
            "text/plain": [
              "'ol'"
            ],
            "application/vnd.google.colaboratory.intrinsic+json": {
              "type": "string"
            }
          },
          "metadata": {},
          "execution_count": 162
        }
      ]
    },
    {
      "cell_type": "code",
      "source": [
        "# metodos especiales con variables\n",
        "frase.upper()"
      ],
      "metadata": {
        "id": "siR90Vl7JyqW",
        "colab": {
          "base_uri": "https://localhost:8080/",
          "height": 35
        },
        "outputId": "bd8a94ef-8888-4fce-84e8-c81dc89e1495"
      },
      "execution_count": null,
      "outputs": [
        {
          "output_type": "execute_result",
          "data": {
            "text/plain": [
              "'HOLA MUNDO'"
            ],
            "application/vnd.google.colaboratory.intrinsic+json": {
              "type": "string"
            }
          },
          "metadata": {},
          "execution_count": 163
        }
      ]
    },
    {
      "cell_type": "code",
      "source": [
        "frase"
      ],
      "metadata": {
        "colab": {
          "base_uri": "https://localhost:8080/",
          "height": 35
        },
        "id": "tVNZClYynuxT",
        "outputId": "ada938a0-b0c4-44ae-8636-bb47771290f4"
      },
      "execution_count": null,
      "outputs": [
        {
          "output_type": "execute_result",
          "data": {
            "text/plain": [
              "'hola mundo'"
            ],
            "application/vnd.google.colaboratory.intrinsic+json": {
              "type": "string"
            }
          },
          "metadata": {},
          "execution_count": 164
        }
      ]
    },
    {
      "cell_type": "code",
      "source": [
        "frase_mayuscula = frase.upper()"
      ],
      "metadata": {
        "id": "LBfz1ONUnySJ"
      },
      "execution_count": null,
      "outputs": []
    },
    {
      "cell_type": "code",
      "source": [
        "frase_mayuscula"
      ],
      "metadata": {
        "colab": {
          "base_uri": "https://localhost:8080/",
          "height": 35
        },
        "id": "8wOKf9aUntSo",
        "outputId": "cd3f49b7-cf76-49f8-c8fa-c0eef6890aeb"
      },
      "execution_count": null,
      "outputs": [
        {
          "output_type": "execute_result",
          "data": {
            "text/plain": [
              "'HOLA MUNDO'"
            ],
            "application/vnd.google.colaboratory.intrinsic+json": {
              "type": "string"
            }
          },
          "metadata": {},
          "execution_count": 166
        }
      ]
    },
    {
      "cell_type": "code",
      "source": [
        "frase"
      ],
      "metadata": {
        "id": "Gxaq5kLln36n",
        "outputId": "e5fed983-edff-4022-ee71-61b0672cb2bc",
        "colab": {
          "base_uri": "https://localhost:8080/",
          "height": 35
        }
      },
      "execution_count": null,
      "outputs": [
        {
          "output_type": "execute_result",
          "data": {
            "text/plain": [
              "'hola mundo'"
            ],
            "application/vnd.google.colaboratory.intrinsic+json": {
              "type": "string"
            }
          },
          "metadata": {},
          "execution_count": 167
        }
      ]
    },
    {
      "cell_type": "markdown",
      "source": [
        "Preguntas❓"
      ],
      "metadata": {
        "id": "d9gK2oKZJ6k9"
      }
    },
    {
      "cell_type": "markdown",
      "source": [
        "![purple-divider](https://user-images.githubusercontent.com/7065401/52071927-c1cd7100-2562-11e9-908a-dde91ba14e59.png)\n",
        "\n",
        "#### 1.6 Ejercicio"
      ],
      "metadata": {
        "id": "3doI7YaIJ8I7"
      }
    },
    {
      "cell_type": "markdown",
      "source": [
        "De manera individual desarrollarán un programa que permita calcular el promedio final de puntos de los equipos de fútbol en un torneo.\n",
        "\n",
        "Descripción de la actividad.\n",
        "\n",
        "En nuestro trabajo, nos solicitan desarrollar un programa que permita calcular el promedio final de los equipos de futbol en un torneo.\n",
        "Para ello, debemos considerar tres aspectos:\n",
        "\n",
        "jugaron 20 partidos durante el torneo,\n",
        "los partidos poseen diferente puntaje según el resultado, los partidos ganados 3 puntos, partido empatado 1 punto, partido perdido 0 puntos,\n",
        "el promedio final resulta de la cantidad de puntos totales divididos la cantidad de partidos"
      ],
      "metadata": {
        "id": "IYr2TPo4KFKa"
      }
    },
    {
      "cell_type": "code",
      "source": [
        "# Resolución\n",
        "\n",
        "# la resolucion esta mas abajo en el ejercicio 3"
      ],
      "metadata": {
        "id": "h3V-0r6pKLXe"
      },
      "execution_count": 1,
      "outputs": []
    },
    {
      "cell_type": "markdown",
      "source": [
        "# Ejercicios Prácticos Clase 1:"
      ],
      "metadata": {
        "id": "-qVAHgDISsOA"
      }
    },
    {
      "cell_type": "markdown",
      "source": [
        "#Ejercicio 1:\n",
        "\n",
        "Consigna: Ahora, en el código: mostrar por pantalla un mensaje de bienvenida\n",
        "Preguntar al usuario por su nombre y luego por su edad, guardando los valores en dos variables.\n",
        "Mostrar por pantalla en un solo mensaje: \"nombre\" tiene \"edad\" años.\n",
        "Siendo nombre y edad las variables que ya tienen un valor."
      ],
      "metadata": {
        "id": "jp2a_s31Szx6"
      }
    },
    {
      "cell_type": "code",
      "source": [
        "nombre = input(\"¿Cuál es tu nombre?: \")\n",
        "edad = int(input(\"¿Cuál es tu edad?: \"))\n",
        "\n",
        "mensaje = f\"{nombre} tiene {edad} años.\"\n",
        "\n",
        "print(mensaje)"
      ],
      "metadata": {
        "colab": {
          "base_uri": "https://localhost:8080/"
        },
        "id": "Hkt2GiBKSzDR",
        "outputId": "99e527e0-47f8-4949-e430-e294793ba0dc"
      },
      "execution_count": null,
      "outputs": [
        {
          "output_type": "stream",
          "name": "stdout",
          "text": [
            "¿Cuál es tu nombre?: Emilia\n",
            "¿Cuál es tu edad?: 22\n",
            "Emilia tiene 22 años.\n"
          ]
        }
      ]
    },
    {
      "cell_type": "markdown",
      "source": [
        "#Ejercicio 2:\n",
        "\n",
        "Consigna: Genera una nueva variable.\n",
        "Partiendo de:\n",
        "\n",
        "*cadena_1 = \"versátil\"*\n",
        "\n",
        "*cadena_2 = \"Python\"*\n",
        "\n",
        "*cadena_3 = \"es un lenguaje\"*\n",
        "\n",
        "*cadena_4 = \"de programación\"*\n",
        "\n",
        "Crea una nueva cadena con el siguiente contenido:\n",
        "\n",
        "\"Python es un lenguaje de programación versátil\"\n",
        "\n",
        "_Nota: Utiliza el operador + para unir las cadenas (concatenación)_\n"
      ],
      "metadata": {
        "id": "bJzePyINTBSo"
      }
    },
    {
      "cell_type": "code",
      "source": [
        "cadena_1 = \"versátil\"\n",
        "cadena_2 = \"Python\"\n",
        "cadena_3 = \"es un lenguaje\"\n",
        "cadena_4 = \"de programación\"\n",
        "\n",
        "cadena_resultado = cadena_2 + ' ' +  cadena_3 + ' ' + cadena_4 + ' ' + cadena_1\n",
        "\n",
        "print(cadena_resultado)"
      ],
      "metadata": {
        "colab": {
          "base_uri": "https://localhost:8080/"
        },
        "id": "u2IOJGoMTi7B",
        "outputId": "b03c43ae-b1c4-4795-d983-b6ffc0c1cc63"
      },
      "execution_count": null,
      "outputs": [
        {
          "output_type": "stream",
          "name": "stdout",
          "text": [
            "Python es un lenguaje de programación versátil\n"
          ]
        }
      ]
    },
    {
      "cell_type": "markdown",
      "source": [
        "#Ejercicio 3\n",
        "\n",
        "Consigna: De manera individual desarrollarán un programa que permita calcular el promedio final de puntos de los equipos de fútbol en un torneo.\n",
        "En nuestro trabajo, nos solicitan desarrollar un programa que permita calcular el promedio final de los equipos de futbol en un torneo.\n",
        "Para ello, debemos considerar tres aspectos:\n",
        "Jugaron 20 partidos durante el torneo.\n",
        "Los partidos poseen diferente puntaje según el resultado, los partidos ganados 3 puntos, partido empatado 1 punto, partido perdido 0 puntos.\n",
        "El promedio final resulta de la cantidad de puntos totales divididos la cantidad de partidos\n"
      ],
      "metadata": {
        "id": "xaUjUrP2T6LQ"
      }
    },
    {
      "cell_type": "code",
      "source": [
        "partidos_ganados = int(input(\"Ingrese los partidos ganados: \"))\n",
        "partidos_empatados = int(input(\"Ingrese los partidos empatados: \"))\n",
        "partidos_perdidos = int(input(\"Ingrese los partidos perdidos: \"))\n",
        "\n",
        "promedio_final = (partidos_ganados * 3 + partidos_empatados * 1)/20\n",
        "\n",
        "print(promedio_final)"
      ],
      "metadata": {
        "colab": {
          "base_uri": "https://localhost:8080/"
        },
        "id": "w00n2bzBUBO5",
        "outputId": "0086e4e3-eaa8-4cff-e7f8-121b10e0a555"
      },
      "execution_count": null,
      "outputs": [
        {
          "output_type": "stream",
          "name": "stdout",
          "text": [
            "Ingrese los partidos ganados: 8\n",
            "Ingrese los partidos empatados: 7\n",
            "Ingrese los partidos perdidos: 5\n",
            "1.55\n"
          ]
        }
      ]
    },
    {
      "cell_type": "markdown",
      "source": [
        "#Ejercicio 4\n",
        "Consigna:\n",
        "\n",
        "_cadena = \"acitametaM ,5.8 ,otipeP ordeP\"_\n",
        "\n",
        "Dar vuelta la cadena y asignarla a una variable llamada cadena_volteada.\n",
        "Para devolver una cadena dada vuelta se usa el tercer índice negativo con slicing: cadena[::-1]\n",
        "Extraer nombre y apellido, almacenarlo en una variable llamada nombre_alumno\n",
        "Extraer la nota y almacenarla en una variable llamada nota.\n",
        "Extraer la materia y almacenarla en una variable llamada materia.\n",
        "Mostrar por pantalla la siguiente estructura, usando la concantenación de cadenas:\n",
        "NOMBRE APELLIDO ha sacado un NOTA en MATERIA\n",
        "\n",
        "cadena = \"acitametaM ,5.8 ,otipeP ordeP\"\n",
        "cadena_volteada = cadena[::-1]\n",
        "nombre_alumno = cadena_volteada[:12]\n",
        "nota =  cadena_volteada[14:17]\n",
        "materia = cadena_volteada[19:]\n",
        "\n",
        "print(f\"{nombre_alumno} ha sacado un {nota} en {materia}\")"
      ],
      "metadata": {
        "id": "-RC2fPgRUOmY"
      }
    },
    {
      "cell_type": "code",
      "source": [
        "cadena = \"acitametaM ,5.8 ,otipeP ordeP\"\n",
        "cadena_volteada = cadena[::-1]\n",
        "nombre_alumno = cadena_volteada[:12]\n",
        "nota =  cadena_volteada[14:17]\n",
        "materia = cadena_volteada[19:]\n",
        "\n",
        "print(f\"{nombre_alumno} ha sacado un {nota} en {materia}\")"
      ],
      "metadata": {
        "colab": {
          "base_uri": "https://localhost:8080/"
        },
        "id": "Oto_iI6kUcdo",
        "outputId": "0b5ffd6e-7d1b-4942-d2f0-033129c33234"
      },
      "execution_count": null,
      "outputs": [
        {
          "output_type": "stream",
          "name": "stdout",
          "text": [
            "Pedro Pepito ha sacado un 8.5 en Matematica\n"
          ]
        }
      ]
    },
    {
      "cell_type": "code",
      "source": [
        "cadena = \"acitametaM ,5.8 ,otipeP ordeP\"\n",
        "cadena_volteada = cadena[::-1]\n",
        "nombre_alumno = f\"{cadena_volteada.split()[0]} {cadena_volteada.split()[1][:-1]}\"\n",
        "nota =  cadena_volteada.split()[2][:-1]\n",
        "materia = cadena_volteada.split()[3]\n",
        "print(f\"{nombre_alumno} ha sacado un {nota} en {materia}\")"
      ],
      "metadata": {
        "colab": {
          "base_uri": "https://localhost:8080/"
        },
        "id": "R7OXiUeoUp1I",
        "outputId": "4203189a-b0cf-44c4-a595-e87e115c918d"
      },
      "execution_count": null,
      "outputs": [
        {
          "output_type": "stream",
          "name": "stdout",
          "text": [
            "Pedro Pepito ha sacado un 8.5 en Matematica\n"
          ]
        }
      ]
    }
  ]
}