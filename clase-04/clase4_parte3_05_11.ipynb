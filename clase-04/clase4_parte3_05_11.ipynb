{
  "nbformat": 4,
  "nbformat_minor": 0,
  "metadata": {
    "colab": {
      "provenance": []
    },
    "kernelspec": {
      "name": "python3",
      "display_name": "Python 3"
    },
    "language_info": {
      "name": "python"
    }
  },
  "cells": [
    {
      "cell_type": "markdown",
      "source": [
        "Ejercicios"
      ],
      "metadata": {
        "id": "cYlHKjNQJeBK"
      }
    },
    {
      "cell_type": "markdown",
      "source": [
        "1. Escribe un programa que lea dos números por teclado y permita elegir entre 4 opciones en un menú:\n",
        "\n",
        "- Mostrar una suma de los dos números\n",
        "\n",
        "- Mostrar una resta de los dos números (el primero menos el segundo)\n",
        "\n",
        "- Mostrar una multiplicación de los dos números\n",
        "\n",
        "* Si elige esta opción se interrumpirá la impresión del menú y el programa finalizará\n",
        "\n",
        "* En caso de no introducir una opción válida, el programa informará de que no es correcta.\n",
        "\n",
        "\n"
      ],
      "metadata": {
        "id": "QUfuZ-rWIdqY"
      }
    },
    {
      "cell_type": "code",
      "execution_count": null,
      "metadata": {
        "id": "3xRv5OvqIInZ"
      },
      "outputs": [],
      "source": [
        "# Resolucion\n",
        "\n",
        "SUMA = \"1\"\n",
        "RESTA = \"2\"\n",
        "MULTIPLICACION = \"3\"\n",
        "SALIR = \"4\"\n",
        "\n",
        "num1 = float(input(\"Introduce un numero: \"))\n",
        "num2 = float(input(\"Introduce otro numero: \"))\n",
        "\n",
        "print(\"¿Que operacion deseas realizar?\")\n",
        "print(\"[1] Sumar los dos numeros\")\n",
        "print(\"[2] Restar los dos numeros\")\n",
        "print(\"[3] Multiplicar los dos numeros\")\n",
        "print(\"[4] Salir\")\n",
        "opcion = input()\n",
        "\n",
        "if opcion == SUMA:\n",
        "    print(f\"La suma de {num1} + {num2} \"es\", {num1 + num2}\")\n",
        "\n",
        "elif opcion == RESTA:\n",
        "  print(f\"La resta de {num1} - {num2} es {num1 - num2}\")\n",
        "\n",
        "elif opcion == MULTIPLICACION:\n",
        "  print(f\"La multiplicacion de {num1} * {num2} es {num1 * num2}\")\n",
        "\n",
        "elif opcion == SALIR:\n",
        "  print(\"Salir\")\n",
        "\n",
        "else:\n",
        "  print(\"Opcion incorrecta\")"
      ]
    },
    {
      "cell_type": "markdown",
      "source": [
        "2.Escribe un programa que lea un número impar por teclado. Si el usuario no introduce un número impar, debe repetirse el proceso hasta que lo introduzca correctamente."
      ],
      "metadata": {
        "id": "X4zULFKFIpfE"
      }
    },
    {
      "cell_type": "code",
      "source": [
        "# Resolucion\n",
        "\n",
        "run = True\n",
        "\n",
        "while run:\n",
        "\n",
        "  numero = int(input(\"ingresar un numero impar: \"))\n",
        "\n",
        "  if numero % 2:\n",
        "    print(\"numero impar\")\n",
        "    run = False"
      ],
      "metadata": {
        "id": "B8CHmS12Ivcw",
        "colab": {
          "base_uri": "https://localhost:8080/"
        },
        "outputId": "48384128-ab23-4d36-b7ff-aa676c37441e"
      },
      "execution_count": null,
      "outputs": [
        {
          "output_type": "stream",
          "name": "stdout",
          "text": [
            "ingresar un numero impar: 2\n",
            "ingresar un numero impar: 2\n",
            "ingresar un numero impar: 3\n",
            "numero impar\n"
          ]
        }
      ]
    },
    {
      "cell_type": "markdown",
      "source": [
        "3. Escribe un programa que sume todos los números enteros impares desde el 0 hasta el 100: 🖐 Ayuda: Puedes utilizar la funciones sum() y range() para hacerlo más fácil. El tercer parámetro en la función range(inicio, fin, salto) indica un salto de números."
      ],
      "metadata": {
        "id": "ntLxzkgPIyi0"
      }
    },
    {
      "cell_type": "code",
      "source": [
        "# Resolucion\n",
        "\n",
        "# primero listamos todos los numeros enteros impares\n",
        "enteros_impares = list(range(1,100,2))\n",
        "\n",
        "# con la ayuda de sum los sumamos\n",
        "resultado = sum(enteros_impares)\n",
        "\n",
        "print(resultado)"
      ],
      "metadata": {
        "id": "Ca1VB2r4I1L5",
        "colab": {
          "base_uri": "https://localhost:8080/"
        },
        "outputId": "dab63946-f22b-4187-c2bf-9c536e340fb8"
      },
      "execution_count": null,
      "outputs": [
        {
          "output_type": "stream",
          "name": "stdout",
          "text": [
            "2500\n"
          ]
        }
      ]
    },
    {
      "cell_type": "markdown",
      "source": [
        "4. Escribe un programa que pida al usuario cuantos números quiere introducir. Luego lee todos los números y realiza una media aritmética."
      ],
      "metadata": {
        "id": "v1gU87H5I66m"
      }
    },
    {
      "cell_type": "code",
      "source": [
        "# Resolucion\n",
        "\n",
        "cantidad = int(input(\"Cuantos numeros quieres introducir: \"))\n",
        "\n",
        "loop_true = cantidad\n",
        "\n",
        "acumulador = 0\n",
        "\n",
        "while loop_true:\n",
        "\n",
        "  numero = int(input(\"Introduce un numero: \"))\n",
        "\n",
        "  acumulador += numero\n",
        "  loop_true -= 1\n",
        "\n",
        "media = acumulador / cantidad\n",
        "print(f\"la media de los numeros ingresados es {media}\")"
      ],
      "metadata": {
        "id": "QpZZFW7eI8N0",
        "colab": {
          "base_uri": "https://localhost:8080/"
        },
        "outputId": "05e7042f-f410-44ac-8a5d-5e12273a99a6"
      },
      "execution_count": null,
      "outputs": [
        {
          "output_type": "stream",
          "name": "stdout",
          "text": [
            "Cuantos numeros quieres introducir: 4\n",
            "Introduce un numero: 2\n",
            "Introduce un numero: 2\n",
            "Introduce un numero: 2\n",
            "Introduce un numero: 2\n",
            "la media de los numeros ingresados es 2.0\n"
          ]
        }
      ]
    },
    {
      "cell_type": "markdown",
      "source": [
        "5. Escribe un programa que pida al usuario un número entero del 0 al 9, y que mientras el número no sea correcto se repita el proceso. Luego debe comprobar si el número se encuentra en la lista de números y notificarlo: 🖐 Ayuda: La sintaxis \"valor in lista\" permite comprobar fácilmente si un valor se encuentra en una lista (devuelve True o False)."
      ],
      "metadata": {
        "id": "X0BVDV4sI_gX"
      }
    },
    {
      "cell_type": "code",
      "source": [
        "# Resolucion\n",
        "\n",
        "lista_numeros = [1, 3, 6, 9]\n",
        "\n",
        "run = True\n",
        "\n",
        "while run:\n",
        "\n",
        "  numero = int(input(\"Introduce un numero del 0 al 9: \"))\n",
        "\n",
        "  if numero in lista_numeros:\n",
        "    print(f\"El numero {numero} se encuentra en la lista\")\n",
        "    run = False\n",
        "  else:\n",
        "    print(f\"El numero {numero} no se encuentra en la lista\")"
      ],
      "metadata": {
        "id": "OjyGD1n5JCGM",
        "colab": {
          "base_uri": "https://localhost:8080/"
        },
        "outputId": "77cdd282-8188-42ca-9fff-f9b791ceb366"
      },
      "execution_count": 8,
      "outputs": [
        {
          "output_type": "stream",
          "name": "stdout",
          "text": [
            "Introduce un numero del 0 al 9: 4\n",
            "El numero 4 no se encuentra en la lista\n",
            "Introduce un numero del 0 al 9: 2\n",
            "El numero 2 no se encuentra en la lista\n",
            "Introduce un numero del 0 al 9: 6\n",
            "El numero 6 se encuentra en la lista\n"
          ]
        }
      ]
    },
    {
      "cell_type": "markdown",
      "source": [
        "6. Utilizando la función range() y la conversión a listas, genera las siguientes listas dinámicamente:\n",
        "\n",
        "- Todos los números del 0 al 10 [0, 1, 2, ..., 10]\n",
        "\n",
        "- Todos los números del -10 al 0 [-10, -9, -8, ..., 0]\n",
        "\n",
        "- Todos los números pares del 0 al 20 [0, 2, 4, ..., 20]\n",
        "\n",
        "- Todos los números impares entre -20 y 0 [-19, -17, -15, ..., -1]\n",
        "\n",
        "- Todos los números múltiples de 5 del 0 al 50 [0, 5, 10, ..., 50]\n",
        "\n",
        "🖐 Ayuda: la conversión de listas es mi_lista=list(range(inicio,fin,salto))"
      ],
      "metadata": {
        "id": "_yluH6SKJKR7"
      }
    },
    {
      "cell_type": "code",
      "source": [
        "# todos los numeros del 0 al 10\n",
        "\n",
        "lista1 = list(range(0,11))\n",
        "lista1"
      ],
      "metadata": {
        "id": "oyovM8MdJUmE",
        "colab": {
          "base_uri": "https://localhost:8080/"
        },
        "outputId": "24a382ca-989f-474f-da5c-5dba8e05a0d2"
      },
      "execution_count": 9,
      "outputs": [
        {
          "output_type": "execute_result",
          "data": {
            "text/plain": [
              "[0, 1, 2, 3, 4, 5, 6, 7, 8, 9, 10]"
            ]
          },
          "metadata": {},
          "execution_count": 9
        }
      ]
    },
    {
      "cell_type": "code",
      "source": [
        "# todos los numeros del -10 al 0\n",
        "\n",
        "lista2 = list(range(-10,1))\n",
        "lista2"
      ],
      "metadata": {
        "colab": {
          "base_uri": "https://localhost:8080/"
        },
        "id": "BO-6-7yGvqmr",
        "outputId": "a982dcb3-de0f-46c7-8ed1-c0642e5d025a"
      },
      "execution_count": 10,
      "outputs": [
        {
          "output_type": "execute_result",
          "data": {
            "text/plain": [
              "[-10, -9, -8, -7, -6, -5, -4, -3, -2, -1, 0]"
            ]
          },
          "metadata": {},
          "execution_count": 10
        }
      ]
    },
    {
      "cell_type": "code",
      "source": [
        "# todos los numeros pares del 0 al 20\n",
        "\n",
        "lista3 = list(range(0,21,2))\n",
        "lista3"
      ],
      "metadata": {
        "colab": {
          "base_uri": "https://localhost:8080/"
        },
        "id": "YrKotmdLvvmI",
        "outputId": "ee026628-7252-409a-f9f7-ca82fb6d158e"
      },
      "execution_count": 11,
      "outputs": [
        {
          "output_type": "execute_result",
          "data": {
            "text/plain": [
              "[0, 2, 4, 6, 8, 10, 12, 14, 16, 18, 20]"
            ]
          },
          "metadata": {},
          "execution_count": 11
        }
      ]
    },
    {
      "cell_type": "code",
      "source": [
        "# todos los numeros impares del -20 al 0\n",
        "\n",
        "lista4 = list(range(-19,0,2))\n",
        "lista4"
      ],
      "metadata": {
        "colab": {
          "base_uri": "https://localhost:8080/"
        },
        "id": "HIrBK2JKwoML",
        "outputId": "75fbcb53-3897-4115-b371-33ad4df1764c"
      },
      "execution_count": 12,
      "outputs": [
        {
          "output_type": "execute_result",
          "data": {
            "text/plain": [
              "[-19, -17, -15, -13, -11, -9, -7, -5, -3, -1]"
            ]
          },
          "metadata": {},
          "execution_count": 12
        }
      ]
    },
    {
      "cell_type": "code",
      "source": [
        "# todos los numeros multiplos de 5 del 0 al 50\n",
        "\n",
        "lista5 = list(range(0,51,5))\n",
        "lista5"
      ],
      "metadata": {
        "id": "xUuCuEfdxMs8"
      },
      "execution_count": null,
      "outputs": []
    }
  ]
}