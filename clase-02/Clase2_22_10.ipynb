{
  "nbformat": 4,
  "nbformat_minor": 0,
  "metadata": {
    "colab": {
      "provenance": [],
      "collapsed_sections": [
        "Oup5ssScUfHs",
        "EtD8we-_VJ1_",
        "-JDG4UlOtb2Q",
        "av6HKa6ByN7s",
        "_1Ey_pDNsM29",
        "DKqUeAxYvsSr",
        "vsFZuvnJvwR4",
        "QJgYT-_rWUXx",
        "nLzTDg1YJcDy"
      ]
    },
    "kernelspec": {
      "name": "python3",
      "display_name": "Python 3"
    },
    "language_info": {
      "name": "python"
    }
  },
  "cells": [
    {
      "cell_type": "markdown",
      "source": [
        "<font size=\"6\" color=\"rgb(128, 128, 0)\"> 2. Listas, Tuplas, Conjuntos y Diccionarios </font>"
      ],
      "metadata": {
        "id": "IW8TUC0MBngH"
      }
    },
    {
      "cell_type": "markdown",
      "source": [
        "![green-divider](https://user-images.githubusercontent.com/7065401/52071924-c003ad80-2562-11e9-8297-1c6595f8a7ff.png)\n",
        "\n",
        "### 2.1 Listas"
      ],
      "metadata": {
        "id": "jI7ArL5vNo34"
      }
    },
    {
      "cell_type": "markdown",
      "source": [
        "##### 2.1.1 Introducción a las listas"
      ],
      "metadata": {
        "id": "Oup5ssScUfHs"
      }
    },
    {
      "cell_type": "markdown",
      "source": [
        "En Python, las **listas** son estructuras de datos muy versátiles que permiten **almacenar una colección ordenada de elementos**. A diferencia de otros lenguajes de programación, las listas en Python **pueden contener elementos de diferentes tipos**, incluyendo números, cadenas de texto e incluso otras listas."
      ],
      "metadata": {
        "id": "T_eaVeq3zJp8"
      }
    },
    {
      "cell_type": "markdown",
      "source": [
        "##### 2.1.2 Sintaxis Básica"
      ],
      "metadata": {
        "id": "EtD8we-_VJ1_"
      }
    },
    {
      "cell_type": "markdown",
      "source": [
        "Para definir una lista en Python, se utilizan los corchetes [] y los elementos de la lista se separan por comas."
      ],
      "metadata": {
        "id": "AX5vJiXdVYgl"
      }
    },
    {
      "cell_type": "code",
      "source": [
        "# lista vacia -- []\n",
        "lista = []"
      ],
      "metadata": {
        "id": "eg11MRqxXLJ2"
      },
      "execution_count": null,
      "outputs": []
    },
    {
      "cell_type": "code",
      "source": [
        "# ver el tipo de una lista - type()\n",
        "type(lista)"
      ],
      "metadata": {
        "id": "HOq20ULzjKjF",
        "colab": {
          "base_uri": "https://localhost:8080/"
        },
        "outputId": "a0be10dc-cfdd-45e9-c51b-e6bd267dc680"
      },
      "execution_count": null,
      "outputs": [
        {
          "output_type": "execute_result",
          "data": {
            "text/plain": [
              "list"
            ]
          },
          "metadata": {},
          "execution_count": 64
        }
      ]
    },
    {
      "cell_type": "code",
      "source": [
        "# lista de números - int\n",
        "lista_numeros = [1, 2, 3, 4, 5]\n",
        "lista_numeros"
      ],
      "metadata": {
        "id": "MZO-ErtoN5id",
        "colab": {
          "base_uri": "https://localhost:8080/"
        },
        "outputId": "9612ad7c-7539-44b3-c831-0a90871c79a4"
      },
      "execution_count": null,
      "outputs": [
        {
          "output_type": "execute_result",
          "data": {
            "text/plain": [
              "[1, 2, 3, 4, 5]"
            ]
          },
          "metadata": {},
          "execution_count": 65
        }
      ]
    },
    {
      "cell_type": "code",
      "source": [
        "# lista de cadenas de texto - str\n",
        "lista_textos = [\"a\", \"v\", \"gol\", \"hola\"]\n",
        "lista_textos"
      ],
      "metadata": {
        "id": "ueJ_mL-jOAFt",
        "colab": {
          "base_uri": "https://localhost:8080/"
        },
        "outputId": "c572c849-e56a-4875-bd56-9449d4823ffe"
      },
      "execution_count": null,
      "outputs": [
        {
          "output_type": "execute_result",
          "data": {
            "text/plain": [
              "['a', 'v', 'gol', 'hola']"
            ]
          },
          "metadata": {},
          "execution_count": 66
        }
      ]
    },
    {
      "cell_type": "code",
      "source": [
        "# lista heterogenea - elementos de distintos tipos de datos\n",
        "lista_heterogenea = [ 8, \"a\", 3.5]\n",
        "lista_heterogenea"
      ],
      "metadata": {
        "id": "OK6t--cTjBxH",
        "colab": {
          "base_uri": "https://localhost:8080/"
        },
        "outputId": "32790b87-a68b-47cf-e1f3-769901f40025"
      },
      "execution_count": null,
      "outputs": [
        {
          "output_type": "execute_result",
          "data": {
            "text/plain": [
              "[8, 'a', 3.5]"
            ]
          },
          "metadata": {},
          "execution_count": 67
        }
      ]
    },
    {
      "cell_type": "code",
      "source": [
        "# coleccion ordenadas de elementos - ¿Que significa?\n",
        "lista1 = [\"a\", \"e\", \"i\"]\n",
        "lista2 = [\"a\", \"e\", \"i\"]\n",
        "\n",
        "lista1 == lista2   # Operador igualdad"
      ],
      "metadata": {
        "id": "3AX-WVswiv4H",
        "colab": {
          "base_uri": "https://localhost:8080/"
        },
        "outputId": "37190106-420c-448b-d695-20de5dc1d528"
      },
      "execution_count": null,
      "outputs": [
        {
          "output_type": "execute_result",
          "data": {
            "text/plain": [
              "True"
            ]
          },
          "metadata": {},
          "execution_count": 69
        }
      ]
    },
    {
      "cell_type": "code",
      "source": [
        "lista1 = [\"a\", \"e\", \"i\"]\n",
        "lista2 = [\"e\", \"i\", \"a\"]\n",
        "\n",
        "lista1 == lista2"
      ],
      "metadata": {
        "id": "yPTJMDHLenHv",
        "colab": {
          "base_uri": "https://localhost:8080/"
        },
        "outputId": "cc4842d8-1b92-437e-bdcd-ec14f95268a0"
      },
      "execution_count": null,
      "outputs": [
        {
          "output_type": "execute_result",
          "data": {
            "text/plain": [
              "False"
            ]
          },
          "metadata": {},
          "execution_count": 70
        }
      ]
    },
    {
      "cell_type": "code",
      "source": [
        "# listas con variables\n",
        "nombre = \"raul\"\n",
        "edad = 23\n",
        "altura = 1.75\n",
        "\n",
        "lista = [nombre, edad, altura]\n",
        "lista"
      ],
      "metadata": {
        "id": "fHvzqZpOffso",
        "colab": {
          "base_uri": "https://localhost:8080/"
        },
        "outputId": "9685d810-141b-46ae-eec3-f29e652d8bbc"
      },
      "execution_count": null,
      "outputs": [
        {
          "output_type": "execute_result",
          "data": {
            "text/plain": [
              "['raul', 23, 1.75]"
            ]
          },
          "metadata": {},
          "execution_count": 71
        }
      ]
    },
    {
      "cell_type": "markdown",
      "source": [
        "Preguntas❓"
      ],
      "metadata": {
        "id": "hrUe6-3dDQhn"
      }
    },
    {
      "cell_type": "markdown",
      "source": [
        "##### 2.1.3 Mutabilidad"
      ],
      "metadata": {
        "id": "-JDG4UlOtb2Q"
      }
    },
    {
      "cell_type": "markdown",
      "source": [
        "\n",
        "En Python, los tipos mutables e inmutables se refieren a si los objetos pueden ser modificados o no después de que se han creado."
      ],
      "metadata": {
        "id": "t6gjHDYViFyT"
      }
    },
    {
      "cell_type": "markdown",
      "source": [
        "**Tipos Inmutables**\n",
        "\n"
      ],
      "metadata": {
        "id": "KXU43gmOili-"
      }
    },
    {
      "cell_type": "markdown",
      "source": [
        "Los objetos inmutables son aquellos cuyo contenido no puede ser cambiado después de que se han creado. Si intentas modificar un objeto inmutable, lo que realmente sucede es que se crea un nuevo objeto con los valores modificados.\n",
        "\n",
        "- int\n",
        "- float\n",
        "- str\n",
        "- tuple"
      ],
      "metadata": {
        "id": "17DmyMB9irLz"
      }
    },
    {
      "cell_type": "code",
      "source": [
        "# int\n",
        "foo = 5\n",
        "id(foo)"
      ],
      "metadata": {
        "colab": {
          "base_uri": "https://localhost:8080/"
        },
        "id": "naNyyftpisDv",
        "outputId": "07243244-9908-4dfa-aeb9-0aa029230460"
      },
      "execution_count": null,
      "outputs": [
        {
          "output_type": "execute_result",
          "data": {
            "text/plain": [
              "138606302396784"
            ]
          },
          "metadata": {},
          "execution_count": 72
        }
      ]
    },
    {
      "cell_type": "code",
      "source": [
        "foo = 10\n",
        "id(foo)"
      ],
      "metadata": {
        "colab": {
          "base_uri": "https://localhost:8080/"
        },
        "id": "cy084eyJtCMF",
        "outputId": "cbe95152-c480-4254-e4f4-8d810381e48e"
      },
      "execution_count": null,
      "outputs": [
        {
          "output_type": "execute_result",
          "data": {
            "text/plain": [
              "138606302396944"
            ]
          },
          "metadata": {},
          "execution_count": 73
        }
      ]
    },
    {
      "cell_type": "code",
      "source": [
        "frase = \"Hola\"\n",
        "id(frase)"
      ],
      "metadata": {
        "colab": {
          "base_uri": "https://localhost:8080/"
        },
        "id": "O0yq6HpPTCCS",
        "outputId": "2dbeb05c-e2a4-4c47-c0ac-7c3d2e021ca7"
      },
      "execution_count": null,
      "outputs": [
        {
          "output_type": "execute_result",
          "data": {
            "text/plain": [
              "138605868228848"
            ]
          },
          "metadata": {},
          "execution_count": 74
        }
      ]
    },
    {
      "cell_type": "code",
      "source": [
        "frase = \"G\"\n",
        "id(frase)"
      ],
      "metadata": {
        "colab": {
          "base_uri": "https://localhost:8080/"
        },
        "id": "zUKkz-GCTEKn",
        "outputId": "0269210f-16d0-4d1a-c9d6-32612575a988"
      },
      "execution_count": null,
      "outputs": [
        {
          "output_type": "execute_result",
          "data": {
            "text/plain": [
              "138606301384368"
            ]
          },
          "metadata": {},
          "execution_count": 75
        }
      ]
    },
    {
      "cell_type": "markdown",
      "source": [
        "**Tipos Mutables**"
      ],
      "metadata": {
        "id": "nrhD10W_k7o8"
      }
    },
    {
      "cell_type": "markdown",
      "source": [
        "Los objetos mutables son aquellos cuyo contenido puede ser cambiado después de que se han creado. Cuando se modifica un objeto mutable, no se crea un nuevo objeto, sino que el objeto original se altera.\n",
        "\n",
        "- list  (listas)\n",
        "- dict  (diccionarios)\n",
        "- set   (conjuntos)"
      ],
      "metadata": {
        "id": "so3HBdNBk7PR"
      }
    },
    {
      "cell_type": "code",
      "source": [
        "# definimos una lista1\n",
        "lista1 = [1,2,3,4,5]\n",
        "id(lista1)"
      ],
      "metadata": {
        "colab": {
          "base_uri": "https://localhost:8080/"
        },
        "id": "cWYSylDvteIX",
        "outputId": "53f03f3c-85e4-4b72-8fe7-dd0c18d8dacd"
      },
      "execution_count": null,
      "outputs": [
        {
          "output_type": "execute_result",
          "data": {
            "text/plain": [
              "138605864544192"
            ]
          },
          "metadata": {},
          "execution_count": 76
        }
      ]
    },
    {
      "cell_type": "code",
      "source": [
        "# definimos una lista2\n",
        "lista2 = [1,2,3,4,5]\n",
        "id(lista2)"
      ],
      "metadata": {
        "colab": {
          "base_uri": "https://localhost:8080/"
        },
        "id": "mlWoH8OLuCGS",
        "outputId": "6684d04c-e4c7-4552-e1a4-ccc96be837e0"
      },
      "execution_count": null,
      "outputs": [
        {
          "output_type": "execute_result",
          "data": {
            "text/plain": [
              "138605864531520"
            ]
          },
          "metadata": {},
          "execution_count": 77
        }
      ]
    },
    {
      "cell_type": "code",
      "source": [
        "# agrego un nuevo elemento en la lista1 y el id de la lista1 no cambia\n",
        "lista1.append(6)\n",
        "id(lista1)"
      ],
      "metadata": {
        "colab": {
          "base_uri": "https://localhost:8080/"
        },
        "id": "XKbGifaeAvkk",
        "outputId": "47d5dc65-6b7e-45c2-af57-04019366ac96"
      },
      "execution_count": null,
      "outputs": [
        {
          "output_type": "execute_result",
          "data": {
            "text/plain": [
              "138605864544192"
            ]
          },
          "metadata": {},
          "execution_count": 79
        }
      ]
    },
    {
      "cell_type": "code",
      "source": [
        "lista1"
      ],
      "metadata": {
        "colab": {
          "base_uri": "https://localhost:8080/"
        },
        "id": "ztugOplCTuJR",
        "outputId": "d056183e-c999-4ad5-c424-35e889325424"
      },
      "execution_count": null,
      "outputs": [
        {
          "output_type": "execute_result",
          "data": {
            "text/plain": [
              "[1, 2, 3, 4, 5, 6, 6]"
            ]
          },
          "metadata": {},
          "execution_count": 80
        }
      ]
    },
    {
      "cell_type": "markdown",
      "source": [
        "Si bien lista1 y lista2 tienen los mismos elementos, no es la misma lista en memoria"
      ],
      "metadata": {
        "id": "lD3czBweuI7m"
      }
    },
    {
      "cell_type": "code",
      "source": [
        "# tienen los mismos elementos en las mismas posiciones?\n",
        "lista1 = [1,2,3]\n",
        "lista2 = [1,2,3]\n",
        "\n",
        "lista1 == lista2"
      ],
      "metadata": {
        "colab": {
          "base_uri": "https://localhost:8080/"
        },
        "id": "VkerX5RFuPW_",
        "outputId": "82ce5336-c0db-4e1c-c983-a61d611bb191"
      },
      "execution_count": null,
      "outputs": [
        {
          "output_type": "execute_result",
          "data": {
            "text/plain": [
              "True"
            ]
          },
          "metadata": {},
          "execution_count": 83
        }
      ]
    },
    {
      "cell_type": "code",
      "source": [
        "# seria como preguntarse --- apuntan a la misma caja?\n",
        "lista1 is lista2"
      ],
      "metadata": {
        "colab": {
          "base_uri": "https://localhost:8080/"
        },
        "id": "L7MMdUzduUFG",
        "outputId": "2b3e296c-2c5c-42e0-d2f0-be9721f4630b"
      },
      "execution_count": null,
      "outputs": [
        {
          "output_type": "execute_result",
          "data": {
            "text/plain": [
              "False"
            ]
          },
          "metadata": {},
          "execution_count": 84
        }
      ]
    },
    {
      "cell_type": "markdown",
      "source": [
        "Ahora... hacemos que la lista1 sea igual a la lista2... ambas listas apuntan a la misma lista en memoria"
      ],
      "metadata": {
        "id": "7FHJFBjL9JHZ"
      }
    },
    {
      "cell_type": "code",
      "source": [
        "lista1 = lista2"
      ],
      "metadata": {
        "id": "naSXL797uZhc"
      },
      "execution_count": null,
      "outputs": []
    },
    {
      "cell_type": "code",
      "source": [
        "id(lista1)"
      ],
      "metadata": {
        "colab": {
          "base_uri": "https://localhost:8080/"
        },
        "id": "4eBsTKFeudW2",
        "outputId": "d67cca2a-5858-4512-c1f3-89a3cb61ae34"
      },
      "execution_count": null,
      "outputs": [
        {
          "output_type": "execute_result",
          "data": {
            "text/plain": [
              "138604973797952"
            ]
          },
          "metadata": {},
          "execution_count": 86
        }
      ]
    },
    {
      "cell_type": "code",
      "source": [
        "id(lista2)"
      ],
      "metadata": {
        "colab": {
          "base_uri": "https://localhost:8080/"
        },
        "id": "EHJxuAeYufoF",
        "outputId": "b817d61d-bc76-4f06-f693-f00600fe38e9"
      },
      "execution_count": null,
      "outputs": [
        {
          "output_type": "execute_result",
          "data": {
            "text/plain": [
              "138604973797952"
            ]
          },
          "metadata": {},
          "execution_count": 87
        }
      ]
    },
    {
      "cell_type": "code",
      "source": [
        "lista1 == lista2"
      ],
      "metadata": {
        "colab": {
          "base_uri": "https://localhost:8080/"
        },
        "id": "Cd0xu-CnujrL",
        "outputId": "01df51c2-2dcb-4db8-d841-919cdda5fa1a"
      },
      "execution_count": null,
      "outputs": [
        {
          "output_type": "execute_result",
          "data": {
            "text/plain": [
              "True"
            ]
          },
          "metadata": {},
          "execution_count": 88
        }
      ]
    },
    {
      "cell_type": "code",
      "source": [
        "lista1 is lista2"
      ],
      "metadata": {
        "colab": {
          "base_uri": "https://localhost:8080/"
        },
        "id": "HV_jA7aYumL3",
        "outputId": "4e55fb44-84be-4eb8-9d23-cc5b68c45fb5"
      },
      "execution_count": null,
      "outputs": [
        {
          "output_type": "execute_result",
          "data": {
            "text/plain": [
              "True"
            ]
          },
          "metadata": {},
          "execution_count": 89
        }
      ]
    },
    {
      "cell_type": "code",
      "source": [
        "# int\n",
        "foo = 5\n",
        "id(foo)"
      ],
      "metadata": {
        "colab": {
          "base_uri": "https://localhost:8080/"
        },
        "id": "_hdGhNUwVHVs",
        "outputId": "f4b093d7-5075-4684-bd81-84f207efbfed"
      },
      "execution_count": null,
      "outputs": [
        {
          "output_type": "execute_result",
          "data": {
            "text/plain": [
              "138606302396784"
            ]
          },
          "metadata": {},
          "execution_count": 96
        }
      ]
    },
    {
      "cell_type": "code",
      "source": [
        "foo = 105\n",
        "id(foo)"
      ],
      "metadata": {
        "colab": {
          "base_uri": "https://localhost:8080/"
        },
        "id": "n8K6YgFsVKDd",
        "outputId": "0feeda37-3f27-47ee-81d5-dd50da5a2245"
      },
      "execution_count": null,
      "outputs": [
        {
          "output_type": "execute_result",
          "data": {
            "text/plain": [
              "138606302399984"
            ]
          },
          "metadata": {},
          "execution_count": 97
        }
      ]
    },
    {
      "cell_type": "code",
      "source": [
        "foo = 10\n",
        "id(foo)"
      ],
      "metadata": {
        "colab": {
          "base_uri": "https://localhost:8080/"
        },
        "id": "vlt3qgkMVSgP",
        "outputId": "f3073f33-80b6-4ed7-e8d9-e4a62425a430"
      },
      "execution_count": null,
      "outputs": [
        {
          "output_type": "execute_result",
          "data": {
            "text/plain": [
              "138606302396944"
            ]
          },
          "metadata": {},
          "execution_count": 99
        }
      ]
    },
    {
      "cell_type": "code",
      "source": [
        "foo = 10 - 5\n",
        "id(foo)"
      ],
      "metadata": {
        "colab": {
          "base_uri": "https://localhost:8080/"
        },
        "id": "E0G15yMbVXH7",
        "outputId": "5df56bc5-c5ea-4727-d71e-04d1ee1806ff"
      },
      "execution_count": null,
      "outputs": [
        {
          "output_type": "execute_result",
          "data": {
            "text/plain": [
              "138606302396784"
            ]
          },
          "metadata": {},
          "execution_count": 100
        }
      ]
    },
    {
      "cell_type": "code",
      "source": [
        "foo"
      ],
      "metadata": {
        "colab": {
          "base_uri": "https://localhost:8080/"
        },
        "id": "vRFa1plBVb-f",
        "outputId": "51baa860-980e-4318-eb0b-42c065c66bef"
      },
      "execution_count": null,
      "outputs": [
        {
          "output_type": "execute_result",
          "data": {
            "text/plain": [
              "5"
            ]
          },
          "metadata": {},
          "execution_count": 101
        }
      ]
    },
    {
      "cell_type": "markdown",
      "source": [
        "Agregamos un elemento en la lista1 y veamos que pasa con la lista2"
      ],
      "metadata": {
        "id": "clJ4bK4ZBULO"
      }
    },
    {
      "cell_type": "code",
      "source": [
        "lista1.append(7)"
      ],
      "metadata": {
        "id": "8E2W_BrLBS9N"
      },
      "execution_count": null,
      "outputs": []
    },
    {
      "cell_type": "code",
      "source": [
        "lista1"
      ],
      "metadata": {
        "colab": {
          "base_uri": "https://localhost:8080/"
        },
        "id": "_n5Tip8LUqgL",
        "outputId": "5f5d34de-d939-4c82-d6db-cb471049c779"
      },
      "execution_count": null,
      "outputs": [
        {
          "output_type": "execute_result",
          "data": {
            "text/plain": [
              "[1, 2, 3, 7]"
            ]
          },
          "metadata": {},
          "execution_count": 92
        }
      ]
    },
    {
      "cell_type": "code",
      "source": [
        "lista2"
      ],
      "metadata": {
        "colab": {
          "base_uri": "https://localhost:8080/"
        },
        "id": "V9If7apnu4Tr",
        "outputId": "a054d95f-913f-4689-b033-4769962b53f9"
      },
      "execution_count": null,
      "outputs": [
        {
          "output_type": "execute_result",
          "data": {
            "text/plain": [
              "[1, 2, 3, 7]"
            ]
          },
          "metadata": {},
          "execution_count": 93
        }
      ]
    },
    {
      "cell_type": "code",
      "source": [
        "# cambiamos el contenido de la lista y el id sigue siendo el mismo.\n",
        "id(lista1)"
      ],
      "metadata": {
        "colab": {
          "base_uri": "https://localhost:8080/"
        },
        "id": "QoyypoxLvILR",
        "outputId": "6d443e80-5174-443b-dcd5-a92367f62d7a"
      },
      "execution_count": null,
      "outputs": [
        {
          "output_type": "execute_result",
          "data": {
            "text/plain": [
              "138604973797952"
            ]
          },
          "metadata": {},
          "execution_count": 94
        }
      ]
    },
    {
      "cell_type": "code",
      "source": [
        "id(lista2)"
      ],
      "metadata": {
        "colab": {
          "base_uri": "https://localhost:8080/"
        },
        "id": "PJwkyT2SBffi",
        "outputId": "797b46de-f78a-412e-867d-36880dff05c1"
      },
      "execution_count": null,
      "outputs": [
        {
          "output_type": "execute_result",
          "data": {
            "text/plain": [
              "138604973797952"
            ]
          },
          "metadata": {},
          "execution_count": 95
        }
      ]
    },
    {
      "cell_type": "markdown",
      "source": [
        "Preguntas❓"
      ],
      "metadata": {
        "id": "HVnHOpDBDS6Z"
      }
    },
    {
      "cell_type": "markdown",
      "source": [
        "##### 2.1.4 Accesos"
      ],
      "metadata": {
        "id": "av6HKa6ByN7s"
      }
    },
    {
      "cell_type": "markdown",
      "source": [
        "**Acceso por indice**: Los elementos de una lista se pueden acceder utilizando su índice. El índice comienza en 0 para el primer elemento."
      ],
      "metadata": {
        "id": "qXL07Xmm1npt"
      }
    },
    {
      "cell_type": "code",
      "source": [
        "lista_numeros = [1, 2, 3, 4, 5, 6, 7]"
      ],
      "metadata": {
        "id": "Hw86bV901pws"
      },
      "execution_count": null,
      "outputs": []
    },
    {
      "cell_type": "code",
      "source": [
        "lista_numeros[0]"
      ],
      "metadata": {
        "colab": {
          "base_uri": "https://localhost:8080/"
        },
        "id": "4wg7Z6HK65_J",
        "outputId": "b497eb23-567e-4694-cbe8-f9610872d544"
      },
      "execution_count": null,
      "outputs": [
        {
          "output_type": "execute_result",
          "data": {
            "text/plain": [
              "1"
            ]
          },
          "metadata": {},
          "execution_count": 103
        }
      ]
    },
    {
      "cell_type": "code",
      "source": [
        "lista_numeros[1]"
      ],
      "metadata": {
        "colab": {
          "base_uri": "https://localhost:8080/"
        },
        "id": "ByipV4-iV23b",
        "outputId": "47acffee-d2e5-4e52-91c4-060d7775851d"
      },
      "execution_count": null,
      "outputs": [
        {
          "output_type": "execute_result",
          "data": {
            "text/plain": [
              "2"
            ]
          },
          "metadata": {},
          "execution_count": 104
        }
      ]
    },
    {
      "cell_type": "markdown",
      "source": [
        "**Slicing (Subconjuntos de Listas)**: Python permite extraer subconjuntos de una lista utilizando la técnica de slicing. Esto se hace utilizando el operador : dentro de los corchetes."
      ],
      "metadata": {
        "id": "cTQXnsLb7A4C"
      }
    },
    {
      "cell_type": "code",
      "source": [
        "# Definiendo una lista de números\n",
        "numeros = [0, 1, 2, 3, 4, 5, 6, 7, 8, 9]\n",
        "vocales = [\"a\", \"e\", \"i\", \"o\", \"u\"]"
      ],
      "metadata": {
        "id": "ee0l1bYMHrxs"
      },
      "execution_count": null,
      "outputs": []
    },
    {
      "cell_type": "code",
      "source": [
        "# Slicing: obteniendo los primeros cinco elementos\n",
        "primeros_cinco = numeros[0:5]\n",
        "primeros_cinco"
      ],
      "metadata": {
        "colab": {
          "base_uri": "https://localhost:8080/"
        },
        "id": "XkalqRZXBsaK",
        "outputId": "a17667c3-21b4-43a3-93fe-33b58c28be02"
      },
      "execution_count": null,
      "outputs": [
        {
          "output_type": "execute_result",
          "data": {
            "text/plain": [
              "[0, 1, 2, 3, 4]"
            ]
          },
          "metadata": {},
          "execution_count": 108
        }
      ]
    },
    {
      "cell_type": "code",
      "source": [
        "vocal = vocales[0:3]\n",
        "vocal"
      ],
      "metadata": {
        "colab": {
          "base_uri": "https://localhost:8080/"
        },
        "id": "4QopfGiXWYqE",
        "outputId": "311a8a61-aa0f-44a0-b524-049539e5f090"
      },
      "execution_count": null,
      "outputs": [
        {
          "output_type": "execute_result",
          "data": {
            "text/plain": [
              "['a', 'e', 'i']"
            ]
          },
          "metadata": {},
          "execution_count": 110
        }
      ]
    },
    {
      "cell_type": "code",
      "source": [
        "# Slicing: obteniendo elementos desde el índice 5 hasta el final\n",
        "desde_cinco = numeros[5:]\n",
        "desde_cinco"
      ],
      "metadata": {
        "colab": {
          "base_uri": "https://localhost:8080/"
        },
        "id": "LNSX9hzxBu5Z",
        "outputId": "acab8989-54ae-4cef-a94e-8be22a21423d"
      },
      "execution_count": null,
      "outputs": [
        {
          "output_type": "execute_result",
          "data": {
            "text/plain": [
              "[5, 6, 7, 8, 9]"
            ]
          },
          "metadata": {},
          "execution_count": 112
        }
      ]
    },
    {
      "cell_type": "code",
      "source": [
        "# Slicing: obteniendo un subconjunto de elementos\n",
        "sub_lista = numeros[2:7]\n",
        "sub_lista"
      ],
      "metadata": {
        "colab": {
          "base_uri": "https://localhost:8080/"
        },
        "id": "ByVK8eo1ByBl",
        "outputId": "92da9b2c-fbc1-4d92-a86d-08fce2716b9a"
      },
      "execution_count": null,
      "outputs": [
        {
          "output_type": "execute_result",
          "data": {
            "text/plain": [
              "[2, 3, 4, 5, 6]"
            ]
          },
          "metadata": {},
          "execution_count": 113
        }
      ]
    },
    {
      "cell_type": "code",
      "source": [
        "# Slicing con el tercer parámetro (paso):\n",
        "# Obteniendo elementos desde el índice 0 hasta el 9 con un paso de 2\n",
        "pares = numeros[0:10:2]\n",
        "pares"
      ],
      "metadata": {
        "colab": {
          "base_uri": "https://localhost:8080/"
        },
        "id": "wOoHzO_MB0c9",
        "outputId": "abc6a924-c982-4347-c3ed-8cf2340b1da5"
      },
      "execution_count": null,
      "outputs": [
        {
          "output_type": "execute_result",
          "data": {
            "text/plain": [
              "[0, 2, 4, 6, 8]"
            ]
          },
          "metadata": {},
          "execution_count": 114
        }
      ]
    },
    {
      "cell_type": "markdown",
      "source": [
        "##### 2.1.5 Listas y String -- Similitudes"
      ],
      "metadata": {
        "id": "bIrrBwFJBS4R"
      }
    },
    {
      "cell_type": "code",
      "source": [
        "frase = \"Hola mundo!\""
      ],
      "metadata": {
        "id": "t3oUdwLv6CzE"
      },
      "execution_count": null,
      "outputs": []
    },
    {
      "cell_type": "code",
      "source": [
        "# string acceso por indice\n",
        "frase[0]"
      ],
      "metadata": {
        "id": "3K8KY5oS6Gvt",
        "colab": {
          "base_uri": "https://localhost:8080/",
          "height": 35
        },
        "outputId": "cd65100e-4789-494c-b88e-4fb2a7e9631a"
      },
      "execution_count": null,
      "outputs": [
        {
          "output_type": "execute_result",
          "data": {
            "text/plain": [
              "'H'"
            ],
            "application/vnd.google.colaboratory.intrinsic+json": {
              "type": "string"
            }
          },
          "metadata": {},
          "execution_count": 116
        }
      ]
    },
    {
      "cell_type": "code",
      "source": [
        "# string acceso por slicing\n",
        "frase[1:4]"
      ],
      "metadata": {
        "id": "l_ZLWxfs6Keu",
        "colab": {
          "base_uri": "https://localhost:8080/",
          "height": 35
        },
        "outputId": "aa0c4ef6-3234-4c92-adcf-59df0b410944"
      },
      "execution_count": null,
      "outputs": [
        {
          "output_type": "execute_result",
          "data": {
            "text/plain": [
              "'ola'"
            ],
            "application/vnd.google.colaboratory.intrinsic+json": {
              "type": "string"
            }
          },
          "metadata": {},
          "execution_count": 117
        }
      ]
    },
    {
      "cell_type": "code",
      "source": [
        "# lista\n",
        "numeros = [1,2,3,4,5,6]"
      ],
      "metadata": {
        "id": "kYaAYqXgviKj"
      },
      "execution_count": null,
      "outputs": []
    },
    {
      "cell_type": "code",
      "source": [
        "# Acceso por indices\n",
        "numeros[1]"
      ],
      "metadata": {
        "id": "2493AzQflz-7",
        "colab": {
          "base_uri": "https://localhost:8080/"
        },
        "outputId": "a3f3b96a-a1db-45ae-fc1c-5178eed04873"
      },
      "execution_count": null,
      "outputs": [
        {
          "output_type": "execute_result",
          "data": {
            "text/plain": [
              "2"
            ]
          },
          "metadata": {},
          "execution_count": 119
        }
      ]
    },
    {
      "cell_type": "code",
      "source": [
        "# Acceso por slicing\n",
        "numeros[1:5]"
      ],
      "metadata": {
        "id": "RsAuVOheji0Q",
        "colab": {
          "base_uri": "https://localhost:8080/"
        },
        "outputId": "f00e3906-2044-4e3d-fc3f-5699623e9420"
      },
      "execution_count": null,
      "outputs": [
        {
          "output_type": "execute_result",
          "data": {
            "text/plain": [
              "[2, 3, 4, 5]"
            ]
          },
          "metadata": {},
          "execution_count": 120
        }
      ]
    },
    {
      "cell_type": "markdown",
      "source": [
        "Cual es la principal diferencia con los strings?\n"
      ],
      "metadata": {
        "id": "gNcdyqzrl0km"
      }
    },
    {
      "cell_type": "code",
      "source": [
        "numeros = [0,1,2,3,4,5]\n",
        "print(numeros)\n",
        "numeros[0] = 5\n",
        "print(numeros)"
      ],
      "metadata": {
        "id": "0ocz46Nr7q2q",
        "colab": {
          "base_uri": "https://localhost:8080/"
        },
        "outputId": "95a0a869-dd5e-4a79-d268-c3dbcf6926ff"
      },
      "execution_count": null,
      "outputs": [
        {
          "output_type": "stream",
          "name": "stdout",
          "text": [
            "[0, 1, 2, 3, 4, 5]\n",
            "[5, 1, 2, 3, 4, 5]\n"
          ]
        }
      ]
    },
    {
      "cell_type": "code",
      "source": [
        "frase = \"Hola\"\n",
        "frase[0] = \"h\""
      ],
      "metadata": {
        "id": "73FDH62XkbPe",
        "colab": {
          "base_uri": "https://localhost:8080/",
          "height": 159
        },
        "outputId": "a955b0a3-11cd-4853-c19f-98d168c8711f"
      },
      "execution_count": null,
      "outputs": [
        {
          "output_type": "error",
          "ename": "TypeError",
          "evalue": "'str' object does not support item assignment",
          "traceback": [
            "\u001b[0;31m---------------------------------------------------------------------------\u001b[0m",
            "\u001b[0;31mTypeError\u001b[0m                                 Traceback (most recent call last)",
            "\u001b[0;32m<ipython-input-122-7178a5604c09>\u001b[0m in \u001b[0;36m<cell line: 2>\u001b[0;34m()\u001b[0m\n\u001b[1;32m      1\u001b[0m \u001b[0mfrase\u001b[0m \u001b[0;34m=\u001b[0m \u001b[0;34m\"Hola\"\u001b[0m\u001b[0;34m\u001b[0m\u001b[0;34m\u001b[0m\u001b[0m\n\u001b[0;32m----> 2\u001b[0;31m \u001b[0mfrase\u001b[0m\u001b[0;34m[\u001b[0m\u001b[0;36m0\u001b[0m\u001b[0;34m]\u001b[0m \u001b[0;34m=\u001b[0m \u001b[0;34m\"h\"\u001b[0m\u001b[0;34m\u001b[0m\u001b[0;34m\u001b[0m\u001b[0m\n\u001b[0m",
            "\u001b[0;31mTypeError\u001b[0m: 'str' object does not support item assignment"
          ]
        }
      ]
    },
    {
      "cell_type": "code",
      "source": [
        "frase = \"hola\"\n",
        "frase"
      ],
      "metadata": {
        "colab": {
          "base_uri": "https://localhost:8080/",
          "height": 35
        },
        "id": "mm47pnWCXdgZ",
        "outputId": "a9e69b9f-b1a8-41f1-dfe9-5f4a34fac35e"
      },
      "execution_count": null,
      "outputs": [
        {
          "output_type": "execute_result",
          "data": {
            "text/plain": [
              "'hola'"
            ],
            "application/vnd.google.colaboratory.intrinsic+json": {
              "type": "string"
            }
          },
          "metadata": {},
          "execution_count": 123
        }
      ]
    },
    {
      "cell_type": "code",
      "source": [
        "numeros[0] = \"A\"\n",
        "numeros"
      ],
      "metadata": {
        "id": "ptgggCieZwS3"
      },
      "execution_count": null,
      "outputs": []
    },
    {
      "cell_type": "code",
      "source": [
        "help(str.replace)"
      ],
      "metadata": {
        "colab": {
          "base_uri": "https://localhost:8080/"
        },
        "id": "t7KReHJ4XoWP",
        "outputId": "57e7b819-9dbf-4f9b-d6e3-853df84ce14a"
      },
      "execution_count": null,
      "outputs": [
        {
          "output_type": "stream",
          "name": "stdout",
          "text": [
            "Help on method_descriptor:\n",
            "\n",
            "replace(self, old, new, count=-1, /)\n",
            "    Return a copy with all occurrences of substring old replaced by new.\n",
            "    \n",
            "      count\n",
            "        Maximum number of occurrences to replace.\n",
            "        -1 (the default value) means replace all occurrences.\n",
            "    \n",
            "    If the optional argument count is given, only the first count occurrences are\n",
            "    replaced.\n",
            "\n"
          ]
        }
      ]
    },
    {
      "cell_type": "code",
      "source": [
        "frase = \"hola\""
      ],
      "metadata": {
        "id": "bs69I5ZzXzJ7"
      },
      "execution_count": null,
      "outputs": []
    },
    {
      "cell_type": "code",
      "source": [
        "frase_mayusculas = frase.upper()"
      ],
      "metadata": {
        "id": "Tf5abpQSX16-"
      },
      "execution_count": null,
      "outputs": []
    },
    {
      "cell_type": "code",
      "source": [
        "frase"
      ],
      "metadata": {
        "colab": {
          "base_uri": "https://localhost:8080/",
          "height": 35
        },
        "id": "YMqmHmYoX4_5",
        "outputId": "e40c1607-33be-41f3-c2d5-f3fa3a9e4a0f"
      },
      "execution_count": null,
      "outputs": [
        {
          "output_type": "execute_result",
          "data": {
            "text/plain": [
              "'hola'"
            ],
            "application/vnd.google.colaboratory.intrinsic+json": {
              "type": "string"
            }
          },
          "metadata": {},
          "execution_count": 127
        }
      ]
    },
    {
      "cell_type": "code",
      "source": [
        "frase_mayusculas"
      ],
      "metadata": {
        "colab": {
          "base_uri": "https://localhost:8080/",
          "height": 35
        },
        "id": "mVfmiTOxX6oo",
        "outputId": "11770642-c3e8-4732-fb5d-d936d076747c"
      },
      "execution_count": null,
      "outputs": [
        {
          "output_type": "execute_result",
          "data": {
            "text/plain": [
              "'HOLA'"
            ],
            "application/vnd.google.colaboratory.intrinsic+json": {
              "type": "string"
            }
          },
          "metadata": {},
          "execution_count": 128
        }
      ]
    },
    {
      "cell_type": "markdown",
      "source": [
        "**Los string son inmutables.**"
      ],
      "metadata": {
        "id": "AvYe6oZDLs8S"
      }
    },
    {
      "cell_type": "markdown",
      "source": [
        "Preguntas❓"
      ],
      "metadata": {
        "id": "8t0Lw4ZNDVWX"
      }
    },
    {
      "cell_type": "markdown",
      "source": [
        "##### 2.1.6 Funciones de lista\n",
        "\n",
        "En las listas, hay funciones que son muy interesantes e importantes, las funciones integradas. Las listas en Python tienen muchas funciones para utilizar, entre todas ellas vamos a nombrar las más importantes.\n"
      ],
      "metadata": {
        "id": "_1Ey_pDNsM29"
      }
    },
    {
      "cell_type": "code",
      "source": [
        "# lista todas funciones de list\n",
        "dir(list)"
      ],
      "metadata": {
        "colab": {
          "base_uri": "https://localhost:8080/"
        },
        "id": "GDaj6rseYS0q",
        "outputId": "3cd32c22-47b1-4223-ee28-445261db841d"
      },
      "execution_count": null,
      "outputs": [
        {
          "output_type": "execute_result",
          "data": {
            "text/plain": [
              "['__add__',\n",
              " '__class__',\n",
              " '__class_getitem__',\n",
              " '__contains__',\n",
              " '__delattr__',\n",
              " '__delitem__',\n",
              " '__dir__',\n",
              " '__doc__',\n",
              " '__eq__',\n",
              " '__format__',\n",
              " '__ge__',\n",
              " '__getattribute__',\n",
              " '__getitem__',\n",
              " '__gt__',\n",
              " '__hash__',\n",
              " '__iadd__',\n",
              " '__imul__',\n",
              " '__init__',\n",
              " '__init_subclass__',\n",
              " '__iter__',\n",
              " '__le__',\n",
              " '__len__',\n",
              " '__lt__',\n",
              " '__mul__',\n",
              " '__ne__',\n",
              " '__new__',\n",
              " '__reduce__',\n",
              " '__reduce_ex__',\n",
              " '__repr__',\n",
              " '__reversed__',\n",
              " '__rmul__',\n",
              " '__setattr__',\n",
              " '__setitem__',\n",
              " '__sizeof__',\n",
              " '__str__',\n",
              " '__subclasshook__',\n",
              " 'append',\n",
              " 'clear',\n",
              " 'copy',\n",
              " 'count',\n",
              " 'extend',\n",
              " 'index',\n",
              " 'insert',\n",
              " 'pop',\n",
              " 'remove',\n",
              " 'reverse',\n",
              " 'sort']"
            ]
          },
          "metadata": {},
          "execution_count": 130
        }
      ]
    },
    {
      "cell_type": "code",
      "source": [
        "# definimos una lista\n",
        "numeros = [1,2,3,4,5,6,7,8]"
      ],
      "metadata": {
        "id": "WN4mShwUh055"
      },
      "execution_count": null,
      "outputs": []
    },
    {
      "cell_type": "code",
      "source": [
        "# append: ingresa un elemento o item al final de la lista\n",
        "numeros.append(9)"
      ],
      "metadata": {
        "id": "Vu5jENF5tkjA"
      },
      "execution_count": null,
      "outputs": []
    },
    {
      "cell_type": "code",
      "source": [
        "numeros"
      ],
      "metadata": {
        "colab": {
          "base_uri": "https://localhost:8080/"
        },
        "id": "AueGpUkVYnpE",
        "outputId": "ec8f2311-3189-4c9b-d10c-207f1a62d6a9"
      },
      "execution_count": null,
      "outputs": [
        {
          "output_type": "execute_result",
          "data": {
            "text/plain": [
              "[1, 2, 3, 4, 5, 6, 7, 8, 9]"
            ]
          },
          "metadata": {},
          "execution_count": 133
        }
      ]
    },
    {
      "cell_type": "code",
      "source": [
        "# append - con operaciones\n",
        "numeros.append(5*2)"
      ],
      "metadata": {
        "id": "k1DA-cp4t9Pi"
      },
      "execution_count": null,
      "outputs": []
    },
    {
      "cell_type": "code",
      "source": [
        "numeros"
      ],
      "metadata": {
        "id": "LsILTZsDblW8",
        "colab": {
          "base_uri": "https://localhost:8080/"
        },
        "outputId": "676308de-959a-4361-8a89-909391f0af6d"
      },
      "execution_count": null,
      "outputs": [
        {
          "output_type": "execute_result",
          "data": {
            "text/plain": [
              "[1, 2, 3, 4, 5, 6, 7, 8, 9, 10]"
            ]
          },
          "metadata": {},
          "execution_count": 135
        }
      ]
    },
    {
      "cell_type": "code",
      "source": [
        "numeros.append(\"2\")\n",
        "numeros"
      ],
      "metadata": {
        "id": "dh-OY7OzbnYe",
        "colab": {
          "base_uri": "https://localhost:8080/"
        },
        "outputId": "8b4b44cd-05ee-4b28-96e5-5a74df878831"
      },
      "execution_count": null,
      "outputs": [
        {
          "output_type": "execute_result",
          "data": {
            "text/plain": [
              "[1, 2, 3, 4, 5, 6, 7, 8, 9, 10, '2']"
            ]
          },
          "metadata": {},
          "execution_count": 136
        }
      ]
    },
    {
      "cell_type": "code",
      "source": [
        "# Ingresar un elemento a la lista mediante un input()\n",
        "var = input()\n",
        "numeros.append(var)"
      ],
      "metadata": {
        "id": "4b5bhgmXhi8k",
        "colab": {
          "base_uri": "https://localhost:8080/"
        },
        "outputId": "58cbbae1-4794-4b9c-caa7-690a8f07422d"
      },
      "execution_count": null,
      "outputs": [
        {
          "name": "stdout",
          "output_type": "stream",
          "text": [
            "34\n"
          ]
        }
      ]
    },
    {
      "cell_type": "code",
      "source": [
        "numeros"
      ],
      "metadata": {
        "colab": {
          "base_uri": "https://localhost:8080/"
        },
        "id": "4CEMv9RuY-8s",
        "outputId": "b3af53d8-b35f-44d7-d7e1-bed5e271cadd"
      },
      "execution_count": null,
      "outputs": [
        {
          "output_type": "execute_result",
          "data": {
            "text/plain": [
              "[1, 2, 3, 4, 5, 6, 7, 8, 9, 10, '2', '34']"
            ]
          },
          "metadata": {},
          "execution_count": 138
        }
      ]
    },
    {
      "cell_type": "code",
      "source": [
        "# pop - extrae el ultimo elemento de la lista\n",
        "numeros.pop()"
      ],
      "metadata": {
        "id": "LFEr9UGouVj7",
        "colab": {
          "base_uri": "https://localhost:8080/",
          "height": 35
        },
        "outputId": "823b8006-50bb-4f41-b8d7-acb78633ec2b"
      },
      "execution_count": null,
      "outputs": [
        {
          "output_type": "execute_result",
          "data": {
            "text/plain": [
              "'34'"
            ],
            "application/vnd.google.colaboratory.intrinsic+json": {
              "type": "string"
            }
          },
          "metadata": {},
          "execution_count": 139
        }
      ]
    },
    {
      "cell_type": "code",
      "source": [
        "numeros"
      ],
      "metadata": {
        "id": "xCriWi3LATRx",
        "colab": {
          "base_uri": "https://localhost:8080/"
        },
        "outputId": "5fdd4ad1-2d1b-4afd-b78f-c124bfd1bb0c"
      },
      "execution_count": null,
      "outputs": [
        {
          "output_type": "execute_result",
          "data": {
            "text/plain": [
              "[1, 2, 3, 4, 5, 6, 7, 8, 9, 10, '2']"
            ]
          },
          "metadata": {},
          "execution_count": 140
        }
      ]
    },
    {
      "cell_type": "code",
      "source": [
        "# Y si quiero sacar de una posicion que no es la última?\n",
        "numero = numeros.pop(0)\n",
        "numero"
      ],
      "metadata": {
        "id": "sHA3SMOIJTJu",
        "colab": {
          "base_uri": "https://localhost:8080/"
        },
        "outputId": "e0098ae4-c19f-4612-9da5-368883065ae2"
      },
      "execution_count": null,
      "outputs": [
        {
          "output_type": "execute_result",
          "data": {
            "text/plain": [
              "1"
            ]
          },
          "metadata": {},
          "execution_count": 141
        }
      ]
    },
    {
      "cell_type": "code",
      "source": [
        "numeros"
      ],
      "metadata": {
        "colab": {
          "base_uri": "https://localhost:8080/"
        },
        "id": "jdIDebbzZRcs",
        "outputId": "a667e069-3519-460f-e769-454163ef101d"
      },
      "execution_count": null,
      "outputs": [
        {
          "output_type": "execute_result",
          "data": {
            "text/plain": [
              "[2, 3, 4, 5, 6, 7, 8, 9, 10, '2']"
            ]
          },
          "metadata": {},
          "execution_count": 142
        }
      ]
    },
    {
      "cell_type": "code",
      "source": [
        "# Y si la lista esta vacia?\n",
        "lista_vacia = []\n",
        "lista_vacia.pop()"
      ],
      "metadata": {
        "id": "OJkgW-yOwGaD",
        "colab": {
          "base_uri": "https://localhost:8080/",
          "height": 176
        },
        "outputId": "4715c396-548d-4c7c-e374-6b1036f5bec2"
      },
      "execution_count": null,
      "outputs": [
        {
          "output_type": "error",
          "ename": "IndexError",
          "evalue": "pop from empty list",
          "traceback": [
            "\u001b[0;31m---------------------------------------------------------------------------\u001b[0m",
            "\u001b[0;31mIndexError\u001b[0m                                Traceback (most recent call last)",
            "\u001b[0;32m<ipython-input-143-4addbcf269af>\u001b[0m in \u001b[0;36m<cell line: 3>\u001b[0;34m()\u001b[0m\n\u001b[1;32m      1\u001b[0m \u001b[0;31m# Y si la lista esta vacia?\u001b[0m\u001b[0;34m\u001b[0m\u001b[0;34m\u001b[0m\u001b[0m\n\u001b[1;32m      2\u001b[0m \u001b[0mlista_vacia\u001b[0m \u001b[0;34m=\u001b[0m \u001b[0;34m[\u001b[0m\u001b[0;34m]\u001b[0m\u001b[0;34m\u001b[0m\u001b[0;34m\u001b[0m\u001b[0m\n\u001b[0;32m----> 3\u001b[0;31m \u001b[0mlista_vacia\u001b[0m\u001b[0;34m.\u001b[0m\u001b[0mpop\u001b[0m\u001b[0;34m(\u001b[0m\u001b[0;34m)\u001b[0m\u001b[0;34m\u001b[0m\u001b[0;34m\u001b[0m\u001b[0m\n\u001b[0m",
            "\u001b[0;31mIndexError\u001b[0m: pop from empty list"
          ]
        }
      ]
    },
    {
      "cell_type": "code",
      "source": [
        "# count - cuenta la cantidad de veces que un elemento se repite en la lista\n",
        "numeros.count(10)"
      ],
      "metadata": {
        "id": "kTPfGPjdvGNn",
        "colab": {
          "base_uri": "https://localhost:8080/"
        },
        "outputId": "33513435-cb20-4dce-bc6a-fcde69d56d8c"
      },
      "execution_count": null,
      "outputs": [
        {
          "output_type": "execute_result",
          "data": {
            "text/plain": [
              "1"
            ]
          },
          "metadata": {},
          "execution_count": 144
        }
      ]
    },
    {
      "cell_type": "code",
      "source": [
        "numeros.count(2)"
      ],
      "metadata": {
        "id": "KOtLqoGZcDEp",
        "colab": {
          "base_uri": "https://localhost:8080/"
        },
        "outputId": "43c05259-a63a-4b06-cb62-5fbc60e9f7f0"
      },
      "execution_count": null,
      "outputs": [
        {
          "output_type": "execute_result",
          "data": {
            "text/plain": [
              "1"
            ]
          },
          "metadata": {},
          "execution_count": 145
        }
      ]
    },
    {
      "cell_type": "code",
      "source": [
        "# Que pasa si el elemento no esta?\n",
        "numeros.count(\"aassddsf\")"
      ],
      "metadata": {
        "id": "A7FV0Sd3M_ls",
        "colab": {
          "base_uri": "https://localhost:8080/"
        },
        "outputId": "8114ffa6-e901-42ac-d5d4-38dabf6fae51"
      },
      "execution_count": null,
      "outputs": [
        {
          "output_type": "execute_result",
          "data": {
            "text/plain": [
              "0"
            ]
          },
          "metadata": {},
          "execution_count": 146
        }
      ]
    },
    {
      "cell_type": "code",
      "source": [
        "# index - busca un elemento y nos retorna el indice\n",
        "numeros.index(2)"
      ],
      "metadata": {
        "id": "HHN8M4bNv99o",
        "colab": {
          "base_uri": "https://localhost:8080/"
        },
        "outputId": "140b641c-f426-4c6b-f07a-fa7685fd4f59"
      },
      "execution_count": null,
      "outputs": [
        {
          "output_type": "execute_result",
          "data": {
            "text/plain": [
              "0"
            ]
          },
          "metadata": {},
          "execution_count": 147
        }
      ]
    },
    {
      "cell_type": "code",
      "source": [
        "numeros"
      ],
      "metadata": {
        "colab": {
          "base_uri": "https://localhost:8080/"
        },
        "id": "BZfAkqsbZrCP",
        "outputId": "0a5bf704-4e8c-4702-e16c-16b3630eabb3"
      },
      "execution_count": null,
      "outputs": [
        {
          "output_type": "execute_result",
          "data": {
            "text/plain": [
              "[2, 3, 4, 5, 6, 7, 8, 9, 10, '2']"
            ]
          },
          "metadata": {},
          "execution_count": 148
        }
      ]
    },
    {
      "cell_type": "code",
      "source": [
        "# si el elemento no esta en la lista?\n",
        "numeros.index(111)"
      ],
      "metadata": {
        "id": "SIHTMprRx2pK",
        "colab": {
          "base_uri": "https://localhost:8080/",
          "height": 159
        },
        "outputId": "c32a2d54-b51f-4d13-f56f-9085b5dac02a"
      },
      "execution_count": null,
      "outputs": [
        {
          "output_type": "error",
          "ename": "ValueError",
          "evalue": "111 is not in list",
          "traceback": [
            "\u001b[0;31m---------------------------------------------------------------------------\u001b[0m",
            "\u001b[0;31mValueError\u001b[0m                                Traceback (most recent call last)",
            "\u001b[0;32m<ipython-input-149-7fbf36d1d9bf>\u001b[0m in \u001b[0;36m<cell line: 2>\u001b[0;34m()\u001b[0m\n\u001b[1;32m      1\u001b[0m \u001b[0;31m# si el elemento no esta en la lista?\u001b[0m\u001b[0;34m\u001b[0m\u001b[0;34m\u001b[0m\u001b[0m\n\u001b[0;32m----> 2\u001b[0;31m \u001b[0mnumeros\u001b[0m\u001b[0;34m.\u001b[0m\u001b[0mindex\u001b[0m\u001b[0;34m(\u001b[0m\u001b[0;36m111\u001b[0m\u001b[0;34m)\u001b[0m\u001b[0;34m\u001b[0m\u001b[0;34m\u001b[0m\u001b[0m\n\u001b[0m",
            "\u001b[0;31mValueError\u001b[0m: 111 is not in list"
          ]
        }
      ]
    },
    {
      "cell_type": "code",
      "source": [
        "# si hay mas de uno?\n",
        "numeros.append(2)\n",
        "numeros"
      ],
      "metadata": {
        "id": "91eLXvAVx4qr",
        "colab": {
          "base_uri": "https://localhost:8080/"
        },
        "outputId": "7baec308-10fc-44a7-fff5-4e8c64cf45f6"
      },
      "execution_count": null,
      "outputs": [
        {
          "output_type": "execute_result",
          "data": {
            "text/plain": [
              "[2, 3, 4, 5, 6, 7, 8, 9, 10, '2', 2]"
            ]
          },
          "metadata": {},
          "execution_count": 150
        }
      ]
    },
    {
      "cell_type": "code",
      "source": [
        "numeros.index(2)"
      ],
      "metadata": {
        "colab": {
          "base_uri": "https://localhost:8080/"
        },
        "id": "ZeK7Ac7wZ516",
        "outputId": "2ac30206-33bb-4fbf-90e1-6c74a3ee31dc"
      },
      "execution_count": null,
      "outputs": [
        {
          "output_type": "execute_result",
          "data": {
            "text/plain": [
              "0"
            ]
          },
          "metadata": {},
          "execution_count": 151
        }
      ]
    },
    {
      "cell_type": "code",
      "source": [
        "# cantidad de elementos de una lista\n",
        "lista1 = [1,2,3, 1]\n",
        "len(lista1)"
      ],
      "metadata": {
        "id": "opJuis72Gs6r",
        "colab": {
          "base_uri": "https://localhost:8080/"
        },
        "outputId": "20a8aa62-6fd3-4675-b9ec-1a84b02b4278"
      },
      "execution_count": null,
      "outputs": [
        {
          "output_type": "execute_result",
          "data": {
            "text/plain": [
              "4"
            ]
          },
          "metadata": {},
          "execution_count": 152
        }
      ]
    },
    {
      "cell_type": "code",
      "source": [
        "# concatenar dos listas\n",
        "lista1 = [1,2,3]\n",
        "lista2 = [4,5,6]\n",
        "\n",
        "lista1 + lista2"
      ],
      "metadata": {
        "id": "8Ve05JKJNJhd",
        "colab": {
          "base_uri": "https://localhost:8080/"
        },
        "outputId": "4eea5d72-a2f3-4b70-9889-f0cba0ece5d1"
      },
      "execution_count": null,
      "outputs": [
        {
          "output_type": "execute_result",
          "data": {
            "text/plain": [
              "[1, 2, 3, 4, 5, 6]"
            ]
          },
          "metadata": {},
          "execution_count": 153
        }
      ]
    },
    {
      "cell_type": "code",
      "source": [
        "# extend -- help(list.extend)\n",
        "lista1.extend(lista1)\n",
        "lista1"
      ],
      "metadata": {
        "id": "pFRVAmf_xAYb",
        "colab": {
          "base_uri": "https://localhost:8080/"
        },
        "outputId": "4fae063f-6143-44a1-84bd-75fcd9f75ea3"
      },
      "execution_count": null,
      "outputs": [
        {
          "output_type": "execute_result",
          "data": {
            "text/plain": [
              "[1, 2, 3, 1, 2, 3]"
            ]
          },
          "metadata": {},
          "execution_count": 154
        }
      ]
    },
    {
      "cell_type": "markdown",
      "source": [
        "Preguntas❓"
      ],
      "metadata": {
        "id": "MSQ_nJy-8F45"
      }
    },
    {
      "cell_type": "markdown",
      "source": [
        "![green-divider](https://user-images.githubusercontent.com/7065401/52071924-c003ad80-2562-11e9-8297-1c6595f8a7ff.png)\n",
        "\n",
        "### 2.2 Tuplas\n"
      ],
      "metadata": {
        "id": "2oaF2Iily_YQ"
      }
    },
    {
      "cell_type": "markdown",
      "source": [
        "##### 2.2.1 Introducción a tuplas"
      ],
      "metadata": {
        "id": "_q3M-qMt0sd0"
      }
    },
    {
      "cell_type": "markdown",
      "source": [
        "Las tuplas son colecciones de datos **parecidas a las listas**, una de las diferencias es que estas son **inmutables**. Se utilizan para asegurarnos que una colección determinada de datos no se pueda modificar.\n",
        "Python utiliza tuplas en algunas funciones para devolver resultados inmutables, por eso, conviene saber identificarlas. A su vez, dependiendo de lo que queramos hacer, **las tuplas pueden ser más rápidas que las listas**."
      ],
      "metadata": {
        "id": "acbzQYLGzQkj"
      }
    },
    {
      "cell_type": "markdown",
      "source": [
        "**Caracteristicas**\n",
        "\n",
        "\n",
        "1. Inmutabilidad: Una vez definida, no se pueden cambiar los elementos de una tupla.\n",
        "\n",
        "2. Acceso Rápido: Al ser inmutables, Python puede optimizar el acceso a sus elementos, lo que las hace ligeramente más rápidas que las listas para algunas operaciones.\n",
        "\n",
        "3. Heterogeneidad: Al igual que las listas, las tuplas pueden contener elementos de diferentes tipos."
      ],
      "metadata": {
        "id": "xw-2XHXw1J1q"
      }
    },
    {
      "cell_type": "markdown",
      "source": [
        "##### 2.2.2 Sintaxis Básica"
      ],
      "metadata": {
        "id": "NzAC4x1c0_P3"
      }
    },
    {
      "cell_type": "code",
      "source": [
        "# Definición\n",
        "()"
      ],
      "metadata": {
        "id": "uWC8vZku11Rf",
        "colab": {
          "base_uri": "https://localhost:8080/"
        },
        "outputId": "48e6be28-d8c3-4f96-9a9b-cf8824c8d4bd"
      },
      "execution_count": null,
      "outputs": [
        {
          "output_type": "execute_result",
          "data": {
            "text/plain": [
              "()"
            ]
          },
          "metadata": {},
          "execution_count": 155
        }
      ]
    },
    {
      "cell_type": "code",
      "source": [
        "tupla = ()\n",
        "tupla"
      ],
      "metadata": {
        "id": "IC8r1GMVy2po",
        "colab": {
          "base_uri": "https://localhost:8080/"
        },
        "outputId": "a1aa102e-a05c-44a0-82d6-15c24021b464"
      },
      "execution_count": null,
      "outputs": [
        {
          "output_type": "execute_result",
          "data": {
            "text/plain": [
              "()"
            ]
          },
          "metadata": {},
          "execution_count": 156
        }
      ]
    },
    {
      "cell_type": "code",
      "source": [
        "# tipo de dato\n",
        "type(tupla)"
      ],
      "metadata": {
        "id": "8Ile7nBtysS4",
        "colab": {
          "base_uri": "https://localhost:8080/"
        },
        "outputId": "783b6b78-ce01-4369-c6e6-4efad8513742"
      },
      "execution_count": null,
      "outputs": [
        {
          "output_type": "execute_result",
          "data": {
            "text/plain": [
              "tuple"
            ]
          },
          "metadata": {},
          "execution_count": 157
        }
      ]
    },
    {
      "cell_type": "code",
      "source": [
        "# otra forma de definir una tupla\n",
        "tupla = tuple([0, 1])\n",
        "tupla"
      ],
      "metadata": {
        "id": "HIAkGltVydW4",
        "colab": {
          "base_uri": "https://localhost:8080/"
        },
        "outputId": "5588da58-3f57-4c8b-80ab-eafa0052e465"
      },
      "execution_count": null,
      "outputs": [
        {
          "output_type": "execute_result",
          "data": {
            "text/plain": [
              "(0, 1)"
            ]
          },
          "metadata": {},
          "execution_count": 159
        }
      ]
    },
    {
      "cell_type": "code",
      "source": [
        "# tupla de numeros\n",
        "tupla = (1, 2, 3, 4, 5)\n",
        "tupla"
      ],
      "metadata": {
        "id": "1LcBBHhgzLDL",
        "colab": {
          "base_uri": "https://localhost:8080/"
        },
        "outputId": "c4863fe6-8494-4375-bb0e-e9cdaafa1b70"
      },
      "execution_count": null,
      "outputs": [
        {
          "output_type": "execute_result",
          "data": {
            "text/plain": [
              "(1, 2, 3, 4, 5)"
            ]
          },
          "metadata": {},
          "execution_count": 161
        }
      ]
    },
    {
      "cell_type": "code",
      "source": [
        "# tupla de texto\n",
        "tupla = (\"Hola\", \"mundo!!!\")\n",
        "tupla"
      ],
      "metadata": {
        "id": "27GLA0AEzP8i",
        "colab": {
          "base_uri": "https://localhost:8080/"
        },
        "outputId": "2453841b-1c40-436e-c7e5-e03e373d4e34"
      },
      "execution_count": null,
      "outputs": [
        {
          "output_type": "execute_result",
          "data": {
            "text/plain": [
              "('Hola', 'mundo!!!')"
            ]
          },
          "metadata": {},
          "execution_count": 162
        }
      ]
    },
    {
      "cell_type": "code",
      "source": [
        "# tuplas heterogeneas\n",
        "tupla = (\"Hola\", 1, 3.5)\n",
        "tupla"
      ],
      "metadata": {
        "id": "b2lpIq5Q0Kkr",
        "colab": {
          "base_uri": "https://localhost:8080/"
        },
        "outputId": "ffb2c9ce-ca3b-41f7-9577-c1158edfa811"
      },
      "execution_count": null,
      "outputs": [
        {
          "output_type": "execute_result",
          "data": {
            "text/plain": [
              "('Hola', 1, 3.5)"
            ]
          },
          "metadata": {},
          "execution_count": 163
        }
      ]
    },
    {
      "cell_type": "code",
      "source": [
        "# tupla con un elemento\n",
        "tupla = (45,)\n",
        "type(tupla)"
      ],
      "metadata": {
        "id": "ObP_X3jO21_7",
        "colab": {
          "base_uri": "https://localhost:8080/"
        },
        "outputId": "fe8b7a68-278d-455d-efdd-8f66d27cfdac"
      },
      "execution_count": null,
      "outputs": [
        {
          "output_type": "execute_result",
          "data": {
            "text/plain": [
              "tuple"
            ]
          },
          "metadata": {},
          "execution_count": 168
        }
      ]
    },
    {
      "cell_type": "code",
      "source": [
        "# Otra forma de definir una tupla\n",
        "tupla = 2,4,5\n",
        "tupla"
      ],
      "metadata": {
        "id": "c_1qzLO03Dec",
        "colab": {
          "base_uri": "https://localhost:8080/"
        },
        "outputId": "e4b369ae-4d72-4286-9c57-689ff7a2f3de"
      },
      "execution_count": null,
      "outputs": [
        {
          "output_type": "execute_result",
          "data": {
            "text/plain": [
              "(2, 4, 5)"
            ]
          },
          "metadata": {},
          "execution_count": 165
        }
      ]
    },
    {
      "cell_type": "code",
      "source": [
        "tupla = (3,5)\n",
        "id(tupla)"
      ],
      "metadata": {
        "colab": {
          "base_uri": "https://localhost:8080/"
        },
        "id": "zJrR6QZebvR5",
        "outputId": "441bb9c2-e8f9-4a2b-f184-752d8ab61544"
      },
      "execution_count": null,
      "outputs": [
        {
          "output_type": "execute_result",
          "data": {
            "text/plain": [
              "138605864665472"
            ]
          },
          "metadata": {},
          "execution_count": 169
        }
      ]
    },
    {
      "cell_type": "code",
      "source": [
        "tupla = (5, 7)\n",
        "id(tupla)"
      ],
      "metadata": {
        "colab": {
          "base_uri": "https://localhost:8080/"
        },
        "id": "Fz-y-XEkbzQu",
        "outputId": "7ef03878-3377-48a0-becd-74cb2a321244"
      },
      "execution_count": null,
      "outputs": [
        {
          "output_type": "execute_result",
          "data": {
            "text/plain": [
              "138605864267712"
            ]
          },
          "metadata": {},
          "execution_count": 170
        }
      ]
    },
    {
      "cell_type": "markdown",
      "source": [
        "Preguntas❓"
      ],
      "metadata": {
        "id": "2th3_kfrDkF1"
      }
    },
    {
      "cell_type": "markdown",
      "source": [
        "##### 2.2.3 Accediendo a la tuplas"
      ],
      "metadata": {
        "id": "Z__UYq5H33uI"
      }
    },
    {
      "cell_type": "markdown",
      "source": [
        "###### Accediendo por indice"
      ],
      "metadata": {
        "id": "sgU-POwQi8zl"
      }
    },
    {
      "cell_type": "markdown",
      "source": [
        "Los elementos de una tupla se pueden acceder utilizando su índice, de forma similar a las listas:"
      ],
      "metadata": {
        "id": "RvCQHkm96D5C"
      }
    },
    {
      "cell_type": "code",
      "source": [
        "# tupla de ejemplo\n",
        "datos = (25, \"Python\")"
      ],
      "metadata": {
        "id": "M9z_gGZh6ttA"
      },
      "execution_count": null,
      "outputs": []
    },
    {
      "cell_type": "code",
      "source": [
        "# accediendo a elementos de una por su indice\n",
        "primer_dato = datos[0]  # 25\n",
        "segundo_dato = datos[1]  # \"Python\""
      ],
      "metadata": {
        "id": "upanvf7S6obK"
      },
      "execution_count": null,
      "outputs": []
    },
    {
      "cell_type": "code",
      "source": [
        "primer_dato"
      ],
      "metadata": {
        "id": "IA4dT2wAjq5x",
        "colab": {
          "base_uri": "https://localhost:8080/"
        },
        "outputId": "bba10f6e-4198-43ff-dfce-c9be3c369f7c"
      },
      "execution_count": null,
      "outputs": [
        {
          "output_type": "execute_result",
          "data": {
            "text/plain": [
              "25"
            ]
          },
          "metadata": {},
          "execution_count": 174
        }
      ]
    },
    {
      "cell_type": "code",
      "source": [
        "segundo_dato"
      ],
      "metadata": {
        "id": "qj8KbmRzjtX4",
        "colab": {
          "base_uri": "https://localhost:8080/",
          "height": 35
        },
        "outputId": "192a15d7-7a67-4f00-f644-588defb052e5"
      },
      "execution_count": null,
      "outputs": [
        {
          "output_type": "execute_result",
          "data": {
            "text/plain": [
              "'Python'"
            ],
            "application/vnd.google.colaboratory.intrinsic+json": {
              "type": "string"
            }
          },
          "metadata": {},
          "execution_count": 175
        }
      ]
    },
    {
      "cell_type": "markdown",
      "source": [
        "###### Accediendo por slicing"
      ],
      "metadata": {
        "id": "hNWORmVfjGoT"
      }
    },
    {
      "cell_type": "code",
      "source": [
        "# tupla de ejemplo\n",
        "tupla_numeros = (1, 2, 3, 4, 5, 6, 7, 8, 9)"
      ],
      "metadata": {
        "id": "gn5QVz20lLFV"
      },
      "execution_count": null,
      "outputs": []
    },
    {
      "cell_type": "code",
      "source": [
        "# los primeros cinco\n",
        "primeros = tupla_numeros[0:5]\n",
        "primeros"
      ],
      "metadata": {
        "id": "pYM93_7-lcUU",
        "colab": {
          "base_uri": "https://localhost:8080/"
        },
        "outputId": "422b0614-3dda-44a1-c38e-4847f7a3b646"
      },
      "execution_count": null,
      "outputs": [
        {
          "output_type": "execute_result",
          "data": {
            "text/plain": [
              "(1, 2, 3, 4, 5)"
            ]
          },
          "metadata": {},
          "execution_count": 178
        }
      ]
    },
    {
      "cell_type": "code",
      "source": [
        "# del 5 hasta el final\n",
        "ultimos = tupla_numeros[5:]\n",
        "ultimos"
      ],
      "metadata": {
        "id": "EDIphOhomKkw",
        "colab": {
          "base_uri": "https://localhost:8080/"
        },
        "outputId": "7a1e2554-1d7d-42ba-af14-dba14d24f0ff"
      },
      "execution_count": null,
      "outputs": [
        {
          "output_type": "execute_result",
          "data": {
            "text/plain": [
              "(6, 7, 8, 9)"
            ]
          },
          "metadata": {},
          "execution_count": 179
        }
      ]
    },
    {
      "cell_type": "code",
      "source": [
        "# subconjunto\n",
        "medio = tupla_numeros[5:7]\n",
        "medio"
      ],
      "metadata": {
        "id": "HmTIbD_XmVkJ",
        "colab": {
          "base_uri": "https://localhost:8080/"
        },
        "outputId": "ec64ec1e-de94-4386-982c-a1057981afbc"
      },
      "execution_count": null,
      "outputs": [
        {
          "output_type": "execute_result",
          "data": {
            "text/plain": [
              "(6, 7)"
            ]
          },
          "metadata": {},
          "execution_count": 180
        }
      ]
    },
    {
      "cell_type": "code",
      "source": [
        "# impares\n",
        "impares = tupla_numeros[::2]"
      ],
      "metadata": {
        "id": "KfjNdtBemd5s"
      },
      "execution_count": null,
      "outputs": []
    },
    {
      "cell_type": "code",
      "source": [
        "impares"
      ],
      "metadata": {
        "id": "ix4qupEJmzQi",
        "colab": {
          "base_uri": "https://localhost:8080/"
        },
        "outputId": "3db32214-48a3-4c0f-bf4a-27ce3410a42e"
      },
      "execution_count": null,
      "outputs": [
        {
          "output_type": "execute_result",
          "data": {
            "text/plain": [
              "(1, 3, 5, 7, 9)"
            ]
          },
          "metadata": {},
          "execution_count": 182
        }
      ]
    },
    {
      "cell_type": "markdown",
      "source": [
        "Preguntas❓"
      ],
      "metadata": {
        "id": "ZtA1uCmjEPu_"
      }
    },
    {
      "cell_type": "markdown",
      "source": [
        "##### 2.2.3 Comparación entre Listas y Tuplas"
      ],
      "metadata": {
        "id": "oIuL0Dz2y-_4"
      }
    },
    {
      "cell_type": "markdown",
      "source": [
        "**Similitudes**\n",
        "\n",
        "- Ordenadas: Tanto las listas como las tuplas mantienen el orden de los elementos.\n",
        "\n",
        "- Acceso por Índice: Se puede acceder a los elementos usando índices numéricos.\n",
        "\n",
        "- Heterogeneidad: Ambas pueden contener elementos de diferentes tipos de datos.\n",
        "\n",
        "**Diferencias**\n",
        "\n",
        "- Mutabilidad: Listas: Son mutables, lo que significa que sus elementos pueden ser cambiados, agregados o eliminados.\n",
        "\n",
        "- Tuplas: Son inmutables, una vez creadas, sus elementos no pueden ser modificados.\n",
        "\n",
        "\n",
        "**Definición**:\n",
        "\n",
        "- Listas: Se definen usando corchetes [].\n",
        "\n",
        "- Tuplas: Se definen usando paréntesis ().\n",
        "\n",
        "\n",
        "**Uso**:\n",
        "\n",
        "- Listas: Se utilizan cuando se espera que los datos cambien a lo largo del programa.\n",
        "\n",
        "- Tuplas: Se utilizan cuando se necesita un conjunto de datos que no cambie.\n",
        "\n",
        "\n",
        "- Rendimiento: Las tuplas pueden ser más rápidas que las listas para algunas operaciones debido a su inmutabilidad."
      ],
      "metadata": {
        "id": "I65Jq4WKzFge"
      }
    },
    {
      "cell_type": "markdown",
      "source": [
        "##### 2.2.3 Mutabilidad\n",
        "\n",
        "![green-divider](https://user-images.githubusercontent.com/7065401/52071924-c003ad80-2562-11e9-8297-1c6595f8a7ff.png)\n",
        "\n",
        "Como vimos, hay una diferencia entre listas y tuplas, las listas son mutables (podían reasignar sus ítems), en cambio las tuplas son inmutables, esto significa que no podemos reasignar sus ítems haciendo referencia con el índice.\n"
      ],
      "metadata": {
        "id": "sTTTDc8OGy8M"
      }
    },
    {
      "cell_type": "code",
      "source": [
        "# modificacion por indice\n",
        "tupla = (\"a\", \"b\", \"c\")\n",
        "tupla[0] = \"A\""
      ],
      "metadata": {
        "id": "GKoA-lRyIB2L",
        "colab": {
          "base_uri": "https://localhost:8080/",
          "height": 176
        },
        "outputId": "6b8325e7-64a9-465b-a496-84f85e6b502a"
      },
      "execution_count": null,
      "outputs": [
        {
          "output_type": "error",
          "ename": "TypeError",
          "evalue": "'tuple' object does not support item assignment",
          "traceback": [
            "\u001b[0;31m---------------------------------------------------------------------------\u001b[0m",
            "\u001b[0;31mTypeError\u001b[0m                                 Traceback (most recent call last)",
            "\u001b[0;32m<ipython-input-183-98d2c6f2e345>\u001b[0m in \u001b[0;36m<cell line: 3>\u001b[0;34m()\u001b[0m\n\u001b[1;32m      1\u001b[0m \u001b[0;31m# modificacion por indice\u001b[0m\u001b[0;34m\u001b[0m\u001b[0;34m\u001b[0m\u001b[0m\n\u001b[1;32m      2\u001b[0m \u001b[0mtupla\u001b[0m \u001b[0;34m=\u001b[0m \u001b[0;34m(\u001b[0m\u001b[0;34m\"a\"\u001b[0m\u001b[0;34m,\u001b[0m \u001b[0;34m\"b\"\u001b[0m\u001b[0;34m,\u001b[0m \u001b[0;34m\"c\"\u001b[0m\u001b[0;34m)\u001b[0m\u001b[0;34m\u001b[0m\u001b[0;34m\u001b[0m\u001b[0m\n\u001b[0;32m----> 3\u001b[0;31m \u001b[0mtupla\u001b[0m\u001b[0;34m[\u001b[0m\u001b[0;36m0\u001b[0m\u001b[0;34m]\u001b[0m \u001b[0;34m=\u001b[0m \u001b[0;34m\"A\"\u001b[0m\u001b[0;34m\u001b[0m\u001b[0;34m\u001b[0m\u001b[0m\n\u001b[0m",
            "\u001b[0;31mTypeError\u001b[0m: 'tuple' object does not support item assignment"
          ]
        }
      ]
    },
    {
      "cell_type": "markdown",
      "source": [
        "Preguntas❓"
      ],
      "metadata": {
        "id": "ogkvxSCyERUk"
      }
    },
    {
      "cell_type": "markdown",
      "source": [
        "##### 2.2.4 Funciones\n",
        "\n",
        "![green-divider](https://user-images.githubusercontent.com/7065401/52071924-c003ad80-2562-11e9-8297-1c6595f8a7ff.png)"
      ],
      "metadata": {
        "id": "1Ax4PqyAInlF"
      }
    },
    {
      "cell_type": "code",
      "source": [
        "dir(tuple)"
      ],
      "metadata": {
        "colab": {
          "base_uri": "https://localhost:8080/"
        },
        "id": "6M1PWEZ_dLUB",
        "outputId": "c85e9061-0e68-4734-9889-457c26165a69"
      },
      "execution_count": null,
      "outputs": [
        {
          "output_type": "execute_result",
          "data": {
            "text/plain": [
              "['__add__',\n",
              " '__class__',\n",
              " '__class_getitem__',\n",
              " '__contains__',\n",
              " '__delattr__',\n",
              " '__dir__',\n",
              " '__doc__',\n",
              " '__eq__',\n",
              " '__format__',\n",
              " '__ge__',\n",
              " '__getattribute__',\n",
              " '__getitem__',\n",
              " '__getnewargs__',\n",
              " '__gt__',\n",
              " '__hash__',\n",
              " '__init__',\n",
              " '__init_subclass__',\n",
              " '__iter__',\n",
              " '__le__',\n",
              " '__len__',\n",
              " '__lt__',\n",
              " '__mul__',\n",
              " '__ne__',\n",
              " '__new__',\n",
              " '__reduce__',\n",
              " '__reduce_ex__',\n",
              " '__repr__',\n",
              " '__rmul__',\n",
              " '__setattr__',\n",
              " '__sizeof__',\n",
              " '__str__',\n",
              " '__subclasshook__',\n",
              " 'count',\n",
              " 'index']"
            ]
          },
          "metadata": {},
          "execution_count": 185
        }
      ]
    },
    {
      "cell_type": "code",
      "source": [
        "# definimos una tupla\n",
        "numeros = (1,2,3,4,5,6,6,6,6)"
      ],
      "metadata": {
        "id": "hKUOqc4d1gb2"
      },
      "execution_count": null,
      "outputs": []
    },
    {
      "cell_type": "code",
      "source": [
        "# longitud de una tupla\n",
        "len(numeros)"
      ],
      "metadata": {
        "id": "tGP6qSadIqCL",
        "colab": {
          "base_uri": "https://localhost:8080/"
        },
        "outputId": "a16a8070-7c6f-4408-9459-0e4ea3ad6a7d"
      },
      "execution_count": null,
      "outputs": [
        {
          "output_type": "execute_result",
          "data": {
            "text/plain": [
              "9"
            ]
          },
          "metadata": {},
          "execution_count": 187
        }
      ]
    },
    {
      "cell_type": "code",
      "source": [
        "# count - retorna la cantidad de veces que aparece un elemento\n",
        "numeros.count(6)"
      ],
      "metadata": {
        "id": "XfPDWtz8JTUB",
        "colab": {
          "base_uri": "https://localhost:8080/"
        },
        "outputId": "36450fa9-8f9b-416d-ba84-73dc8dc45992"
      },
      "execution_count": null,
      "outputs": [
        {
          "output_type": "execute_result",
          "data": {
            "text/plain": [
              "4"
            ]
          },
          "metadata": {},
          "execution_count": 188
        }
      ]
    },
    {
      "cell_type": "code",
      "source": [
        "# count - si el elemento no esta?\n",
        "numeros.count(\"Z\")"
      ],
      "metadata": {
        "id": "0KrwI80VbBvO",
        "colab": {
          "base_uri": "https://localhost:8080/"
        },
        "outputId": "e5078333-b9ce-4f60-dd2d-11c0fc3f4e7b"
      },
      "execution_count": null,
      "outputs": [
        {
          "output_type": "execute_result",
          "data": {
            "text/plain": [
              "0"
            ]
          },
          "metadata": {},
          "execution_count": 189
        }
      ]
    },
    {
      "cell_type": "code",
      "source": [
        "# index - retorna el indice del elemento que se pasa como argumento\n",
        "numeros.index(5)"
      ],
      "metadata": {
        "id": "7ru-wTpcJcLq",
        "colab": {
          "base_uri": "https://localhost:8080/"
        },
        "outputId": "96947046-daba-4f9c-9097-e4aec1857021"
      },
      "execution_count": null,
      "outputs": [
        {
          "output_type": "execute_result",
          "data": {
            "text/plain": [
              "4"
            ]
          },
          "metadata": {},
          "execution_count": 190
        }
      ]
    },
    {
      "cell_type": "code",
      "source": [
        "# index -- si el elemento no esta en la tupla?\n",
        "numeros.index(\"2\")"
      ],
      "metadata": {
        "id": "YPZdmZkSWeHV",
        "colab": {
          "base_uri": "https://localhost:8080/",
          "height": 159
        },
        "outputId": "3af70017-e5ec-43b1-da98-1c0b7262ae54"
      },
      "execution_count": null,
      "outputs": [
        {
          "output_type": "error",
          "ename": "ValueError",
          "evalue": "tuple.index(x): x not in tuple",
          "traceback": [
            "\u001b[0;31m---------------------------------------------------------------------------\u001b[0m",
            "\u001b[0;31mValueError\u001b[0m                                Traceback (most recent call last)",
            "\u001b[0;32m<ipython-input-191-f47ec58a096d>\u001b[0m in \u001b[0;36m<cell line: 2>\u001b[0;34m()\u001b[0m\n\u001b[1;32m      1\u001b[0m \u001b[0;31m# index -- si el elemento no esta en la tupla?\u001b[0m\u001b[0;34m\u001b[0m\u001b[0;34m\u001b[0m\u001b[0m\n\u001b[0;32m----> 2\u001b[0;31m \u001b[0mnumeros\u001b[0m\u001b[0;34m.\u001b[0m\u001b[0mindex\u001b[0m\u001b[0;34m(\u001b[0m\u001b[0;34m\"2\"\u001b[0m\u001b[0;34m)\u001b[0m\u001b[0;34m\u001b[0m\u001b[0;34m\u001b[0m\u001b[0m\n\u001b[0m",
            "\u001b[0;31mValueError\u001b[0m: tuple.index(x): x not in tuple"
          ]
        }
      ]
    },
    {
      "cell_type": "code",
      "source": [
        "# Anidadas\n",
        "tuplaA = (\"a\",2,(\"A\", \"B\"), [1,2])\n",
        "tuplaA"
      ],
      "metadata": {
        "id": "mTkmeGKyJ8vL",
        "colab": {
          "base_uri": "https://localhost:8080/"
        },
        "outputId": "486292ae-5a9d-4041-ec8b-5134cefd36a3"
      },
      "execution_count": null,
      "outputs": [
        {
          "output_type": "execute_result",
          "data": {
            "text/plain": [
              "('a', 2, ('A', 'B'), [1, 2])"
            ]
          },
          "metadata": {},
          "execution_count": 192
        }
      ]
    },
    {
      "cell_type": "markdown",
      "source": [
        "##### 2.2.5 Transformaciones entre listas y tuplas\n",
        "\n",
        "![green-divider](https://user-images.githubusercontent.com/7065401/52071924-c003ad80-2562-11e9-8297-1c6595f8a7ff.png)"
      ],
      "metadata": {
        "id": "athFMdz_KjaH"
      }
    },
    {
      "cell_type": "code",
      "source": [
        "# lista a tupla\n",
        "lista1 = [1,2,3,4,5]\n",
        "tupla1 = tuple(lista1)\n",
        "tupla1"
      ],
      "metadata": {
        "id": "EgksRAC8KfM-",
        "colab": {
          "base_uri": "https://localhost:8080/"
        },
        "outputId": "37bb608d-6aa1-4214-fcea-725979931f0b"
      },
      "execution_count": null,
      "outputs": [
        {
          "output_type": "execute_result",
          "data": {
            "text/plain": [
              "(1, 2, 3, 4, 5)"
            ]
          },
          "metadata": {},
          "execution_count": 193
        }
      ]
    },
    {
      "cell_type": "code",
      "source": [
        "# tupla a lista\n",
        "tupla2 = (1,2,3,4,5)\n",
        "lista2 = list(tupla2)\n",
        "lista2"
      ],
      "metadata": {
        "id": "u4ctBxZPnFAY",
        "colab": {
          "base_uri": "https://localhost:8080/"
        },
        "outputId": "587bac85-9fd7-42c8-e8d0-ad4c0d952967"
      },
      "execution_count": null,
      "outputs": [
        {
          "output_type": "execute_result",
          "data": {
            "text/plain": [
              "[1, 2, 3, 4, 5]"
            ]
          },
          "metadata": {},
          "execution_count": 194
        }
      ]
    },
    {
      "cell_type": "code",
      "source": [
        "lista2.append(9)\n",
        "tupla2 = tuple(lista2)\n",
        "tupla2"
      ],
      "metadata": {
        "colab": {
          "base_uri": "https://localhost:8080/"
        },
        "id": "ersjYs_SdvDd",
        "outputId": "7908ce84-8014-4db2-cc16-0b9d0d2f0a62"
      },
      "execution_count": null,
      "outputs": [
        {
          "output_type": "execute_result",
          "data": {
            "text/plain": [
              "(1, 2, 3, 4, 5, 9)"
            ]
          },
          "metadata": {},
          "execution_count": 195
        }
      ]
    },
    {
      "cell_type": "markdown",
      "source": [
        "Preguntas❓"
      ],
      "metadata": {
        "id": "9vJIZDinETWa"
      }
    },
    {
      "cell_type": "markdown",
      "source": [
        "![green-divider](https://user-images.githubusercontent.com/7065401/52071924-c003ad80-2562-11e9-8297-1c6595f8a7ff.png)\n",
        "\n",
        "### 2.3 Conjuntos"
      ],
      "metadata": {
        "id": "DKqUeAxYvsSr"
      }
    },
    {
      "cell_type": "markdown",
      "source": [
        "##### 2.3.1 Introducción a los conjuntos"
      ],
      "metadata": {
        "id": "x8IngserpWS3"
      }
    },
    {
      "cell_type": "markdown",
      "source": [
        "Los conjuntos en Python son colecciones no ordenadas de elementos únicos. Esto significa que no pueden contener elementos duplicados y que el orden de los elementos no está garantizado."
      ],
      "metadata": {
        "id": "Rfl-MbhipgcB"
      }
    },
    {
      "cell_type": "markdown",
      "source": [
        "##### 2.3.2 Sintaxis Básica"
      ],
      "metadata": {
        "id": "I624K3lcqPHR"
      }
    },
    {
      "cell_type": "markdown",
      "source": [
        "Para definir un conjunto en Python, se utilizan llaves {} o la función set(). A continuación, se presentan algunos ejemplos de cómo definir y utilizar conjuntos:"
      ],
      "metadata": {
        "id": "n9aw8KpKqeVN"
      }
    },
    {
      "cell_type": "code",
      "source": [
        "# Conjunto vacio\n",
        "conjunto = set()"
      ],
      "metadata": {
        "id": "oYviBDJhqfon"
      },
      "execution_count": null,
      "outputs": []
    },
    {
      "cell_type": "code",
      "source": [
        "# tipo de dato\n",
        "type(conjunto)"
      ],
      "metadata": {
        "id": "I62k12QHqrV7",
        "colab": {
          "base_uri": "https://localhost:8080/"
        },
        "outputId": "eeffe8b2-a8e4-4163-9a80-905de5dbae0c"
      },
      "execution_count": null,
      "outputs": [
        {
          "output_type": "execute_result",
          "data": {
            "text/plain": [
              "set"
            ]
          },
          "metadata": {},
          "execution_count": 197
        }
      ]
    },
    {
      "cell_type": "code",
      "source": [
        "# Conjunto de numeros\n",
        "numeros = {1, 2, 3, 4 ,5 ,6 }"
      ],
      "metadata": {
        "id": "SSy1JXuuqvvT"
      },
      "execution_count": null,
      "outputs": []
    },
    {
      "cell_type": "code",
      "source": [
        "numeros"
      ],
      "metadata": {
        "id": "ZREHKEAXq_KB",
        "colab": {
          "base_uri": "https://localhost:8080/"
        },
        "outputId": "4b81ab63-0c4f-4e11-c424-a48a89838ae2"
      },
      "execution_count": null,
      "outputs": [
        {
          "output_type": "execute_result",
          "data": {
            "text/plain": [
              "{1, 2, 3, 4, 5, 6}"
            ]
          },
          "metadata": {},
          "execution_count": 199
        }
      ]
    },
    {
      "cell_type": "code",
      "source": [
        "conjunto = {}"
      ],
      "metadata": {
        "id": "pN7heB7bs4tJ"
      },
      "execution_count": null,
      "outputs": []
    },
    {
      "cell_type": "code",
      "source": [
        "type(conjunto)"
      ],
      "metadata": {
        "colab": {
          "base_uri": "https://localhost:8080/"
        },
        "id": "BCGrGWLDeyg_",
        "outputId": "3aacff66-83fc-47e5-9259-229073d5678d"
      },
      "execution_count": null,
      "outputs": [
        {
          "output_type": "execute_result",
          "data": {
            "text/plain": [
              "dict"
            ]
          },
          "metadata": {},
          "execution_count": 201
        }
      ]
    },
    {
      "cell_type": "markdown",
      "source": [
        "**Atencion:** las {} no representan un conjunto vacio"
      ],
      "metadata": {
        "id": "qtxx837nrHD7"
      }
    },
    {
      "cell_type": "code",
      "source": [
        "# Usando la funcion set\n",
        "vocales = set(['a', 'e', 'i', 'o', 'u'])"
      ],
      "metadata": {
        "id": "w1LMq7ZkrC8e"
      },
      "execution_count": null,
      "outputs": []
    },
    {
      "cell_type": "markdown",
      "source": [
        "##### 2.3.3 Carácteristicas"
      ],
      "metadata": {
        "id": "kTGP1TH0tRAf"
      }
    },
    {
      "cell_type": "markdown",
      "source": [
        "1. **Elementos Únicos:** Los conjuntos no permiten elementos duplicados. Si se intenta agregar un duplicado, será ignorado.\n",
        "\n",
        "2. **No Ordenados:** Los elementos en un conjunto no tienen un orden específico. No se puede acceder a ellos mediante índices."
      ],
      "metadata": {
        "id": "OXL9kL05tq-5"
      }
    },
    {
      "cell_type": "code",
      "source": [
        "# elementos únicos\n",
        "conjunto = { 1, 2, 3, 1, 3, 4, 5}"
      ],
      "metadata": {
        "id": "cceTclgwtpkr"
      },
      "execution_count": null,
      "outputs": []
    },
    {
      "cell_type": "code",
      "source": [
        "conjunto"
      ],
      "metadata": {
        "id": "J7KupgljyB1u",
        "colab": {
          "base_uri": "https://localhost:8080/"
        },
        "outputId": "0a81e42f-a5e5-4644-cfcc-7c6b44945ba3"
      },
      "execution_count": null,
      "outputs": [
        {
          "output_type": "execute_result",
          "data": {
            "text/plain": [
              "{1, 2, 3, 4, 5}"
            ]
          },
          "metadata": {},
          "execution_count": 203
        }
      ]
    },
    {
      "cell_type": "code",
      "source": [
        "# no se pueden acceder por indice -- error\n",
        "conjunto[0]"
      ],
      "metadata": {
        "id": "xa_UtzLWyGe3",
        "colab": {
          "base_uri": "https://localhost:8080/",
          "height": 159
        },
        "outputId": "e1ad3f7f-c5d9-4423-ce2f-2022978bcfa1"
      },
      "execution_count": null,
      "outputs": [
        {
          "output_type": "error",
          "ename": "TypeError",
          "evalue": "'set' object is not subscriptable",
          "traceback": [
            "\u001b[0;31m---------------------------------------------------------------------------\u001b[0m",
            "\u001b[0;31mTypeError\u001b[0m                                 Traceback (most recent call last)",
            "\u001b[0;32m<ipython-input-204-625df0076908>\u001b[0m in \u001b[0;36m<cell line: 2>\u001b[0;34m()\u001b[0m\n\u001b[1;32m      1\u001b[0m \u001b[0;31m# no se pueden acceder por indice -- error\u001b[0m\u001b[0;34m\u001b[0m\u001b[0;34m\u001b[0m\u001b[0m\n\u001b[0;32m----> 2\u001b[0;31m \u001b[0mconjunto\u001b[0m\u001b[0;34m[\u001b[0m\u001b[0;36m0\u001b[0m\u001b[0;34m]\u001b[0m\u001b[0;34m\u001b[0m\u001b[0;34m\u001b[0m\u001b[0m\n\u001b[0m",
            "\u001b[0;31mTypeError\u001b[0m: 'set' object is not subscriptable"
          ]
        }
      ]
    },
    {
      "cell_type": "markdown",
      "source": [
        "##### 2.3.4 Operaciones con conjuntos"
      ],
      "metadata": {
        "id": "-THKDD0KyVYd"
      }
    },
    {
      "cell_type": "code",
      "source": [
        "# conjuntos de ejemplo\n",
        "conjunto1 = {'a', 'e', 'i', 1, 5, 7}\n",
        "conjunto2 = {1, 2, 3, 'o', 'a', 'u'}"
      ],
      "metadata": {
        "id": "LfwYIFW2zpMY"
      },
      "execution_count": null,
      "outputs": []
    },
    {
      "cell_type": "markdown",
      "source": [
        "**Unión:** Combina todos los elementos de dos conjuntos, eliminando duplicados."
      ],
      "metadata": {
        "id": "6ETCZwV3ykbu"
      }
    },
    {
      "cell_type": "code",
      "source": [
        "# union - |\n",
        "conjunto_union = conjunto1 | conjunto2\n",
        "conjunto_union"
      ],
      "metadata": {
        "id": "g3IVvW9G0cJd",
        "colab": {
          "base_uri": "https://localhost:8080/"
        },
        "outputId": "f0d065ab-47ba-49f3-8bf6-488518a24205"
      },
      "execution_count": null,
      "outputs": [
        {
          "output_type": "execute_result",
          "data": {
            "text/plain": [
              "{1, 2, 3, 5, 7, 'a', 'e', 'i', 'o', 'u'}"
            ]
          },
          "metadata": {},
          "execution_count": 206
        }
      ]
    },
    {
      "cell_type": "markdown",
      "source": [
        "**Intersección:** Devuelve los elementos que están presentes en ambos conjuntos."
      ],
      "metadata": {
        "id": "eTL7Bca0zr0a"
      }
    },
    {
      "cell_type": "code",
      "source": [
        "# intersección - &\n",
        "conjunto_interseccion = conjunto1  & conjunto2\n",
        "conjunto_interseccion"
      ],
      "metadata": {
        "id": "hvWrtUJazxRw",
        "colab": {
          "base_uri": "https://localhost:8080/"
        },
        "outputId": "8ab03759-e11a-4c0e-849b-459bb22780d4"
      },
      "execution_count": null,
      "outputs": [
        {
          "output_type": "execute_result",
          "data": {
            "text/plain": [
              "{1, 'a'}"
            ]
          },
          "metadata": {},
          "execution_count": 207
        }
      ]
    },
    {
      "cell_type": "markdown",
      "source": [
        "**Diferencia:** Devuelve los elementos del primer conjunto sin los que se repiten en el conjunto 2"
      ],
      "metadata": {
        "id": "S9g-YuVQzphP"
      }
    },
    {
      "cell_type": "code",
      "source": [
        "# diferencia\n",
        "print(f\"conjunto1: {conjunto1}\")\n",
        "print(f\"conjunto2: {conjunto2}\")\n",
        "conjunto_diferencia = conjunto1 - conjunto2\n",
        "conjunto_diferencia"
      ],
      "metadata": {
        "id": "lnQwqtHFz0rk",
        "colab": {
          "base_uri": "https://localhost:8080/"
        },
        "outputId": "7b0da246-acee-421c-bc3e-71f2e53345ce"
      },
      "execution_count": null,
      "outputs": [
        {
          "output_type": "stream",
          "name": "stdout",
          "text": [
            "conjunto1: {'a', 1, 5, 'i', 7, 'e'}\n",
            "conjunto2: {'a', 1, 2, 3, 'u', 'o'}\n"
          ]
        },
        {
          "output_type": "execute_result",
          "data": {
            "text/plain": [
              "{5, 7, 'e', 'i'}"
            ]
          },
          "metadata": {},
          "execution_count": 210
        }
      ]
    },
    {
      "cell_type": "markdown",
      "source": [
        "##### 2.3.5 Métodos en conjuntos"
      ],
      "metadata": {
        "id": "mFceRKYK6q8S"
      }
    },
    {
      "cell_type": "markdown",
      "source": [
        "Además de las operaciones básicas, los conjuntos en Python tienen varios métodos útiles:"
      ],
      "metadata": {
        "id": "Ba1v7W8Q8Rbe"
      }
    },
    {
      "cell_type": "code",
      "source": [
        "# definimos un conjunto\n",
        "datos = {1, 2, 3, 4, 5, 6}"
      ],
      "metadata": {
        "id": "yYRaODI98ktd"
      },
      "execution_count": null,
      "outputs": []
    },
    {
      "cell_type": "code",
      "source": [
        "# add: agrega un elemento al conjunto\n",
        "datos.add(7)\n",
        "datos"
      ],
      "metadata": {
        "id": "5sp81xSo8d6t",
        "colab": {
          "base_uri": "https://localhost:8080/"
        },
        "outputId": "f2f7c7b4-f81f-4b2a-c21a-9b2079fe495c"
      },
      "execution_count": null,
      "outputs": [
        {
          "output_type": "execute_result",
          "data": {
            "text/plain": [
              "{1, 2, 3, 4, 5, 6, 7}"
            ]
          },
          "metadata": {},
          "execution_count": 214
        }
      ]
    },
    {
      "cell_type": "code",
      "source": [
        "# remove: elimina un elemento de un conjunto. error si el elemento no existe.\n",
        "datos.remove(7)\n",
        "datos"
      ],
      "metadata": {
        "id": "TY4g0d-X9Y0L",
        "colab": {
          "base_uri": "https://localhost:8080/",
          "height": 176
        },
        "outputId": "df8f4f62-a9b1-4b1d-df11-1e17bea67cab"
      },
      "execution_count": null,
      "outputs": [
        {
          "output_type": "error",
          "ename": "KeyError",
          "evalue": "7",
          "traceback": [
            "\u001b[0;31m---------------------------------------------------------------------------\u001b[0m",
            "\u001b[0;31mKeyError\u001b[0m                                  Traceback (most recent call last)",
            "\u001b[0;32m<ipython-input-216-5587e86fdc66>\u001b[0m in \u001b[0;36m<cell line: 2>\u001b[0;34m()\u001b[0m\n\u001b[1;32m      1\u001b[0m \u001b[0;31m# remove: elimina un elemento de un conjunto. error si el elemento no existe.\u001b[0m\u001b[0;34m\u001b[0m\u001b[0;34m\u001b[0m\u001b[0m\n\u001b[0;32m----> 2\u001b[0;31m \u001b[0mdatos\u001b[0m\u001b[0;34m.\u001b[0m\u001b[0mremove\u001b[0m\u001b[0;34m(\u001b[0m\u001b[0;36m7\u001b[0m\u001b[0;34m)\u001b[0m\u001b[0;34m\u001b[0m\u001b[0;34m\u001b[0m\u001b[0m\n\u001b[0m\u001b[1;32m      3\u001b[0m \u001b[0mdatos\u001b[0m\u001b[0;34m\u001b[0m\u001b[0;34m\u001b[0m\u001b[0m\n",
            "\u001b[0;31mKeyError\u001b[0m: 7"
          ]
        }
      ]
    },
    {
      "cell_type": "code",
      "source": [
        "# discard: elimina un elemento de un conjunto. si el elemento no existe, no hace nada.\n",
        "datos.discard(7)\n",
        "datos"
      ],
      "metadata": {
        "colab": {
          "base_uri": "https://localhost:8080/"
        },
        "id": "ODt6jQ_u9yd2",
        "outputId": "eab03dc6-a404-41ec-9f62-5c68fbc794b8"
      },
      "execution_count": null,
      "outputs": [
        {
          "output_type": "execute_result",
          "data": {
            "text/plain": [
              "{1, 2, 3, 4, 5, 6}"
            ]
          },
          "metadata": {},
          "execution_count": 217
        }
      ]
    },
    {
      "cell_type": "code",
      "source": [
        "# clear: elimina todos los elementos de un conjunto\n",
        "datos.clear()\n",
        "datos"
      ],
      "metadata": {
        "id": "dTSA4wNM_-sN",
        "colab": {
          "base_uri": "https://localhost:8080/"
        },
        "outputId": "fd9e666f-3baa-47f4-fc7c-5ade8ee18061"
      },
      "execution_count": null,
      "outputs": [
        {
          "output_type": "execute_result",
          "data": {
            "text/plain": [
              "set()"
            ]
          },
          "metadata": {},
          "execution_count": 218
        }
      ]
    },
    {
      "cell_type": "code",
      "source": [
        "# pop: saca un elemento del conjunto al azar\n",
        "datos = {1, 2, 3, 4, 5, 6}\n",
        "\n",
        "elemento = datos.pop()\n",
        "elemento"
      ],
      "metadata": {
        "colab": {
          "base_uri": "https://localhost:8080/"
        },
        "id": "SlxuHk5TT1f1",
        "outputId": "4415d890-d9e2-424c-f972-3cd989a56142"
      },
      "execution_count": null,
      "outputs": [
        {
          "output_type": "execute_result",
          "data": {
            "text/plain": [
              "1"
            ]
          },
          "metadata": {},
          "execution_count": 219
        }
      ]
    },
    {
      "cell_type": "code",
      "source": [
        "datos"
      ],
      "metadata": {
        "colab": {
          "base_uri": "https://localhost:8080/"
        },
        "id": "EKYBGDciT7ur",
        "outputId": "067ee0b6-b758-4902-8604-2be2fd5b6855"
      },
      "execution_count": null,
      "outputs": [
        {
          "output_type": "execute_result",
          "data": {
            "text/plain": [
              "{2, 3, 4, 5, 6}"
            ]
          },
          "metadata": {},
          "execution_count": 220
        }
      ]
    },
    {
      "cell_type": "code",
      "source": [
        "datos.pop()"
      ],
      "metadata": {
        "colab": {
          "base_uri": "https://localhost:8080/"
        },
        "id": "A7443T4ahact",
        "outputId": "8237a8b7-ffa4-43f2-a2be-bf1cb61e3523"
      },
      "execution_count": null,
      "outputs": [
        {
          "output_type": "execute_result",
          "data": {
            "text/plain": [
              "2"
            ]
          },
          "metadata": {},
          "execution_count": 221
        }
      ]
    },
    {
      "cell_type": "code",
      "source": [
        "datos"
      ],
      "metadata": {
        "colab": {
          "base_uri": "https://localhost:8080/"
        },
        "id": "bFeC_jxPhdeG",
        "outputId": "7d7fb391-f1d4-41df-dd67-ab3c56a8a2e1"
      },
      "execution_count": null,
      "outputs": [
        {
          "output_type": "execute_result",
          "data": {
            "text/plain": [
              "{3, 4, 5, 6}"
            ]
          },
          "metadata": {},
          "execution_count": 222
        }
      ]
    },
    {
      "cell_type": "code",
      "source": [
        "# cantidad de elementos de un conjunto\n",
        "conjunto = {1, 2, 3, 4, 5}\n",
        "len(conjunto)"
      ],
      "metadata": {
        "colab": {
          "base_uri": "https://localhost:8080/"
        },
        "id": "iusf757gWiFV",
        "outputId": "e1668620-385f-4d8c-dd54-4acc160c409c"
      },
      "execution_count": null,
      "outputs": [
        {
          "output_type": "execute_result",
          "data": {
            "text/plain": [
              "5"
            ]
          },
          "metadata": {},
          "execution_count": 223
        }
      ]
    },
    {
      "cell_type": "code",
      "source": [
        "dir(set)"
      ],
      "metadata": {
        "colab": {
          "base_uri": "https://localhost:8080/"
        },
        "id": "wMgWODmbhyPj",
        "outputId": "fdd2e8ca-d566-41b1-d128-1efe66c55ec0"
      },
      "execution_count": null,
      "outputs": [
        {
          "output_type": "execute_result",
          "data": {
            "text/plain": [
              "['__and__',\n",
              " '__class__',\n",
              " '__class_getitem__',\n",
              " '__contains__',\n",
              " '__delattr__',\n",
              " '__dir__',\n",
              " '__doc__',\n",
              " '__eq__',\n",
              " '__format__',\n",
              " '__ge__',\n",
              " '__getattribute__',\n",
              " '__gt__',\n",
              " '__hash__',\n",
              " '__iand__',\n",
              " '__init__',\n",
              " '__init_subclass__',\n",
              " '__ior__',\n",
              " '__isub__',\n",
              " '__iter__',\n",
              " '__ixor__',\n",
              " '__le__',\n",
              " '__len__',\n",
              " '__lt__',\n",
              " '__ne__',\n",
              " '__new__',\n",
              " '__or__',\n",
              " '__rand__',\n",
              " '__reduce__',\n",
              " '__reduce_ex__',\n",
              " '__repr__',\n",
              " '__ror__',\n",
              " '__rsub__',\n",
              " '__rxor__',\n",
              " '__setattr__',\n",
              " '__sizeof__',\n",
              " '__str__',\n",
              " '__sub__',\n",
              " '__subclasshook__',\n",
              " '__xor__',\n",
              " 'add',\n",
              " 'clear',\n",
              " 'copy',\n",
              " 'difference',\n",
              " 'difference_update',\n",
              " 'discard',\n",
              " 'intersection',\n",
              " 'intersection_update',\n",
              " 'isdisjoint',\n",
              " 'issubset',\n",
              " 'issuperset',\n",
              " 'pop',\n",
              " 'remove',\n",
              " 'symmetric_difference',\n",
              " 'symmetric_difference_update',\n",
              " 'union',\n",
              " 'update']"
            ]
          },
          "metadata": {},
          "execution_count": 224
        }
      ]
    },
    {
      "cell_type": "markdown",
      "source": [
        "##### 2.3.6 Conversion de tipos"
      ],
      "metadata": {
        "id": "-1hVQI0fSiPD"
      }
    },
    {
      "cell_type": "code",
      "source": [
        "# de conjunto a lista\n",
        "conjunto = {1, 2, 3, 4, 5}\n",
        "lista = list(conjunto)\n",
        "lista"
      ],
      "metadata": {
        "id": "-HKcj33ASmpS",
        "colab": {
          "base_uri": "https://localhost:8080/"
        },
        "outputId": "83ec86ee-7b6e-46ba-a8a7-8a5b47b54316"
      },
      "execution_count": null,
      "outputs": [
        {
          "output_type": "execute_result",
          "data": {
            "text/plain": [
              "[1, 2, 3, 4, 5]"
            ]
          },
          "metadata": {},
          "execution_count": 225
        }
      ]
    },
    {
      "cell_type": "code",
      "source": [
        "# de lista a conjunto\n",
        "lista = [1, 2, 3, 4, 5, 5, 8, \"5\", 5.0]\n",
        "print(lista)\n",
        "conjunto = set(lista)\n",
        "conjunto"
      ],
      "metadata": {
        "id": "3ikz8ygpSpIN",
        "colab": {
          "base_uri": "https://localhost:8080/"
        },
        "outputId": "dd88081c-ea95-4a68-a4bf-8a48d1d63a4b"
      },
      "execution_count": null,
      "outputs": [
        {
          "output_type": "stream",
          "name": "stdout",
          "text": [
            "[1, 2, 3, 4, 5, 5, 8, '5', 5.0]\n"
          ]
        },
        {
          "output_type": "execute_result",
          "data": {
            "text/plain": [
              "{1, 2, 3, 4, 5, '5', 8}"
            ]
          },
          "metadata": {},
          "execution_count": 231
        }
      ]
    },
    {
      "cell_type": "code",
      "source": [
        "lista = [5.0, \"5\", 5, 5.5, \"a\", \"A\"]"
      ],
      "metadata": {
        "id": "mFK4LMf0iuE-"
      },
      "execution_count": null,
      "outputs": []
    },
    {
      "cell_type": "code",
      "source": [
        "type(lista[0])"
      ],
      "metadata": {
        "colab": {
          "base_uri": "https://localhost:8080/"
        },
        "id": "7cJRJw-iix8g",
        "outputId": "a5b7bd29-8427-4e4d-8d17-c241fd83cb46"
      },
      "execution_count": null,
      "outputs": [
        {
          "output_type": "execute_result",
          "data": {
            "text/plain": [
              "float"
            ]
          },
          "metadata": {},
          "execution_count": 244
        }
      ]
    },
    {
      "cell_type": "code",
      "source": [
        "set(lista)"
      ],
      "metadata": {
        "colab": {
          "base_uri": "https://localhost:8080/"
        },
        "id": "zXo4-T7Ki8Ev",
        "outputId": "7e1bfb37-77c5-4976-89d1-5993a16f1e94"
      },
      "execution_count": null,
      "outputs": [
        {
          "output_type": "execute_result",
          "data": {
            "text/plain": [
              "{'5', 5.0, 5.5, 'A', 'a'}"
            ]
          },
          "metadata": {},
          "execution_count": 247
        }
      ]
    },
    {
      "cell_type": "markdown",
      "source": [
        "Preguntas❓"
      ],
      "metadata": {
        "id": "izZCZe9uEi3L"
      }
    },
    {
      "cell_type": "markdown",
      "source": [
        "¿Que tipo de datos son los conjuntos, mutables/inmutables?"
      ],
      "metadata": {
        "id": "ikuGSkRPEnzC"
      }
    },
    {
      "cell_type": "code",
      "source": [
        "conjunto = set()\n",
        "id(conjunto)"
      ],
      "metadata": {
        "colab": {
          "base_uri": "https://localhost:8080/"
        },
        "id": "MmX25bNHiaM-",
        "outputId": "046405bc-13e1-4661-e365-2c68a950b9fe"
      },
      "execution_count": null,
      "outputs": [
        {
          "output_type": "execute_result",
          "data": {
            "text/plain": [
              "138604973630720"
            ]
          },
          "metadata": {},
          "execution_count": 248
        }
      ]
    },
    {
      "cell_type": "code",
      "source": [
        "conjunto.add(4)\n",
        "conjunto"
      ],
      "metadata": {
        "colab": {
          "base_uri": "https://localhost:8080/"
        },
        "id": "XiQIWU1Ejk4P",
        "outputId": "89afc7f5-fd6a-4a0f-d5e7-53b55aadb8f4"
      },
      "execution_count": null,
      "outputs": [
        {
          "output_type": "execute_result",
          "data": {
            "text/plain": [
              "{4}"
            ]
          },
          "metadata": {},
          "execution_count": 249
        }
      ]
    },
    {
      "cell_type": "code",
      "source": [
        "id(conjunto)"
      ],
      "metadata": {
        "colab": {
          "base_uri": "https://localhost:8080/"
        },
        "id": "n773r--LjonL",
        "outputId": "8340d61d-0560-4132-ecfb-a17d7aeb3c3d"
      },
      "execution_count": null,
      "outputs": [
        {
          "output_type": "execute_result",
          "data": {
            "text/plain": [
              "138604973630720"
            ]
          },
          "metadata": {},
          "execution_count": 250
        }
      ]
    },
    {
      "cell_type": "markdown",
      "source": [
        "![green-divider](https://user-images.githubusercontent.com/7065401/52071924-c003ad80-2562-11e9-8297-1c6595f8a7ff.png)\n",
        "\n",
        "### 2.4 Diccionarios"
      ],
      "metadata": {
        "id": "vsFZuvnJvwR4"
      }
    },
    {
      "cell_type": "markdown",
      "source": [
        "##### 2.4.1 Introducción a los diccionarios"
      ],
      "metadata": {
        "id": "-y0YeBgPBqOV"
      }
    },
    {
      "cell_type": "markdown",
      "source": [
        "Los diccionarios en Python son estructuras de datos que permiten almacenar colecciones de pares clave-valor. A diferencia de las listas y tuplas, que son secuencias de elementos, los diccionarios son colecciones no ordenadas, lo que significa que no mantienen el orden de inserción de los elementos. Cada clave en un diccionario es única y se utiliza para acceder a su valor correspondiente de manera rápida y eficiente."
      ],
      "metadata": {
        "id": "yDojaG8U4t1m"
      }
    },
    {
      "cell_type": "markdown",
      "source": [
        "Para definir un diccionario en Python, se utilizan llaves {} y los pares clave-valor se separan por comas, con la clave y el valor separados por dos puntos *:*.\n",
        "\n",
        "A continuación, se presentan algunos ejemplos de cómo definir y utilizar diccionarios:"
      ],
      "metadata": {
        "id": "FeX7Zyru45KM"
      }
    },
    {
      "cell_type": "markdown",
      "source": [
        "##### 2.4.2 Sintaxis Básica"
      ],
      "metadata": {
        "id": "pcyv3DdAB1ZA"
      }
    },
    {
      "cell_type": "code",
      "source": [
        "# diccionario vacio\n",
        "{}"
      ],
      "metadata": {
        "id": "1I8HB61o41Wm",
        "colab": {
          "base_uri": "https://localhost:8080/"
        },
        "outputId": "e20ffcae-9160-4905-92a5-c606d6f80f3e"
      },
      "execution_count": null,
      "outputs": [
        {
          "output_type": "execute_result",
          "data": {
            "text/plain": [
              "{}"
            ]
          },
          "metadata": {},
          "execution_count": 251
        }
      ]
    },
    {
      "cell_type": "code",
      "source": [
        "# diccionario vacio\n",
        "diccionario = {}\n",
        "diccionario"
      ],
      "metadata": {
        "id": "kGTMw6tH5Ji-",
        "colab": {
          "base_uri": "https://localhost:8080/"
        },
        "outputId": "530dd7d2-384b-4b0a-dd88-09a88893232d"
      },
      "execution_count": null,
      "outputs": [
        {
          "output_type": "execute_result",
          "data": {
            "text/plain": [
              "{}"
            ]
          },
          "metadata": {},
          "execution_count": 252
        }
      ]
    },
    {
      "cell_type": "code",
      "source": [
        "# tipo de dato\n",
        "type(diccionario)"
      ],
      "metadata": {
        "id": "c7I196CT5Okh",
        "colab": {
          "base_uri": "https://localhost:8080/"
        },
        "outputId": "37a8310d-10ad-4fa9-93c7-a202175078ea"
      },
      "execution_count": null,
      "outputs": [
        {
          "output_type": "execute_result",
          "data": {
            "text/plain": [
              "dict"
            ]
          },
          "metadata": {},
          "execution_count": 253
        }
      ]
    },
    {
      "cell_type": "code",
      "source": [
        "# diccionario\n",
        "\n",
        "diccionario = dict()\n",
        "diccionario"
      ],
      "metadata": {
        "id": "IrEp201cH7_z",
        "colab": {
          "base_uri": "https://localhost:8080/"
        },
        "outputId": "7b72fe27-030b-4d32-ccdf-bfad73afd2b3"
      },
      "execution_count": null,
      "outputs": [
        {
          "output_type": "execute_result",
          "data": {
            "text/plain": [
              "{}"
            ]
          },
          "metadata": {},
          "execution_count": 254
        }
      ]
    },
    {
      "cell_type": "code",
      "source": [
        "datos_alumno = {\n",
        "    \"nombre\": \"Juan\",\n",
        "    \"edad\": 30,\n",
        "    \"altura\": 1.75,\n",
        "    \"ciudad\": \"BS AS\"\n",
        "}"
      ],
      "metadata": {
        "id": "UDj-FUY4Kgu9"
      },
      "execution_count": null,
      "outputs": []
    },
    {
      "cell_type": "code",
      "source": [
        "datos_alumno"
      ],
      "metadata": {
        "id": "KpAci58dKwuY",
        "colab": {
          "base_uri": "https://localhost:8080/"
        },
        "outputId": "e5603dda-b217-40fc-fc1d-7f24c5ff424a"
      },
      "execution_count": null,
      "outputs": [
        {
          "output_type": "execute_result",
          "data": {
            "text/plain": [
              "{'nombre': 'Juan', 'edad': 30, 'altura': 1.75, 'ciudad': 'BS AS'}"
            ]
          },
          "metadata": {},
          "execution_count": 257
        }
      ]
    },
    {
      "cell_type": "markdown",
      "source": [
        "Preguntas❓"
      ],
      "metadata": {
        "id": "r9MiQ3UBE6ZT"
      }
    },
    {
      "cell_type": "markdown",
      "source": [
        "##### 2.4.3 Caracteristicas"
      ],
      "metadata": {
        "id": "dkT7m7CpGkcO"
      }
    },
    {
      "cell_type": "markdown",
      "source": [
        "1. **Colecciones No Ordenadas:** Los diccionarios no mantienen el orden de los elementos. En Python 3.7 y versiones posteriores, los diccionarios mantienen el orden de inserción de los elementos, pero esto no es algo en lo que se deba confiar siempre para versiones anteriores.\n",
        "\n",
        "2. **Pares Clave-Valor:** Cada elemento en un diccionario está formado por dos partes: una clave y un valor. Las claves deben ser únicas e inmutables (pueden ser cadenas, números o tuplas), mientras que los valores pueden ser de cualquier tipo.\n",
        "\n",
        "3. **Acceso Rápido a Valores:** Se puede acceder a los valores en un diccionario de manera eficiente utilizando sus claves."
      ],
      "metadata": {
        "id": "kyQTyeyN5WM1"
      }
    },
    {
      "cell_type": "code",
      "source": [
        "diccionario = {\n",
        "    \"nombre\": \"Juan\",\n",
        "    \"edad\": 30,\n",
        "    \"altura\": 1.75,\n",
        "    \"ciudad\": \"New York\",\n",
        "    (\"PYTHON\", \"WEB\"): \"coder\",\n",
        "    \"notas\": [0, 3]\n",
        "}"
      ],
      "metadata": {
        "id": "HSo0cTkTlCtx"
      },
      "execution_count": null,
      "outputs": []
    },
    {
      "cell_type": "code",
      "source": [
        "diccionario"
      ],
      "metadata": {
        "colab": {
          "base_uri": "https://localhost:8080/"
        },
        "id": "CRGn4YN6lOnw",
        "outputId": "1eb62d79-46ea-4394-d7ba-51c67cf9c027"
      },
      "execution_count": null,
      "outputs": [
        {
          "output_type": "execute_result",
          "data": {
            "text/plain": [
              "{'nombre': 'Juan',\n",
              " 'edad': 30,\n",
              " 'altura': 1.75,\n",
              " 'ciudad': 'New York',\n",
              " ('PYTHON', 'WEB'): 'coder',\n",
              " 'notas': [0, 3]}"
            ]
          },
          "metadata": {},
          "execution_count": 262
        }
      ]
    },
    {
      "cell_type": "markdown",
      "source": [
        "##### 2.4.4 Acceso"
      ],
      "metadata": {
        "id": "gua89RhT-7Sy"
      }
    },
    {
      "cell_type": "markdown",
      "source": [
        "Accedemos a los valores por intermedio de las claves"
      ],
      "metadata": {
        "id": "wB5_EwUSK-hQ"
      }
    },
    {
      "cell_type": "code",
      "source": [
        "diccionario = {\n",
        "    \"nombre\": \"Juan\",\n",
        "    \"edad\": 30,\n",
        "    \"altura\": 1.75,\n",
        "    \"ciudad\": \"New York\"\n",
        "}"
      ],
      "metadata": {
        "id": "84VGisqnLCsf"
      },
      "execution_count": null,
      "outputs": []
    },
    {
      "cell_type": "code",
      "source": [
        "diccionario[\"nombre\"]"
      ],
      "metadata": {
        "id": "3NFigCT29FyV",
        "colab": {
          "base_uri": "https://localhost:8080/",
          "height": 35
        },
        "outputId": "7e0cfe9c-3d53-4241-f7ca-b94e9c3305e2"
      },
      "execution_count": null,
      "outputs": [
        {
          "output_type": "execute_result",
          "data": {
            "text/plain": [
              "'Juan'"
            ],
            "application/vnd.google.colaboratory.intrinsic+json": {
              "type": "string"
            }
          },
          "metadata": {},
          "execution_count": 264
        }
      ]
    },
    {
      "cell_type": "code",
      "source": [
        "diccionario[\"edad\"]"
      ],
      "metadata": {
        "id": "I4OSRwd59fTV",
        "colab": {
          "base_uri": "https://localhost:8080/"
        },
        "outputId": "c6a97204-25a9-4c0f-f7b8-40fa322e93bc"
      },
      "execution_count": null,
      "outputs": [
        {
          "output_type": "execute_result",
          "data": {
            "text/plain": [
              "30"
            ]
          },
          "metadata": {},
          "execution_count": 265
        }
      ]
    },
    {
      "cell_type": "code",
      "source": [
        "# si la clave no esta?\n",
        "diccionario[\"dni\"]"
      ],
      "metadata": {
        "colab": {
          "base_uri": "https://localhost:8080/",
          "height": 159
        },
        "id": "DBah_hpNluxl",
        "outputId": "ebab2fea-0579-41e9-89da-3d1aacd37f4b"
      },
      "execution_count": null,
      "outputs": [
        {
          "output_type": "error",
          "ename": "KeyError",
          "evalue": "'dni'",
          "traceback": [
            "\u001b[0;31m---------------------------------------------------------------------------\u001b[0m",
            "\u001b[0;31mKeyError\u001b[0m                                  Traceback (most recent call last)",
            "\u001b[0;32m<ipython-input-266-73e897adf083>\u001b[0m in \u001b[0;36m<cell line: 2>\u001b[0;34m()\u001b[0m\n\u001b[1;32m      1\u001b[0m \u001b[0;31m# si la clave no esta?\u001b[0m\u001b[0;34m\u001b[0m\u001b[0;34m\u001b[0m\u001b[0m\n\u001b[0;32m----> 2\u001b[0;31m \u001b[0mdiccionario\u001b[0m\u001b[0;34m[\u001b[0m\u001b[0;34m\"dni\"\u001b[0m\u001b[0;34m]\u001b[0m\u001b[0;34m\u001b[0m\u001b[0;34m\u001b[0m\u001b[0m\n\u001b[0m",
            "\u001b[0;31mKeyError\u001b[0m: 'dni'"
          ]
        }
      ]
    },
    {
      "cell_type": "markdown",
      "source": [
        "##### 2.4.5 Modificando valores"
      ],
      "metadata": {
        "id": "CFkbfWeM-RIr"
      }
    },
    {
      "cell_type": "code",
      "source": [
        "diccionario = {\n",
        "    \"nombre\": \"Juan\",\n",
        "    \"edad\": 30,\n",
        "    \"altura\": 1.75,\n",
        "    \"ciudad\": \"New York\"\n",
        "}"
      ],
      "metadata": {
        "id": "ExM0lw_i9qg6"
      },
      "execution_count": null,
      "outputs": []
    },
    {
      "cell_type": "code",
      "source": [
        "diccionario[\"edad\"] = 31\n",
        "diccionario"
      ],
      "metadata": {
        "id": "Vfwert-5_UUP",
        "colab": {
          "base_uri": "https://localhost:8080/"
        },
        "outputId": "64df7b57-526d-4974-db0f-f5095428e4c5"
      },
      "execution_count": null,
      "outputs": [
        {
          "output_type": "execute_result",
          "data": {
            "text/plain": [
              "{'nombre': 'Juan', 'edad': 31, 'altura': 1.75, 'ciudad': 'New York'}"
            ]
          },
          "metadata": {},
          "execution_count": 269
        }
      ]
    },
    {
      "cell_type": "code",
      "source": [
        "diccionario[\"nombre\"] = \"Pedro\"\n",
        "diccionario"
      ],
      "metadata": {
        "colab": {
          "base_uri": "https://localhost:8080/"
        },
        "id": "rYs0FZMOl7H7",
        "outputId": "b86f44f9-9040-4a25-af2a-5386c7b55f0c"
      },
      "execution_count": null,
      "outputs": [
        {
          "output_type": "execute_result",
          "data": {
            "text/plain": [
              "{'nombre': 'Pedro', 'edad': 31, 'altura': 1.75, 'ciudad': 'New York'}"
            ]
          },
          "metadata": {},
          "execution_count": 270
        }
      ]
    },
    {
      "cell_type": "code",
      "source": [
        "diccionario[\"edad\"] = \"31\"\n",
        "diccionario"
      ],
      "metadata": {
        "colab": {
          "base_uri": "https://localhost:8080/"
        },
        "id": "ydE8G4dBmN8g",
        "outputId": "bcfbdc0c-cd38-4549-f7bf-494b25fce94f"
      },
      "execution_count": null,
      "outputs": [
        {
          "output_type": "execute_result",
          "data": {
            "text/plain": [
              "{'nombre': 'Pedro', 'edad': '31', 'altura': 1.75, 'ciudad': 'New York'}"
            ]
          },
          "metadata": {},
          "execution_count": 271
        }
      ]
    },
    {
      "cell_type": "markdown",
      "source": [
        "##### 2.4.6 Agregando valores"
      ],
      "metadata": {
        "id": "A0ixs_uh_kea"
      }
    },
    {
      "cell_type": "code",
      "source": [
        "# partimos de un diccionario vacio y vamos agregando los pares clave-valor\n",
        "datos_alumno = {}\n",
        "datos_alumno"
      ],
      "metadata": {
        "id": "yrObDwJLAGd9",
        "colab": {
          "base_uri": "https://localhost:8080/"
        },
        "outputId": "66b1a1e1-7e36-44e7-da6b-1dfc474cec9d"
      },
      "execution_count": null,
      "outputs": [
        {
          "output_type": "execute_result",
          "data": {
            "text/plain": [
              "{}"
            ]
          },
          "metadata": {},
          "execution_count": 274
        }
      ]
    },
    {
      "cell_type": "code",
      "source": [
        "datos_alumno[\"nombre\"] = \"Pablo\"\n",
        "datos_alumno"
      ],
      "metadata": {
        "colab": {
          "base_uri": "https://localhost:8080/"
        },
        "id": "8UgLFMQCmdAt",
        "outputId": "01094088-53ba-4402-89b2-9bf2c6b04cd0"
      },
      "execution_count": null,
      "outputs": [
        {
          "output_type": "execute_result",
          "data": {
            "text/plain": [
              "{'nombre': 'Pablo'}"
            ]
          },
          "metadata": {},
          "execution_count": 275
        }
      ]
    },
    {
      "cell_type": "code",
      "source": [
        "datos_alumno[\"edad\"] = 30\n",
        "datos_alumno"
      ],
      "metadata": {
        "colab": {
          "base_uri": "https://localhost:8080/"
        },
        "id": "v0K9n-sAmq8p",
        "outputId": "a42a0caa-90e8-4dad-ca38-66be4ab50dae"
      },
      "execution_count": null,
      "outputs": [
        {
          "output_type": "execute_result",
          "data": {
            "text/plain": [
              "{'nombre': 'Pablo', 'edad': 30}"
            ]
          },
          "metadata": {},
          "execution_count": 277
        }
      ]
    },
    {
      "cell_type": "markdown",
      "source": [
        "##### 2.4.7 Eliminando un par clave-valor"
      ],
      "metadata": {
        "id": "Cu9EgY_IBL5Z"
      }
    },
    {
      "cell_type": "code",
      "source": [
        "# se elimina con la clave\n",
        "datos_alumno = {\n",
        "    \"nombre\": \"Juan\",\n",
        "    \"edad\": 30,\n",
        "    \"altura\": 1.75,\n",
        "    \"ciudad\": \"New York\"\n",
        "}"
      ],
      "metadata": {
        "id": "9P0sxmZjKKvg"
      },
      "execution_count": null,
      "outputs": []
    },
    {
      "cell_type": "code",
      "source": [
        "datos_alumno"
      ],
      "metadata": {
        "colab": {
          "base_uri": "https://localhost:8080/"
        },
        "id": "OKsjKNiTnAn9",
        "outputId": "bbf8f5a4-b979-416b-e4e7-491747792e01"
      },
      "execution_count": null,
      "outputs": [
        {
          "output_type": "execute_result",
          "data": {
            "text/plain": [
              "{'nombre': 'Juan', 'edad': 30, 'altura': 1.75, 'ciudad': 'New York'}"
            ]
          },
          "metadata": {},
          "execution_count": 279
        }
      ]
    },
    {
      "cell_type": "markdown",
      "source": [
        "**Atencion:** si la clave no existe da error."
      ],
      "metadata": {
        "id": "3WH1g6fJND-R"
      }
    },
    {
      "cell_type": "code",
      "source": [
        "del datos_alumno[\"edad\"]\n",
        "datos_alumno"
      ],
      "metadata": {
        "id": "ORIgzONdKSzV",
        "colab": {
          "base_uri": "https://localhost:8080/"
        },
        "outputId": "8f9fe3f7-50fe-4cf5-a84a-aeb023738094"
      },
      "execution_count": null,
      "outputs": [
        {
          "output_type": "execute_result",
          "data": {
            "text/plain": [
              "{'nombre': 'Juan', 'altura': 1.75, 'ciudad': 'New York'}"
            ]
          },
          "metadata": {},
          "execution_count": 280
        }
      ]
    },
    {
      "cell_type": "code",
      "source": [
        "del datos_alumno[\"edad\"]\n",
        "datos_alumno"
      ],
      "metadata": {
        "colab": {
          "base_uri": "https://localhost:8080/",
          "height": 159
        },
        "id": "mgDDmJr9nG3m",
        "outputId": "184eac7f-caf6-4d48-b5a3-f300dd0aa7c4"
      },
      "execution_count": null,
      "outputs": [
        {
          "output_type": "error",
          "ename": "KeyError",
          "evalue": "'edad'",
          "traceback": [
            "\u001b[0;31m---------------------------------------------------------------------------\u001b[0m",
            "\u001b[0;31mKeyError\u001b[0m                                  Traceback (most recent call last)",
            "\u001b[0;32m<ipython-input-281-d4fdd2e78efe>\u001b[0m in \u001b[0;36m<cell line: 1>\u001b[0;34m()\u001b[0m\n\u001b[0;32m----> 1\u001b[0;31m \u001b[0;32mdel\u001b[0m \u001b[0mdatos_alumno\u001b[0m\u001b[0;34m[\u001b[0m\u001b[0;34m\"edad\"\u001b[0m\u001b[0;34m]\u001b[0m\u001b[0;34m\u001b[0m\u001b[0;34m\u001b[0m\u001b[0m\n\u001b[0m\u001b[1;32m      2\u001b[0m \u001b[0mdatos_alumno\u001b[0m\u001b[0;34m\u001b[0m\u001b[0;34m\u001b[0m\u001b[0m\n",
            "\u001b[0;31mKeyError\u001b[0m: 'edad'"
          ]
        }
      ]
    },
    {
      "cell_type": "markdown",
      "source": [
        "Preguntas❓"
      ],
      "metadata": {
        "id": "zJwWlRm_E-1i"
      }
    },
    {
      "cell_type": "markdown",
      "source": [
        "##### 2.4.8 Métodos útiles"
      ],
      "metadata": {
        "id": "KTiinTFBLKHr"
      }
    },
    {
      "cell_type": "markdown",
      "source": [
        "Python proporciona varios métodos útiles para trabajar con diccionarios:"
      ],
      "metadata": {
        "id": "KcsUow1GL3P2"
      }
    },
    {
      "cell_type": "code",
      "source": [
        "diccionario = {\n",
        "    \"nombre\": \"Juan\",\n",
        "    \"edad\": 30,\n",
        "    \"altura\": 1.75,\n",
        "    \"ciudad\": \"New York\"\n",
        "}"
      ],
      "metadata": {
        "id": "QhObA-DyLOGA"
      },
      "execution_count": null,
      "outputs": []
    },
    {
      "cell_type": "code",
      "source": [
        "# keys: devuelve una vista de las claves del diccionario.\n",
        "diccionario.keys()"
      ],
      "metadata": {
        "id": "g_8-o-bsL7-r",
        "colab": {
          "base_uri": "https://localhost:8080/"
        },
        "outputId": "3e26fb48-9174-4a03-eca1-b512a246d338"
      },
      "execution_count": null,
      "outputs": [
        {
          "output_type": "execute_result",
          "data": {
            "text/plain": [
              "dict_keys(['nombre', 'edad', 'altura', 'ciudad'])"
            ]
          },
          "metadata": {},
          "execution_count": 283
        }
      ]
    },
    {
      "cell_type": "code",
      "source": [
        "# values: devuelve una vista de los valores del diccionario.\n",
        "diccionario.values()"
      ],
      "metadata": {
        "id": "JUUAE5YFMGhk",
        "colab": {
          "base_uri": "https://localhost:8080/"
        },
        "outputId": "23143c9f-a454-4b22-dd23-03868f5ca9a2"
      },
      "execution_count": null,
      "outputs": [
        {
          "output_type": "execute_result",
          "data": {
            "text/plain": [
              "dict_values(['Juan', 30, 1.75, 'New York'])"
            ]
          },
          "metadata": {},
          "execution_count": 284
        }
      ]
    },
    {
      "cell_type": "code",
      "source": [
        "# items: devuelve una vista de los pares clave-valor del diccionario.\n",
        "diccionario.items()"
      ],
      "metadata": {
        "id": "Z1rmUK2EMM_Y",
        "colab": {
          "base_uri": "https://localhost:8080/"
        },
        "outputId": "191aa557-5ba0-4509-c8b8-37376e68a0ef"
      },
      "execution_count": null,
      "outputs": [
        {
          "output_type": "execute_result",
          "data": {
            "text/plain": [
              "dict_items([('nombre', 'Juan'), ('edad', 30), ('altura', 1.75), ('ciudad', 'New York')])"
            ]
          },
          "metadata": {},
          "execution_count": 285
        }
      ]
    },
    {
      "cell_type": "code",
      "source": [
        "# get: Devuelve el valor para una clave dada, o None si la clave no existe.\n",
        "diccionario.get(\"edad\")"
      ],
      "metadata": {
        "id": "UxalL-NKMReA",
        "colab": {
          "base_uri": "https://localhost:8080/"
        },
        "outputId": "3b81e952-7503-4925-f847-4ac662c3ccc2"
      },
      "execution_count": null,
      "outputs": [
        {
          "output_type": "execute_result",
          "data": {
            "text/plain": [
              "30"
            ]
          },
          "metadata": {},
          "execution_count": 286
        }
      ]
    },
    {
      "cell_type": "code",
      "source": [
        "print(diccionario.get(\"dni\"))"
      ],
      "metadata": {
        "colab": {
          "base_uri": "https://localhost:8080/"
        },
        "id": "kqdjYKqan0pJ",
        "outputId": "6c8cf262-854c-459f-dc96-492577c5cc40"
      },
      "execution_count": null,
      "outputs": [
        {
          "output_type": "stream",
          "name": "stdout",
          "text": [
            "None\n"
          ]
        }
      ]
    },
    {
      "cell_type": "code",
      "source": [
        "diccionario[\"edad\"]   # diccionario.get(\"edad\")"
      ],
      "metadata": {
        "colab": {
          "base_uri": "https://localhost:8080/"
        },
        "id": "dGoi1WfWoDQg",
        "outputId": "887506bf-d9d7-4b9b-b8c3-ced0272ca3ac"
      },
      "execution_count": null,
      "outputs": [
        {
          "output_type": "execute_result",
          "data": {
            "text/plain": [
              "30"
            ]
          },
          "metadata": {},
          "execution_count": 289
        }
      ]
    },
    {
      "cell_type": "code",
      "source": [
        "diccionario[\"dni\"]   # diccionario.get(\"dni\")"
      ],
      "metadata": {
        "colab": {
          "base_uri": "https://localhost:8080/",
          "height": 141
        },
        "id": "taKpp1NfoMQW",
        "outputId": "b6135894-f008-4364-93d3-b307b445a91c"
      },
      "execution_count": null,
      "outputs": [
        {
          "output_type": "error",
          "ename": "KeyError",
          "evalue": "'dni'",
          "traceback": [
            "\u001b[0;31m---------------------------------------------------------------------------\u001b[0m",
            "\u001b[0;31mKeyError\u001b[0m                                  Traceback (most recent call last)",
            "\u001b[0;32m<ipython-input-290-6aad90b144d6>\u001b[0m in \u001b[0;36m<cell line: 1>\u001b[0;34m()\u001b[0m\n\u001b[0;32m----> 1\u001b[0;31m \u001b[0mdiccionario\u001b[0m\u001b[0;34m[\u001b[0m\u001b[0;34m\"dni\"\u001b[0m\u001b[0;34m]\u001b[0m   \u001b[0;31m# diccionario.get(\"dni\")\u001b[0m\u001b[0;34m\u001b[0m\u001b[0;34m\u001b[0m\u001b[0m\n\u001b[0m",
            "\u001b[0;31mKeyError\u001b[0m: 'dni'"
          ]
        }
      ]
    },
    {
      "cell_type": "code",
      "source": [
        "# get - Que pasa si la key no esta?\n",
        "clave = diccionario.get(\"dni\", \"No esta la clave\")\n",
        "print(clave)"
      ],
      "metadata": {
        "id": "wCME9UybM5lw",
        "colab": {
          "base_uri": "https://localhost:8080/"
        },
        "outputId": "0edba67c-49db-4b78-f54d-4abbe02e0c9a"
      },
      "execution_count": null,
      "outputs": [
        {
          "output_type": "stream",
          "name": "stdout",
          "text": [
            "No esta la clave\n"
          ]
        }
      ]
    },
    {
      "cell_type": "code",
      "source": [
        "# get - si quiero que retorne otro valor?"
      ],
      "metadata": {
        "id": "qunD7tCQM-oC"
      },
      "execution_count": null,
      "outputs": []
    },
    {
      "cell_type": "code",
      "source": [
        "# update: Actualiza el diccionario con los pares clave-valor de otro\n",
        "# diccionario o con pares clave-valor proporcionados como argumentos\n",
        "diccionario.update({\"peso\": 70, \"ciudad\": \"Paris\", \"dni\": 264567890})\n",
        "diccionario"
      ],
      "metadata": {
        "id": "19-uVYUwMYNg",
        "colab": {
          "base_uri": "https://localhost:8080/"
        },
        "outputId": "7e7bfd88-a8f0-4304-e9ab-7307eff66a54"
      },
      "execution_count": null,
      "outputs": [
        {
          "output_type": "execute_result",
          "data": {
            "text/plain": [
              "{'nombre': 'Juan',\n",
              " 'edad': 30,\n",
              " 'altura': 1.75,\n",
              " 'ciudad': 'Paris',\n",
              " 'peso': 70,\n",
              " 'dni': 264567890}"
            ]
          },
          "metadata": {},
          "execution_count": 294
        }
      ]
    },
    {
      "cell_type": "code",
      "source": [
        "dic_a = {\"a\": 1, \"b\": 2}\n",
        "dic_b = {\"c\": 3, \"d\": 4}\n",
        "dic_a.update(dic_b)\n",
        "dic_a"
      ],
      "metadata": {
        "id": "x3CZFT_XLZuG",
        "colab": {
          "base_uri": "https://localhost:8080/"
        },
        "outputId": "1191edbf-5950-42f4-f29e-15526c6a95b2"
      },
      "execution_count": null,
      "outputs": [
        {
          "output_type": "execute_result",
          "data": {
            "text/plain": [
              "{'a': 1, 'b': 2, 'c': 3, 'd': 4}"
            ]
          },
          "metadata": {},
          "execution_count": 295
        }
      ]
    },
    {
      "cell_type": "code",
      "source": [
        "diccionario"
      ],
      "metadata": {
        "colab": {
          "base_uri": "https://localhost:8080/"
        },
        "id": "QB12cnZVo-Xh",
        "outputId": "e07119de-b9c5-40ad-be5b-38241bce9b59"
      },
      "execution_count": null,
      "outputs": [
        {
          "output_type": "execute_result",
          "data": {
            "text/plain": [
              "{'nombre': 'Juan',\n",
              " 'edad': 30,\n",
              " 'altura': 1.75,\n",
              " 'ciudad': 'Paris',\n",
              " 'peso': 70,\n",
              " 'dni': 264567890}"
            ]
          },
          "metadata": {},
          "execution_count": 297
        }
      ]
    },
    {
      "cell_type": "code",
      "source": [
        "# cantidad de pares clave-valor - len\n",
        "len(diccionario)"
      ],
      "metadata": {
        "id": "6uR-Vr35Kymd",
        "colab": {
          "base_uri": "https://localhost:8080/"
        },
        "outputId": "813b14ba-f2bf-4cf7-a535-4b2948b55f62"
      },
      "execution_count": null,
      "outputs": [
        {
          "output_type": "execute_result",
          "data": {
            "text/plain": [
              "6"
            ]
          },
          "metadata": {},
          "execution_count": 296
        }
      ]
    },
    {
      "cell_type": "code",
      "source": [
        "# eliminar un par clave-valor -- si la clave no esta, da error\n",
        "diccionario.pop(\"altura\")"
      ],
      "metadata": {
        "id": "gOVfk4c7N-tJ",
        "colab": {
          "base_uri": "https://localhost:8080/"
        },
        "outputId": "f5ad82c2-26f7-4589-9d4a-baa2ed28585e"
      },
      "execution_count": null,
      "outputs": [
        {
          "output_type": "execute_result",
          "data": {
            "text/plain": [
              "1.75"
            ]
          },
          "metadata": {},
          "execution_count": 298
        }
      ]
    },
    {
      "cell_type": "code",
      "source": [
        "diccionario"
      ],
      "metadata": {
        "colab": {
          "base_uri": "https://localhost:8080/"
        },
        "id": "JPkEmCOrpIqq",
        "outputId": "c3b7e4c9-5b64-4765-dbd2-e5608669cfa1"
      },
      "execution_count": null,
      "outputs": [
        {
          "output_type": "execute_result",
          "data": {
            "text/plain": [
              "{'nombre': 'Juan', 'edad': 30, 'ciudad': 'Paris', 'peso': 70, 'dni': 264567890}"
            ]
          },
          "metadata": {},
          "execution_count": 299
        }
      ]
    },
    {
      "cell_type": "code",
      "source": [
        "nombre = \"J\"\n",
        "altura = 2.56\n",
        "\n",
        "dic_prueba = {\n",
        "    nombre: \"Raul\",\n",
        "    \"altura\": altura\n",
        "}"
      ],
      "metadata": {
        "id": "PTCZJ1_FpR8t"
      },
      "execution_count": null,
      "outputs": []
    },
    {
      "cell_type": "code",
      "source": [
        "dic_prueba"
      ],
      "metadata": {
        "colab": {
          "base_uri": "https://localhost:8080/"
        },
        "id": "2kj8PyKtpZyL",
        "outputId": "75b9332b-2cdc-43b5-85f0-88f35d251f2c"
      },
      "execution_count": null,
      "outputs": [
        {
          "output_type": "execute_result",
          "data": {
            "text/plain": [
              "{'J': 'Raul', 'altura': 2.56}"
            ]
          },
          "metadata": {},
          "execution_count": 304
        }
      ]
    },
    {
      "cell_type": "markdown",
      "source": [
        "Preguntas❓"
      ],
      "metadata": {
        "id": "LrdM5cF5E24F"
      }
    },
    {
      "cell_type": "markdown",
      "source": [
        "![green-divider](https://user-images.githubusercontent.com/7065401/52071924-c003ad80-2562-11e9-8297-1c6595f8a7ff.png)\n",
        "\n",
        "### 2.5 Ejercicios"
      ],
      "metadata": {
        "id": "QJgYT-_rWUXx"
      }
    },
    {
      "cell_type": "markdown",
      "source": [
        "#### 2.5.1 Listas"
      ],
      "metadata": {
        "id": "3uxqZlMCKan7"
      }
    },
    {
      "cell_type": "markdown",
      "source": [
        "Actividad: Desafío de Listas\n",
        "Consigna:\n",
        "\n",
        "En esta actividad, podrás poner en práctica lo aprendido. Usaremos Visual Studio Code.\n",
        "\n",
        "- Crea dos listas lista_1 y lista_2, con cualquier elemento que quieras.\n",
        "\n",
        "Realiza los siguientes puntos usando las funciones integradas ya vistas y el método slice [ : ].\n",
        "\n",
        "- Imprime la lista correspondiente luego de cada punto.\n",
        "\n",
        "- Añade a la lista_1 el 456789 y luego el \"Hola Mundo\"\n",
        "\n",
        "- Luego añade a la lista_2 el \"Hola y adiós\", y luego el 5555\n",
        "\n",
        "- Genera una lista_3 con todos los elementos de la lista_1 sin considerar el último elemento [:]\n",
        "\n",
        "- Genera una lista_4 con todos los elementos de la lista_2 menos el primero y el último elemento [:]"
      ],
      "metadata": {
        "id": "HfK1bMx5JGIM"
      }
    },
    {
      "cell_type": "code",
      "source": [
        "# Resolución\n",
        "\n",
        "lista_1 = [1, \"Coder\"]\n",
        "lista_2 = []\n",
        "\n",
        "lista_1.append(456789)\n",
        "lista_1.append(\"Hola Mundo\")\n",
        "print(f\"Lista 1: {lista_1}\")\n",
        "\n",
        "lista_2.append(\"Hola y adiós\")\n",
        "lista_2.append(5555)\n",
        "print(f\"Lista 2: {lista_2}\")\n",
        "\n",
        "lista_3 = lista_1[:-1]\n",
        "print(f\"Lista 3: {lista_3}\")\n",
        "\n",
        "lista_4 = lista_2[1:-1]\n",
        "print(f\"Lista 4: {lista_4}\")"
      ],
      "metadata": {
        "id": "p6auMMuEHPIe"
      },
      "execution_count": null,
      "outputs": []
    },
    {
      "cell_type": "markdown",
      "source": [
        "#### 2.5.2 Tuplas"
      ],
      "metadata": {
        "id": "OarSKxaQKgVQ"
      }
    },
    {
      "cell_type": "markdown",
      "source": [
        "Desafío de Tuplas\n",
        "Consigna:\n",
        "\n",
        "A partir de una variable llamada tupla, imprimir por pantalla de forma ordenada, lo siguiente:\n",
        "\n",
        "- El último ítem de tupla\n",
        "\n",
        "- El número de ítems de tupla\n",
        "\n",
        "- La posición donde se encuentra el ítem 87 de tupla\n",
        "\n",
        "- Una lista con los últimos tres ítems de tupla\n",
        "\n",
        "- Un ítem que haya en la posición 8 de tupla\n",
        "\n",
        "- El número de veces que el ítem 7 aparece en tupla\n",
        "\n",
        "\n",
        "**Copia esta tupla para iniciar el ejercicio:**\n",
        "\n",
        "tupla = (8, 15, 4, 39, 5, 89, 87, 19, 7, -755, 88, 123, 2, 11, 15, 9, 355)\n",
        "\n"
      ],
      "metadata": {
        "id": "DXrpNBXlJPZL"
      }
    },
    {
      "cell_type": "code",
      "source": [
        "# ultimo elemento de la tupla\n",
        "tupla[-1]"
      ],
      "metadata": {
        "colab": {
          "base_uri": "https://localhost:8080/"
        },
        "outputId": "d8786cf8-0f21-43fb-f699-4f0464f8b070",
        "id": "kAOhDIPUpnOR"
      },
      "execution_count": null,
      "outputs": [
        {
          "output_type": "execute_result",
          "data": {
            "text/plain": [
              "355"
            ]
          },
          "metadata": {},
          "execution_count": 14
        }
      ]
    },
    {
      "cell_type": "code",
      "source": [
        "# numero de items\n",
        "len(tupla)"
      ],
      "metadata": {
        "colab": {
          "base_uri": "https://localhost:8080/"
        },
        "id": "4vBljEVAnMii",
        "outputId": "8c0fa967-1974-4f22-b369-073ef66f6bc2"
      },
      "execution_count": null,
      "outputs": [
        {
          "output_type": "execute_result",
          "data": {
            "text/plain": [
              "17"
            ]
          },
          "metadata": {},
          "execution_count": 4
        }
      ]
    },
    {
      "cell_type": "code",
      "source": [
        "# la posicion del item 87\n",
        "tupla.index(87)"
      ],
      "metadata": {
        "colab": {
          "base_uri": "https://localhost:8080/"
        },
        "id": "XNcK6oIYnA3U",
        "outputId": "92906e38-ba3c-4852-883f-a4f370acd971"
      },
      "execution_count": null,
      "outputs": [
        {
          "output_type": "execute_result",
          "data": {
            "text/plain": [
              "6"
            ]
          },
          "metadata": {},
          "execution_count": 3
        }
      ]
    },
    {
      "cell_type": "code",
      "source": [
        "# lista comn los ultimos tres items\n",
        "list(tupla[-3:])"
      ],
      "metadata": {
        "colab": {
          "base_uri": "https://localhost:8080/"
        },
        "id": "GIQEQ2-cnT4o",
        "outputId": "5cf62e03-038d-4839-b905-4f69f07248ff"
      },
      "execution_count": null,
      "outputs": [
        {
          "output_type": "execute_result",
          "data": {
            "text/plain": [
              "[15, 9, 355]"
            ]
          },
          "metadata": {},
          "execution_count": 6
        }
      ]
    },
    {
      "cell_type": "code",
      "source": [
        "# el item de la posicion 8 de la lista\n",
        "tupla[7]"
      ],
      "metadata": {
        "colab": {
          "base_uri": "https://localhost:8080/"
        },
        "id": "bA_oS7Ganix7",
        "outputId": "cdaf6dd3-c9f2-46ec-dac3-cf8acc5cfe37"
      },
      "execution_count": null,
      "outputs": [
        {
          "output_type": "execute_result",
          "data": {
            "text/plain": [
              "19"
            ]
          },
          "metadata": {},
          "execution_count": 7
        }
      ]
    },
    {
      "cell_type": "code",
      "source": [
        "# el numeros de veces que aparece que 7\n",
        "tupla.count(7)"
      ],
      "metadata": {
        "colab": {
          "base_uri": "https://localhost:8080/"
        },
        "id": "n_zEHeK4nrBa",
        "outputId": "b9fe4207-ba39-4813-8a07-1e142eb6524a"
      },
      "execution_count": null,
      "outputs": [
        {
          "output_type": "execute_result",
          "data": {
            "text/plain": [
              "1"
            ]
          },
          "metadata": {},
          "execution_count": 8
        }
      ]
    },
    {
      "cell_type": "markdown",
      "source": [
        "#### 2.5.3 Conjuntos"
      ],
      "metadata": {
        "id": "58M0f01VKjgd"
      }
    },
    {
      "cell_type": "markdown",
      "source": [
        "Actividad: Sets\n",
        "Consigna:\n",
        "\n",
        "Crear un conjunto en Python de Colores.\n",
        "\n",
        "Trabajaremos con el notebook de la sesión, específicamente sobre la temática de Sets.\n",
        "\n",
        "Crear un conjunto en Python que posea los siguientes elementos:\n",
        "\n",
        "Colores: Rojo, Blanco, Azul.\n",
        "\n",
        "Posteriormente, agrega nuestro set de colores, los valores de: Violeta y Dorado\n",
        "\n",
        "Elimina a los colores: Celeste, Blanco y Dorado\n",
        "\n",
        "Pregunta: ¿Qué pasa si queremos eliminar el color Celeste utilizando el método discard?\n",
        "\n",
        "Duración: 20 minutos\n",
        "\n"
      ],
      "metadata": {
        "id": "ZQ01RF_YJTmA"
      }
    },
    {
      "cell_type": "code",
      "source": [
        "colores = { \"Rojo\", \"Blanco\", \"Azul\"}\n",
        "colores"
      ],
      "metadata": {
        "colab": {
          "base_uri": "https://localhost:8080/"
        },
        "id": "5aT2ScHLoa2w",
        "outputId": "3b7f45b2-ca81-4a40-8d4e-4761fb3787d9"
      },
      "execution_count": null,
      "outputs": [
        {
          "output_type": "execute_result",
          "data": {
            "text/plain": [
              "{'Azul', 'Blanco', 'Rojo'}"
            ]
          },
          "metadata": {},
          "execution_count": 9
        }
      ]
    },
    {
      "cell_type": "code",
      "source": [
        "colores.add(\"Violeta\")\n",
        "colores.add(\"Dorado\")\n",
        "colores"
      ],
      "metadata": {
        "colab": {
          "base_uri": "https://localhost:8080/"
        },
        "id": "cGPLH1_HoquO",
        "outputId": "dc4b5ee9-2614-4e37-997f-bf2b09cfd00f"
      },
      "execution_count": null,
      "outputs": [
        {
          "output_type": "execute_result",
          "data": {
            "text/plain": [
              "{'Azul', 'Blanco', 'Dorado', 'Rojo', 'Violeta'}"
            ]
          },
          "metadata": {},
          "execution_count": 10
        }
      ]
    },
    {
      "cell_type": "code",
      "source": [
        "colores.discard(\"Celeste\")\n",
        "colores.discard(\"Blanco\")\n",
        "colores.discard(\"Dorado\")\n",
        "colores"
      ],
      "metadata": {
        "colab": {
          "base_uri": "https://localhost:8080/"
        },
        "id": "cx0mv09_ox_K",
        "outputId": "18cf0830-ecc6-43c1-91f6-7017542edc01"
      },
      "execution_count": null,
      "outputs": [
        {
          "output_type": "execute_result",
          "data": {
            "text/plain": [
              "{'Azul', 'Rojo', 'Violeta'}"
            ]
          },
          "metadata": {},
          "execution_count": 11
        }
      ]
    },
    {
      "cell_type": "code",
      "source": [
        "# si el elemento a eliminar no esta, no hace nada\n",
        "colores.discard(\"Celeste\")\n",
        "colores"
      ],
      "metadata": {
        "colab": {
          "base_uri": "https://localhost:8080/"
        },
        "id": "uCtta5SVo2yt",
        "outputId": "e9a9b27f-6c4b-4770-94ce-af6b6a6cd8c8"
      },
      "execution_count": null,
      "outputs": [
        {
          "output_type": "execute_result",
          "data": {
            "text/plain": [
              "{'Azul', 'Rojo', 'Violeta'}"
            ]
          },
          "metadata": {},
          "execution_count": 12
        }
      ]
    },
    {
      "cell_type": "code",
      "source": [
        "help(set.discard)\n"
      ],
      "metadata": {
        "colab": {
          "base_uri": "https://localhost:8080/"
        },
        "id": "49bKZ2Bjo_ec",
        "outputId": "b2809f81-3f9b-482e-baf8-344edbc01c65"
      },
      "execution_count": null,
      "outputs": [
        {
          "output_type": "stream",
          "name": "stdout",
          "text": [
            "Help on method_descriptor:\n",
            "\n",
            "discard(...)\n",
            "    Remove an element from a set if it is a member.\n",
            "    \n",
            "    If the element is not a member, do nothing.\n",
            "\n"
          ]
        }
      ]
    },
    {
      "cell_type": "markdown",
      "source": [
        "#### 2.5.4 Diccionarios"
      ],
      "metadata": {
        "id": "oZvtiTZRKoU0"
      }
    },
    {
      "cell_type": "markdown",
      "source": [
        "Actividad: Dicts\n",
        "Consigna:\n",
        "\n",
        "Trabajaremos con el notebook de la sesión, específicamente sobre la temática de Diccionarios.\n",
        "\n",
        "Deberás crear un diccionario que almacene a los ganadores de la Copa Mundial de la FIFA desde el año 1990 al 2018. Y mostrarlo por pantalla.\n",
        "\n",
        "Datos para la resolución:\n",
        "\n",
        "1990: 'Alemania',\n",
        "\n",
        "1994: 'Brasil',\n",
        "\n",
        "1998: 'Francia',\n",
        "\n",
        "2002: 'Brasil',\n",
        "\n",
        "2006: 'Italia',\n",
        "\n",
        "2010: 'España',\n",
        "\n",
        "2014: 'Alemania'\n",
        "\n",
        "2018: 'Francia'\n",
        "\n",
        "Duración: 20 minutos"
      ],
      "metadata": {
        "id": "J4tG1nEsJYo_"
      }
    },
    {
      "cell_type": "code",
      "source": [
        "# Resolución\n",
        "\n",
        "campeones_fifa = {\n",
        "    1990: 'Alemania',\n",
        "    1994: 'Brasil',\n",
        "    1998: 'Francia',\n",
        "    2002: 'Brasil',\n",
        "    2006: 'Italia',\n",
        "    2014: 'Alemania',\n",
        "    2018: 'Francia'\n",
        "}\n",
        "campeones_fifa"
      ],
      "metadata": {
        "id": "STVtgwwYHVfN",
        "colab": {
          "base_uri": "https://localhost:8080/"
        },
        "outputId": "ac494970-5329-45d0-a514-91f9a41d44a3"
      },
      "execution_count": 2,
      "outputs": [
        {
          "output_type": "execute_result",
          "data": {
            "text/plain": [
              "{1990: 'Alemania',\n",
              " 1994: 'Brasil',\n",
              " 1998: 'Francia',\n",
              " 2002: 'Brasil',\n",
              " 2006: 'Italia',\n",
              " 2014: 'Alemania',\n",
              " 2018: 'Francia'}"
            ]
          },
          "metadata": {},
          "execution_count": 2
        }
      ]
    },
    {
      "cell_type": "markdown",
      "source": [
        "###2.6 Ejercicios prácticos:"
      ],
      "metadata": {
        "id": "7hQzQs05jAeA"
      }
    },
    {
      "cell_type": "markdown",
      "source": [
        "####Ejercicio 1:"
      ],
      "metadata": {
        "id": "MS4xNbt3jI9B"
      }
    },
    {
      "cell_type": "markdown",
      "source": [
        "Decir que tipo de dato es....."
      ],
      "metadata": {
        "id": "z4ovJSAMFKyR"
      }
    },
    {
      "cell_type": "code",
      "source": [
        "type(\"Hola Mundo\")"
      ],
      "metadata": {
        "id": "F531wZlhj6ST",
        "colab": {
          "base_uri": "https://localhost:8080/"
        },
        "outputId": "dcd6ec12-6cdf-41cb-b7db-3210b83405c3"
      },
      "execution_count": null,
      "outputs": [
        {
          "output_type": "execute_result",
          "data": {
            "text/plain": [
              "str"
            ]
          },
          "metadata": {},
          "execution_count": 305
        }
      ]
    },
    {
      "cell_type": "code",
      "source": [
        "type([1,3,4])"
      ],
      "metadata": {
        "colab": {
          "base_uri": "https://localhost:8080/"
        },
        "id": "3AvtNsSwFSMC",
        "outputId": "4dfffe56-7bfb-47ac-9252-7b9dfec1451b"
      },
      "execution_count": null,
      "outputs": [
        {
          "output_type": "execute_result",
          "data": {
            "text/plain": [
              "list"
            ]
          },
          "metadata": {},
          "execution_count": 306
        }
      ]
    },
    {
      "cell_type": "code",
      "source": [
        "type(-25)"
      ],
      "metadata": {
        "colab": {
          "base_uri": "https://localhost:8080/"
        },
        "id": "WxPuJXScFY40",
        "outputId": "fd9e4c7d-7ad0-4e5f-8c1f-369a5194515b"
      },
      "execution_count": null,
      "outputs": [
        {
          "output_type": "execute_result",
          "data": {
            "text/plain": [
              "int"
            ]
          },
          "metadata": {},
          "execution_count": 307
        }
      ]
    },
    {
      "cell_type": "code",
      "source": [
        "type((7, \"2\", 4))"
      ],
      "metadata": {
        "colab": {
          "base_uri": "https://localhost:8080/"
        },
        "id": "Nkl6rPUOFZvr",
        "outputId": "3e5efc7c-6c55-4325-d6cb-332b445f7591"
      },
      "execution_count": null,
      "outputs": [
        {
          "output_type": "execute_result",
          "data": {
            "text/plain": [
              "tuple"
            ]
          },
          "metadata": {},
          "execution_count": 308
        }
      ]
    },
    {
      "cell_type": "code",
      "source": [
        "type(6.8)"
      ],
      "metadata": {
        "colab": {
          "base_uri": "https://localhost:8080/"
        },
        "id": "cPac9lodFf4S",
        "outputId": "3346733c-c705-4bc3-9dd9-67a54602c256"
      },
      "execution_count": null,
      "outputs": [
        {
          "output_type": "execute_result",
          "data": {
            "text/plain": [
              "float"
            ]
          },
          "metadata": {},
          "execution_count": 309
        }
      ]
    },
    {
      "cell_type": "code",
      "source": [
        "a = 7,4,3,2,1\n",
        "type(a)"
      ],
      "metadata": {
        "colab": {
          "base_uri": "https://localhost:8080/"
        },
        "id": "07A196fDFhRk",
        "outputId": "86cf259b-ad84-4e31-cf00-9c983b781f30"
      },
      "execution_count": null,
      "outputs": [
        {
          "output_type": "execute_result",
          "data": {
            "text/plain": [
              "tuple"
            ]
          },
          "metadata": {},
          "execution_count": 311
        }
      ]
    },
    {
      "cell_type": "code",
      "source": [
        "lista_ejercicio = [0, 1, [\"a\", \"b\", \"c\"]]\n",
        "type(lista_ejercicio)"
      ],
      "metadata": {
        "colab": {
          "base_uri": "https://localhost:8080/"
        },
        "id": "uxFLdxznFz2G",
        "outputId": "cd967839-dfdd-481f-ad22-ccafd0d3bcc9"
      },
      "execution_count": null,
      "outputs": [
        {
          "output_type": "execute_result",
          "data": {
            "text/plain": [
              "list"
            ]
          },
          "metadata": {},
          "execution_count": 312
        }
      ]
    },
    {
      "cell_type": "code",
      "source": [
        "lista_ejercicio[0]"
      ],
      "metadata": {
        "colab": {
          "base_uri": "https://localhost:8080/"
        },
        "id": "B2U17TJZq69f",
        "outputId": "71b6c64b-6554-4c39-eb95-304e9ab69d6a"
      },
      "execution_count": null,
      "outputs": [
        {
          "output_type": "execute_result",
          "data": {
            "text/plain": [
              "0"
            ]
          },
          "metadata": {},
          "execution_count": 313
        }
      ]
    },
    {
      "cell_type": "code",
      "source": [
        "type(lista_ejercicio[0])"
      ],
      "metadata": {
        "colab": {
          "base_uri": "https://localhost:8080/"
        },
        "id": "5nNA-iXsF6dS",
        "outputId": "8284ebdb-6850-48d5-d4e0-000f4422cce5"
      },
      "execution_count": null,
      "outputs": [
        {
          "output_type": "execute_result",
          "data": {
            "text/plain": [
              "int"
            ]
          },
          "metadata": {},
          "execution_count": 314
        }
      ]
    },
    {
      "cell_type": "code",
      "source": [
        "lista_ejercicio[2]"
      ],
      "metadata": {
        "colab": {
          "base_uri": "https://localhost:8080/"
        },
        "id": "9gTRfWMPGJCT",
        "outputId": "f91468d2-c639-410f-d8c5-ecd20577b81d"
      },
      "execution_count": null,
      "outputs": [
        {
          "output_type": "execute_result",
          "data": {
            "text/plain": [
              "['a', 'b', 'c']"
            ]
          },
          "metadata": {},
          "execution_count": 315
        }
      ]
    },
    {
      "cell_type": "code",
      "source": [
        "type(lista_ejercicio[2])"
      ],
      "metadata": {
        "colab": {
          "base_uri": "https://localhost:8080/"
        },
        "id": "OskDYc8wrGif",
        "outputId": "12b40471-2b08-4bfa-c28b-7fa91d23b82e"
      },
      "execution_count": null,
      "outputs": [
        {
          "output_type": "execute_result",
          "data": {
            "text/plain": [
              "list"
            ]
          },
          "metadata": {},
          "execution_count": 316
        }
      ]
    },
    {
      "cell_type": "code",
      "source": [
        "lista_ejercicio[2][1]"
      ],
      "metadata": {
        "colab": {
          "base_uri": "https://localhost:8080/",
          "height": 35
        },
        "id": "J8T6kA23GKmB",
        "outputId": "da2b8c83-e34e-4da2-bb23-22bb614f54a9"
      },
      "execution_count": null,
      "outputs": [
        {
          "output_type": "execute_result",
          "data": {
            "text/plain": [
              "'b'"
            ],
            "application/vnd.google.colaboratory.intrinsic+json": {
              "type": "string"
            }
          },
          "metadata": {},
          "execution_count": 317
        }
      ]
    },
    {
      "cell_type": "code",
      "source": [
        "lista = []\n",
        "\n",
        "frase = f\"el contenido de la lista es: {lista}\"\n",
        "type(frase)"
      ],
      "metadata": {
        "colab": {
          "base_uri": "https://localhost:8080/"
        },
        "id": "om6A0nSqHob2",
        "outputId": "fd56b70c-178d-4da8-c08e-c61e061c8401"
      },
      "execution_count": null,
      "outputs": [
        {
          "output_type": "execute_result",
          "data": {
            "text/plain": [
              "str"
            ]
          },
          "metadata": {},
          "execution_count": 319
        }
      ]
    },
    {
      "cell_type": "code",
      "source": [
        "print(frase)"
      ],
      "metadata": {
        "id": "Qr5aDjSrrdQb",
        "outputId": "09ec74c8-22bf-47db-d845-5b6483b9128f",
        "colab": {
          "base_uri": "https://localhost:8080/"
        }
      },
      "execution_count": null,
      "outputs": [
        {
          "output_type": "stream",
          "name": "stdout",
          "text": [
            "el contenido de la lista es: []\n"
          ]
        }
      ]
    },
    {
      "cell_type": "markdown",
      "source": [
        "####Ejercicio 2:"
      ],
      "metadata": {
        "id": "i1KFRjAAj20X"
      }
    },
    {
      "cell_type": "markdown",
      "source": [
        "Dadas las siguientes variables...."
      ],
      "metadata": {
        "id": "DnifxRUUGN2v"
      }
    },
    {
      "cell_type": "code",
      "source": [
        "a = 10\n",
        "b = -5\n",
        "c = \"Hola\"\n",
        "d = [1, 2, 3]\n",
        "e= (4,5,6)"
      ],
      "metadata": {
        "id": "X-PXIhw0jp12"
      },
      "execution_count": null,
      "outputs": []
    },
    {
      "cell_type": "code",
      "source": [
        "print(a * 5)"
      ],
      "metadata": {
        "id": "TO54DvVYGZEF"
      },
      "execution_count": null,
      "outputs": []
    },
    {
      "cell_type": "code",
      "source": [
        "print(a - b)"
      ],
      "metadata": {
        "id": "u_bg-Eq-GcqB"
      },
      "execution_count": null,
      "outputs": []
    },
    {
      "cell_type": "code",
      "source": [
        "print(c + \"Mundo\")"
      ],
      "metadata": {
        "id": "Yn5LzpjltCD1"
      },
      "execution_count": null,
      "outputs": []
    },
    {
      "cell_type": "code",
      "source": [
        "print(c * 2)"
      ],
      "metadata": {
        "id": "GQ7pT538tHbN"
      },
      "execution_count": null,
      "outputs": []
    },
    {
      "cell_type": "code",
      "source": [
        "print(c[-1])"
      ],
      "metadata": {
        "id": "4YpfDN5utKr0"
      },
      "execution_count": null,
      "outputs": []
    },
    {
      "cell_type": "code",
      "source": [
        "print(c[1:])"
      ],
      "metadata": {
        "id": "68uibakntMqH"
      },
      "execution_count": null,
      "outputs": []
    },
    {
      "cell_type": "code",
      "source": [
        "print(d + d)"
      ],
      "metadata": {
        "id": "HegsVv63tOhb"
      },
      "execution_count": null,
      "outputs": []
    },
    {
      "cell_type": "code",
      "source": [
        "print(e[1])"
      ],
      "metadata": {
        "id": "3EWLqX2PtQb3"
      },
      "execution_count": null,
      "outputs": []
    },
    {
      "cell_type": "code",
      "source": [
        "print(e+(7,8,9))"
      ],
      "metadata": {
        "id": "0fIX_4HdtShc"
      },
      "execution_count": null,
      "outputs": []
    },
    {
      "cell_type": "markdown",
      "source": [
        "####Ejercicio 4:"
      ],
      "metadata": {
        "id": "HHTJs1vCjFtx"
      }
    },
    {
      "cell_type": "markdown",
      "source": [
        "Dada la siguiente matriz, agregar una columna que tenga como valor la suma de los elementos de la fila"
      ],
      "metadata": {
        "id": "kygABzDVGwk9"
      }
    },
    {
      "cell_type": "code",
      "source": [
        "matriz = [[1, 5, 1],\n",
        "          [2, 1, 2],\n",
        "          [3, 0, 1],\n",
        "          [1, 4, 4]\n",
        "                  ]"
      ],
      "metadata": {
        "id": "s9cVcbdzrEDI"
      },
      "execution_count": null,
      "outputs": []
    },
    {
      "cell_type": "code",
      "source": [
        "# Resolución\n",
        "matriz[0].append(sum(matriz[0]))\n",
        "matriz[1].append(sum(matriz[1]))\n",
        "matriz[2].append(sum(matriz[2]))\n",
        "matriz[3].append(sum(matriz[3]))\n",
        "print(matriz)"
      ],
      "metadata": {
        "id": "Sws8exxdG4KD"
      },
      "execution_count": null,
      "outputs": []
    },
    {
      "cell_type": "markdown",
      "source": [
        "![green-divider](https://user-images.githubusercontent.com/7065401/52071924-c003ad80-2562-11e9-8297-1c6595f8a7ff.png)\n",
        "\n",
        "### 2.7 Cierre"
      ],
      "metadata": {
        "id": "nLzTDg1YJcDy"
      }
    },
    {
      "cell_type": "markdown",
      "source": [
        "⁉️  -- Preguntas??"
      ],
      "metadata": {
        "id": "fOh_JUwtKQxG"
      }
    }
  ]
}